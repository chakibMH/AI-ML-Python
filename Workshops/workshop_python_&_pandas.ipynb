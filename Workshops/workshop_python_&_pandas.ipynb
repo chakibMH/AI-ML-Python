{
  "metadata": {
    "kernelspec": {
      "language": "python",
      "display_name": "Python 3",
      "name": "python3"
    },
    "language_info": {
      "pygments_lexer": "ipython3",
      "nbconvert_exporter": "python",
      "version": "3.6.4",
      "file_extension": ".py",
      "codemirror_mode": {
        "name": "ipython",
        "version": 3
      },
      "name": "python",
      "mimetype": "text/x-python"
    },
    "colab": {
      "provenance": []
    }
  },
  "nbformat_minor": 0,
  "nbformat": 4,
  "cells": [
    {
      "cell_type": "code",
      "source": [
        "# This Python 3 environment comes with many helpful analytics libraries installed\n",
        "# It is defined by the kaggle/python Docker image: https://github.com/kaggle/docker-python\n",
        "# For example, here's several helpful packages to load\n",
        "\n",
        "import numpy as np # linear algebra\n",
        "import pandas as pd # data processing, CSV file I/O (e.g. pd.read_csv)"
      ],
      "metadata": {
        "_uuid": "8f2839f25d086af736a60e9eeb907d3b93b6e0e5",
        "_cell_guid": "b1076dfc-b9ad-4769-8c92-a6c4dae69d19",
        "execution": {
          "iopub.status.busy": "2023-02-16T19:08:23.862199Z",
          "iopub.execute_input": "2023-02-16T19:08:23.862711Z",
          "iopub.status.idle": "2023-02-16T19:08:23.898879Z",
          "shell.execute_reply.started": "2023-02-16T19:08:23.862610Z",
          "shell.execute_reply": "2023-02-16T19:08:23.897793Z"
        },
        "trusted": true,
        "id": "6gOaycj8Eb4E"
      },
      "execution_count": null,
      "outputs": []
    },
    {
      "cell_type": "markdown",
      "source": [
        "Create the following dataset using dictionary:\n",
        "\n",
        "![image.png](attachment:0a10b154-1be7-420c-a23d-084cbc59a9f8.png)"
      ],
      "metadata": {
        "id": "NuIxHu1FEb4H"
      }
    },
    {
      "cell_type": "code",
      "source": [
        "spare_parts_data = {\n",
        "    'part_number': ['10001', '10002', '10003', '10004', '10005', '10006', '10007', '10008', '10009', '10010'],\n",
        "    'part_name': ['Air filter', 'Oil filter', 'Spark plug', 'Brake pads', 'Clutch kit', 'Fuel pump', 'Water pump', 'Timing belt', 'Suspension kit', 'Exhaust system'],\n",
        "    'compatible_models': [['Toyota Camry', 'Honda Accord'], ['Ford F-150', 'Chevrolet Silverado'], ['Nissan Altima', 'Honda Civic'], ['Toyota Corolla'], ['Subaru Impreza', 'Mitsubishi Lancer'], ['Honda CR-V', 'Jeep Grand Cherokee'], ['Ford Mustang'], ['Audi A4', 'Volkswagen Jetta'], ['BMW 3 Series'], ['Chevrolet Corvette', 'Dodge Challenger']],\n",
        "    'manufacturer': ['ACDelco', 'Bosch', 'Denso', 'EBC Brakes', 'Valeo', 'Bosch', 'Gates', 'Continental', 'KYB', 'Magnaflow']\n",
        "}\n",
        "\n",
        "spare_parts_df = pd.DataFrame(spare_parts_data)\n",
        "\n",
        "print(spare_parts_df)"
      ],
      "metadata": {
        "execution": {
          "iopub.status.busy": "2023-02-16T20:36:51.871425Z",
          "iopub.execute_input": "2023-02-16T20:36:51.871849Z",
          "iopub.status.idle": "2023-02-16T20:36:51.900274Z",
          "shell.execute_reply.started": "2023-02-16T20:36:51.871814Z",
          "shell.execute_reply": "2023-02-16T20:36:51.899199Z"
        },
        "_kg_hide-input": true,
        "_kg_hide-output": true,
        "trusted": true,
        "colab": {
          "base_uri": "https://localhost:8080/"
        },
        "id": "S-MzvzFTEb4I",
        "outputId": "05e8ea1d-ff78-48ae-d0d7-f1e5a889866b"
      },
      "execution_count": null,
      "outputs": [
        {
          "output_type": "stream",
          "name": "stdout",
          "text": [
            "  part_number       part_name                       compatible_models  \\\n",
            "0       10001      Air filter            [Toyota Camry, Honda Accord]   \n",
            "1       10002      Oil filter       [Ford F-150, Chevrolet Silverado]   \n",
            "2       10003      Spark plug            [Nissan Altima, Honda Civic]   \n",
            "3       10004      Brake pads                        [Toyota Corolla]   \n",
            "4       10005      Clutch kit     [Subaru Impreza, Mitsubishi Lancer]   \n",
            "5       10006       Fuel pump       [Honda CR-V, Jeep Grand Cherokee]   \n",
            "6       10007      Water pump                          [Ford Mustang]   \n",
            "7       10008     Timing belt             [Audi A4, Volkswagen Jetta]   \n",
            "8       10009  Suspension kit                          [BMW 3 Series]   \n",
            "9       10010  Exhaust system  [Chevrolet Corvette, Dodge Challenger]   \n",
            "\n",
            "  manufacturer  \n",
            "0      ACDelco  \n",
            "1        Bosch  \n",
            "2        Denso  \n",
            "3   EBC Brakes  \n",
            "4        Valeo  \n",
            "5        Bosch  \n",
            "6        Gates  \n",
            "7  Continental  \n",
            "8          KYB  \n",
            "9    Magnaflow  \n"
          ]
        }
      ]
    },
    {
      "cell_type": "markdown",
      "source": [
        "Create the following dataset line by line:\n",
        "![image.png](attachment:4cf0cd46-3af1-460d-851c-8026bc2ae384.png)"
      ],
      "metadata": {
        "id": "DJciQeZ1Eb4J"
      }
    },
    {
      "cell_type": "code",
      "source": [
        "import pandas as pd\n",
        "\n",
        "data = []\n",
        "\n",
        "# Add the header row\n",
        "header = ['Reference', 'Description', 'Price', 'Vehicle Type']\n",
        "\n",
        "# Add the data rows\n",
        "data.append(['SP1001', 'Brake pads', 25.99, 'Car'])\n",
        "data.append(['SP1002', 'Oil filter', 12.49, 'Truck'])\n",
        "data.append(['SP1003', 'Windshield wipers', 9.99, 'Car'])\n",
        "data.append(['SP1004', 'Air filter', 15.99, 'Motorcycle'])\n",
        "data.append(['SP1005', 'Tire pressure gauge', 7.99, 'Car'])\n",
        "data.append(['SP1006', 'Fuel pump', 89.99, 'Truck'])\n",
        "data.append(['SP1007', 'Spark plugs', 6.99, 'Motorcycle'])\n",
        "data.append(['SP1008', 'Transmission fluid', 14.99, 'Car'])\n",
        "data.append(['SP1009', 'Brake fluid', 11.99, 'Truck'])\n",
        "data.append(['SP1010', 'Chain lube', 8.99, 'Motorcycle'])\n",
        "\n",
        "# Create the dataframe\n",
        "df = pd.DataFrame(data, columns=header)\n",
        "\n",
        "# Print the dataframe\n",
        "print(df)\n"
      ],
      "metadata": {
        "colab": {
          "base_uri": "https://localhost:8080/"
        },
        "id": "DEAGOxISEb4J",
        "outputId": "8c8cc49f-6970-4cf8-a8c8-d7ffb5153cd1"
      },
      "execution_count": null,
      "outputs": [
        {
          "output_type": "stream",
          "name": "stdout",
          "text": [
            "  Reference          Description  Price Vehicle Type\n",
            "0    SP1001           Brake pads  25.99          Car\n",
            "1    SP1002           Oil filter  12.49        Truck\n",
            "2    SP1003    Windshield wipers   9.99          Car\n",
            "3    SP1004           Air filter  15.99   Motorcycle\n",
            "4    SP1005  Tire pressure gauge   7.99          Car\n",
            "5    SP1006            Fuel pump  89.99        Truck\n",
            "6    SP1007          Spark plugs   6.99   Motorcycle\n",
            "7    SP1008   Transmission fluid  14.99          Car\n",
            "8    SP1009          Brake fluid  11.99        Truck\n",
            "9    SP1010           Chain lube   8.99   Motorcycle\n"
          ]
        }
      ]
    },
    {
      "cell_type": "markdown",
      "source": [
        "This code creates a list called data and then adds each row of the dataset as a list to that data list. Then, it creates a Pandas DataFrame from the data list using the column names in the first row."
      ],
      "metadata": {
        "id": "fkXMopUaEb4J"
      }
    },
    {
      "cell_type": "markdown",
      "source": [
        "Random inputs:\n",
        "Create a DataFrame that represents a set of customer orders. The first column should represent the number of items ordered, and the second column should represent the total cost of the order in dollars. The number of items should be represented as random integers between 1 and 10, and the total cost should be represented as random floats between 10.0 and 100.0.\n",
        "\n",
        "Hint: use numpy.random"
      ],
      "metadata": {
        "id": "yBDigvOiEb4K"
      }
    },
    {
      "cell_type": "code",
      "source": [
        "import pandas as pd\n",
        "import numpy as np"
      ],
      "metadata": {
        "id": "PYD4376MEb4K"
      },
      "execution_count": null,
      "outputs": []
    },
    {
      "cell_type": "code",
      "source": [
        "print(np.random.randint(1,10,5))\n",
        "print(np.random.uniform(10, 100, 5))"
      ],
      "metadata": {
        "colab": {
          "base_uri": "https://localhost:8080/"
        },
        "id": "IvwurILgHd5R",
        "outputId": "5897ac59-4344-4214-9c1b-cce129e6aa04"
      },
      "execution_count": null,
      "outputs": [
        {
          "output_type": "stream",
          "name": "stdout",
          "text": [
            "[6 3 8 6 6]\n",
            "[91.99613683 72.17368354 67.00338627 83.28912516 51.87503433]\n"
          ]
        }
      ]
    },
    {
      "cell_type": "markdown",
      "source": [
        "search for the dataset named, \"High-Tech Companies on NASDAQ\" upload it, and then open it using read_csv.\n",
        "\n",
        "hint :  use Kaggle for searching"
      ],
      "metadata": {
        "id": "1BTmT-_XEb4K"
      }
    },
    {
      "cell_type": "code",
      "source": [
        "df = pd.read_csv(\"/content/2022_03_17_02_06_nasdaq.csv\")"
      ],
      "metadata": {
        "id": "aqT3ZQN9Eb4L",
        "colab": {
          "base_uri": "https://localhost:8080/",
          "height": 299
        },
        "outputId": "d44d9d04-2052-4206-b9e7-cc9c290b83bf"
      },
      "execution_count": null,
      "outputs": [
        {
          "output_type": "error",
          "ename": "TypeError",
          "evalue": "ignored",
          "traceback": [
            "\u001b[0;31m---------------------------------------------------------------------------\u001b[0m",
            "\u001b[0;31mTypeError\u001b[0m                                 Traceback (most recent call last)",
            "\u001b[0;32m<ipython-input-23-226d6a92f531>\u001b[0m in \u001b[0;36m<module>\u001b[0;34m\u001b[0m\n\u001b[0;32m----> 1\u001b[0;31m \u001b[0mdf\u001b[0m \u001b[0;34m=\u001b[0m \u001b[0mpd\u001b[0m\u001b[0;34m.\u001b[0m\u001b[0mread_csv\u001b[0m\u001b[0;34m(\u001b[0m\u001b[0;34m\"/content/2022_03_17_02_06_nasdaq.csv\"\u001b[0m\u001b[0;34m,\u001b[0m \u001b[0mindex\u001b[0m\u001b[0;34m=\u001b[0m\u001b[0;36m0\u001b[0m\u001b[0;34m)\u001b[0m\u001b[0;34m\u001b[0m\u001b[0;34m\u001b[0m\u001b[0m\n\u001b[0m",
            "\u001b[0;32m/usr/local/lib/python3.8/dist-packages/pandas/util/_decorators.py\u001b[0m in \u001b[0;36mwrapper\u001b[0;34m(*args, **kwargs)\u001b[0m\n\u001b[1;32m    309\u001b[0m                     \u001b[0mstacklevel\u001b[0m\u001b[0;34m=\u001b[0m\u001b[0mstacklevel\u001b[0m\u001b[0;34m,\u001b[0m\u001b[0;34m\u001b[0m\u001b[0;34m\u001b[0m\u001b[0m\n\u001b[1;32m    310\u001b[0m                 )\n\u001b[0;32m--> 311\u001b[0;31m             \u001b[0;32mreturn\u001b[0m \u001b[0mfunc\u001b[0m\u001b[0;34m(\u001b[0m\u001b[0;34m*\u001b[0m\u001b[0margs\u001b[0m\u001b[0;34m,\u001b[0m \u001b[0;34m**\u001b[0m\u001b[0mkwargs\u001b[0m\u001b[0;34m)\u001b[0m\u001b[0;34m\u001b[0m\u001b[0;34m\u001b[0m\u001b[0m\n\u001b[0m\u001b[1;32m    312\u001b[0m \u001b[0;34m\u001b[0m\u001b[0m\n\u001b[1;32m    313\u001b[0m         \u001b[0;32mreturn\u001b[0m \u001b[0mwrapper\u001b[0m\u001b[0;34m\u001b[0m\u001b[0;34m\u001b[0m\u001b[0m\n",
            "\u001b[0;31mTypeError\u001b[0m: read_csv() got an unexpected keyword argument 'index'"
          ]
        }
      ]
    },
    {
      "cell_type": "code",
      "source": [
        "df.head()"
      ],
      "metadata": {
        "colab": {
          "base_uri": "https://localhost:8080/",
          "height": 495
        },
        "id": "_uI3agP4PRYo",
        "outputId": "e67d7a77-98a7-42e5-8edc-988d3f6965ed"
      },
      "execution_count": null,
      "outputs": [
        {
          "output_type": "execute_result",
          "data": {
            "text/plain": [
              "   Unnamed: 0 symbol                                 name     price  \\\n",
              "0           0   AAPL              Apple Inc. Common Stock   157.510   \n",
              "1           1   MSFT   Microsoft Corporation Common Stock   289.560   \n",
              "2           2   GOOG  Alphabet Inc. Class C Capital Stock  2639.755   \n",
              "3           3  GOOGL   Alphabet Inc. Class A Common Stock  2629.010   \n",
              "4           4   AMZN        Amazon.com, Inc. Common Stock  3009.070   \n",
              "\n",
              "  pricing_changes pricing_percentage_changes             sector  \\\n",
              "0           +2.42                   (+1.56%)         Technology   \n",
              "1           +2.41                   (+0.84%)         Technology   \n",
              "2         +46.545                   (+1.79%)         Technology   \n",
              "3          +45.05                   (+1.74%)         Technology   \n",
              "4          +61.74                   (+2.09%)  Consumer Services   \n",
              "\n",
              "                                  industry         market_cap share_volume  \\\n",
              "0                   Computer Manufacturing  2,699,423,838,000   63,429,579   \n",
              "1  Computer Software: Prepackaged Software  2,143,429,080,429   22,790,662   \n",
              "2        Internet and Information Services  1,724,718,735,878      900,760   \n",
              "3        Internet and Information Services  1,718,961,675,672    1,008,687   \n",
              "4           Catalog/Specialty Distribution  1,511,267,897,700    2,623,915   \n",
              "\n",
              "  earnings_per_share annualized_dividend dividend_pay_date symbol_yield  beta  \\\n",
              "0              $6.04               $0.88      Feb 10, 2022        0.58%  1.18   \n",
              "1              $9.39               $2.48       Jun 9, 2022         0.9%  0.91   \n",
              "2            $112.23                 NaN               NaN          NaN  1.06   \n",
              "3            $112.23                 NaN               NaN          NaN  1.06   \n",
              "4             $64.78                 NaN               NaN          NaN  1.11   \n",
              "\n",
              "   errors  \n",
              "0   False  \n",
              "1   False  \n",
              "2   False  \n",
              "3   False  \n",
              "4   False  "
            ],
            "text/html": [
              "\n",
              "  <div id=\"df-7215a8ff-eeda-4183-ab33-0d4217547848\">\n",
              "    <div class=\"colab-df-container\">\n",
              "      <div>\n",
              "<style scoped>\n",
              "    .dataframe tbody tr th:only-of-type {\n",
              "        vertical-align: middle;\n",
              "    }\n",
              "\n",
              "    .dataframe tbody tr th {\n",
              "        vertical-align: top;\n",
              "    }\n",
              "\n",
              "    .dataframe thead th {\n",
              "        text-align: right;\n",
              "    }\n",
              "</style>\n",
              "<table border=\"1\" class=\"dataframe\">\n",
              "  <thead>\n",
              "    <tr style=\"text-align: right;\">\n",
              "      <th></th>\n",
              "      <th>Unnamed: 0</th>\n",
              "      <th>symbol</th>\n",
              "      <th>name</th>\n",
              "      <th>price</th>\n",
              "      <th>pricing_changes</th>\n",
              "      <th>pricing_percentage_changes</th>\n",
              "      <th>sector</th>\n",
              "      <th>industry</th>\n",
              "      <th>market_cap</th>\n",
              "      <th>share_volume</th>\n",
              "      <th>earnings_per_share</th>\n",
              "      <th>annualized_dividend</th>\n",
              "      <th>dividend_pay_date</th>\n",
              "      <th>symbol_yield</th>\n",
              "      <th>beta</th>\n",
              "      <th>errors</th>\n",
              "    </tr>\n",
              "  </thead>\n",
              "  <tbody>\n",
              "    <tr>\n",
              "      <th>0</th>\n",
              "      <td>0</td>\n",
              "      <td>AAPL</td>\n",
              "      <td>Apple Inc. Common Stock</td>\n",
              "      <td>157.510</td>\n",
              "      <td>+2.42</td>\n",
              "      <td>(+1.56%)</td>\n",
              "      <td>Technology</td>\n",
              "      <td>Computer Manufacturing</td>\n",
              "      <td>2,699,423,838,000</td>\n",
              "      <td>63,429,579</td>\n",
              "      <td>$6.04</td>\n",
              "      <td>$0.88</td>\n",
              "      <td>Feb 10, 2022</td>\n",
              "      <td>0.58%</td>\n",
              "      <td>1.18</td>\n",
              "      <td>False</td>\n",
              "    </tr>\n",
              "    <tr>\n",
              "      <th>1</th>\n",
              "      <td>1</td>\n",
              "      <td>MSFT</td>\n",
              "      <td>Microsoft Corporation Common Stock</td>\n",
              "      <td>289.560</td>\n",
              "      <td>+2.41</td>\n",
              "      <td>(+0.84%)</td>\n",
              "      <td>Technology</td>\n",
              "      <td>Computer Software: Prepackaged Software</td>\n",
              "      <td>2,143,429,080,429</td>\n",
              "      <td>22,790,662</td>\n",
              "      <td>$9.39</td>\n",
              "      <td>$2.48</td>\n",
              "      <td>Jun 9, 2022</td>\n",
              "      <td>0.9%</td>\n",
              "      <td>0.91</td>\n",
              "      <td>False</td>\n",
              "    </tr>\n",
              "    <tr>\n",
              "      <th>2</th>\n",
              "      <td>2</td>\n",
              "      <td>GOOG</td>\n",
              "      <td>Alphabet Inc. Class C Capital Stock</td>\n",
              "      <td>2639.755</td>\n",
              "      <td>+46.545</td>\n",
              "      <td>(+1.79%)</td>\n",
              "      <td>Technology</td>\n",
              "      <td>Internet and Information Services</td>\n",
              "      <td>1,724,718,735,878</td>\n",
              "      <td>900,760</td>\n",
              "      <td>$112.23</td>\n",
              "      <td>NaN</td>\n",
              "      <td>NaN</td>\n",
              "      <td>NaN</td>\n",
              "      <td>1.06</td>\n",
              "      <td>False</td>\n",
              "    </tr>\n",
              "    <tr>\n",
              "      <th>3</th>\n",
              "      <td>3</td>\n",
              "      <td>GOOGL</td>\n",
              "      <td>Alphabet Inc. Class A Common Stock</td>\n",
              "      <td>2629.010</td>\n",
              "      <td>+45.05</td>\n",
              "      <td>(+1.74%)</td>\n",
              "      <td>Technology</td>\n",
              "      <td>Internet and Information Services</td>\n",
              "      <td>1,718,961,675,672</td>\n",
              "      <td>1,008,687</td>\n",
              "      <td>$112.23</td>\n",
              "      <td>NaN</td>\n",
              "      <td>NaN</td>\n",
              "      <td>NaN</td>\n",
              "      <td>1.06</td>\n",
              "      <td>False</td>\n",
              "    </tr>\n",
              "    <tr>\n",
              "      <th>4</th>\n",
              "      <td>4</td>\n",
              "      <td>AMZN</td>\n",
              "      <td>Amazon.com, Inc. Common Stock</td>\n",
              "      <td>3009.070</td>\n",
              "      <td>+61.74</td>\n",
              "      <td>(+2.09%)</td>\n",
              "      <td>Consumer Services</td>\n",
              "      <td>Catalog/Specialty Distribution</td>\n",
              "      <td>1,511,267,897,700</td>\n",
              "      <td>2,623,915</td>\n",
              "      <td>$64.78</td>\n",
              "      <td>NaN</td>\n",
              "      <td>NaN</td>\n",
              "      <td>NaN</td>\n",
              "      <td>1.11</td>\n",
              "      <td>False</td>\n",
              "    </tr>\n",
              "  </tbody>\n",
              "</table>\n",
              "</div>\n",
              "      <button class=\"colab-df-convert\" onclick=\"convertToInteractive('df-7215a8ff-eeda-4183-ab33-0d4217547848')\"\n",
              "              title=\"Convert this dataframe to an interactive table.\"\n",
              "              style=\"display:none;\">\n",
              "        \n",
              "  <svg xmlns=\"http://www.w3.org/2000/svg\" height=\"24px\"viewBox=\"0 0 24 24\"\n",
              "       width=\"24px\">\n",
              "    <path d=\"M0 0h24v24H0V0z\" fill=\"none\"/>\n",
              "    <path d=\"M18.56 5.44l.94 2.06.94-2.06 2.06-.94-2.06-.94-.94-2.06-.94 2.06-2.06.94zm-11 1L8.5 8.5l.94-2.06 2.06-.94-2.06-.94L8.5 2.5l-.94 2.06-2.06.94zm10 10l.94 2.06.94-2.06 2.06-.94-2.06-.94-.94-2.06-.94 2.06-2.06.94z\"/><path d=\"M17.41 7.96l-1.37-1.37c-.4-.4-.92-.59-1.43-.59-.52 0-1.04.2-1.43.59L10.3 9.45l-7.72 7.72c-.78.78-.78 2.05 0 2.83L4 21.41c.39.39.9.59 1.41.59.51 0 1.02-.2 1.41-.59l7.78-7.78 2.81-2.81c.8-.78.8-2.07 0-2.86zM5.41 20L4 18.59l7.72-7.72 1.47 1.35L5.41 20z\"/>\n",
              "  </svg>\n",
              "      </button>\n",
              "      \n",
              "  <style>\n",
              "    .colab-df-container {\n",
              "      display:flex;\n",
              "      flex-wrap:wrap;\n",
              "      gap: 12px;\n",
              "    }\n",
              "\n",
              "    .colab-df-convert {\n",
              "      background-color: #E8F0FE;\n",
              "      border: none;\n",
              "      border-radius: 50%;\n",
              "      cursor: pointer;\n",
              "      display: none;\n",
              "      fill: #1967D2;\n",
              "      height: 32px;\n",
              "      padding: 0 0 0 0;\n",
              "      width: 32px;\n",
              "    }\n",
              "\n",
              "    .colab-df-convert:hover {\n",
              "      background-color: #E2EBFA;\n",
              "      box-shadow: 0px 1px 2px rgba(60, 64, 67, 0.3), 0px 1px 3px 1px rgba(60, 64, 67, 0.15);\n",
              "      fill: #174EA6;\n",
              "    }\n",
              "\n",
              "    [theme=dark] .colab-df-convert {\n",
              "      background-color: #3B4455;\n",
              "      fill: #D2E3FC;\n",
              "    }\n",
              "\n",
              "    [theme=dark] .colab-df-convert:hover {\n",
              "      background-color: #434B5C;\n",
              "      box-shadow: 0px 1px 3px 1px rgba(0, 0, 0, 0.15);\n",
              "      filter: drop-shadow(0px 1px 2px rgba(0, 0, 0, 0.3));\n",
              "      fill: #FFFFFF;\n",
              "    }\n",
              "  </style>\n",
              "\n",
              "      <script>\n",
              "        const buttonEl =\n",
              "          document.querySelector('#df-7215a8ff-eeda-4183-ab33-0d4217547848 button.colab-df-convert');\n",
              "        buttonEl.style.display =\n",
              "          google.colab.kernel.accessAllowed ? 'block' : 'none';\n",
              "\n",
              "        async function convertToInteractive(key) {\n",
              "          const element = document.querySelector('#df-7215a8ff-eeda-4183-ab33-0d4217547848');\n",
              "          const dataTable =\n",
              "            await google.colab.kernel.invokeFunction('convertToInteractive',\n",
              "                                                     [key], {});\n",
              "          if (!dataTable) return;\n",
              "\n",
              "          const docLinkHtml = 'Like what you see? Visit the ' +\n",
              "            '<a target=\"_blank\" href=https://colab.research.google.com/notebooks/data_table.ipynb>data table notebook</a>'\n",
              "            + ' to learn more about interactive tables.';\n",
              "          element.innerHTML = '';\n",
              "          dataTable['output_type'] = 'display_data';\n",
              "          await google.colab.output.renderOutput(dataTable, element);\n",
              "          const docLink = document.createElement('div');\n",
              "          docLink.innerHTML = docLinkHtml;\n",
              "          element.appendChild(docLink);\n",
              "        }\n",
              "      </script>\n",
              "    </div>\n",
              "  </div>\n",
              "  "
            ]
          },
          "metadata": {},
          "execution_count": 19
        }
      ]
    },
    {
      "cell_type": "code",
      "source": [
        "df.tail()\n"
      ],
      "metadata": {
        "colab": {
          "base_uri": "https://localhost:8080/",
          "height": 617
        },
        "id": "Ji_THxp5PXQ8",
        "outputId": "a266b32f-07b0-4773-f6e9-d73c761d95e0"
      },
      "execution_count": null,
      "outputs": [
        {
          "output_type": "execute_result",
          "data": {
            "text/plain": [
              "      Unnamed: 0 symbol                                               name  \\\n",
              "8334        8382  ZNTEW                   Zanite Acquisition Corp. Warrant   \n",
              "8335        8383  ZTAQU   Zimmer Energy Transition Acquisition Corp. Units   \n",
              "8336        8384  ZTAQW  Zimmer Energy Transition Acquisition Corp. War...   \n",
              "8337        8385  ZWRKU                     Z-Work Acquisition Corp. Units   \n",
              "8338        8386  ZWRKW                   Z-Work Acquisition Corp. Warrant   \n",
              "\n",
              "      price pricing_changes pricing_percentage_changes sector industry  \\\n",
              "8334   0.53          -0.105                  (-16.54%)    NaN      NaN   \n",
              "8335   9.94       Unchanged                        NaN    NaN      NaN   \n",
              "8336   0.42       Unchanged                        NaN    NaN      NaN   \n",
              "8337   9.85          -0.005                   (-0.05%)    NaN      NaN   \n",
              "8338   0.24          -0.005                   (-2.04%)    NaN      NaN   \n",
              "\n",
              "     market_cap share_volume earnings_per_share annualized_dividend  \\\n",
              "8334        NaN       96,553                NaN                 NaN   \n",
              "8335        NaN          NaN                NaN                 NaN   \n",
              "8336        NaN          NaN                NaN                 NaN   \n",
              "8337        NaN          111                NaN                 NaN   \n",
              "8338        NaN       27,027                NaN                 NaN   \n",
              "\n",
              "     dividend_pay_date symbol_yield   beta  errors  \n",
              "8334               NaN          NaN    0.1   False  \n",
              "8335               NaN          NaN  -0.09   False  \n",
              "8336               NaN          NaN   3.42   False  \n",
              "8337               NaN          NaN  -0.07   False  \n",
              "8338               NaN          NaN    1.5   False  "
            ],
            "text/html": [
              "\n",
              "  <div id=\"df-d8aef064-a02c-4b6f-a0f5-e2b334100b39\">\n",
              "    <div class=\"colab-df-container\">\n",
              "      <div>\n",
              "<style scoped>\n",
              "    .dataframe tbody tr th:only-of-type {\n",
              "        vertical-align: middle;\n",
              "    }\n",
              "\n",
              "    .dataframe tbody tr th {\n",
              "        vertical-align: top;\n",
              "    }\n",
              "\n",
              "    .dataframe thead th {\n",
              "        text-align: right;\n",
              "    }\n",
              "</style>\n",
              "<table border=\"1\" class=\"dataframe\">\n",
              "  <thead>\n",
              "    <tr style=\"text-align: right;\">\n",
              "      <th></th>\n",
              "      <th>Unnamed: 0</th>\n",
              "      <th>symbol</th>\n",
              "      <th>name</th>\n",
              "      <th>price</th>\n",
              "      <th>pricing_changes</th>\n",
              "      <th>pricing_percentage_changes</th>\n",
              "      <th>sector</th>\n",
              "      <th>industry</th>\n",
              "      <th>market_cap</th>\n",
              "      <th>share_volume</th>\n",
              "      <th>earnings_per_share</th>\n",
              "      <th>annualized_dividend</th>\n",
              "      <th>dividend_pay_date</th>\n",
              "      <th>symbol_yield</th>\n",
              "      <th>beta</th>\n",
              "      <th>errors</th>\n",
              "    </tr>\n",
              "  </thead>\n",
              "  <tbody>\n",
              "    <tr>\n",
              "      <th>8334</th>\n",
              "      <td>8382</td>\n",
              "      <td>ZNTEW</td>\n",
              "      <td>Zanite Acquisition Corp. Warrant</td>\n",
              "      <td>0.53</td>\n",
              "      <td>-0.105</td>\n",
              "      <td>(-16.54%)</td>\n",
              "      <td>NaN</td>\n",
              "      <td>NaN</td>\n",
              "      <td>NaN</td>\n",
              "      <td>96,553</td>\n",
              "      <td>NaN</td>\n",
              "      <td>NaN</td>\n",
              "      <td>NaN</td>\n",
              "      <td>NaN</td>\n",
              "      <td>0.1</td>\n",
              "      <td>False</td>\n",
              "    </tr>\n",
              "    <tr>\n",
              "      <th>8335</th>\n",
              "      <td>8383</td>\n",
              "      <td>ZTAQU</td>\n",
              "      <td>Zimmer Energy Transition Acquisition Corp. Units</td>\n",
              "      <td>9.94</td>\n",
              "      <td>Unchanged</td>\n",
              "      <td>NaN</td>\n",
              "      <td>NaN</td>\n",
              "      <td>NaN</td>\n",
              "      <td>NaN</td>\n",
              "      <td>NaN</td>\n",
              "      <td>NaN</td>\n",
              "      <td>NaN</td>\n",
              "      <td>NaN</td>\n",
              "      <td>NaN</td>\n",
              "      <td>-0.09</td>\n",
              "      <td>False</td>\n",
              "    </tr>\n",
              "    <tr>\n",
              "      <th>8336</th>\n",
              "      <td>8384</td>\n",
              "      <td>ZTAQW</td>\n",
              "      <td>Zimmer Energy Transition Acquisition Corp. War...</td>\n",
              "      <td>0.42</td>\n",
              "      <td>Unchanged</td>\n",
              "      <td>NaN</td>\n",
              "      <td>NaN</td>\n",
              "      <td>NaN</td>\n",
              "      <td>NaN</td>\n",
              "      <td>NaN</td>\n",
              "      <td>NaN</td>\n",
              "      <td>NaN</td>\n",
              "      <td>NaN</td>\n",
              "      <td>NaN</td>\n",
              "      <td>3.42</td>\n",
              "      <td>False</td>\n",
              "    </tr>\n",
              "    <tr>\n",
              "      <th>8337</th>\n",
              "      <td>8385</td>\n",
              "      <td>ZWRKU</td>\n",
              "      <td>Z-Work Acquisition Corp. Units</td>\n",
              "      <td>9.85</td>\n",
              "      <td>-0.005</td>\n",
              "      <td>(-0.05%)</td>\n",
              "      <td>NaN</td>\n",
              "      <td>NaN</td>\n",
              "      <td>NaN</td>\n",
              "      <td>111</td>\n",
              "      <td>NaN</td>\n",
              "      <td>NaN</td>\n",
              "      <td>NaN</td>\n",
              "      <td>NaN</td>\n",
              "      <td>-0.07</td>\n",
              "      <td>False</td>\n",
              "    </tr>\n",
              "    <tr>\n",
              "      <th>8338</th>\n",
              "      <td>8386</td>\n",
              "      <td>ZWRKW</td>\n",
              "      <td>Z-Work Acquisition Corp. Warrant</td>\n",
              "      <td>0.24</td>\n",
              "      <td>-0.005</td>\n",
              "      <td>(-2.04%)</td>\n",
              "      <td>NaN</td>\n",
              "      <td>NaN</td>\n",
              "      <td>NaN</td>\n",
              "      <td>27,027</td>\n",
              "      <td>NaN</td>\n",
              "      <td>NaN</td>\n",
              "      <td>NaN</td>\n",
              "      <td>NaN</td>\n",
              "      <td>1.5</td>\n",
              "      <td>False</td>\n",
              "    </tr>\n",
              "  </tbody>\n",
              "</table>\n",
              "</div>\n",
              "      <button class=\"colab-df-convert\" onclick=\"convertToInteractive('df-d8aef064-a02c-4b6f-a0f5-e2b334100b39')\"\n",
              "              title=\"Convert this dataframe to an interactive table.\"\n",
              "              style=\"display:none;\">\n",
              "        \n",
              "  <svg xmlns=\"http://www.w3.org/2000/svg\" height=\"24px\"viewBox=\"0 0 24 24\"\n",
              "       width=\"24px\">\n",
              "    <path d=\"M0 0h24v24H0V0z\" fill=\"none\"/>\n",
              "    <path d=\"M18.56 5.44l.94 2.06.94-2.06 2.06-.94-2.06-.94-.94-2.06-.94 2.06-2.06.94zm-11 1L8.5 8.5l.94-2.06 2.06-.94-2.06-.94L8.5 2.5l-.94 2.06-2.06.94zm10 10l.94 2.06.94-2.06 2.06-.94-2.06-.94-.94-2.06-.94 2.06-2.06.94z\"/><path d=\"M17.41 7.96l-1.37-1.37c-.4-.4-.92-.59-1.43-.59-.52 0-1.04.2-1.43.59L10.3 9.45l-7.72 7.72c-.78.78-.78 2.05 0 2.83L4 21.41c.39.39.9.59 1.41.59.51 0 1.02-.2 1.41-.59l7.78-7.78 2.81-2.81c.8-.78.8-2.07 0-2.86zM5.41 20L4 18.59l7.72-7.72 1.47 1.35L5.41 20z\"/>\n",
              "  </svg>\n",
              "      </button>\n",
              "      \n",
              "  <style>\n",
              "    .colab-df-container {\n",
              "      display:flex;\n",
              "      flex-wrap:wrap;\n",
              "      gap: 12px;\n",
              "    }\n",
              "\n",
              "    .colab-df-convert {\n",
              "      background-color: #E8F0FE;\n",
              "      border: none;\n",
              "      border-radius: 50%;\n",
              "      cursor: pointer;\n",
              "      display: none;\n",
              "      fill: #1967D2;\n",
              "      height: 32px;\n",
              "      padding: 0 0 0 0;\n",
              "      width: 32px;\n",
              "    }\n",
              "\n",
              "    .colab-df-convert:hover {\n",
              "      background-color: #E2EBFA;\n",
              "      box-shadow: 0px 1px 2px rgba(60, 64, 67, 0.3), 0px 1px 3px 1px rgba(60, 64, 67, 0.15);\n",
              "      fill: #174EA6;\n",
              "    }\n",
              "\n",
              "    [theme=dark] .colab-df-convert {\n",
              "      background-color: #3B4455;\n",
              "      fill: #D2E3FC;\n",
              "    }\n",
              "\n",
              "    [theme=dark] .colab-df-convert:hover {\n",
              "      background-color: #434B5C;\n",
              "      box-shadow: 0px 1px 3px 1px rgba(0, 0, 0, 0.15);\n",
              "      filter: drop-shadow(0px 1px 2px rgba(0, 0, 0, 0.3));\n",
              "      fill: #FFFFFF;\n",
              "    }\n",
              "  </style>\n",
              "\n",
              "      <script>\n",
              "        const buttonEl =\n",
              "          document.querySelector('#df-d8aef064-a02c-4b6f-a0f5-e2b334100b39 button.colab-df-convert');\n",
              "        buttonEl.style.display =\n",
              "          google.colab.kernel.accessAllowed ? 'block' : 'none';\n",
              "\n",
              "        async function convertToInteractive(key) {\n",
              "          const element = document.querySelector('#df-d8aef064-a02c-4b6f-a0f5-e2b334100b39');\n",
              "          const dataTable =\n",
              "            await google.colab.kernel.invokeFunction('convertToInteractive',\n",
              "                                                     [key], {});\n",
              "          if (!dataTable) return;\n",
              "\n",
              "          const docLinkHtml = 'Like what you see? Visit the ' +\n",
              "            '<a target=\"_blank\" href=https://colab.research.google.com/notebooks/data_table.ipynb>data table notebook</a>'\n",
              "            + ' to learn more about interactive tables.';\n",
              "          element.innerHTML = '';\n",
              "          dataTable['output_type'] = 'display_data';\n",
              "          await google.colab.output.renderOutput(dataTable, element);\n",
              "          const docLink = document.createElement('div');\n",
              "          docLink.innerHTML = docLinkHtml;\n",
              "          element.appendChild(docLink);\n",
              "        }\n",
              "      </script>\n",
              "    </div>\n",
              "  </div>\n",
              "  "
            ]
          },
          "metadata": {},
          "execution_count": 20
        }
      ]
    },
    {
      "cell_type": "code",
      "source": [
        "df.columns"
      ],
      "metadata": {
        "colab": {
          "base_uri": "https://localhost:8080/"
        },
        "id": "3rfUlJLMPb5-",
        "outputId": "46fb520c-7905-43cc-8ac8-42711da6a21c"
      },
      "execution_count": null,
      "outputs": [
        {
          "output_type": "execute_result",
          "data": {
            "text/plain": [
              "Index(['Unnamed: 0', 'symbol', 'name', 'price', 'pricing_changes',\n",
              "       'pricing_percentage_changes', 'sector', 'industry', 'market_cap',\n",
              "       'share_volume', 'earnings_per_share', 'annualized_dividend',\n",
              "       'dividend_pay_date', 'symbol_yield', 'beta', 'errors'],\n",
              "      dtype='object')"
            ]
          },
          "metadata": {},
          "execution_count": 21
        }
      ]
    },
    {
      "cell_type": "code",
      "source": [
        "df.shape"
      ],
      "metadata": {
        "colab": {
          "base_uri": "https://localhost:8080/"
        },
        "id": "NGgWTEnQPe2a",
        "outputId": "ea2f6430-8e10-44a0-81b3-690e0bf9ff5a"
      },
      "execution_count": null,
      "outputs": [
        {
          "output_type": "execute_result",
          "data": {
            "text/plain": [
              "(8339, 16)"
            ]
          },
          "metadata": {},
          "execution_count": 24
        }
      ]
    },
    {
      "cell_type": "code",
      "source": [
        "df.info()"
      ],
      "metadata": {
        "colab": {
          "base_uri": "https://localhost:8080/"
        },
        "id": "HrPgC_HsP9HH",
        "outputId": "4d95b22d-262e-41f6-89e5-9886418dded0"
      },
      "execution_count": null,
      "outputs": [
        {
          "output_type": "stream",
          "name": "stdout",
          "text": [
            "<class 'pandas.core.frame.DataFrame'>\n",
            "RangeIndex: 8339 entries, 0 to 8338\n",
            "Data columns (total 16 columns):\n",
            " #   Column                      Non-Null Count  Dtype  \n",
            "---  ------                      --------------  -----  \n",
            " 0   Unnamed: 0                  8339 non-null   int64  \n",
            " 1   symbol                      8339 non-null   object \n",
            " 2   name                        8339 non-null   object \n",
            " 3   price                       8339 non-null   float64\n",
            " 4   pricing_changes             8339 non-null   object \n",
            " 5   pricing_percentage_changes  5990 non-null   object \n",
            " 6   sector                      6138 non-null   object \n",
            " 7   industry                    6156 non-null   object \n",
            " 8   market_cap                  6824 non-null   object \n",
            " 9   share_volume                7853 non-null   object \n",
            " 10  earnings_per_share          2921 non-null   object \n",
            " 11  annualized_dividend         2198 non-null   object \n",
            " 12  dividend_pay_date           2262 non-null   object \n",
            " 13  symbol_yield                3783 non-null   object \n",
            " 14  beta                        6098 non-null   object \n",
            " 15  errors                      8339 non-null   bool   \n",
            "dtypes: bool(1), float64(1), int64(1), object(13)\n",
            "memory usage: 985.5+ KB\n"
          ]
        }
      ]
    },
    {
      "cell_type": "code",
      "source": [],
      "metadata": {
        "id": "6MjAgOU6QEbw"
      },
      "execution_count": null,
      "outputs": []
    }
  ]
}