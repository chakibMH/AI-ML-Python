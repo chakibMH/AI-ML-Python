{
  "metadata": {
    "kernelspec": {
      "language": "python",
      "display_name": "Python 3",
      "name": "python3"
    },
    "language_info": {
      "pygments_lexer": "ipython3",
      "nbconvert_exporter": "python",
      "version": "3.6.4",
      "file_extension": ".py",
      "codemirror_mode": {
        "name": "ipython",
        "version": 3
      },
      "name": "python",
      "mimetype": "text/x-python"
    },
    "colab": {
      "provenance": []
    }
  },
  "nbformat_minor": 0,
  "nbformat": 4,
  "cells": [
    {
      "cell_type": "markdown",
      "source": [
        "In this exercise, you'll apply what you learned in the **Handling missing values** tutorial.\n",
        "\n",
        "# Data\n",
        "\n",
        "Search and upload the Building_Permits.csv dataset"
      ],
      "metadata": {
        "id": "k6h7nG1vtkH3"
      }
    },
    {
      "cell_type": "code",
      "source": [
        "# modules we'll use\n",
        "import pandas as pd\n",
        "import numpy as np\n",
        "\n",
        "# read in all our data\n",
        "sf_permits = #--"
      ],
      "metadata": {
        "id": "zxbUowp4t_xh"
      },
      "execution_count": null,
      "outputs": []
    },
    {
      "cell_type": "markdown",
      "source": [
        "# 1) Take a first look at the data\n",
        "\n"
      ],
      "metadata": {
        "id": "W2KNgJZwtkH7"
      }
    },
    {
      "cell_type": "markdown",
      "source": [
        "Get familiar with your dataset"
      ],
      "metadata": {
        "id": "MZhSDBEkuan2"
      }
    },
    {
      "cell_type": "markdown",
      "source": [
        "Use the code cell below to print the first five rows of the `sf_permits` DataFrame."
      ],
      "metadata": {
        "id": "2yv4vWVGtkH9"
      }
    },
    {
      "cell_type": "code",
      "source": [
        "# TODO: Your code here!\n"
      ],
      "metadata": {
        "id": "LxYIpTLctkH-"
      },
      "execution_count": null,
      "outputs": []
    },
    {
      "cell_type": "markdown",
      "source": [
        "Does the dataset have any missing values?  "
      ],
      "metadata": {
        "id": "lCnnmIVvtkH-"
      }
    },
    {
      "cell_type": "markdown",
      "source": [
        "# 2) How many missing data points do we have?\n",
        "\n",
        "What percentage of the values in the dataset are missing?  Your answer should be a number between 0 and 100.  (If 1/4 of the values in the dataset are missing, the answer is 25.)"
      ],
      "metadata": {
        "id": "WlxiO_PMtkIA"
      }
    },
    {
      "cell_type": "code",
      "source": [
        "# TODO: Your code here!\n",
        "percent_missing = ____\n"
      ],
      "metadata": {
        "id": "cEu7X-12tkIA"
      },
      "execution_count": null,
      "outputs": []
    },
    {
      "cell_type": "code",
      "source": [],
      "metadata": {
        "id": "oLKVJmlctkIB"
      },
      "execution_count": null,
      "outputs": []
    },
    {
      "cell_type": "markdown",
      "source": [
        "# 3) Figure out why the data is missing\n",
        "\n",
        "Look at the columns **\"Street Number Suffix\"** and **\"Zipcode\"** from the [San Francisco Building Permits dataset](https://www.kaggle.com/aparnashastry/building-permit-applications-data). Both of these contain missing values.\n",
        "- Which, if either, are missing because they don't exist?\n",
        "- Which, if either, are missing because they weren't recorded?  \n",
        "\n",
        "Once you have an answer, run the code cell below."
      ],
      "metadata": {
        "id": "buIWa66ytkIB"
      }
    },
    {
      "cell_type": "code",
      "source": [],
      "metadata": {
        "id": "R1RSrTl4tkIC"
      },
      "execution_count": null,
      "outputs": []
    },
    {
      "cell_type": "markdown",
      "source": [
        "# 4) Drop missing values: rows\n",
        "\n",
        "If you removed all of the rows of `sf_permits` with missing values, how many rows are left?\n",
        "\n",
        "**Note**: Do not change the value of `sf_permits` when checking this.  "
      ],
      "metadata": {
        "id": "Deul1Vl3tkID"
      }
    },
    {
      "cell_type": "code",
      "source": [
        "# TODO: Your code here!\n"
      ],
      "metadata": {
        "id": "L8HaTgHBtkID"
      },
      "execution_count": null,
      "outputs": []
    },
    {
      "cell_type": "markdown",
      "source": [
        "# 5) Drop missing values: columns\n",
        "\n",
        "Now try removing all the columns with empty values.  \n",
        "- Create a new DataFrame called `sf_permits_with_na_dropped` that has all of the columns with empty values removed.  \n",
        "- How many columns were removed from the original `sf_permits` DataFrame? Use this number to set the value of the `dropped_columns` variable below."
      ],
      "metadata": {
        "id": "-udolop1tkIF"
      }
    },
    {
      "cell_type": "code",
      "source": [
        "# TODO: Your code here\n",
        "sf_permits_with_na_dropped = ____\n",
        "\n",
        "dropped_columns = ____\n"
      ],
      "metadata": {
        "id": "t496P-batkIG"
      },
      "execution_count": null,
      "outputs": []
    },
    {
      "cell_type": "markdown",
      "source": [
        "# 6) Fill in missing values automatically\n",
        "\n",
        "Try replacing all the NaN's in the `sf_permits` data with the one that comes directly after it and then replacing any remaining NaN's with 0.  Set the result to a new DataFrame `sf_permits_with_na_imputed`."
      ],
      "metadata": {
        "id": "Pj1Z3VD0tkIH"
      }
    },
    {
      "cell_type": "code",
      "source": [
        "# TODO: Your code here\n",
        "sf_permits_with_na_imputed = ____\n",
        "\n",
        "# Check your answer\n",
        "q6.check()"
      ],
      "metadata": {
        "id": "SrnKxrzWtkII"
      },
      "execution_count": null,
      "outputs": []
    },
    {
      "cell_type": "markdown",
      "source": [
        "# **Exercice: Cleaning strings**"
      ],
      "metadata": {
        "id": "G-4kkMhGTYVf"
      }
    },
    {
      "cell_type": "markdown",
      "source": [
        "You have been given a Pandas DataFrame df that contains some missing values. Some of the missing values are represented as empty strings, and others are represented as NaN values. Your task is to clean up the DataFrame by applying the following transformations:\n",
        "\n",
        "Replace all empty strings in the DataFrame with NaN values.\n",
        "\n",
        "\n",
        "Replace all NaN values in the DataFrame with the mode (i.e. most frequent value) of the corresponding column, if the column contains string values. If the column contains numeric values, replace the NaN values with the median of the column.\n",
        "\n",
        "\n",
        "Once you have cleaned up the DataFrame, print the first few rows of the cleaned DataFrame."
      ],
      "metadata": {
        "id": "X73a-rHrTWmT"
      }
    },
    {
      "cell_type": "code",
      "source": [
        "import pandas as pd\n",
        "\n",
        "df = pd.DataFrame({\n",
        "    'name': ['John', '', 'Mary', 'Paul', ''],\n",
        "    'occupation': ['Engineer', '', 'Doctor', '', 'Engineer']\n",
        "})"
      ],
      "metadata": {
        "id": "yIInD4mWTapG"
      },
      "execution_count": null,
      "outputs": []
    },
    {
      "cell_type": "code",
      "source": [],
      "metadata": {
        "id": "szEeOQi2Tebe"
      },
      "execution_count": null,
      "outputs": []
    },
    {
      "cell_type": "markdown",
      "source": [
        "**Exercise: (tres difficile)"
      ],
      "metadata": {
        "id": "FzM3ElH2TH7d"
      }
    },
    {
      "cell_type": "markdown",
      "source": [
        "\n",
        "You have been given a Pandas DataFrame df that contains some columns with string values. However, the strings are not well formatted and contain some errors and inconsistencies. Your task is to clean up the string columns by applying the following transformations:\n",
        "\n",
        "Remove any leading or trailing whitespace characters from each string.\n",
        "Remove any unnecessary characters or symbols, such as punctuation marks or digits.\n",
        "Standardize the capitalization of each string (i.e. the first letter of each word should be capitalized, and the rest should be lowercase).\n",
        "Once you have cleaned up the string columns, print the first few rows of the cleaned DataFrame.\n",
        "\n",
        "Hint: you can use regex"
      ],
      "metadata": {
        "id": "BlwROomGTGTp"
      }
    },
    {
      "cell_type": "code",
      "source": [
        "import pandas as pd\n",
        "\n",
        "df = pd.DataFrame({\n",
        "    'name': [' John', 'JANE ', ' mary', 'paula 1', 'sam!'],\n",
        "    'country': ['USA;', 'Canada;', 'uk', 'France:', 'Australia '],\n",
        "    'occupation': ['DOCTOR,', 'engineer:', 'Teacher:', 'Chef.', 'PROGRAMMER']\n",
        "})"
      ],
      "metadata": {
        "id": "Vdm0LRqsTNDn"
      },
      "execution_count": null,
      "outputs": []
    },
    {
      "cell_type": "code",
      "source": [],
      "metadata": {
        "id": "FqFzftQoTfAk"
      },
      "execution_count": null,
      "outputs": []
    }
  ]
}