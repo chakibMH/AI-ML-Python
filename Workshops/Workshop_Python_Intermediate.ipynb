{
  "nbformat": 4,
  "nbformat_minor": 0,
  "metadata": {
    "colab": {
      "provenance": []
    },
    "kernelspec": {
      "name": "python3",
      "display_name": "Python 3"
    },
    "language_info": {
      "name": "python"
    }
  },
  "cells": [
    {
      "cell_type": "markdown",
      "source": [
        "Exercice 3: Suppression des espaces dans une chaîne de caractères\n",
        "\n",
        "Demandez à l'utilisateur d'entrer une chaîne de caractères et utilisez la méthode replace() pour remplacer tous les espaces par des caractères vides. Affichez la chaîne de caractères sans espaces."
      ],
      "metadata": {
        "id": "vs5_NPEdAXBN"
      }
    },
    {
      "cell_type": "code",
      "source": [],
      "metadata": {
        "colab": {
          "base_uri": "https://localhost:8080/"
        },
        "id": "I4AxsIlDAYZz",
        "outputId": "b78fbf5b-f3dc-4ab0-dd06-15b98d1c8cf2"
      },
      "execution_count": null,
      "outputs": [
        {
          "output_type": "stream",
          "name": "stdout",
          "text": [
            "Help on method_descriptor:\n",
            "\n",
            "replace(self, old, new, count=-1, /)\n",
            "    Return a copy with all occurrences of substring old replaced by new.\n",
            "    \n",
            "      count\n",
            "        Maximum number of occurrences to replace.\n",
            "        -1 (the default value) means replace all occurrences.\n",
            "    \n",
            "    If the optional argument count is given, only the first count occurrences are\n",
            "    replaced.\n",
            "\n"
          ]
        }
      ]
    },
    {
      "cell_type": "markdown",
      "source": [
        "Exercice 2: Nombre de voyelles dans une chaîne de caractères\n",
        "\n",
        "Demandez à l'utilisateur d'entrer une chaîne de caractères et utilisez une boucle for pour compter le nombre de voyelles dans la chaîne de caractères. Affichez le nombre de voyelles.\n"
      ],
      "metadata": {
        "id": "IC2MIb4QAP2e"
      }
    },
    {
      "cell_type": "code",
      "source": [
        "n='hello'\n",
        "s=0\n",
        "for i in n:\n",
        "  if i=='e' or i=='o':\n",
        "    s+=1\n",
        "print(s)"
      ],
      "metadata": {
        "id": "cV3uWxXHAWgF",
        "colab": {
          "base_uri": "https://localhost:8080/"
        },
        "outputId": "6406ec93-8aa3-4757-db66-368f4b90c849"
      },
      "execution_count": null,
      "outputs": [
        {
          "output_type": "stream",
          "name": "stdout",
          "text": [
            "2\n"
          ]
        }
      ]
    },
    {
      "cell_type": "markdown",
      "source": [
        "Palindrome Checker (Difficulty: 3/5)\n",
        "\n",
        "Ecrivez un programme qui vérifie si une chaîne de caractères est un palindrome. Un palindrome est une chaîne de caractères qui se lit de la même façon à l'endroit et à l'envers.\n",
        "\n",
        "Input: \"racecar\"\n",
        "Output: True"
      ],
      "metadata": {
        "id": "5XHasfTnJgHB"
      }
    },
    {
      "cell_type": "code",
      "execution_count": null,
      "metadata": {
        "id": "BjC0ehzKJcL6"
      },
      "outputs": [],
      "source": []
    },
    {
      "cell_type": "markdown",
      "source": [
        "Inverser une chaîne de caractères (Difficulté : 1/5)\n",
        "\n",
        "Écrivez un programme qui prend une chaîne de caractères en entrée et renvoie l'inverse de la chaîne.\n",
        "\n",
        "Example:\n",
        "\n",
        "Input: \"hello\"\n",
        ":\n",
        "Output: \"olleh\""
      ],
      "metadata": {
        "id": "OAUcnhvdG0L-"
      }
    },
    {
      "cell_type": "code",
      "source": [],
      "metadata": {
        "id": "7EQJeEzFG5c2"
      },
      "execution_count": null,
      "outputs": []
    },
    {
      "cell_type": "markdown",
      "source": [
        "Inverser un nombre entier (Difficulté : 2/5)\n",
        "\n",
        "Écrivez un programme qui inverse un nombre entier sans utiliser de fonctions intégrées.\n",
        "\n",
        "---\n",
        "\n",
        "\n",
        "Example:\n",
        "\n",
        "Input: 123\n",
        "Output: 321"
      ],
      "metadata": {
        "id": "AGQpQC4hJigR"
      }
    },
    {
      "cell_type": "code",
      "source": [],
      "metadata": {
        "id": "fY4Vv6uXJrD2"
      },
      "execution_count": null,
      "outputs": []
    },
    {
      "cell_type": "markdown",
      "source": [
        "Exercice 4: Compter les mots dans une chaîne de caractères\n",
        "\n",
        "Demandez à l'utilisateur d'entrer une chaîne de caractères et utilisez la méthode split() pour découper la chaîne de caractères en mots. Ensuite, utilisez la fonction len() pour compter le nombre de mots dans la liste. Affichez le nombre de mots.\n",
        "\n"
      ],
      "metadata": {
        "id": "_NXs8mQpAnkD"
      }
    },
    {
      "cell_type": "code",
      "source": [],
      "metadata": {
        "id": "CO0pZ_KgAqfH"
      },
      "execution_count": null,
      "outputs": []
    },
    {
      "cell_type": "markdown",
      "source": [
        "Two Sum (Difficulté : 3/5)\n",
        "\n",
        "Étant donné une liste d'entiers et un nombre cible, écrivez un programme qui renvoie les indices des deux nombres de la liste dont la somme est égale à la cible.\n",
        "\n",
        "Input: [2, 7, 11, 15], target = 9\n",
        "Output: (0, 1)"
      ],
      "metadata": {
        "id": "GZd4Qku4Jleq"
      }
    },
    {
      "cell_type": "code",
      "source": [],
      "metadata": {
        "id": "k9RbjUHkKTRl"
      },
      "execution_count": null,
      "outputs": []
    },
    {
      "cell_type": "markdown",
      "source": [
        "Fréquence des éléments (Difficulté : 2/5)\n",
        "\n",
        "Ecrivez un programme qui prend une liste d'éléments et retourne un dictionnaire avec la fréquence de chaque élément.\n",
        "\n",
        "Exemple:\n",
        "\n",
        "Input: [1, 2, 2, 3, 3, 3, 4, 4, 4, 4]\n",
        "\n",
        "Output: {1: 1, 2: 2, 3: 3, 4: 4}"
      ],
      "metadata": {
        "id": "YkUMR3qjGVUJ"
      }
    },
    {
      "cell_type": "code",
      "source": [],
      "metadata": {
        "id": "xHzDZzwsGWQZ"
      },
      "execution_count": null,
      "outputs": []
    },
    {
      "cell_type": "markdown",
      "source": [
        "Vérification d'un nombre premier (Difficulté : 3/5)\n",
        "\n",
        "Ecrivez un programme qui vérifie si un nombre donné est un nombre premier ou non.\n",
        "Example:\n",
        "\n",
        "Input: 7\n",
        "\n",
        "Output: True"
      ],
      "metadata": {
        "id": "CzUqkIhrGe6H"
      }
    },
    {
      "cell_type": "code",
      "source": [],
      "metadata": {
        "id": "KVbndj6hGio2"
      },
      "execution_count": null,
      "outputs": []
    }
  ]
}