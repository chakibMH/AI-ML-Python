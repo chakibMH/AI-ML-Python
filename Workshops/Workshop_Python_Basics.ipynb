{
  "nbformat": 4,
  "nbformat_minor": 0,
  "metadata": {
    "colab": {
      "provenance": []
    },
    "kernelspec": {
      "name": "python3",
      "display_name": "Python 3"
    },
    "language_info": {
      "name": "python"
    }
  },
  "cells": [
    {
      "cell_type": "code",
      "execution_count": null,
      "metadata": {
        "id": "Ffa9ei99qUGQ"
      },
      "outputs": [],
      "source": [
        "#Déclarer des variables\n",
        "x = 5\n",
        "y = 3.2\n",
        "z = \"Hello\"\n"
      ]
    },
    {
      "cell_type": "code",
      "source": [
        "#Afficher les types de variables\n",
        "print(type(x))\n",
        "print(type(y))\n",
        "print(type(z))"
      ],
      "metadata": {
        "colab": {
          "base_uri": "https://localhost:8080/"
        },
        "id": "qhf-X5XnrOX3",
        "outputId": "11c4d61d-1a46-4fbe-b159-64f4002de7cb"
      },
      "execution_count": null,
      "outputs": [
        {
          "output_type": "stream",
          "name": "stdout",
          "text": [
            "<class 'int'>\n",
            "<class 'float'>\n",
            "<class 'str'>\n"
          ]
        }
      ]
    },
    {
      "cell_type": "code",
      "source": [
        "# Convertir des variables\n",
        "x2 = str(x)\n",
        "print(x2)"
      ],
      "metadata": {
        "colab": {
          "base_uri": "https://localhost:8080/"
        },
        "id": "K7UOaaSBrXeE",
        "outputId": "7327fc90-0596-4e99-c9c7-e7f0bdf5ca54"
      },
      "execution_count": null,
      "outputs": [
        {
          "output_type": "stream",
          "name": "stdout",
          "text": [
            "5\n"
          ]
        }
      ]
    },
    {
      "cell_type": "markdown",
      "source": [
        "**1.3.4. Les opérateurs**"
      ],
      "metadata": {
        "id": "0ibCr9edt08E"
      }
    },
    {
      "cell_type": "markdown",
      "source": [
        "**Les opérateurs arithmétiques**"
      ],
      "metadata": {
        "id": "e75OTHvWYRMr"
      }
    },
    {
      "cell_type": "code",
      "source": [
        "a = 10\n",
        "b = 4\n",
        "\n",
        "res = a + b # addition\n",
        "print(\"a+b : \", res)\n",
        "\n",
        "res = a - b # soustraction\n",
        "print(\"a-b :\", res)\n",
        "\n",
        "res = a * b # multiplication\n",
        "print(\"a*b :\", res)\n",
        "\n",
        "res = a / b # division\n",
        "print(\"a/b : \", res)\n",
        "\n",
        "res = a % b # Module\n",
        "print(\"a mod b :\", res)\n",
        "\n",
        "res = a // b # division entière\n",
        "print(\"a // b :\", res)"
      ],
      "metadata": {
        "colab": {
          "base_uri": "https://localhost:8080/"
        },
        "id": "6OtjrCh2rmlv",
        "outputId": "27284e4b-dd44-4d8f-f0bc-591f15f88b93"
      },
      "execution_count": null,
      "outputs": [
        {
          "output_type": "stream",
          "name": "stdout",
          "text": [
            "a+b :  14\n",
            "a-b : 6\n",
            "a*b : 40\n",
            "a/b :  2.5\n",
            "a mod b : 2\n",
            "a // b : 2\n"
          ]
        }
      ]
    },
    {
      "cell_type": "markdown",
      "source": [
        "**Les opérateurs d'assignement**"
      ],
      "metadata": {
        "id": "jnytp83dYiNH"
      }
    },
    {
      "cell_type": "code",
      "source": [
        "x = 5 # Affectation\n",
        "\n",
        "x += 3 # équivqlent de x = x+3\n",
        "print(x)"
      ],
      "metadata": {
        "colab": {
          "base_uri": "https://localhost:8080/"
        },
        "id": "6IYLYH2MVGSZ",
        "outputId": "4135a002-429f-40f3-b80e-5b2c8998b510"
      },
      "execution_count": null,
      "outputs": [
        {
          "output_type": "execute_result",
          "data": {
            "text/plain": [
              "8"
            ]
          },
          "metadata": {},
          "execution_count": 7
        }
      ]
    },
    {
      "cell_type": "code",
      "source": [
        "x = 5 # Affectation\n",
        "\n",
        "x -= 3 # équivqlent de x = x-3\n",
        "print(x)"
      ],
      "metadata": {
        "colab": {
          "base_uri": "https://localhost:8080/"
        },
        "id": "sPJv5ph6ZBwa",
        "outputId": "66823b28-3e18-46b2-de6c-60d52613d585"
      },
      "execution_count": null,
      "outputs": [
        {
          "output_type": "stream",
          "name": "stdout",
          "text": [
            "2\n"
          ]
        }
      ]
    },
    {
      "cell_type": "markdown",
      "source": [
        "**Les opérateurs de comparaison**"
      ],
      "metadata": {
        "id": "m14AMgdCbDUK"
      }
    },
    {
      "cell_type": "code",
      "source": [
        "x = 5\n",
        "y = 3\n",
        "x == 3 #Égalité"
      ],
      "metadata": {
        "colab": {
          "base_uri": "https://localhost:8080/"
        },
        "id": "OjMNY0MNZhwb",
        "outputId": "40649d1a-bc12-468e-847e-a882e5bac521"
      },
      "execution_count": null,
      "outputs": [
        {
          "output_type": "execute_result",
          "data": {
            "text/plain": [
              "False"
            ]
          },
          "metadata": {},
          "execution_count": 10
        }
      ]
    },
    {
      "cell_type": "code",
      "source": [
        "x != y # Non égalité"
      ],
      "metadata": {
        "colab": {
          "base_uri": "https://localhost:8080/"
        },
        "id": "wFIwXrhybLeZ",
        "outputId": "312a59b5-f55a-41ec-edf4-aefd541f53ff"
      },
      "execution_count": null,
      "outputs": [
        {
          "output_type": "execute_result",
          "data": {
            "text/plain": [
              "True"
            ]
          },
          "metadata": {},
          "execution_count": 11
        }
      ]
    },
    {
      "cell_type": "code",
      "source": [
        "x > y # Supériorité"
      ],
      "metadata": {
        "colab": {
          "base_uri": "https://localhost:8080/"
        },
        "id": "rXSd_hsAduiz",
        "outputId": "93eaed06-1c4a-4c6e-fe6b-d6cd1ff610d2"
      },
      "execution_count": null,
      "outputs": [
        {
          "output_type": "execute_result",
          "data": {
            "text/plain": [
              "True"
            ]
          },
          "metadata": {},
          "execution_count": 12
        }
      ]
    },
    {
      "cell_type": "code",
      "source": [
        "x < y # Infériorité"
      ],
      "metadata": {
        "colab": {
          "base_uri": "https://localhost:8080/"
        },
        "id": "V_YwFbx3f_mH",
        "outputId": "a2d70297-56fd-42c8-a8cf-f37b6a1788b7"
      },
      "execution_count": null,
      "outputs": [
        {
          "output_type": "execute_result",
          "data": {
            "text/plain": [
              "False"
            ]
          },
          "metadata": {},
          "execution_count": 13
        }
      ]
    },
    {
      "cell_type": "code",
      "source": [
        "x <= y # Inférieur ou égale"
      ],
      "metadata": {
        "colab": {
          "base_uri": "https://localhost:8080/"
        },
        "id": "NW0cFVIjgEgP",
        "outputId": "8bd86c51-3026-4327-b399-49d053142b2c"
      },
      "execution_count": null,
      "outputs": [
        {
          "output_type": "execute_result",
          "data": {
            "text/plain": [
              "False"
            ]
          },
          "metadata": {},
          "execution_count": 14
        }
      ]
    },
    {
      "cell_type": "code",
      "source": [
        "x >= y # Supérieur ou égale"
      ],
      "metadata": {
        "colab": {
          "base_uri": "https://localhost:8080/"
        },
        "id": "d3T3_qiwgMIO",
        "outputId": "c2917986-e975-4d2a-d25f-0c58f00a4034"
      },
      "execution_count": null,
      "outputs": [
        {
          "output_type": "execute_result",
          "data": {
            "text/plain": [
              "True"
            ]
          },
          "metadata": {},
          "execution_count": 15
        }
      ]
    },
    {
      "cell_type": "markdown",
      "source": [
        "**1.3.4.1. Les opérations sur les chaines de caractères**"
      ],
      "metadata": {
        "id": "RK9ZDHc95iut"
      }
    },
    {
      "cell_type": "markdown",
      "source": [
        "**Déclaration**"
      ],
      "metadata": {
        "id": "CzkXwFPm7wSv"
      }
    },
    {
      "cell_type": "code",
      "source": [
        "ch = \"chaine\" # Déclaration\n",
        "ch = 'chaine' # Une autre manière\n",
        "ch = '''chaine''' # Et une autre manière 😁"
      ],
      "metadata": {
        "id": "8LOOfxcmgW4F"
      },
      "execution_count": null,
      "outputs": []
    },
    {
      "cell_type": "markdown",
      "source": [
        "**Découpage (Slicing)**"
      ],
      "metadata": {
        "id": "VHqIxY9f73Ev"
      }
    },
    {
      "cell_type": "code",
      "source": [
        "b = \"Hello, World!\" # Découpage(Slicing)\n",
        "print(b[0:5])"
      ],
      "metadata": {
        "colab": {
          "base_uri": "https://localhost:8080/"
        },
        "id": "0Tr8woOf6CE_",
        "outputId": "34cd9838-7cda-451e-d1cd-acdd0875fd80"
      },
      "execution_count": null,
      "outputs": [
        {
          "output_type": "stream",
          "name": "stdout",
          "text": [
            "Hello\n"
          ]
        }
      ]
    },
    {
      "cell_type": "markdown",
      "source": [
        "**Modification**"
      ],
      "metadata": {
        "id": "ANP-bAB27zdz"
      }
    },
    {
      "cell_type": "code",
      "source": [
        "b.upper() # Modification en majuscule"
      ],
      "metadata": {
        "colab": {
          "base_uri": "https://localhost:8080/",
          "height": 36
        },
        "id": "vhdvSTeq6C8y",
        "outputId": "3fd78e7e-ab31-470c-9039-96be45d5afd4"
      },
      "execution_count": null,
      "outputs": [
        {
          "output_type": "execute_result",
          "data": {
            "text/plain": [
              "'HELLO, WORLD!'"
            ],
            "application/vnd.google.colaboratory.intrinsic+json": {
              "type": "string"
            }
          },
          "metadata": {},
          "execution_count": 35
        }
      ]
    },
    {
      "cell_type": "markdown",
      "source": [
        "**Concaténation**"
      ],
      "metadata": {
        "id": "gC4Fk70L8CnH"
      }
    },
    {
      "cell_type": "code",
      "source": [
        "a = \"Hello \"\n",
        "b = \"World\"\n",
        "c = a + b\n",
        "print(c)"
      ],
      "metadata": {
        "colab": {
          "base_uri": "https://localhost:8080/"
        },
        "id": "6_VucEK879HN",
        "outputId": "6a516ac1-c7b3-43ba-87d8-ed459957e6c0"
      },
      "execution_count": null,
      "outputs": [
        {
          "output_type": "stream",
          "name": "stdout",
          "text": [
            "Hello World\n"
          ]
        }
      ]
    },
    {
      "cell_type": "markdown",
      "source": [
        "**Les méthodes**"
      ],
      "metadata": {
        "id": "CfFXr0rA8joH"
      }
    },
    {
      "cell_type": "code",
      "source": [
        "txt = \"welcome to the jungle\"\n",
        "x = txt.split()\n",
        "print(x)"
      ],
      "metadata": {
        "colab": {
          "base_uri": "https://localhost:8080/"
        },
        "id": "6FONkUXP8H3n",
        "outputId": "d31e05a7-a624-4785-8f9b-0d22dd1f608a"
      },
      "execution_count": null,
      "outputs": [
        {
          "output_type": "stream",
          "name": "stdout",
          "text": [
            "['welcome', 'to', 'the', 'jungle']\n"
          ]
        }
      ]
    },
    {
      "cell_type": "markdown",
      "source": [
        "**1.3.4.2. Les opération sur les booleans**"
      ],
      "metadata": {
        "id": "bNUNP9Z5h8xH"
      }
    },
    {
      "cell_type": "code",
      "source": [
        "# L'égalité\n",
        "x =3\n",
        "y =3\n",
        "x == y"
      ],
      "metadata": {
        "id": "cwHTlXni8rNQ",
        "colab": {
          "base_uri": "https://localhost:8080/"
        },
        "outputId": "b94d3279-853d-452b-a115-16cb64ba98bb"
      },
      "execution_count": null,
      "outputs": [
        {
          "output_type": "execute_result",
          "data": {
            "text/plain": [
              "True"
            ]
          },
          "metadata": {},
          "execution_count": 1
        }
      ]
    },
    {
      "cell_type": "code",
      "source": [
        "# non-égalité\n",
        "x =3\n",
        "y =5\n",
        "x != y"
      ],
      "metadata": {
        "colab": {
          "base_uri": "https://localhost:8080/"
        },
        "id": "vip2tZnaiW3N",
        "outputId": "c79bdbe5-be42-4de3-f36e-8ade660c9d37"
      },
      "execution_count": null,
      "outputs": [
        {
          "output_type": "execute_result",
          "data": {
            "text/plain": [
              "True"
            ]
          },
          "metadata": {},
          "execution_count": 2
        }
      ]
    },
    {
      "cell_type": "code",
      "source": [
        "# supériorité\n",
        "x =3\n",
        "y =5\n",
        "x > y"
      ],
      "metadata": {
        "colab": {
          "base_uri": "https://localhost:8080/"
        },
        "id": "hHrZSYYKikOo",
        "outputId": "0066c894-625b-4840-df08-49a66d6c39e3"
      },
      "execution_count": null,
      "outputs": [
        {
          "output_type": "execute_result",
          "data": {
            "text/plain": [
              "False"
            ]
          },
          "metadata": {},
          "execution_count": 3
        }
      ]
    },
    {
      "cell_type": "code",
      "source": [
        "# infériorité\n",
        "x =3\n",
        "y =5\n",
        "x < y"
      ],
      "metadata": {
        "colab": {
          "base_uri": "https://localhost:8080/"
        },
        "id": "jdzI4VahivS9",
        "outputId": "1c57997f-2392-41a8-beb8-2262a5962101"
      },
      "execution_count": null,
      "outputs": [
        {
          "output_type": "execute_result",
          "data": {
            "text/plain": [
              "True"
            ]
          },
          "metadata": {},
          "execution_count": 4
        }
      ]
    },
    {
      "cell_type": "markdown",
      "source": [
        "**1.4.1. les listes**"
      ],
      "metadata": {
        "id": "e7QwQCBdobCY"
      }
    },
    {
      "cell_type": "code",
      "source": [
        "# Déclaration\n",
        "l = [1,'a',True, [10,100]]"
      ],
      "metadata": {
        "id": "nT6huKkfi9qs"
      },
      "execution_count": null,
      "outputs": []
    },
    {
      "cell_type": "code",
      "source": [
        "# Indéxation des listes\n",
        "print(l[0])\n",
        "print(l[3][1])"
      ],
      "metadata": {
        "colab": {
          "base_uri": "https://localhost:8080/"
        },
        "id": "vQz0F5rjo7L6",
        "outputId": "946b33eb-78e6-430e-c2ca-4f602b6d25d1"
      },
      "execution_count": null,
      "outputs": [
        {
          "output_type": "stream",
          "name": "stdout",
          "text": [
            "1\n",
            "100\n"
          ]
        }
      ]
    },
    {
      "cell_type": "code",
      "source": [
        "# Découpage des liste\n",
        "l[0:3]"
      ],
      "metadata": {
        "colab": {
          "base_uri": "https://localhost:8080/"
        },
        "id": "3lyme0bmpQyJ",
        "outputId": "33df3ac2-3016-4e07-e6b2-81e0b9b357f3"
      },
      "execution_count": null,
      "outputs": [
        {
          "output_type": "execute_result",
          "data": {
            "text/plain": [
              "[1, 'a', True]"
            ]
          },
          "metadata": {},
          "execution_count": 12
        }
      ]
    },
    {
      "cell_type": "code",
      "source": [
        "# Les méthodes et fonctions\n",
        "print(len(l))"
      ],
      "metadata": {
        "colab": {
          "base_uri": "https://localhost:8080/"
        },
        "id": "DAcizII-pnaw",
        "outputId": "37f2a60b-bcbc-43d8-beb4-1e3250748806"
      },
      "execution_count": null,
      "outputs": [
        {
          "output_type": "stream",
          "name": "stdout",
          "text": [
            "4\n"
          ]
        }
      ]
    },
    {
      "cell_type": "code",
      "source": [
        "l.append(100)\n"
      ],
      "metadata": {
        "id": "CjlO_SS4pzM9"
      },
      "execution_count": null,
      "outputs": []
    },
    {
      "cell_type": "code",
      "source": [
        "l"
      ],
      "metadata": {
        "colab": {
          "base_uri": "https://localhost:8080/"
        },
        "id": "nf3K24n6qF59",
        "outputId": "4b4349f0-7ff3-481c-e4c3-9721960563ae"
      },
      "execution_count": null,
      "outputs": [
        {
          "output_type": "execute_result",
          "data": {
            "text/plain": [
              "[1, 'a', True, [10, 100], 100, 100, 100]"
            ]
          },
          "metadata": {},
          "execution_count": 5
        }
      ]
    },
    {
      "cell_type": "markdown",
      "source": [
        "**Plus de méthode et fonctions**"
      ],
      "metadata": {
        "id": "2xT5P8_nrPpS"
      }
    },
    {
      "cell_type": "code",
      "source": [
        "# Modification d'une valeur\n",
        "l[1] = 'b'\n",
        "print(l)"
      ],
      "metadata": {
        "colab": {
          "base_uri": "https://localhost:8080/"
        },
        "id": "c8la6u82qJxR",
        "outputId": "5155c8ad-05e8-41fb-b3a4-2fd81a9b3363"
      },
      "execution_count": null,
      "outputs": [
        {
          "output_type": "stream",
          "name": "stdout",
          "text": [
            "[1, 'b', True, [10, 100], 100]\n"
          ]
        }
      ]
    },
    {
      "cell_type": "code",
      "source": [
        "#Ajouter un élément à la fin d'une liste\n",
        "l.append('e')\n",
        "print(l)"
      ],
      "metadata": {
        "colab": {
          "base_uri": "https://localhost:8080/"
        },
        "id": "4dlIYwGvrecZ",
        "outputId": "8c773577-e38a-4a5c-e3dc-609efdc8b2ce"
      },
      "execution_count": null,
      "outputs": [
        {
          "output_type": "stream",
          "name": "stdout",
          "text": [
            "[1, 'a', True, [10, 100], 100, 100, 100, 'e']\n"
          ]
        }
      ]
    },
    {
      "cell_type": "code",
      "source": [
        "#Insérer un élément à l'intérieur\n",
        "l.insert(2,'c')\n",
        "print(l)"
      ],
      "metadata": {
        "colab": {
          "base_uri": "https://localhost:8080/"
        },
        "id": "O2bUG-ahrpxI",
        "outputId": "e992343a-bfb5-4cf1-f596-e05cafa53e65"
      },
      "execution_count": null,
      "outputs": [
        {
          "output_type": "stream",
          "name": "stdout",
          "text": [
            "[1, 'a', 'c', True, [10, 100], 100, 100, 100, 'e']\n"
          ]
        }
      ]
    },
    {
      "cell_type": "code",
      "source": [
        "#Supprimer un élément\n",
        "l.remove('c');l.remove('e')\n",
        "print(l)"
      ],
      "metadata": {
        "colab": {
          "base_uri": "https://localhost:8080/"
        },
        "id": "RcHoPEtrr4l1",
        "outputId": "0b44bc94-cb4d-4601-ad90-f8a9e9d35a57"
      },
      "execution_count": null,
      "outputs": [
        {
          "output_type": "stream",
          "name": "stdout",
          "text": [
            "[1, 'a', True, [10, 100], 100, 100, 100]\n"
          ]
        }
      ]
    },
    {
      "cell_type": "code",
      "source": [
        "#Supprimer un élément avec son indice\n",
        "del l[3]\n",
        "print(l)"
      ],
      "metadata": {
        "colab": {
          "base_uri": "https://localhost:8080/"
        },
        "id": "fXzKE50xsHlJ",
        "outputId": "9285912e-9c32-4df4-ffc4-704354d0e660"
      },
      "execution_count": null,
      "outputs": [
        {
          "output_type": "stream",
          "name": "stdout",
          "text": [
            "[1, 'b', True, 100, 'e']\n"
          ]
        }
      ]
    },
    {
      "cell_type": "markdown",
      "source": [
        "**1.4.2. Les tuples**"
      ],
      "metadata": {
        "id": "yPW9DabeustM"
      }
    },
    {
      "cell_type": "code",
      "source": [
        "# Déclaration\n",
        "t = (1,'a',5,[1,3])\n",
        "print(t)"
      ],
      "metadata": {
        "id": "2Troid-ktsGX",
        "colab": {
          "base_uri": "https://localhost:8080/"
        },
        "outputId": "378f6fc2-3903-4010-b9d1-7e0a24b66d0d"
      },
      "execution_count": null,
      "outputs": [
        {
          "output_type": "stream",
          "name": "stdout",
          "text": [
            "(1, 'a', 5, [1, 3])\n"
          ]
        }
      ]
    },
    {
      "cell_type": "markdown",
      "source": [
        "**Les opérations, méthodes et fonction**"
      ],
      "metadata": {
        "id": "MzDQHRdEvG9G"
      }
    },
    {
      "cell_type": "code",
      "source": [
        "# Accès à un élément par son indice\n",
        "t[2]"
      ],
      "metadata": {
        "colab": {
          "base_uri": "https://localhost:8080/"
        },
        "id": "DQJNVjjmu6A6",
        "outputId": "da2b8e42-c490-4516-bbde-1bf2658c913a"
      },
      "execution_count": null,
      "outputs": [
        {
          "output_type": "execute_result",
          "data": {
            "text/plain": [
              "5"
            ]
          },
          "metadata": {},
          "execution_count": 28
        }
      ]
    },
    {
      "cell_type": "code",
      "source": [
        "#Longueur d'un tuple\n",
        "len(t)"
      ],
      "metadata": {
        "colab": {
          "base_uri": "https://localhost:8080/"
        },
        "id": "e3tkpdchu6gL",
        "outputId": "db4cc982-9e91-4c59-d378-80a040425b83"
      },
      "execution_count": null,
      "outputs": [
        {
          "output_type": "execute_result",
          "data": {
            "text/plain": [
              "4"
            ]
          },
          "metadata": {},
          "execution_count": 29
        }
      ]
    },
    {
      "cell_type": "code",
      "source": [
        "#Convertir une chaîne de caractère\n",
        "ch = \"Chaine\"\n",
        "tuple(ch)"
      ],
      "metadata": {
        "colab": {
          "base_uri": "https://localhost:8080/"
        },
        "id": "i3irmUX5va9d",
        "outputId": "702df12d-4b8f-4da6-d0a1-8860d422b1b2"
      },
      "execution_count": null,
      "outputs": [
        {
          "output_type": "execute_result",
          "data": {
            "text/plain": [
              "('C', 'h', 'a', 'i', 'n', 'e')"
            ]
          },
          "metadata": {},
          "execution_count": 30
        }
      ]
    },
    {
      "cell_type": "markdown",
      "source": [
        "**1.4.3.Les dictionnaires**"
      ],
      "metadata": {
        "id": "NWWpjPkKw9oG"
      }
    },
    {
      "cell_type": "code",
      "source": [
        "#Déclaration des dictionnaires\n",
        "dic = {'key1':1,'key2':'2','key3':False}\n",
        "dic"
      ],
      "metadata": {
        "colab": {
          "base_uri": "https://localhost:8080/"
        },
        "id": "itZU-1spvq7k",
        "outputId": "ebb8be18-ec4e-4886-c05d-0f7790da7163"
      },
      "execution_count": null,
      "outputs": [
        {
          "output_type": "execute_result",
          "data": {
            "text/plain": [
              "{'key1': 1, 'key2': '2', 'key3': False}"
            ]
          },
          "metadata": {},
          "execution_count": 31
        }
      ]
    },
    {
      "cell_type": "markdown",
      "source": [
        "**Opération, méthodes et fonctions**"
      ],
      "metadata": {
        "id": "GpJxoaJ20XC1"
      }
    },
    {
      "cell_type": "code",
      "source": [
        "# Ajouter une valeur\n",
        "dic['key4']='a'\n",
        "dic"
      ],
      "metadata": {
        "colab": {
          "base_uri": "https://localhost:8080/"
        },
        "id": "NCvU8pGKz9w6",
        "outputId": "59c71678-2fe4-4c1c-fac9-e50343b73b2b"
      },
      "execution_count": null,
      "outputs": [
        {
          "output_type": "execute_result",
          "data": {
            "text/plain": [
              "{'key1': 1, 'key2': '2', 'key3': False, 'key4': 'a'}"
            ]
          },
          "metadata": {},
          "execution_count": 32
        }
      ]
    },
    {
      "cell_type": "code",
      "source": [
        "#Retourner une valeur d'une clé\n",
        "dic.get('key3')"
      ],
      "metadata": {
        "colab": {
          "base_uri": "https://localhost:8080/"
        },
        "id": "DkEiiQXp09EW",
        "outputId": "ee984bc1-9983-4bc4-959e-4276bc42c46f"
      },
      "execution_count": null,
      "outputs": [
        {
          "output_type": "execute_result",
          "data": {
            "text/plain": [
              "False"
            ]
          },
          "metadata": {},
          "execution_count": 34
        }
      ]
    },
    {
      "cell_type": "code",
      "source": [
        "#Changer une valeur d'une clé existante\n",
        "dic['key2'] = 20\n",
        "dic"
      ],
      "metadata": {
        "colab": {
          "base_uri": "https://localhost:8080/"
        },
        "id": "mer3UX6L1GGr",
        "outputId": "fdc3773e-da58-43b3-c57e-11104b5d8784"
      },
      "execution_count": null,
      "outputs": [
        {
          "output_type": "execute_result",
          "data": {
            "text/plain": [
              "{'key1': 1, 'key2': 20, 'key3': False, 'key4': 'a'}"
            ]
          },
          "metadata": {},
          "execution_count": 36
        }
      ]
    },
    {
      "cell_type": "markdown",
      "source": [
        "**Autres Méthodes**"
      ],
      "metadata": {
        "id": "L9e_2I1d22z2"
      }
    },
    {
      "cell_type": "code",
      "source": [
        "# Déclaration des dictionnaires\n",
        "dic = {'key1': 1, 'key2': '2', 'key3': False}"
      ],
      "metadata": {
        "id": "UJv7o9HV1qCu"
      },
      "execution_count": null,
      "outputs": []
    },
    {
      "cell_type": "code",
      "source": [
        "# Retourner les clès du dictionnaire\n",
        "print(dic.keys())"
      ],
      "metadata": {
        "colab": {
          "base_uri": "https://localhost:8080/"
        },
        "id": "MecmxaDF2T3a",
        "outputId": "4b7f487a-53d3-4659-8ad6-b3e7336ebfe8"
      },
      "execution_count": null,
      "outputs": [
        {
          "output_type": "stream",
          "name": "stdout",
          "text": [
            "dict_keys(['key1', 'key2', 'key3'])\n"
          ]
        }
      ]
    },
    {
      "cell_type": "code",
      "source": [
        "# Retourner les valeurs du dictionnaire\n",
        "print(dic.values())"
      ],
      "metadata": {
        "colab": {
          "base_uri": "https://localhost:8080/"
        },
        "id": "-lW4gqo52jg5",
        "outputId": "b6d51424-b453-4174-965f-dcd8ad8a7922"
      },
      "execution_count": null,
      "outputs": [
        {
          "output_type": "stream",
          "name": "stdout",
          "text": [
            "dict_values([1, '2', False])\n"
          ]
        }
      ]
    },
    {
      "cell_type": "code",
      "source": [
        "# Retourner tous les éléments du dictionnaire\n",
        "print(dic.items())"
      ],
      "metadata": {
        "colab": {
          "base_uri": "https://localhost:8080/"
        },
        "id": "84RuKGHz2rpa",
        "outputId": "3741e728-1ea4-45b4-be09-128a115ffcef"
      },
      "execution_count": null,
      "outputs": [
        {
          "output_type": "stream",
          "name": "stdout",
          "text": [
            "dict_items([('key1', 1), ('key2', '2'), ('key3', False)])\n"
          ]
        }
      ]
    },
    {
      "cell_type": "markdown",
      "source": [
        "**1.5. Les conditions**"
      ],
      "metadata": {
        "id": "S7BlBFCS7WZn"
      }
    },
    {
      "cell_type": "markdown",
      "source": [
        "**La clause If**"
      ],
      "metadata": {
        "id": "ho83BdP57s6i"
      }
    },
    {
      "cell_type": "code",
      "source": [
        "#Condition if vérifiée\n",
        "x = 3\n",
        "if x <5 :\n",
        "  print(x)"
      ],
      "metadata": {
        "colab": {
          "base_uri": "https://localhost:8080/"
        },
        "id": "-RbZFtkU3EVW",
        "outputId": "81f54c77-65ae-40ba-f577-36c56ec7664f"
      },
      "execution_count": null,
      "outputs": [
        {
          "output_type": "stream",
          "name": "stdout",
          "text": [
            "3\n"
          ]
        }
      ]
    },
    {
      "cell_type": "code",
      "source": [
        "#Condition if non vérifié\n",
        "x = 3\n",
        "if x >5 :\n",
        "  print(x)"
      ],
      "metadata": {
        "id": "HINXtVfF7ge0"
      },
      "execution_count": null,
      "outputs": []
    },
    {
      "cell_type": "markdown",
      "source": [
        "**La clause Else**"
      ],
      "metadata": {
        "id": "RpMVlMXg8y-S"
      }
    },
    {
      "cell_type": "code",
      "source": [
        "x =3\n",
        "if x >5:\n",
        "  print('x >5')\n",
        "else :\n",
        "  print('False')"
      ],
      "metadata": {
        "colab": {
          "base_uri": "https://localhost:8080/"
        },
        "id": "kR9s1ufD7pJu",
        "outputId": "6aa867e2-cf87-4c34-804c-9d1021cb9583"
      },
      "execution_count": null,
      "outputs": [
        {
          "output_type": "stream",
          "name": "stdout",
          "text": [
            "False\n"
          ]
        }
      ]
    },
    {
      "cell_type": "markdown",
      "source": [
        "**La clause Elif**"
      ],
      "metadata": {
        "id": "pDcZRNms9f8C"
      }
    },
    {
      "cell_type": "code",
      "source": [
        "Age = 40\n",
        "if Age > 20:\n",
        "  print(\"Age > 20\")\n",
        "elif Age == 10:\n",
        "  print(\"Age = 20\")\n",
        "else :\n",
        "  print(\"False\")\n"
      ],
      "metadata": {
        "colab": {
          "base_uri": "https://localhost:8080/"
        },
        "id": "4VbCfm4c9c3t",
        "outputId": "8d268629-0b74-49a2-8994-c285f46f5e81"
      },
      "execution_count": null,
      "outputs": [
        {
          "output_type": "stream",
          "name": "stdout",
          "text": [
            "Age > 20\n"
          ]
        }
      ]
    },
    {
      "cell_type": "markdown",
      "source": [
        "**1.6. La fonction Range()**"
      ],
      "metadata": {
        "id": "lln6L32G3kAL"
      }
    },
    {
      "cell_type": "code",
      "source": [
        "# Générer une suite de nombre commençant\n",
        "# par 0 et se termine à 3\n",
        "# stockée dans une liste\n",
        "list(range(0,4))"
      ],
      "metadata": {
        "colab": {
          "base_uri": "https://localhost:8080/"
        },
        "id": "1Q7NZz0v-FxT",
        "outputId": "006d3b36-badd-4937-b88d-c5ed13c1e214"
      },
      "execution_count": null,
      "outputs": [
        {
          "output_type": "execute_result",
          "data": {
            "text/plain": [
              "[0, 1, 2, 3]"
            ]
          },
          "metadata": {},
          "execution_count": 3
        }
      ]
    },
    {
      "cell_type": "code",
      "source": [
        "# Générer une suite de nombre commençant\n",
        "# par 0 et se termine à 3\n",
        "# stockée dans une liste\n",
        "tuple(range(0,4))"
      ],
      "metadata": {
        "id": "vLP-O4fs4-_C",
        "outputId": "4bae5506-f290-473e-8ebb-c15bce3a82d9",
        "colab": {
          "base_uri": "https://localhost:8080/"
        }
      },
      "execution_count": null,
      "outputs": [
        {
          "output_type": "execute_result",
          "data": {
            "text/plain": [
              "(0, 1, 2, 3)"
            ]
          },
          "metadata": {},
          "execution_count": 7
        }
      ]
    },
    {
      "cell_type": "code",
      "source": [
        "# Générer une suite de nombre commençant\n",
        "# par 1 et se tremine à 10 incrémentée par 2\n",
        "# retourner dans un tuple\n",
        "tuple(range(0,11,2))"
      ],
      "metadata": {
        "colab": {
          "base_uri": "https://localhost:8080/"
        },
        "id": "EFgHAyM53rni",
        "outputId": "993c9de1-39f2-4c6c-bde5-4fdc49c72736"
      },
      "execution_count": null,
      "outputs": [
        {
          "output_type": "execute_result",
          "data": {
            "text/plain": [
              "(0, 2, 4, 6, 8, 10)"
            ]
          },
          "metadata": {},
          "execution_count": 6
        }
      ]
    },
    {
      "cell_type": "markdown",
      "source": [
        "**1.7. Les boucles : While**"
      ],
      "metadata": {
        "id": "NtRZSvyb54Od"
      }
    },
    {
      "cell_type": "code",
      "source": [
        "#Attention les boucles infinies !\n",
        "i = 1\n",
        "while i < 6:\n",
        "  print(\"!\")"
      ],
      "metadata": {
        "id": "Hl6L7sXt4uWi"
      },
      "execution_count": null,
      "outputs": []
    },
    {
      "cell_type": "code",
      "source": [
        "# Pour éviter les boucles infinies\n",
        "# il faut ajouter un\n",
        "i = 1\n",
        "while i < 6:\n",
        "  print(i)\n",
        "  i += 1"
      ],
      "metadata": {
        "colab": {
          "base_uri": "https://localhost:8080/"
        },
        "id": "HXbtfnWA7nuf",
        "outputId": "90c7fc25-3632-46c1-888d-9793bc923d61"
      },
      "execution_count": null,
      "outputs": [
        {
          "output_type": "stream",
          "name": "stdout",
          "text": [
            "1\n",
            "2\n",
            "3\n",
            "4\n",
            "5\n"
          ]
        }
      ]
    },
    {
      "cell_type": "code",
      "source": [
        "# Utiliser else avec while\n",
        "c = 0\n",
        "while c<3:\n",
        "  print(\"à l'intérieur\")\n",
        "  c = c+1\n",
        "else:\n",
        "  print(\"à l'extérieur\")\n"
      ],
      "metadata": {
        "colab": {
          "base_uri": "https://localhost:8080/"
        },
        "id": "CofbHx8n8YZG",
        "outputId": "45849002-c747-4e62-a1d1-1d4e422bd5b0"
      },
      "execution_count": null,
      "outputs": [
        {
          "output_type": "stream",
          "name": "stdout",
          "text": [
            "à l'intérieur\n",
            "à l'intérieur\n",
            "à l'intérieur\n",
            "à l'extérieur\n"
          ]
        }
      ]
    },
    {
      "cell_type": "markdown",
      "source": [
        "**1.9. Les fonctions**"
      ],
      "metadata": {
        "id": "SNun_72WAuxz"
      }
    },
    {
      "cell_type": "code",
      "source": [
        "#Déclaration d'une fonction\n",
        "def ma_fonction():\n",
        "  print('Hello')"
      ],
      "metadata": {
        "id": "-OAfPdyO9EdA"
      },
      "execution_count": null,
      "outputs": []
    },
    {
      "cell_type": "code",
      "source": [
        "ma_fonction()"
      ],
      "metadata": {
        "colab": {
          "base_uri": "https://localhost:8080/"
        },
        "id": "cBh9hCczBhcN",
        "outputId": "8d7f2707-f090-4465-cc8c-7fb3968ec942"
      },
      "execution_count": null,
      "outputs": [
        {
          "output_type": "stream",
          "name": "stdout",
          "text": [
            "Hello\n"
          ]
        }
      ]
    },
    {
      "cell_type": "code",
      "source": [
        "#Déclaration d'une fonction avec paramètres\n",
        "def somme(a,b):\n",
        "  return print('la somme est de : ',a+b)\n",
        "somme(a=1,b=2)\n",
        "\n",
        "#On peut inverser l'ordre\n",
        "somme(b=2,a=1)\n",
        "\n",
        "#On peut mettre la valeur directement\n",
        "#sans le nom des paramètres"
      ],
      "metadata": {
        "colab": {
          "base_uri": "https://localhost:8080/"
        },
        "id": "YyolFUM-BoUg",
        "outputId": "32a9c3c5-653e-485f-91fc-59e98c007192"
      },
      "execution_count": null,
      "outputs": [
        {
          "output_type": "stream",
          "name": "stdout",
          "text": [
            "la somme est de :  3\n",
            "la somme est de :  3\n"
          ]
        }
      ]
    },
    {
      "cell_type": "markdown",
      "source": [
        "**Fonction à paramètres par défaut**"
      ],
      "metadata": {
        "id": "1FQ_6v0RFPOm"
      }
    },
    {
      "cell_type": "code",
      "source": [
        "def my_function(country=\"Tunisia\"):\n",
        "  print(\"I am from \"+country)\n",
        "\n",
        "my_function(\"Maroc\")\n",
        "\n",
        "my_function(\"Algeria\")\n",
        "\n",
        "my_function()"
      ],
      "metadata": {
        "colab": {
          "base_uri": "https://localhost:8080/"
        },
        "id": "zQy-0ZEtB-OK",
        "outputId": "0dfb034d-974a-48d5-f2b4-9d16f6146c0c"
      },
      "execution_count": null,
      "outputs": [
        {
          "output_type": "stream",
          "name": "stdout",
          "text": [
            "I am from Maroc\n",
            "I am from Algeria\n",
            "I am from Tunisia\n"
          ]
        }
      ]
    },
    {
      "cell_type": "markdown",
      "source": [
        "**1.9.3. la fonction lamda**"
      ],
      "metadata": {
        "id": "ujtHDOcEXeOq"
      }
    },
    {
      "cell_type": "code",
      "source": [
        " # Créer une fonction qui fait\n",
        " # la somme\n",
        " sum = lambda a,b,c : a+b+c\n",
        " print(sum(2,4,3))"
      ],
      "metadata": {
        "id": "trMHAV-FFObQ",
        "colab": {
          "base_uri": "https://localhost:8080/"
        },
        "outputId": "d320f239-681a-42c0-c916-934cff15e493"
      },
      "execution_count": null,
      "outputs": [
        {
          "output_type": "stream",
          "name": "stdout",
          "text": [
            "9\n"
          ]
        }
      ]
    },
    {
      "cell_type": "code",
      "source": [
        "# Créer une fonction qui retourne\n",
        "# selement les quatres premiers\n",
        "# caractères d'une chaine de\n",
        "# caractère\n",
        "year = lambda ch : ch[:4]\n",
        "ch = \"20200310\"\n",
        "print(year(ch))"
      ],
      "metadata": {
        "colab": {
          "base_uri": "https://localhost:8080/"
        },
        "id": "eXSo9_uEXtJE",
        "outputId": "41a08029-5ce4-4853-8935-645be7e44f21"
      },
      "execution_count": null,
      "outputs": [
        {
          "output_type": "stream",
          "name": "stdout",
          "text": [
            "2020\n"
          ]
        }
      ]
    },
    {
      "cell_type": "markdown",
      "source": [
        "**1.10. La fonction map**"
      ],
      "metadata": {
        "id": "Z7WYb083a2FD"
      }
    },
    {
      "cell_type": "code",
      "source": [
        "#Exemple 01 : Map avec lambda\n",
        "l = [0,1,2,3]\n",
        "print(list(map(lambda x :x+1, l)))"
      ],
      "metadata": {
        "colab": {
          "base_uri": "https://localhost:8080/"
        },
        "id": "H3MOzVjIcH6r",
        "outputId": "646c23ca-4f84-463e-aeaa-af9c7a42c7de"
      },
      "execution_count": null,
      "outputs": [
        {
          "output_type": "stream",
          "name": "stdout",
          "text": [
            "[1, 2, 3, 4]\n"
          ]
        }
      ]
    },
    {
      "cell_type": "code",
      "source": [
        "#Exemple 02 : Map avec lambda\n",
        "# et deux itérables\n",
        "t1 = (1,2,3)\n",
        "t2 =(3,2,1)\n",
        "result= list (map(lambda x,y : x+y, t1, t2))\n",
        "result"
      ],
      "metadata": {
        "colab": {
          "base_uri": "https://localhost:8080/"
        },
        "id": "SPyA1j9pYL6Q",
        "outputId": "b21955e7-cfb4-4510-c872-81f9ce42851f"
      },
      "execution_count": null,
      "outputs": [
        {
          "output_type": "execute_result",
          "data": {
            "text/plain": [
              "[4, 4, 4]"
            ]
          },
          "metadata": {},
          "execution_count": 12
        }
      ]
    },
    {
      "cell_type": "code",
      "source": [
        "#Exemple 03 : Map avec fonction\n",
        "def myfunc(a, b):\n",
        "  return a + b\n",
        "result= list(map(myfunc, (1, 2, 3), (3, 2, 1)))\n",
        "result"
      ],
      "metadata": {
        "colab": {
          "base_uri": "https://localhost:8080/"
        },
        "id": "H9tFl8HAiCgp",
        "outputId": "fe42e6a9-c2ca-46b0-f9c1-04397a4ca3a2"
      },
      "execution_count": null,
      "outputs": [
        {
          "output_type": "execute_result",
          "data": {
            "text/plain": [
              "[4, 4, 4]"
            ]
          },
          "metadata": {},
          "execution_count": 13
        }
      ]
    },
    {
      "cell_type": "markdown",
      "source": [
        "**1.11. Numpy**"
      ],
      "metadata": {
        "id": "xV-s3kxzz1a9"
      }
    },
    {
      "cell_type": "code",
      "source": [
        "# Importation de la bibliothèque\n",
        "# Renommer la bibliothèque\n",
        "import numpy as np\n",
        "\n",
        "#Exemple01 : Création de tableaux\n",
        "\n",
        "t1 = np.array([1,2])\n",
        "t1"
      ],
      "metadata": {
        "id": "alT9Q5WIiKS5",
        "colab": {
          "base_uri": "https://localhost:8080/"
        },
        "outputId": "d7e737c1-4101-452d-cf0f-e6f9e8e72d26"
      },
      "execution_count": null,
      "outputs": [
        {
          "output_type": "execute_result",
          "data": {
            "text/plain": [
              "array([1, 2])"
            ]
          },
          "metadata": {},
          "execution_count": 12
        }
      ]
    },
    {
      "cell_type": "code",
      "source": [
        "#Exemple02 : Création de tableaux\n",
        "\n",
        "t2 = np.array([[1,2],[3,4]])\n",
        "t2"
      ],
      "metadata": {
        "colab": {
          "base_uri": "https://localhost:8080/"
        },
        "id": "PmVc8aAm0GVh",
        "outputId": "979ab274-8e82-4a77-a056-7d31acf263ac"
      },
      "execution_count": null,
      "outputs": [
        {
          "output_type": "execute_result",
          "data": {
            "text/plain": [
              "array([[1, 2],\n",
              "       [3, 4]])"
            ]
          },
          "metadata": {},
          "execution_count": 13
        }
      ]
    },
    {
      "cell_type": "code",
      "source": [
        "#Exemple02 : Création de tableaux\n",
        "\n",
        "t3 = np.array([[[1,2],[3,4]],[[5,6],[7,8]]])\n",
        "t3"
      ],
      "metadata": {
        "colab": {
          "base_uri": "https://localhost:8080/"
        },
        "id": "e88vo5re0KL2",
        "outputId": "fe044a7d-6add-474e-b744-cf27b444f151"
      },
      "execution_count": null,
      "outputs": [
        {
          "output_type": "execute_result",
          "data": {
            "text/plain": [
              "array([[[1, 2],\n",
              "        [3, 4]],\n",
              "\n",
              "       [[5, 6],\n",
              "        [7, 8]]])"
            ]
          },
          "metadata": {},
          "execution_count": 14
        }
      ]
    },
    {
      "cell_type": "markdown",
      "source": [
        "**1.11.4.**"
      ],
      "metadata": {
        "id": "Iiam9hKZ2oM9"
      }
    },
    {
      "cell_type": "code",
      "source": [
        "# Création d'un tableau\n",
        "\n",
        "t = np.array([1,2])"
      ],
      "metadata": {
        "id": "4jAVr6H00qxe"
      },
      "execution_count": null,
      "outputs": []
    },
    {
      "cell_type": "code",
      "source": [
        "# Voir la forme\n",
        "\n",
        "t.shape"
      ],
      "metadata": {
        "colab": {
          "base_uri": "https://localhost:8080/"
        },
        "id": "2IXHbSHB3dK8",
        "outputId": "39d1329b-4890-421b-983c-a23b71993f54"
      },
      "execution_count": null,
      "outputs": [
        {
          "output_type": "execute_result",
          "data": {
            "text/plain": [
              "(2,)"
            ]
          },
          "metadata": {},
          "execution_count": 17
        }
      ]
    },
    {
      "cell_type": "code",
      "source": [
        "# Voir le type du tableau\n",
        "\n",
        "type(t)"
      ],
      "metadata": {
        "colab": {
          "base_uri": "https://localhost:8080/"
        },
        "id": "dmMD-lho3iWX",
        "outputId": "1242b4aa-1bf1-448a-9b4d-4ada9f1381ef"
      },
      "execution_count": null,
      "outputs": [
        {
          "output_type": "execute_result",
          "data": {
            "text/plain": [
              "numpy.ndarray"
            ]
          },
          "metadata": {},
          "execution_count": 18
        }
      ]
    },
    {
      "cell_type": "code",
      "source": [
        "# Voir le tableau\n",
        "\n",
        "print(t)"
      ],
      "metadata": {
        "colab": {
          "base_uri": "https://localhost:8080/"
        },
        "id": "53XqxCyD3kHs",
        "outputId": "82ae749e-c5db-4cbe-9e94-abe5fe418986"
      },
      "execution_count": null,
      "outputs": [
        {
          "output_type": "stream",
          "name": "stdout",
          "text": [
            "[1 2]\n"
          ]
        }
      ]
    },
    {
      "cell_type": "markdown",
      "source": [
        "**1.11.5. Les tableaux, nombres aléatoires**"
      ],
      "metadata": {
        "id": "J8QQsHF-5eB5"
      }
    },
    {
      "cell_type": "code",
      "source": [
        "# Retourner une seule valeur aléatoire\n",
        "# en utilisant random de numpy\n",
        "\n",
        "v = np.random.random()\n",
        "v"
      ],
      "metadata": {
        "colab": {
          "base_uri": "https://localhost:8080/"
        },
        "id": "63_EpHHH6fiR",
        "outputId": "004e4064-1ac5-4e74-a39c-084e251f8a8b"
      },
      "execution_count": null,
      "outputs": [
        {
          "output_type": "execute_result",
          "data": {
            "text/plain": [
              "0.9518593157121858"
            ]
          },
          "metadata": {},
          "execution_count": 23
        }
      ]
    },
    {
      "cell_type": "code",
      "source": [
        "# Création d'un tableaux d'une ligne\n",
        "# et deux colonne à valeurs aléatoires\n",
        "# entre 0 et 1\n",
        "\n",
        "t = np.random.random((1,2))\n",
        "t"
      ],
      "metadata": {
        "colab": {
          "base_uri": "https://localhost:8080/"
        },
        "id": "i660xOCy3-3-",
        "outputId": "7891dc1d-c8d8-4359-a323-0bd976d0c928"
      },
      "execution_count": null,
      "outputs": [
        {
          "output_type": "execute_result",
          "data": {
            "text/plain": [
              "array([[0.17239853, 0.8060456 ]])"
            ]
          },
          "metadata": {},
          "execution_count": 24
        }
      ]
    },
    {
      "cell_type": "markdown",
      "source": [
        "**1.11.6. La fonction randint de numpy**"
      ],
      "metadata": {
        "id": "WWKQSBU7-Zs9"
      }
    },
    {
      "cell_type": "code",
      "source": [
        "# Retourner une valeur aléatoire\n",
        "# entre 1 et 2\n",
        "t = np.random.randint(1,3)\n",
        "t"
      ],
      "metadata": {
        "colab": {
          "base_uri": "https://localhost:8080/"
        },
        "id": "aUK9Q1nF_O5i",
        "outputId": "82e9b552-d222-4547-edba-d64523939f16"
      },
      "execution_count": null,
      "outputs": [
        {
          "output_type": "execute_result",
          "data": {
            "text/plain": [
              "1"
            ]
          },
          "metadata": {},
          "execution_count": 31
        }
      ]
    },
    {
      "cell_type": "code",
      "source": [
        "# Créer un tableau avec des\n",
        "# valeurs entiers aléatoires\n",
        "\n",
        "t = np.random.randint(1,8,(5,3))\n",
        "t"
      ],
      "metadata": {
        "colab": {
          "base_uri": "https://localhost:8080/"
        },
        "id": "trBTE7Vb_VyU",
        "outputId": "79d76c6f-da8d-42f8-b6cd-797413dd284e"
      },
      "execution_count": null,
      "outputs": [
        {
          "output_type": "execute_result",
          "data": {
            "text/plain": [
              "array([[1, 6, 4],\n",
              "       [4, 2, 6],\n",
              "       [1, 2, 4],\n",
              "       [1, 2, 1],\n",
              "       [7, 7, 5]])"
            ]
          },
          "metadata": {},
          "execution_count": 34
        }
      ]
    },
    {
      "cell_type": "markdown",
      "source": [
        "**1.11.7. Les fonctions zero et full**"
      ],
      "metadata": {
        "id": "HHoABO7HC0G6"
      }
    },
    {
      "cell_type": "code",
      "source": [
        "# Créer un tableau d'une\n",
        "# dimension (3,3) remplie de zero\n",
        "\n",
        "t = np.zeros((3,3))\n",
        "print(t)"
      ],
      "metadata": {
        "colab": {
          "base_uri": "https://localhost:8080/"
        },
        "id": "FxMVK4yZAdPH",
        "outputId": "f65240fe-cb31-451a-a7b2-55951913c720"
      },
      "execution_count": null,
      "outputs": [
        {
          "output_type": "stream",
          "name": "stdout",
          "text": [
            "[[0. 0. 0.]\n",
            " [0. 0. 0.]\n",
            " [0. 0. 0.]]\n"
          ]
        }
      ]
    },
    {
      "cell_type": "code",
      "source": [
        "# Créer un tableau d'une\n",
        "# dimension (3,3) remplie de 3\n",
        "\n",
        "t = np.full((3,3),1)\n",
        "print(t)"
      ],
      "metadata": {
        "colab": {
          "base_uri": "https://localhost:8080/"
        },
        "id": "MVgpX1-xDUmw",
        "outputId": "e9f77fa5-00b8-4fd5-a189-3ee43920d3b9"
      },
      "execution_count": null,
      "outputs": [
        {
          "output_type": "stream",
          "name": "stdout",
          "text": [
            "[[1 1 1]\n",
            " [1 1 1]\n",
            " [1 1 1]]\n"
          ]
        }
      ]
    },
    {
      "cell_type": "markdown",
      "source": [
        "**1.11.8. La fonction eye et ones**"
      ],
      "metadata": {
        "id": "6LhbSxPOD_Bu"
      }
    },
    {
      "cell_type": "code",
      "source": [
        "# Créer une matruce diagonale\n",
        "# d'une dimension (5,5)\n",
        "\n",
        "t = np.eye(5,5)\n",
        "print(t)"
      ],
      "metadata": {
        "colab": {
          "base_uri": "https://localhost:8080/"
        },
        "id": "JU3C1CwWDdwb",
        "outputId": "24654bdb-dc01-4ee4-8646-6a8f831c28f5"
      },
      "execution_count": null,
      "outputs": [
        {
          "output_type": "stream",
          "name": "stdout",
          "text": [
            "[[1. 0. 0. 0. 0.]\n",
            " [0. 1. 0. 0. 0.]\n",
            " [0. 0. 1. 0. 0.]\n",
            " [0. 0. 0. 1. 0.]\n",
            " [0. 0. 0. 0. 1.]]\n"
          ]
        }
      ]
    },
    {
      "cell_type": "code",
      "source": [
        "# Créer un tableau d'une\n",
        "# dimension (5,5) remplie de 1\n",
        "\n",
        "t = np.ones((3,2))\n",
        "print(t)"
      ],
      "metadata": {
        "colab": {
          "base_uri": "https://localhost:8080/"
        },
        "id": "g0shJTJ1EJlD",
        "outputId": "23546048-a09b-45c8-c2fa-8ffcd501a0fa"
      },
      "execution_count": null,
      "outputs": [
        {
          "output_type": "stream",
          "name": "stdout",
          "text": [
            "[[1. 1.]\n",
            " [1. 1.]\n",
            " [1. 1.]]\n"
          ]
        }
      ]
    },
    {
      "cell_type": "markdown",
      "source": [
        "**1.11.9. l'addition et la soustraction**"
      ],
      "metadata": {
        "id": "oyaCHUYfeZc_"
      }
    },
    {
      "cell_type": "code",
      "source": [
        "import numpy as np\n",
        "\n",
        "# Créer un tableaux x\n",
        "x = np.array([[1,2],[3,4]])\n",
        "print(x)\n",
        "\n",
        "# Créer un tableaux y\n",
        "y = np.array([[5,6],[7,8]])\n",
        "print(y)\n",
        "\n"
      ],
      "metadata": {
        "colab": {
          "base_uri": "https://localhost:8080/"
        },
        "id": "-CAvbDI2EVdB",
        "outputId": "44cecfe2-4cac-4e9f-dec7-f0c49120c6c0"
      },
      "execution_count": null,
      "outputs": [
        {
          "output_type": "stream",
          "name": "stdout",
          "text": [
            "[[1 2]\n",
            " [3 4]]\n",
            "[[5 6]\n",
            " [7 8]]\n"
          ]
        }
      ]
    },
    {
      "cell_type": "markdown",
      "source": [
        "**L'addition**"
      ],
      "metadata": {
        "id": "-R2hbdh6etKG"
      }
    },
    {
      "cell_type": "code",
      "source": [
        "# Méthode une\n",
        "A = np.add(x,y)\n",
        "A"
      ],
      "metadata": {
        "colab": {
          "base_uri": "https://localhost:8080/"
        },
        "id": "IjtBFWEtesiy",
        "outputId": "4d7255dc-b762-483b-c2cb-fd1816932df2"
      },
      "execution_count": null,
      "outputs": [
        {
          "output_type": "execute_result",
          "data": {
            "text/plain": [
              "array([[ 6,  8],\n",
              "       [10, 12]])"
            ]
          },
          "metadata": {},
          "execution_count": 2
        }
      ]
    },
    {
      "cell_type": "code",
      "source": [
        "# Méthode deux\n",
        "\n",
        "B = x + y\n",
        "B"
      ],
      "metadata": {
        "colab": {
          "base_uri": "https://localhost:8080/"
        },
        "id": "efuYgBKKe1Rs",
        "outputId": "5de153f6-78dc-41aa-cad9-82ca2b1ca9fd"
      },
      "execution_count": null,
      "outputs": [
        {
          "output_type": "execute_result",
          "data": {
            "text/plain": [
              "array([[ 6,  8],\n",
              "       [10, 12]])"
            ]
          },
          "metadata": {},
          "execution_count": 3
        }
      ]
    },
    {
      "cell_type": "markdown",
      "source": [
        "**La soustraction**"
      ],
      "metadata": {
        "id": "uL4hWw5Cgh7P"
      }
    },
    {
      "cell_type": "code",
      "source": [
        "import numpy as np\n",
        "\n",
        "# Créer un tableaux x\n",
        "x = np.array([[1,2],[3,4]])\n",
        "print(x)\n",
        "\n",
        "# Créer un tableaux y\n",
        "y = np.array([[5,6],[7,8]])\n",
        "print(y)"
      ],
      "metadata": {
        "colab": {
          "base_uri": "https://localhost:8080/"
        },
        "id": "uwGvooyre_H7",
        "outputId": "519f89fa-09b5-4221-dbd2-384f98814e48"
      },
      "execution_count": null,
      "outputs": [
        {
          "output_type": "stream",
          "name": "stdout",
          "text": [
            "[[1 2]\n",
            " [3 4]]\n",
            "[[5 6]\n",
            " [7 8]]\n"
          ]
        }
      ]
    },
    {
      "cell_type": "code",
      "source": [
        "# Méthode une\n",
        "A = np.subtract(x,y)\n",
        "A"
      ],
      "metadata": {
        "colab": {
          "base_uri": "https://localhost:8080/"
        },
        "id": "xJRv57mpglQC",
        "outputId": "b049f37f-4c08-4369-d90c-fb9cf5863b43"
      },
      "execution_count": null,
      "outputs": [
        {
          "output_type": "execute_result",
          "data": {
            "text/plain": [
              "array([[-4, -4],\n",
              "       [-4, -4]])"
            ]
          },
          "metadata": {},
          "execution_count": 5
        }
      ]
    },
    {
      "cell_type": "code",
      "source": [
        "# Méthode deux\n",
        "\n",
        "B = x - y\n",
        "B"
      ],
      "metadata": {
        "colab": {
          "base_uri": "https://localhost:8080/"
        },
        "id": "92dqNx0oguTm",
        "outputId": "e596a449-0f9b-484c-f1ff-a928b4fe9953"
      },
      "execution_count": null,
      "outputs": [
        {
          "output_type": "execute_result",
          "data": {
            "text/plain": [
              "array([[-4, -4],\n",
              "       [-4, -4]])"
            ]
          },
          "metadata": {},
          "execution_count": 6
        }
      ]
    },
    {
      "cell_type": "markdown",
      "source": [
        "**1.11.11. L'indexation**"
      ],
      "metadata": {
        "id": "JBMPhO0VhqDf"
      }
    },
    {
      "cell_type": "code",
      "source": [
        "import numpy as np\n",
        "\n",
        "# Créer un tableau Numpy\n",
        "a = np.array([[1,2], [3, 4], [5, 6]])\n",
        "\n",
        "# Créer une condition\n",
        "bool_idx = (a > 2)\n",
        "\n",
        "# Ce que retourne la condition\n",
        "print(bool_idx)\n",
        "\n",
        "# Méthode 01 : retourner les valeurs\n",
        "# qui vérifient la condition\n",
        "print(a[a > 2])\n",
        "\n",
        "# Méthode 01 : retourner les valeurs\n",
        "# qui vérifient la condition\n",
        "print(a[bool_idx])\n"
      ],
      "metadata": {
        "colab": {
          "base_uri": "https://localhost:8080/"
        },
        "id": "obp3Za_1gwAO",
        "outputId": "1f84db8c-1f54-4027-89ba-429e3ff5ad38"
      },
      "execution_count": null,
      "outputs": [
        {
          "output_type": "stream",
          "name": "stdout",
          "text": [
            "[[False False]\n",
            " [ True  True]\n",
            " [ True  True]]\n",
            "[3 4 5 6]\n",
            "[3 4 5 6]\n"
          ]
        }
      ]
    },
    {
      "cell_type": "markdown",
      "source": [
        "**1.12.4. Déclaration des Series**"
      ],
      "metadata": {
        "id": "oWoGOJKkyJ8D"
      }
    },
    {
      "cell_type": "code",
      "source": [
        "import pandas as pd\n",
        "\n",
        "#Déclaration d'une série\n",
        "#d'entiers\n",
        "S = pd.Series([1,2,3])\n",
        "S"
      ],
      "metadata": {
        "colab": {
          "base_uri": "https://localhost:8080/"
        },
        "id": "GC25V5NaibSE",
        "outputId": "6c270513-6cdc-40eb-d319-933fb9acf7cf"
      },
      "execution_count": null,
      "outputs": [
        {
          "output_type": "execute_result",
          "data": {
            "text/plain": [
              "0    1\n",
              "1    2\n",
              "2    3\n",
              "dtype: int64"
            ]
          },
          "metadata": {},
          "execution_count": 1
        }
      ]
    },
    {
      "cell_type": "code",
      "source": [
        "#Déclaration d'une série\n",
        "#de chaine de caractère\n",
        "S = pd.Series(['a','b','c'])\n",
        "S"
      ],
      "metadata": {
        "colab": {
          "base_uri": "https://localhost:8080/"
        },
        "id": "a6iNAw8dzvPD",
        "outputId": "be8c98c1-c932-4099-a7df-89cd55e78a53"
      },
      "execution_count": null,
      "outputs": [
        {
          "output_type": "execute_result",
          "data": {
            "text/plain": [
              "0    a\n",
              "1    b\n",
              "2    c\n",
              "dtype: object"
            ]
          },
          "metadata": {},
          "execution_count": 2
        }
      ]
    },
    {
      "cell_type": "markdown",
      "source": [
        "**1.12.5. Changer les indices**"
      ],
      "metadata": {
        "id": "Iy7S_m1_13tW"
      }
    },
    {
      "cell_type": "code",
      "source": [
        "#Créer une series avec des indices\n",
        "#personnalisés\n",
        "\n",
        "#Les indices\n",
        "fruits = ['apples', 'oranges',\n",
        "          'cherries','pears']\n",
        "\n",
        "#Les valeurs\n",
        "quantities = [20, 33, 52, 10]\n",
        "\n",
        "#Création d'une série\n",
        "S = pd.Series(quantities, index=fruits)\n",
        "\n",
        "print(S)\n"
      ],
      "metadata": {
        "colab": {
          "base_uri": "https://localhost:8080/"
        },
        "id": "rlo1-PEg0TaW",
        "outputId": "aa08b774-9bc4-412b-e7af-7751bea6f742"
      },
      "execution_count": null,
      "outputs": [
        {
          "output_type": "stream",
          "name": "stdout",
          "text": [
            "apples      20\n",
            "oranges     33\n",
            "cherries    52\n",
            "pears       10\n",
            "dtype: int64\n"
          ]
        }
      ]
    },
    {
      "cell_type": "markdown",
      "source": [
        "**1.12.6. Les opérations sur les series**\n",
        "\n",
        "**1.12.6.1. Addition des Series**"
      ],
      "metadata": {
        "id": "Jzo6gvIo4H2x"
      }
    },
    {
      "cell_type": "code",
      "source": [
        "import pandas as pd\n",
        "\n",
        "# Création des séries\n",
        "serie1 = pd.Series([1, 2, 3, 4],\n",
        "       index=['a', 'b', 'c', 'd'])\n",
        "\n",
        "serie2 = pd.Series([10, 20, 30, 40],\n",
        "      index=['a', 'b', 'c', 'd'])\n",
        "\n",
        "# Addition des séries\n",
        "resultat = serie1 + serie2\n",
        "\n",
        "# Affichage du résultat\n",
        "print(resultat)\n"
      ],
      "metadata": {
        "colab": {
          "base_uri": "https://localhost:8080/"
        },
        "id": "L1VWXoIR2bdg",
        "outputId": "5f6d6d58-35b6-45ae-cc64-e5ef9ebad312"
      },
      "execution_count": null,
      "outputs": [
        {
          "output_type": "stream",
          "name": "stdout",
          "text": [
            "a    11\n",
            "b    22\n",
            "c    33\n",
            "d    44\n",
            "dtype: int64\n"
          ]
        }
      ]
    },
    {
      "cell_type": "markdown",
      "source": [
        "**1.12.6.2.Soustraction des series**\n",
        "\n",
        "\n",
        "\n"
      ],
      "metadata": {
        "id": "guroQiAD5Okp"
      }
    },
    {
      "cell_type": "code",
      "source": [
        "import pandas as pd\n",
        "\n",
        "serie1 = pd.Series([1, 2, 3, 4],\n",
        "         index=['a', 'b', 'c', 'd'])\n",
        "\n",
        "serie2 = pd.Series([10, 20, 30, 40],\n",
        "         index=['a', 'b', 'c', 'd'])\n",
        "\n",
        "resultat = serie1 - serie2\n",
        "print(resultat)"
      ],
      "metadata": {
        "colab": {
          "base_uri": "https://localhost:8080/"
        },
        "id": "S4ZTBlsG5NzW",
        "outputId": "e9609d13-600a-490e-e004-79781928f814"
      },
      "execution_count": null,
      "outputs": [
        {
          "output_type": "stream",
          "name": "stdout",
          "text": [
            "a    -9\n",
            "b   -18\n",
            "c   -27\n",
            "d   -36\n",
            "dtype: int64\n"
          ]
        }
      ]
    },
    {
      "cell_type": "markdown",
      "source": [
        "**1.12.6.3.Division**\n"
      ],
      "metadata": {
        "id": "oDY2LXuP5zOe"
      }
    },
    {
      "cell_type": "code",
      "source": [
        "import pandas as pd\n",
        "\n",
        "serie1 = pd.Series([1, 2, 3, 4],\n",
        "         index=['a', 'b', 'c', 'd'])\n",
        "\n",
        "serie2 = pd.Series([10, 20, 30, 40],\n",
        "         index=['a', 'b', 'c', 'd'])\n",
        "\n",
        "resultat = serie1 / serie2\n",
        "print(resultat)"
      ],
      "metadata": {
        "colab": {
          "base_uri": "https://localhost:8080/"
        },
        "id": "zz5UHzB64R3r",
        "outputId": "10a370fb-29af-4c92-9bfd-7c7de53ddf5f"
      },
      "execution_count": null,
      "outputs": [
        {
          "output_type": "stream",
          "name": "stdout",
          "text": [
            "a    0.1\n",
            "b    0.1\n",
            "c    0.1\n",
            "d    0.1\n",
            "dtype: float64\n"
          ]
        }
      ]
    },
    {
      "cell_type": "markdown",
      "source": [
        "**1.12.6.4.Puissance**\n"
      ],
      "metadata": {
        "id": "GgNbs9j76UrQ"
      }
    },
    {
      "cell_type": "code",
      "source": [
        "import pandas as pd\n",
        "\n",
        "serie1 = pd.Series([1, 2, 3, 4],\n",
        "              index=['a', 'b', 'c', 'd'])\n",
        "\n",
        "serie2 = pd.Series([10, 20, 30, 40],\n",
        "              index=['a', 'b', 'c', 'd'])\n",
        "\n",
        "resultat = serie1 ** serie2\n",
        "print(resultat)\n"
      ],
      "metadata": {
        "colab": {
          "base_uri": "https://localhost:8080/"
        },
        "id": "UoXwosIy6BCV",
        "outputId": "b468d04a-1f2c-4449-8062-60b7b26f2bd0"
      },
      "execution_count": null,
      "outputs": [
        {
          "output_type": "stream",
          "name": "stdout",
          "text": [
            "a                  1\n",
            "b            1048576\n",
            "c    205891132094649\n",
            "d                  0\n",
            "dtype: int64\n"
          ]
        }
      ]
    },
    {
      "cell_type": "markdown",
      "source": [
        "**1.12.7.2. La création de Dataframe**\n",
        "\n",
        "**1.12.7.2.1. à partir d’un tableau Numpy**"
      ],
      "metadata": {
        "id": "OnsGEKIkCpn_"
      }
    },
    {
      "cell_type": "code",
      "source": [
        "import numpy as np\n",
        "import pandas as pd\n",
        "\n",
        "# création d'un tableau numpy\n",
        "array = np.array([[1, 2, 3],\n",
        "        [4, 5, 6]])\n",
        "\n",
        "# création d'un DataFrame à\n",
        "# partir d'un tableau numpy\n",
        "\n",
        "df = pd.DataFrame(array,\n",
        "     columns=['col1', 'col2', 'col3'])\n",
        "\n",
        "# affichage du DataFrame\n",
        "print(df)"
      ],
      "metadata": {
        "colab": {
          "base_uri": "https://localhost:8080/"
        },
        "id": "d9ADtJKK6lKL",
        "outputId": "7976bf85-daa7-4796-e753-6bb66674f80f"
      },
      "execution_count": null,
      "outputs": [
        {
          "output_type": "stream",
          "name": "stdout",
          "text": [
            "   col1  col2  col3\n",
            "0     1     2     3\n",
            "1     4     5     6\n"
          ]
        }
      ]
    },
    {
      "cell_type": "markdown",
      "source": [
        "**1.12.7.2.2. à partir d’un Dictionnaire**"
      ],
      "metadata": {
        "id": "_ghTFoKNEIZq"
      }
    },
    {
      "cell_type": "code",
      "source": [
        "import pandas as pd\n",
        "\n",
        "# création d'un dictionnaire\n",
        "d = {'col1': [1, 4], 'col2': [2, 5],\n",
        "     'col3': [3, 6]}\n",
        "\n",
        "# création d'un DataFrame à\n",
        "# partir d'un dictionnaire\n",
        "df = pd.DataFrame(d)\n",
        "\n",
        "# affichage du DataFrame\n",
        "print(df)\n"
      ],
      "metadata": {
        "colab": {
          "base_uri": "https://localhost:8080/"
        },
        "id": "jl75cU-NDAg2",
        "outputId": "bf1f8bb4-dd8c-48cf-9561-738c74d38625"
      },
      "execution_count": null,
      "outputs": [
        {
          "output_type": "stream",
          "name": "stdout",
          "text": [
            "   col1  col2  col3\n",
            "0     1     2     3\n",
            "1     4     5     6\n"
          ]
        }
      ]
    },
    {
      "cell_type": "markdown",
      "source": [
        "**1.12.7.2.3. à partir d’un csv**\n",
        "\n",
        "Supposons que le fichier csv est le suivant :\n",
        "\n",
        "col1,col2,col3\n",
        "\n",
        "1,2,3\n",
        "\n",
        "4,5,6\n"
      ],
      "metadata": {
        "id": "X3hfL7P5G1iG"
      }
    },
    {
      "cell_type": "code",
      "source": [
        "import pandas as pd\n",
        "\n",
        "# lecture du fichier CSV\n",
        "df = pd.read_csv('mon_fichier.csv')\n",
        "\n",
        "# affichage du DataFrame\n",
        "print(df)\n"
      ],
      "metadata": {
        "id": "nxPOoz5YEZGd"
      },
      "execution_count": null,
      "outputs": []
    },
    {
      "cell_type": "markdown",
      "source": [
        "**1.12.7.4. les fonctions read_csv, to_csv**"
      ],
      "metadata": {
        "id": "__DE3e_aljAI"
      }
    },
    {
      "cell_type": "code",
      "source": [
        "import pandas as pd\n",
        "\n",
        "# Définir un dictionnaire\n",
        "\n",
        "dicti = {\n",
        "    \"Nom\": [\"Fatima\", \"Aisha\", \"Lila\"],\n",
        "    \"Nom de famille\": [\"Boumediene\", \"Benali\", \"Guellaty\"],\n",
        "    \"Age\": [30, 28, 32],\n",
        "    \"Profession\": [\"Infirmière\", \"Enseignante\", \"Avocate\"]\n",
        "}\n",
        "\n",
        "# Créer un DataFrame à partir du dictionnaire\n",
        "df = pd.DataFrame(dicti)\n",
        "\n",
        "# Enregistrer les données dans un fichier CSV\n",
        "df.to_csv(\"Donnees_Algeriennes.csv\", index=False)\n",
        "\n",
        "# Lire les données enregistrées à partir du fichier CSV\n",
        "new_df = pd.read_csv('Donnees_Algeriennes.csv')\n",
        "\n",
        "# Afficher les 5 premières lignes du DataFrame\n",
        "print(new_df.head(3))\n"
      ],
      "metadata": {
        "colab": {
          "base_uri": "https://localhost:8080/"
        },
        "id": "BbTnULTUlsCB",
        "outputId": "b552ed08-fce1-47d2-aebb-fed451a1f1ad"
      },
      "execution_count": null,
      "outputs": [
        {
          "output_type": "stream",
          "name": "stdout",
          "text": [
            "      Nom Nom de famille  Age   Profession\n",
            "0  Fatima     Boumediene   30   Infirmière\n",
            "1   Aisha         Benali   28  Enseignante\n",
            "2    Lila       Guellaty   32      Avocate\n"
          ]
        }
      ]
    },
    {
      "cell_type": "markdown",
      "source": [
        "**1.12.9. Les fonctions info,drop,tail**"
      ],
      "metadata": {
        "id": "UU4QUMtaof-f"
      }
    },
    {
      "cell_type": "code",
      "source": [
        "# Importer la bibliothèque pandas\n",
        "import pandas as pd\n",
        "\n",
        "# Définir un dictionnaire\n",
        "dic = {\n",
        "    \"Nom\": [\"Fatima\", \"Aisha\", \"Lila\"],\n",
        "    \"Nom de famille\": [\"Boumediene\", \"Benali\", \"Guellaty\"],\n",
        "    \"Age\": [30, 28, 32],\n",
        "    \"Profession\": [\"Infirmière\", \"Enseignante\", \"Avocate\"]\n",
        "}\n",
        "\n",
        "# Créer un DataFrame à partir du dictionnaire\n",
        "df = pd.DataFrame(dic)\n",
        "\n",
        "# Enregistrer les données dans un fichier CSV\n",
        "df.to_csv(\"data.csv\", index=False)\n",
        "\n",
        "# Lire les données enregistrées à partir du fichier CSV\n",
        "new_df = pd.read_csv('data.csv')\n",
        "\n",
        "# Afficher des informations sur le DataFrame\n",
        "print(new_df.info())\n",
        "\n",
        "# Supprimer les 2 dernières lignes du DataFrame\n",
        "new_df.drop(new_df.tail(2).index, inplace=True)\n",
        "\n",
        "# Afficher les lignes restantes du DataFrame\n",
        "print(new_df)\n"
      ],
      "metadata": {
        "colab": {
          "base_uri": "https://localhost:8080/"
        },
        "id": "2-f14JGXmbVU",
        "outputId": "3806d4dd-2645-42a6-c12f-93b3a0c28cf7"
      },
      "execution_count": null,
      "outputs": [
        {
          "output_type": "stream",
          "name": "stdout",
          "text": [
            "<class 'pandas.core.frame.DataFrame'>\n",
            "RangeIndex: 3 entries, 0 to 2\n",
            "Data columns (total 4 columns):\n",
            " #   Column          Non-Null Count  Dtype \n",
            "---  ------          --------------  ----- \n",
            " 0   Nom             3 non-null      object\n",
            " 1   Nom de famille  3 non-null      object\n",
            " 2   Age             3 non-null      int64 \n",
            " 3   Profession      3 non-null      object\n",
            "dtypes: int64(1), object(3)\n",
            "memory usage: 224.0+ bytes\n",
            "None\n",
            "      Nom Nom de famille  Age  Profession\n",
            "0  Fatima     Boumediene   30  Infirmière\n"
          ]
        }
      ]
    },
    {
      "cell_type": "code",
      "source": [
        "# Importer la bibliothèque pandas\n",
        "import pandas as pd\n",
        "\n",
        "# Définir un dictionnaire\n",
        "dic = {\n",
        "    \"Nom\": [\"Fatima\", \"Aisha\", \"Lila\"],\n",
        "    \"Nom de famille\": [\"Boumediene\", \"Benali\", \"Guellaty\"],\n",
        "    \"Age\": [30, 28, 32],\n",
        "    \"Profession\": [\"Infirmière\", \"Enseignante\", \"Avocate\"]\n",
        "}\n",
        "\n",
        "# Créer un DataFrame à partir du dictionnaire\n",
        "df = pd.DataFrame(dic)\n",
        "\n",
        "# Enregistrer les données dans un fichier CSV\n",
        "df.to_csv(\"data.csv\", index=False)\n",
        "\n",
        "# Lire les données enregistrées à partir du fichier CSV\n",
        "new_df = pd.read_csv('data.csv')\n",
        "\n",
        "# Afficher un résumé statistique du DataFrame\n",
        "print(new_df.describe())\n"
      ],
      "metadata": {
        "colab": {
          "base_uri": "https://localhost:8080/"
        },
        "id": "XD5QimocogrE",
        "outputId": "0e4c02d6-9411-4cd1-b732-87ec36d363b2"
      },
      "execution_count": null,
      "outputs": [
        {
          "output_type": "stream",
          "name": "stdout",
          "text": [
            "        Age\n",
            "count   3.0\n",
            "mean   30.0\n",
            "std     2.0\n",
            "min    28.0\n",
            "25%    29.0\n",
            "50%    30.0\n",
            "75%    31.0\n",
            "max    32.0\n"
          ]
        }
      ]
    },
    {
      "cell_type": "markdown",
      "source": [
        "**1.12.11. Slicing des Dataframes avec les crochets []**"
      ],
      "metadata": {
        "id": "wNqhZw50vsTd"
      }
    },
    {
      "cell_type": "code",
      "source": [
        "# Importer la bibliothèque pandas\n",
        "import pandas as pd\n",
        "\n",
        "# Définir un dictionnaire\n",
        "dic = {\n",
        "    \"Nom\": [\"Fatima\", \"Aisha\", \"Lila\"],\n",
        "    \"Nom de famille\": [\"Boumediene\", \"Benali\", \"Guellaty\"],\n",
        "    \"Age\": [30, 28, 32],\n",
        "}\n",
        "\n",
        "# Créer un DataFrame à partir du dictionnaire\n",
        "df = pd.DataFrame(dic)\n",
        "\n",
        "# Afficher le DataFrame complet\n",
        "print(df)"
      ],
      "metadata": {
        "colab": {
          "base_uri": "https://localhost:8080/"
        },
        "id": "OZImDFIxq_RZ",
        "outputId": "aa2c5cea-f524-4e83-e484-f02439672991"
      },
      "execution_count": null,
      "outputs": [
        {
          "output_type": "stream",
          "name": "stdout",
          "text": [
            "      Nom Nom de famille  Age\n",
            "0  Fatima     Boumediene   30\n",
            "1   Aisha         Benali   28\n",
            "2    Lila       Guellaty   32\n"
          ]
        }
      ]
    },
    {
      "cell_type": "code",
      "source": [
        "# Slicing des lignes seulement\n",
        "# Afficher la première ligne\n",
        "print(df[:1])\n"
      ],
      "metadata": {
        "colab": {
          "base_uri": "https://localhost:8080/"
        },
        "id": "xlFpuk6kxX56",
        "outputId": "001b998c-42c1-4530-d211-55c7b2982ea4"
      },
      "execution_count": null,
      "outputs": [
        {
          "output_type": "stream",
          "name": "stdout",
          "text": [
            "      Nom Nom de famille  Age\n",
            "0  Fatima     Boumediene   30\n"
          ]
        }
      ]
    },
    {
      "cell_type": "code",
      "source": [
        "# Slicing des colonnes seulement\n",
        "# Afficher les deux premières colonnes\n",
        "print(df[['Nom','Nom de famille']])"
      ],
      "metadata": {
        "colab": {
          "base_uri": "https://localhost:8080/"
        },
        "id": "XGAWiYPvxQi0",
        "outputId": "96d7a88e-4c60-4360-ae5c-2a896fe3e33f"
      },
      "execution_count": null,
      "outputs": [
        {
          "output_type": "stream",
          "name": "stdout",
          "text": [
            "      Nom Nom de famille\n",
            "0  Fatima     Boumediene\n",
            "1   Aisha         Benali\n",
            "2    Lila       Guellaty\n"
          ]
        }
      ]
    },
    {
      "cell_type": "markdown",
      "source": [
        "**1.12.11.2. Slicing avec iloc**"
      ],
      "metadata": {
        "id": "gJ1zcJBA2Sf-"
      }
    },
    {
      "cell_type": "code",
      "source": [
        "# Importer la bibliothèque pandas\n",
        "import pandas as pd\n",
        "\n",
        "# Définir un dictionnaire\n",
        "dic = {\n",
        "    \"Nom\": [\"Fatima\", \"Aisha\", \"Lila\"],\n",
        "    \"Nom de famille\": [\"Boumediene\", \"Benali\", \"Guellaty\"],\n",
        "    \"Age\": [30, 28, 32],\n",
        "}\n",
        "\n",
        "# Créer un DataFrame à partir du dictionnaire\n",
        "df = pd.DataFrame(dic)\n",
        "\n",
        "# Sélectionner une seule ligne en utilisant iloc\n",
        "print(\"Sélectionner une seule ligne :\\n\", df.iloc[0,:])\n",
        "\n",
        "# Sélectionner une seule colonne en utilisant iloc\n",
        "print(\"\\nSélectionner une seule colonne :\\n\", df.iloc[:,0])\n",
        "\n",
        "# Sélectionner une ligne et une colonne en utilisant iloc\n",
        "print(\"\\nSélectionner une ligne et une colonne :\\n\", df.iloc[0,0])\n"
      ],
      "metadata": {
        "colab": {
          "base_uri": "https://localhost:8080/"
        },
        "id": "MNxdGg-rxTRe",
        "outputId": "6942488b-0a21-4f32-bc03-f86730eb84aa"
      },
      "execution_count": null,
      "outputs": [
        {
          "output_type": "stream",
          "name": "stdout",
          "text": [
            "Sélectionner une seule ligne :\n",
            " Nom                   Fatima\n",
            "Nom de famille    Boumediene\n",
            "Age                       30\n",
            "Name: 0, dtype: object\n",
            "\n",
            "Sélectionner une seule colonne :\n",
            " 0    Fatima\n",
            "1     Aisha\n",
            "2      Lila\n",
            "Name: Nom, dtype: object\n",
            "\n",
            "Sélectionner une ligne et une colonne :\n",
            " Fatima\n"
          ]
        }
      ]
    },
    {
      "cell_type": "markdown",
      "source": [
        "**1.12.11.3. Slicing avec loc**"
      ],
      "metadata": {
        "id": "BROOIz243YTP"
      }
    },
    {
      "cell_type": "code",
      "source": [
        "# Importer la bibliothèque pandas\n",
        "import pandas as pd\n",
        "\n",
        "# Définir un dictionnaire\n",
        "dic = {\n",
        "    \"Nom\": [\"Fatima\", \"Aisha\", \"Lila\"],\n",
        "    \"Nom de famille\": [\"Boumediene\", \"Benali\", \"Guellaty\"],\n",
        "    \"Age\": [30, 28, 32],\n",
        "}\n",
        "\n",
        "# Créer un DataFrame à partir du dictionnaire\n",
        "df = pd.DataFrame(dic)\n",
        "\n",
        "# Sélectionner une seule ligne en utilisant loc\n",
        "print(\"Sélectionner une seule ligne :\\n\", df.loc[0,:])\n",
        "\n",
        "# Sélectionner une seule colonne en utilisant loc\n",
        "print(\"\\nSélectionner une seule colonne :\\n\", df[\"Nom\"])\n",
        "\n",
        "# Sélectionner une ligne et une colonne en utilisant loc\n",
        "print(\"\\nSélectionner une ligne et une colonne :\\n\", df.loc[0, \"Nom\"])\n"
      ],
      "metadata": {
        "colab": {
          "base_uri": "https://localhost:8080/"
        },
        "id": "dYRWIGhd2eP5",
        "outputId": "0ab7a0f7-c08c-4960-9fa0-7513a158a202"
      },
      "execution_count": null,
      "outputs": [
        {
          "output_type": "stream",
          "name": "stdout",
          "text": [
            "Sélectionner une seule ligne :\n",
            " Nom                   Fatima\n",
            "Nom de famille    Boumediene\n",
            "Age                       30\n",
            "Name: 0, dtype: object\n",
            "\n",
            "Sélectionner une seule colonne :\n",
            " 0    Fatima\n",
            "1     Aisha\n",
            "2      Lila\n",
            "Name: Nom, dtype: object\n",
            "\n",
            "Sélectionner une ligne et une colonne :\n",
            " Fatima\n"
          ]
        }
      ]
    },
    {
      "cell_type": "markdown",
      "source": [
        "**1.12.12. La fonction set_index()**"
      ],
      "metadata": {
        "id": "Oz1mBCK2E0uf"
      }
    },
    {
      "cell_type": "code",
      "source": [
        "import pandas as pd\n",
        "\n",
        "# Créer un DataFrame avec des données fictives\n",
        "data = {\n",
        "    \"colonne_1\": [1, 2, 3, 4, 5],\n",
        "    \"colonne_2\": [\"A\", \"B\", \"C\", \"D\", \"E\"],\n",
        "    \"colonne_3\": [10, 20, 30, 40, 50]\n",
        "}\n",
        "\n",
        "df = pd.DataFrame(data)\n",
        "\n",
        "# Afficher le DataFrame original\n",
        "print(\"DataFrame original:\")\n",
        "print(df)\n",
        "\n",
        "# Définir la colonne \"colonne_1\" en tant qu'index\n",
        "df = df.set_index(\"colonne_1\")\n",
        "\n",
        "# Afficher le DataFrame avec la colonne \"colonne_1\"\n",
        "# définie en tant qu'index\n",
        "print(\"\\nDataFrame avec l'index défini:\")\n",
        "print(df)\n"
      ],
      "metadata": {
        "colab": {
          "base_uri": "https://localhost:8080/"
        },
        "id": "OgQL-_f-Ey_o",
        "outputId": "86e9c0fa-69c6-425c-db49-29a7ad3c9315"
      },
      "execution_count": null,
      "outputs": [
        {
          "output_type": "stream",
          "name": "stdout",
          "text": [
            "DataFrame original:\n",
            "   colonne_1 colonne_2  colonne_3\n",
            "0          1         A         10\n",
            "1          2         B         20\n",
            "2          3         C         30\n",
            "3          4         D         40\n",
            "4          5         E         50\n",
            "\n",
            "DataFrame avec l'index défini:\n",
            "          colonne_2  colonne_3\n",
            "colonne_1                     \n",
            "1                 A         10\n",
            "2                 B         20\n",
            "3                 C         30\n",
            "4                 D         40\n",
            "5                 E         50\n"
          ]
        }
      ]
    },
    {
      "cell_type": "markdown",
      "source": [
        "**1.12.13. l'utilisation des conditions avec les trames de données**"
      ],
      "metadata": {
        "id": "bG-WrsHeF7aZ"
      }
    },
    {
      "cell_type": "code",
      "source": [
        "# Sélectionner les lignes où la colonne \"colonne_3\"\n",
        "# est supérieure à 30\n",
        "\n",
        "selected_rows = df[df[\"colonne_3\"] > 30]\n",
        "print(\"\\nLignes sélectionnées (colonne_3 > 30):\")\n",
        "print(selected_rows)\n",
        "\n",
        "# Sélectionner les lignes où la colonne \"colonne_2\"\n",
        "# est égale à \"B\"\n",
        "selected_rows = df[df[\"colonne_2\"] == \"B\"]\n",
        "print(\"\\nLignes sélectionnées (colonne_2 == 'B'):\")\n",
        "print(selected_rows)\n",
        "\n",
        "# Sélectionner les lignes où la colonne \"colonne_3\"\n",
        "# est supérieure à 30 et où la colonne \"colonne_2\"\n",
        "# est égale à \"C\"\n",
        "selected_rows = df[(df[\"colonne_3\"] > 30) & (df[\"colonne_2\"] == \"C\")]\n",
        "print(\"\\nLignes sélectionnées (colonne_3 > 30 et colonne_2 == 'C'):\")\n",
        "print(selected_rows)\n"
      ],
      "metadata": {
        "colab": {
          "base_uri": "https://localhost:8080/"
        },
        "id": "ItPRu_ON30aP",
        "outputId": "eb74f70f-dca1-4723-a215-f510636b14f7"
      },
      "execution_count": null,
      "outputs": [
        {
          "output_type": "stream",
          "name": "stdout",
          "text": [
            "\n",
            "Lignes sélectionnées (colonne_3 > 30):\n",
            "          colonne_2  colonne_3\n",
            "colonne_1                     \n",
            "4                 D         40\n",
            "5                 E         50\n",
            "\n",
            "Lignes sélectionnées (colonne_2 == 'B'):\n",
            "          colonne_2  colonne_3\n",
            "colonne_1                     \n",
            "2                 B         20\n",
            "\n",
            "Lignes sélectionnées (colonne_3 > 30 et colonne_2 == 'C'):\n",
            "Empty DataFrame\n",
            "Columns: [colonne_2, colonne_3]\n",
            "Index: []\n"
          ]
        }
      ]
    },
    {
      "cell_type": "markdown",
      "source": [
        "**1.12.14. Créer une colonne à partir de colonnes existantes**"
      ],
      "metadata": {
        "id": "WrfDOEG_Pps3"
      }
    },
    {
      "cell_type": "code",
      "source": [
        "import pandas as pd\n",
        "\n",
        "# Créer un exemple de dataframe\n",
        "df = pd.DataFrame({\n",
        "    'col1': [1, 2, 3, 4],\n",
        "    'col2': [10, 20, 30, 40]\n",
        "})\n",
        "\n",
        "# Créer une nouvelle colonne \"col3\"\n",
        "# en utilisant les valeurs de \"col1\" et \"col2\"\n",
        "df['col3'] = df['col1'] + df['col2']\n",
        "\n",
        "# Afficher le nouveau dataframe\n",
        "print(df)\n"
      ],
      "metadata": {
        "id": "mWXgd12UGRyJ",
        "colab": {
          "base_uri": "https://localhost:8080/"
        },
        "outputId": "c37fcc84-197d-42f3-dffb-f36524c9439f"
      },
      "execution_count": null,
      "outputs": [
        {
          "output_type": "stream",
          "name": "stdout",
          "text": [
            "   col1  col2  col3\n",
            "0     1    10    11\n",
            "1     2    20    22\n",
            "2     3    30    33\n",
            "3     4    40    44\n"
          ]
        }
      ]
    },
    {
      "cell_type": "markdown",
      "source": [
        "**1.12.14. Concaténation de Dataframes**"
      ],
      "metadata": {
        "id": "5xg5rigPTDdc"
      }
    },
    {
      "cell_type": "code",
      "source": [
        "import pandas as pd\n",
        "\n",
        "# Créer deux dataframes d'exemple\n",
        "df1 = pd.DataFrame({\n",
        "    'col1': [1, 2, 3],\n",
        "    'col2': ['A', 'B', 'C']\n",
        "})\n",
        "\n",
        "df2 = pd.DataFrame({\n",
        "    'col1': [4, 5, 6],\n",
        "    'col2': ['D', 'E', 'F']\n",
        "})\n",
        "\n",
        "# Concaténer les deux dataframes en\n",
        "# utilisant pd.concat()\n",
        "df_concat = pd.concat([df1, df2],\n",
        "                      ignore_index=True)\n",
        "\n",
        "# Afficher le nouveau dataframe concaténé\n",
        "print(df_concat)\n"
      ],
      "metadata": {
        "colab": {
          "base_uri": "https://localhost:8080/"
        },
        "id": "2gQOkHbrQkPL",
        "outputId": "8df42b3d-1356-4e93-9978-e4d65c22d993"
      },
      "execution_count": null,
      "outputs": [
        {
          "output_type": "stream",
          "name": "stdout",
          "text": [
            "   col1 col2\n",
            "0     1    A\n",
            "1     2    B\n",
            "2     3    C\n",
            "3     4    D\n",
            "4     5    E\n",
            "5     6    F\n"
          ]
        }
      ]
    },
    {
      "cell_type": "markdown",
      "source": [
        "**2.4.1. Data Preprocessing**"
      ],
      "metadata": {
        "id": "VwvxZnETMepJ"
      }
    },
    {
      "cell_type": "code",
      "source": [
        "# Importer la base de données\n",
        "# et la transformer en Dataframe\n",
        "import pandas as pd\n",
        "df = pd.read_csv('/content/titanic (3).csv')\n",
        "\n",
        "#Afficher les premières lignes\n",
        "df.head()\n"
      ],
      "metadata": {
        "id": "WBm1BjMVTnal",
        "colab": {
          "base_uri": "https://localhost:8080/",
          "height": 206
        },
        "outputId": "321f43bd-b56e-4f12-a1f5-e2d60be71c1d"
      },
      "execution_count": null,
      "outputs": [
        {
          "output_type": "execute_result",
          "data": {
            "text/plain": [
              "   PassengerId  Survived  Pclass  \\\n",
              "0            1         0       3   \n",
              "1            2         1       1   \n",
              "2            3         1       3   \n",
              "3            4         1       1   \n",
              "4            5         0       3   \n",
              "\n",
              "                                                Name     Sex   Age  SibSp  \\\n",
              "0                            Braund, Mr. Owen Harris    male  22.0      1   \n",
              "1  Cumings, Mrs. John Bradley (Florence Briggs Th...  female  38.0      1   \n",
              "2                             Heikkinen, Miss. Laina  female  26.0      0   \n",
              "3       Futrelle, Mrs. Jacques Heath (Lily May Peel)  female  35.0      1   \n",
              "4                           Allen, Mr. William Henry    male  35.0      0   \n",
              "\n",
              "   Parch            Ticket     Fare Cabin Embarked  \n",
              "0      0         A/5 21171   7.2500   NaN        S  \n",
              "1      0          PC 17599  71.2833   C85        C  \n",
              "2      0  STON/O2. 3101282   7.9250   NaN        S  \n",
              "3      0            113803  53.1000  C123        S  \n",
              "4      0            373450   8.0500   NaN        S  "
            ],
            "text/html": [
              "\n",
              "  <div id=\"df-59c918ed-2b04-47d9-b0c5-fcb03ba17f95\">\n",
              "    <div class=\"colab-df-container\">\n",
              "      <div>\n",
              "<style scoped>\n",
              "    .dataframe tbody tr th:only-of-type {\n",
              "        vertical-align: middle;\n",
              "    }\n",
              "\n",
              "    .dataframe tbody tr th {\n",
              "        vertical-align: top;\n",
              "    }\n",
              "\n",
              "    .dataframe thead th {\n",
              "        text-align: right;\n",
              "    }\n",
              "</style>\n",
              "<table border=\"1\" class=\"dataframe\">\n",
              "  <thead>\n",
              "    <tr style=\"text-align: right;\">\n",
              "      <th></th>\n",
              "      <th>PassengerId</th>\n",
              "      <th>Survived</th>\n",
              "      <th>Pclass</th>\n",
              "      <th>Name</th>\n",
              "      <th>Sex</th>\n",
              "      <th>Age</th>\n",
              "      <th>SibSp</th>\n",
              "      <th>Parch</th>\n",
              "      <th>Ticket</th>\n",
              "      <th>Fare</th>\n",
              "      <th>Cabin</th>\n",
              "      <th>Embarked</th>\n",
              "    </tr>\n",
              "  </thead>\n",
              "  <tbody>\n",
              "    <tr>\n",
              "      <th>0</th>\n",
              "      <td>1</td>\n",
              "      <td>0</td>\n",
              "      <td>3</td>\n",
              "      <td>Braund, Mr. Owen Harris</td>\n",
              "      <td>male</td>\n",
              "      <td>22.0</td>\n",
              "      <td>1</td>\n",
              "      <td>0</td>\n",
              "      <td>A/5 21171</td>\n",
              "      <td>7.2500</td>\n",
              "      <td>NaN</td>\n",
              "      <td>S</td>\n",
              "    </tr>\n",
              "    <tr>\n",
              "      <th>1</th>\n",
              "      <td>2</td>\n",
              "      <td>1</td>\n",
              "      <td>1</td>\n",
              "      <td>Cumings, Mrs. John Bradley (Florence Briggs Th...</td>\n",
              "      <td>female</td>\n",
              "      <td>38.0</td>\n",
              "      <td>1</td>\n",
              "      <td>0</td>\n",
              "      <td>PC 17599</td>\n",
              "      <td>71.2833</td>\n",
              "      <td>C85</td>\n",
              "      <td>C</td>\n",
              "    </tr>\n",
              "    <tr>\n",
              "      <th>2</th>\n",
              "      <td>3</td>\n",
              "      <td>1</td>\n",
              "      <td>3</td>\n",
              "      <td>Heikkinen, Miss. Laina</td>\n",
              "      <td>female</td>\n",
              "      <td>26.0</td>\n",
              "      <td>0</td>\n",
              "      <td>0</td>\n",
              "      <td>STON/O2. 3101282</td>\n",
              "      <td>7.9250</td>\n",
              "      <td>NaN</td>\n",
              "      <td>S</td>\n",
              "    </tr>\n",
              "    <tr>\n",
              "      <th>3</th>\n",
              "      <td>4</td>\n",
              "      <td>1</td>\n",
              "      <td>1</td>\n",
              "      <td>Futrelle, Mrs. Jacques Heath (Lily May Peel)</td>\n",
              "      <td>female</td>\n",
              "      <td>35.0</td>\n",
              "      <td>1</td>\n",
              "      <td>0</td>\n",
              "      <td>113803</td>\n",
              "      <td>53.1000</td>\n",
              "      <td>C123</td>\n",
              "      <td>S</td>\n",
              "    </tr>\n",
              "    <tr>\n",
              "      <th>4</th>\n",
              "      <td>5</td>\n",
              "      <td>0</td>\n",
              "      <td>3</td>\n",
              "      <td>Allen, Mr. William Henry</td>\n",
              "      <td>male</td>\n",
              "      <td>35.0</td>\n",
              "      <td>0</td>\n",
              "      <td>0</td>\n",
              "      <td>373450</td>\n",
              "      <td>8.0500</td>\n",
              "      <td>NaN</td>\n",
              "      <td>S</td>\n",
              "    </tr>\n",
              "  </tbody>\n",
              "</table>\n",
              "</div>\n",
              "      <button class=\"colab-df-convert\" onclick=\"convertToInteractive('df-59c918ed-2b04-47d9-b0c5-fcb03ba17f95')\"\n",
              "              title=\"Convert this dataframe to an interactive table.\"\n",
              "              style=\"display:none;\">\n",
              "        \n",
              "  <svg xmlns=\"http://www.w3.org/2000/svg\" height=\"24px\"viewBox=\"0 0 24 24\"\n",
              "       width=\"24px\">\n",
              "    <path d=\"M0 0h24v24H0V0z\" fill=\"none\"/>\n",
              "    <path d=\"M18.56 5.44l.94 2.06.94-2.06 2.06-.94-2.06-.94-.94-2.06-.94 2.06-2.06.94zm-11 1L8.5 8.5l.94-2.06 2.06-.94-2.06-.94L8.5 2.5l-.94 2.06-2.06.94zm10 10l.94 2.06.94-2.06 2.06-.94-2.06-.94-.94-2.06-.94 2.06-2.06.94z\"/><path d=\"M17.41 7.96l-1.37-1.37c-.4-.4-.92-.59-1.43-.59-.52 0-1.04.2-1.43.59L10.3 9.45l-7.72 7.72c-.78.78-.78 2.05 0 2.83L4 21.41c.39.39.9.59 1.41.59.51 0 1.02-.2 1.41-.59l7.78-7.78 2.81-2.81c.8-.78.8-2.07 0-2.86zM5.41 20L4 18.59l7.72-7.72 1.47 1.35L5.41 20z\"/>\n",
              "  </svg>\n",
              "      </button>\n",
              "      \n",
              "  <style>\n",
              "    .colab-df-container {\n",
              "      display:flex;\n",
              "      flex-wrap:wrap;\n",
              "      gap: 12px;\n",
              "    }\n",
              "\n",
              "    .colab-df-convert {\n",
              "      background-color: #E8F0FE;\n",
              "      border: none;\n",
              "      border-radius: 50%;\n",
              "      cursor: pointer;\n",
              "      display: none;\n",
              "      fill: #1967D2;\n",
              "      height: 32px;\n",
              "      padding: 0 0 0 0;\n",
              "      width: 32px;\n",
              "    }\n",
              "\n",
              "    .colab-df-convert:hover {\n",
              "      background-color: #E2EBFA;\n",
              "      box-shadow: 0px 1px 2px rgba(60, 64, 67, 0.3), 0px 1px 3px 1px rgba(60, 64, 67, 0.15);\n",
              "      fill: #174EA6;\n",
              "    }\n",
              "\n",
              "    [theme=dark] .colab-df-convert {\n",
              "      background-color: #3B4455;\n",
              "      fill: #D2E3FC;\n",
              "    }\n",
              "\n",
              "    [theme=dark] .colab-df-convert:hover {\n",
              "      background-color: #434B5C;\n",
              "      box-shadow: 0px 1px 3px 1px rgba(0, 0, 0, 0.15);\n",
              "      filter: drop-shadow(0px 1px 2px rgba(0, 0, 0, 0.3));\n",
              "      fill: #FFFFFF;\n",
              "    }\n",
              "  </style>\n",
              "\n",
              "      <script>\n",
              "        const buttonEl =\n",
              "          document.querySelector('#df-59c918ed-2b04-47d9-b0c5-fcb03ba17f95 button.colab-df-convert');\n",
              "        buttonEl.style.display =\n",
              "          google.colab.kernel.accessAllowed ? 'block' : 'none';\n",
              "\n",
              "        async function convertToInteractive(key) {\n",
              "          const element = document.querySelector('#df-59c918ed-2b04-47d9-b0c5-fcb03ba17f95');\n",
              "          const dataTable =\n",
              "            await google.colab.kernel.invokeFunction('convertToInteractive',\n",
              "                                                     [key], {});\n",
              "          if (!dataTable) return;\n",
              "\n",
              "          const docLinkHtml = 'Like what you see? Visit the ' +\n",
              "            '<a target=\"_blank\" href=https://colab.research.google.com/notebooks/data_table.ipynb>data table notebook</a>'\n",
              "            + ' to learn more about interactive tables.';\n",
              "          element.innerHTML = '';\n",
              "          dataTable['output_type'] = 'display_data';\n",
              "          await google.colab.output.renderOutput(dataTable, element);\n",
              "          const docLink = document.createElement('div');\n",
              "          docLink.innerHTML = docLinkHtml;\n",
              "          element.appendChild(docLink);\n",
              "        }\n",
              "      </script>\n",
              "    </div>\n",
              "  </div>\n",
              "  "
            ]
          },
          "metadata": {},
          "execution_count": 3
        }
      ]
    },
    {
      "cell_type": "markdown",
      "source": [
        "**2.4.1.1. Label Encoder Function**"
      ],
      "metadata": {
        "id": "X60djhHQrrYC"
      }
    },
    {
      "cell_type": "code",
      "source": [
        "# Importer la fonction LabelEncoder\n",
        "from sklearn.preprocessing import LabelEncoder\n",
        "encoder=LabelEncoder()\n",
        "\n",
        "# Transformer les données de type\n",
        "# Chaine de caractère de la colonne\n",
        "# Embarked en données numérique\n",
        "\n",
        "df['Embarked']=encoder.fit_transform(df['Embarked'])\n",
        "\n",
        "df['Embarked']"
      ],
      "metadata": {
        "colab": {
          "base_uri": "https://localhost:8080/"
        },
        "id": "f7dERg56NlHG",
        "outputId": "b54c5a43-3315-41a1-8457-35448eb474ac"
      },
      "execution_count": null,
      "outputs": [
        {
          "output_type": "execute_result",
          "data": {
            "text/plain": [
              "0      2\n",
              "1      0\n",
              "2      2\n",
              "3      2\n",
              "4      2\n",
              "      ..\n",
              "886    2\n",
              "887    2\n",
              "888    2\n",
              "889    0\n",
              "890    1\n",
              "Name: Embarked, Length: 891, dtype: int64"
            ]
          },
          "metadata": {},
          "execution_count": 4
        }
      ]
    },
    {
      "cell_type": "code",
      "source": [
        "# Les valeurs unique de la colonne\n",
        "df['Embarked'].unique()"
      ],
      "metadata": {
        "colab": {
          "base_uri": "https://localhost:8080/"
        },
        "id": "FnD0zOqas1SA",
        "outputId": "c37cfb7d-faca-4bbb-eeb5-f23bf7d11025"
      },
      "execution_count": null,
      "outputs": [
        {
          "output_type": "execute_result",
          "data": {
            "text/plain": [
              "array([2, 0, 1, 3])"
            ]
          },
          "metadata": {},
          "execution_count": 8
        }
      ]
    },
    {
      "cell_type": "markdown",
      "source": [
        "**2.4.1.2. Deuxième méthode :À la main en utilisant un dictionnaire**"
      ],
      "metadata": {
        "id": "-DqRWOkmvhUo"
      }
    },
    {
      "cell_type": "code",
      "source": [
        "cleanup_nums = {\n",
        "\"Sex\":{\"male\": 0, \"female\": 1}\n",
        "}\n",
        "df.replace(cleanup_nums, inplace=True)\n",
        "df['Sex']"
      ],
      "metadata": {
        "colab": {
          "base_uri": "https://localhost:8080/"
        },
        "id": "JUK4I5aVtJsg",
        "outputId": "9d71e019-9974-4051-9eb4-e3b834f857e4"
      },
      "execution_count": null,
      "outputs": [
        {
          "output_type": "execute_result",
          "data": {
            "text/plain": [
              "0      0\n",
              "1      1\n",
              "2      1\n",
              "3      1\n",
              "4      0\n",
              "      ..\n",
              "886    0\n",
              "887    1\n",
              "888    1\n",
              "889    0\n",
              "890    0\n",
              "Name: Sex, Length: 891, dtype: int64"
            ]
          },
          "metadata": {},
          "execution_count": 9
        }
      ]
    },
    {
      "cell_type": "code",
      "source": [
        "df['Sex'].unique()"
      ],
      "metadata": {
        "colab": {
          "base_uri": "https://localhost:8080/"
        },
        "id": "axBDwNDsv6-9",
        "outputId": "4c30dbf5-96d0-4f5e-ec21-688503079c36"
      },
      "execution_count": null,
      "outputs": [
        {
          "output_type": "execute_result",
          "data": {
            "text/plain": [
              "array([0, 1])"
            ]
          },
          "metadata": {},
          "execution_count": 10
        }
      ]
    },
    {
      "cell_type": "markdown",
      "source": [
        "**2.4.1.3. One-Hot Encoding**"
      ],
      "metadata": {
        "id": "ZjthGc2QyhA_"
      }
    },
    {
      "cell_type": "code",
      "source": [
        "# Importer la base de données\n",
        "# et la transformer en Dataframe\n",
        "import pandas as pd\n",
        "df = pd.read_csv('/content/titanic (3).csv')\n",
        "\n",
        "#Afficher les premières lignes\n",
        "df.head()\n",
        "\n",
        "\n",
        "#Faire un encodage One-Hot\n",
        "# Sur la colonne Sex\n",
        "one_hot = pd.get_dummies(df['Sex'])\n",
        "\n",
        "# Supprimer la colonne Sex comme\n",
        "# Il ne sera plus nécessaire de\n",
        "# l'utiliser\n",
        "df = df.drop('Sex', axis = 1)\n",
        "\n",
        "# Joindre la colonne encodée à\n",
        "# la Trame de données\n",
        "\n",
        "df = df.join(one_hot)\n",
        "\n",
        "one_hot"
      ],
      "metadata": {
        "colab": {
          "base_uri": "https://localhost:8080/",
          "height": 423
        },
        "id": "twTzMwEYv9HH",
        "outputId": "ad075bd1-7ec9-4757-8b0c-11910dcfa6ce"
      },
      "execution_count": null,
      "outputs": [
        {
          "output_type": "execute_result",
          "data": {
            "text/plain": [
              "     female  male\n",
              "0         0     1\n",
              "1         1     0\n",
              "2         1     0\n",
              "3         1     0\n",
              "4         0     1\n",
              "..      ...   ...\n",
              "886       0     1\n",
              "887       1     0\n",
              "888       1     0\n",
              "889       0     1\n",
              "890       0     1\n",
              "\n",
              "[891 rows x 2 columns]"
            ],
            "text/html": [
              "\n",
              "  <div id=\"df-d6bda4dd-52f0-4352-90b5-57817f90ba3a\">\n",
              "    <div class=\"colab-df-container\">\n",
              "      <div>\n",
              "<style scoped>\n",
              "    .dataframe tbody tr th:only-of-type {\n",
              "        vertical-align: middle;\n",
              "    }\n",
              "\n",
              "    .dataframe tbody tr th {\n",
              "        vertical-align: top;\n",
              "    }\n",
              "\n",
              "    .dataframe thead th {\n",
              "        text-align: right;\n",
              "    }\n",
              "</style>\n",
              "<table border=\"1\" class=\"dataframe\">\n",
              "  <thead>\n",
              "    <tr style=\"text-align: right;\">\n",
              "      <th></th>\n",
              "      <th>female</th>\n",
              "      <th>male</th>\n",
              "    </tr>\n",
              "  </thead>\n",
              "  <tbody>\n",
              "    <tr>\n",
              "      <th>0</th>\n",
              "      <td>0</td>\n",
              "      <td>1</td>\n",
              "    </tr>\n",
              "    <tr>\n",
              "      <th>1</th>\n",
              "      <td>1</td>\n",
              "      <td>0</td>\n",
              "    </tr>\n",
              "    <tr>\n",
              "      <th>2</th>\n",
              "      <td>1</td>\n",
              "      <td>0</td>\n",
              "    </tr>\n",
              "    <tr>\n",
              "      <th>3</th>\n",
              "      <td>1</td>\n",
              "      <td>0</td>\n",
              "    </tr>\n",
              "    <tr>\n",
              "      <th>4</th>\n",
              "      <td>0</td>\n",
              "      <td>1</td>\n",
              "    </tr>\n",
              "    <tr>\n",
              "      <th>...</th>\n",
              "      <td>...</td>\n",
              "      <td>...</td>\n",
              "    </tr>\n",
              "    <tr>\n",
              "      <th>886</th>\n",
              "      <td>0</td>\n",
              "      <td>1</td>\n",
              "    </tr>\n",
              "    <tr>\n",
              "      <th>887</th>\n",
              "      <td>1</td>\n",
              "      <td>0</td>\n",
              "    </tr>\n",
              "    <tr>\n",
              "      <th>888</th>\n",
              "      <td>1</td>\n",
              "      <td>0</td>\n",
              "    </tr>\n",
              "    <tr>\n",
              "      <th>889</th>\n",
              "      <td>0</td>\n",
              "      <td>1</td>\n",
              "    </tr>\n",
              "    <tr>\n",
              "      <th>890</th>\n",
              "      <td>0</td>\n",
              "      <td>1</td>\n",
              "    </tr>\n",
              "  </tbody>\n",
              "</table>\n",
              "<p>891 rows × 2 columns</p>\n",
              "</div>\n",
              "      <button class=\"colab-df-convert\" onclick=\"convertToInteractive('df-d6bda4dd-52f0-4352-90b5-57817f90ba3a')\"\n",
              "              title=\"Convert this dataframe to an interactive table.\"\n",
              "              style=\"display:none;\">\n",
              "        \n",
              "  <svg xmlns=\"http://www.w3.org/2000/svg\" height=\"24px\"viewBox=\"0 0 24 24\"\n",
              "       width=\"24px\">\n",
              "    <path d=\"M0 0h24v24H0V0z\" fill=\"none\"/>\n",
              "    <path d=\"M18.56 5.44l.94 2.06.94-2.06 2.06-.94-2.06-.94-.94-2.06-.94 2.06-2.06.94zm-11 1L8.5 8.5l.94-2.06 2.06-.94-2.06-.94L8.5 2.5l-.94 2.06-2.06.94zm10 10l.94 2.06.94-2.06 2.06-.94-2.06-.94-.94-2.06-.94 2.06-2.06.94z\"/><path d=\"M17.41 7.96l-1.37-1.37c-.4-.4-.92-.59-1.43-.59-.52 0-1.04.2-1.43.59L10.3 9.45l-7.72 7.72c-.78.78-.78 2.05 0 2.83L4 21.41c.39.39.9.59 1.41.59.51 0 1.02-.2 1.41-.59l7.78-7.78 2.81-2.81c.8-.78.8-2.07 0-2.86zM5.41 20L4 18.59l7.72-7.72 1.47 1.35L5.41 20z\"/>\n",
              "  </svg>\n",
              "      </button>\n",
              "      \n",
              "  <style>\n",
              "    .colab-df-container {\n",
              "      display:flex;\n",
              "      flex-wrap:wrap;\n",
              "      gap: 12px;\n",
              "    }\n",
              "\n",
              "    .colab-df-convert {\n",
              "      background-color: #E8F0FE;\n",
              "      border: none;\n",
              "      border-radius: 50%;\n",
              "      cursor: pointer;\n",
              "      display: none;\n",
              "      fill: #1967D2;\n",
              "      height: 32px;\n",
              "      padding: 0 0 0 0;\n",
              "      width: 32px;\n",
              "    }\n",
              "\n",
              "    .colab-df-convert:hover {\n",
              "      background-color: #E2EBFA;\n",
              "      box-shadow: 0px 1px 2px rgba(60, 64, 67, 0.3), 0px 1px 3px 1px rgba(60, 64, 67, 0.15);\n",
              "      fill: #174EA6;\n",
              "    }\n",
              "\n",
              "    [theme=dark] .colab-df-convert {\n",
              "      background-color: #3B4455;\n",
              "      fill: #D2E3FC;\n",
              "    }\n",
              "\n",
              "    [theme=dark] .colab-df-convert:hover {\n",
              "      background-color: #434B5C;\n",
              "      box-shadow: 0px 1px 3px 1px rgba(0, 0, 0, 0.15);\n",
              "      filter: drop-shadow(0px 1px 2px rgba(0, 0, 0, 0.3));\n",
              "      fill: #FFFFFF;\n",
              "    }\n",
              "  </style>\n",
              "\n",
              "      <script>\n",
              "        const buttonEl =\n",
              "          document.querySelector('#df-d6bda4dd-52f0-4352-90b5-57817f90ba3a button.colab-df-convert');\n",
              "        buttonEl.style.display =\n",
              "          google.colab.kernel.accessAllowed ? 'block' : 'none';\n",
              "\n",
              "        async function convertToInteractive(key) {\n",
              "          const element = document.querySelector('#df-d6bda4dd-52f0-4352-90b5-57817f90ba3a');\n",
              "          const dataTable =\n",
              "            await google.colab.kernel.invokeFunction('convertToInteractive',\n",
              "                                                     [key], {});\n",
              "          if (!dataTable) return;\n",
              "\n",
              "          const docLinkHtml = 'Like what you see? Visit the ' +\n",
              "            '<a target=\"_blank\" href=https://colab.research.google.com/notebooks/data_table.ipynb>data table notebook</a>'\n",
              "            + ' to learn more about interactive tables.';\n",
              "          element.innerHTML = '';\n",
              "          dataTable['output_type'] = 'display_data';\n",
              "          await google.colab.output.renderOutput(dataTable, element);\n",
              "          const docLink = document.createElement('div');\n",
              "          docLink.innerHTML = docLinkHtml;\n",
              "          element.appendChild(docLink);\n",
              "        }\n",
              "      </script>\n",
              "    </div>\n",
              "  </div>\n",
              "  "
            ]
          },
          "metadata": {},
          "execution_count": 15
        }
      ]
    },
    {
      "cell_type": "markdown",
      "source": [
        "**2.4.2.1. Visualisation des valeurs manquantes**\n",
        "\n",
        "**a. Les valeurs manquantes**"
      ],
      "metadata": {
        "id": "d5rvqB7B4Qc9"
      }
    },
    {
      "cell_type": "code",
      "source": [
        "# Importer la base de données\n",
        "# et la transformer en Dataframe\n",
        "import pandas as pd\n",
        "df = pd.read_csv('/content/titanic (3).csv')\n",
        "\n",
        "#Afficher les premières lignes\n",
        "# de quelque colonnes pour\n",
        "# Visualiser  les NaN\n",
        "df[['Ticket','Fare','Cabin']].head()"
      ],
      "metadata": {
        "colab": {
          "base_uri": "https://localhost:8080/",
          "height": 206
        },
        "id": "Rddyq3yi0H5R",
        "outputId": "947ba619-f149-410e-e8b5-8b62821a2242"
      },
      "execution_count": null,
      "outputs": [
        {
          "output_type": "execute_result",
          "data": {
            "text/plain": [
              "             Ticket     Fare Cabin\n",
              "0         A/5 21171   7.2500   NaN\n",
              "1          PC 17599  71.2833   C85\n",
              "2  STON/O2. 3101282   7.9250   NaN\n",
              "3            113803  53.1000  C123\n",
              "4            373450   8.0500   NaN"
            ],
            "text/html": [
              "\n",
              "  <div id=\"df-58f64b03-067d-4e14-8a57-95120403db6f\">\n",
              "    <div class=\"colab-df-container\">\n",
              "      <div>\n",
              "<style scoped>\n",
              "    .dataframe tbody tr th:only-of-type {\n",
              "        vertical-align: middle;\n",
              "    }\n",
              "\n",
              "    .dataframe tbody tr th {\n",
              "        vertical-align: top;\n",
              "    }\n",
              "\n",
              "    .dataframe thead th {\n",
              "        text-align: right;\n",
              "    }\n",
              "</style>\n",
              "<table border=\"1\" class=\"dataframe\">\n",
              "  <thead>\n",
              "    <tr style=\"text-align: right;\">\n",
              "      <th></th>\n",
              "      <th>Ticket</th>\n",
              "      <th>Fare</th>\n",
              "      <th>Cabin</th>\n",
              "    </tr>\n",
              "  </thead>\n",
              "  <tbody>\n",
              "    <tr>\n",
              "      <th>0</th>\n",
              "      <td>A/5 21171</td>\n",
              "      <td>7.2500</td>\n",
              "      <td>NaN</td>\n",
              "    </tr>\n",
              "    <tr>\n",
              "      <th>1</th>\n",
              "      <td>PC 17599</td>\n",
              "      <td>71.2833</td>\n",
              "      <td>C85</td>\n",
              "    </tr>\n",
              "    <tr>\n",
              "      <th>2</th>\n",
              "      <td>STON/O2. 3101282</td>\n",
              "      <td>7.9250</td>\n",
              "      <td>NaN</td>\n",
              "    </tr>\n",
              "    <tr>\n",
              "      <th>3</th>\n",
              "      <td>113803</td>\n",
              "      <td>53.1000</td>\n",
              "      <td>C123</td>\n",
              "    </tr>\n",
              "    <tr>\n",
              "      <th>4</th>\n",
              "      <td>373450</td>\n",
              "      <td>8.0500</td>\n",
              "      <td>NaN</td>\n",
              "    </tr>\n",
              "  </tbody>\n",
              "</table>\n",
              "</div>\n",
              "      <button class=\"colab-df-convert\" onclick=\"convertToInteractive('df-58f64b03-067d-4e14-8a57-95120403db6f')\"\n",
              "              title=\"Convert this dataframe to an interactive table.\"\n",
              "              style=\"display:none;\">\n",
              "        \n",
              "  <svg xmlns=\"http://www.w3.org/2000/svg\" height=\"24px\"viewBox=\"0 0 24 24\"\n",
              "       width=\"24px\">\n",
              "    <path d=\"M0 0h24v24H0V0z\" fill=\"none\"/>\n",
              "    <path d=\"M18.56 5.44l.94 2.06.94-2.06 2.06-.94-2.06-.94-.94-2.06-.94 2.06-2.06.94zm-11 1L8.5 8.5l.94-2.06 2.06-.94-2.06-.94L8.5 2.5l-.94 2.06-2.06.94zm10 10l.94 2.06.94-2.06 2.06-.94-2.06-.94-.94-2.06-.94 2.06-2.06.94z\"/><path d=\"M17.41 7.96l-1.37-1.37c-.4-.4-.92-.59-1.43-.59-.52 0-1.04.2-1.43.59L10.3 9.45l-7.72 7.72c-.78.78-.78 2.05 0 2.83L4 21.41c.39.39.9.59 1.41.59.51 0 1.02-.2 1.41-.59l7.78-7.78 2.81-2.81c.8-.78.8-2.07 0-2.86zM5.41 20L4 18.59l7.72-7.72 1.47 1.35L5.41 20z\"/>\n",
              "  </svg>\n",
              "      </button>\n",
              "      \n",
              "  <style>\n",
              "    .colab-df-container {\n",
              "      display:flex;\n",
              "      flex-wrap:wrap;\n",
              "      gap: 12px;\n",
              "    }\n",
              "\n",
              "    .colab-df-convert {\n",
              "      background-color: #E8F0FE;\n",
              "      border: none;\n",
              "      border-radius: 50%;\n",
              "      cursor: pointer;\n",
              "      display: none;\n",
              "      fill: #1967D2;\n",
              "      height: 32px;\n",
              "      padding: 0 0 0 0;\n",
              "      width: 32px;\n",
              "    }\n",
              "\n",
              "    .colab-df-convert:hover {\n",
              "      background-color: #E2EBFA;\n",
              "      box-shadow: 0px 1px 2px rgba(60, 64, 67, 0.3), 0px 1px 3px 1px rgba(60, 64, 67, 0.15);\n",
              "      fill: #174EA6;\n",
              "    }\n",
              "\n",
              "    [theme=dark] .colab-df-convert {\n",
              "      background-color: #3B4455;\n",
              "      fill: #D2E3FC;\n",
              "    }\n",
              "\n",
              "    [theme=dark] .colab-df-convert:hover {\n",
              "      background-color: #434B5C;\n",
              "      box-shadow: 0px 1px 3px 1px rgba(0, 0, 0, 0.15);\n",
              "      filter: drop-shadow(0px 1px 2px rgba(0, 0, 0, 0.3));\n",
              "      fill: #FFFFFF;\n",
              "    }\n",
              "  </style>\n",
              "\n",
              "      <script>\n",
              "        const buttonEl =\n",
              "          document.querySelector('#df-58f64b03-067d-4e14-8a57-95120403db6f button.colab-df-convert');\n",
              "        buttonEl.style.display =\n",
              "          google.colab.kernel.accessAllowed ? 'block' : 'none';\n",
              "\n",
              "        async function convertToInteractive(key) {\n",
              "          const element = document.querySelector('#df-58f64b03-067d-4e14-8a57-95120403db6f');\n",
              "          const dataTable =\n",
              "            await google.colab.kernel.invokeFunction('convertToInteractive',\n",
              "                                                     [key], {});\n",
              "          if (!dataTable) return;\n",
              "\n",
              "          const docLinkHtml = 'Like what you see? Visit the ' +\n",
              "            '<a target=\"_blank\" href=https://colab.research.google.com/notebooks/data_table.ipynb>data table notebook</a>'\n",
              "            + ' to learn more about interactive tables.';\n",
              "          element.innerHTML = '';\n",
              "          dataTable['output_type'] = 'display_data';\n",
              "          await google.colab.output.renderOutput(dataTable, element);\n",
              "          const docLink = document.createElement('div');\n",
              "          docLink.innerHTML = docLinkHtml;\n",
              "          element.appendChild(docLink);\n",
              "        }\n",
              "      </script>\n",
              "    </div>\n",
              "  </div>\n",
              "  "
            ]
          },
          "metadata": {},
          "execution_count": 1
        }
      ]
    },
    {
      "cell_type": "markdown",
      "source": [
        "**2.4.2.2. Data Cleaning**\n",
        "\n",
        "**b. Trouver les valeurs manquantes**"
      ],
      "metadata": {
        "id": "0ZSkOCbVTlzF"
      }
    },
    {
      "cell_type": "code",
      "source": [
        "# Détection du nombre de\n",
        "# valeurs nulles\n",
        "df.isnull().sum()"
      ],
      "metadata": {
        "colab": {
          "base_uri": "https://localhost:8080/"
        },
        "id": "FmhbTQw-4W0-",
        "outputId": "3ce2d4b1-cce5-41ba-afeb-e2a6a4866f2d"
      },
      "execution_count": null,
      "outputs": [
        {
          "output_type": "execute_result",
          "data": {
            "text/plain": [
              "PassengerId      0\n",
              "Survived         0\n",
              "Pclass           0\n",
              "Name             0\n",
              "Sex              0\n",
              "Age            177\n",
              "SibSp            0\n",
              "Parch            0\n",
              "Ticket           0\n",
              "Fare             0\n",
              "Cabin          687\n",
              "Embarked         2\n",
              "dtype: int64"
            ]
          },
          "metadata": {},
          "execution_count": 5
        }
      ]
    },
    {
      "cell_type": "markdown",
      "source": [
        "**Analyse**\n",
        "\n",
        "* Il existe dans la colonne(Feature)\n",
        "Age 177 valeurs nulles\n",
        "\n",
        "* Il existe dans la colonne(Feature)\n",
        "Cabin 687 valeurs nulles"
      ],
      "metadata": {
        "id": "vnwvM6o8V774"
      }
    },
    {
      "cell_type": "markdown",
      "source": [
        "**2.4.2.3. Data Cleaning**\n",
        "\n",
        "**c. Supprimer les valeurs manquantes**"
      ],
      "metadata": {
        "id": "Qp33fO776b8o"
      }
    },
    {
      "cell_type": "code",
      "source": [
        "# Une autre manière de télécharger\n",
        "# la base de données Titanic\n",
        "import seaborn as sns\n",
        "\n",
        "# Chargement des données des passagers du Titanic\n",
        "titanic_data = sns.load_dataset('titanic')\n",
        "\n",
        "# Affichage des informations sur les données\n",
        "print(titanic_data.info())\n",
        "\n",
        "# Suppression les colonnes contenant\n",
        "# moins de 700 valeurs manquantes\n",
        "titanic_data = titanic_data.dropna(axis=1, thresh=700)\n",
        "\n",
        "# Affichage des informations sur les\n",
        "# données après la suppression des colonnes\n",
        "print(titanic_data.info())\n",
        "\n",
        "# Suppression des lignes contenant au\n",
        "# moins une valeur manquante\n",
        "titanic_data = titanic_data.dropna(how='any')\n",
        "\n",
        "# Affichage des informations sur les\n",
        "# données après la suppression des lignes\n",
        "print(titanic_data.info())\n"
      ],
      "metadata": {
        "id": "EMB64sRiTkBh",
        "colab": {
          "base_uri": "https://localhost:8080/"
        },
        "outputId": "83e8973a-8c75-4d2c-f88a-832cb58f6f9a"
      },
      "execution_count": null,
      "outputs": [
        {
          "output_type": "stream",
          "name": "stdout",
          "text": [
            "<class 'pandas.core.frame.DataFrame'>\n",
            "RangeIndex: 891 entries, 0 to 890\n",
            "Data columns (total 15 columns):\n",
            " #   Column       Non-Null Count  Dtype   \n",
            "---  ------       --------------  -----   \n",
            " 0   survived     891 non-null    int64   \n",
            " 1   pclass       891 non-null    int64   \n",
            " 2   sex          891 non-null    object  \n",
            " 3   age          714 non-null    float64 \n",
            " 4   sibsp        891 non-null    int64   \n",
            " 5   parch        891 non-null    int64   \n",
            " 6   fare         891 non-null    float64 \n",
            " 7   embarked     889 non-null    object  \n",
            " 8   class        891 non-null    category\n",
            " 9   who          891 non-null    object  \n",
            " 10  adult_male   891 non-null    bool    \n",
            " 11  deck         203 non-null    category\n",
            " 12  embark_town  889 non-null    object  \n",
            " 13  alive        891 non-null    object  \n",
            " 14  alone        891 non-null    bool    \n",
            "dtypes: bool(2), category(2), float64(2), int64(4), object(5)\n",
            "memory usage: 80.7+ KB\n",
            "None\n",
            "<class 'pandas.core.frame.DataFrame'>\n",
            "RangeIndex: 891 entries, 0 to 890\n",
            "Data columns (total 14 columns):\n",
            " #   Column       Non-Null Count  Dtype   \n",
            "---  ------       --------------  -----   \n",
            " 0   survived     891 non-null    int64   \n",
            " 1   pclass       891 non-null    int64   \n",
            " 2   sex          891 non-null    object  \n",
            " 3   age          714 non-null    float64 \n",
            " 4   sibsp        891 non-null    int64   \n",
            " 5   parch        891 non-null    int64   \n",
            " 6   fare         891 non-null    float64 \n",
            " 7   embarked     889 non-null    object  \n",
            " 8   class        891 non-null    category\n",
            " 9   who          891 non-null    object  \n",
            " 10  adult_male   891 non-null    bool    \n",
            " 11  embark_town  889 non-null    object  \n",
            " 12  alive        891 non-null    object  \n",
            " 13  alone        891 non-null    bool    \n",
            "dtypes: bool(2), category(1), float64(2), int64(4), object(5)\n",
            "memory usage: 79.4+ KB\n",
            "None\n",
            "<class 'pandas.core.frame.DataFrame'>\n",
            "Int64Index: 712 entries, 0 to 890\n",
            "Data columns (total 14 columns):\n",
            " #   Column       Non-Null Count  Dtype   \n",
            "---  ------       --------------  -----   \n",
            " 0   survived     712 non-null    int64   \n",
            " 1   pclass       712 non-null    int64   \n",
            " 2   sex          712 non-null    object  \n",
            " 3   age          712 non-null    float64 \n",
            " 4   sibsp        712 non-null    int64   \n",
            " 5   parch        712 non-null    int64   \n",
            " 6   fare         712 non-null    float64 \n",
            " 7   embarked     712 non-null    object  \n",
            " 8   class        712 non-null    category\n",
            " 9   who          712 non-null    object  \n",
            " 10  adult_male   712 non-null    bool    \n",
            " 11  embark_town  712 non-null    object  \n",
            " 12  alive        712 non-null    object  \n",
            " 13  alone        712 non-null    bool    \n",
            "dtypes: bool(2), category(1), float64(2), int64(4), object(5)\n",
            "memory usage: 69.0+ KB\n",
            "None\n"
          ]
        }
      ]
    },
    {
      "cell_type": "markdown",
      "source": [
        "**2.4.3.1. Exemples d’utilisation de fillna()**"
      ],
      "metadata": {
        "id": "7gvXII_pFcu8"
      }
    },
    {
      "cell_type": "code",
      "source": [
        "import seaborn as sns\n",
        "\n",
        "# Chargement des données des passagers du Titanic\n",
        "titanic_data = sns.load_dataset('titanic')\n",
        "\n",
        "# Affichage des informations sur les données\n",
        "print(titanic_data.info())\n",
        "\n",
        "# Remplacement des valeurs manquantes\n",
        "# dans la colonne 'age' par la moyenne de l'âge\n",
        "titanic_data['age'].fillna(titanic_data['age'].mean(),inplace=True)\n",
        "\n",
        "# Affichage des informations sur\n",
        "# les données après le remplacement des valeurs manquantes\n",
        "print(titanic_data.info())\n",
        "\n",
        "# Conversion de la colonne 'deck' en type objet (object)\n",
        "# Cette conversion est primordiale, car la colonne\n",
        "# était de type catégoriel, autrement dit, on ne\n",
        "# peut ajouter qu'une catégorie qui existe dèjà\n",
        "titanic_data['deck'] = titanic_data['deck'].astype('object')\n",
        "\n",
        "# Remplacement des valeurs manquantes\n",
        "# dans la colonne 'deck' par la valeur 'unknown'\n",
        "titanic_data['deck'].fillna('unknown', inplace=True)\n",
        "\n",
        "# Affichage des informations sur les données\n",
        "# après le remplacement des valeurs manquantes\n",
        "print(titanic_data.info())\n",
        "\n",
        "\n",
        "\n",
        "\n",
        "\n",
        "\n",
        "\n",
        "\n"
      ],
      "metadata": {
        "colab": {
          "base_uri": "https://localhost:8080/"
        },
        "id": "eOUcZJtD-gz6",
        "outputId": "7ffc0430-86f8-47e9-d0d9-cf56b13bab0b"
      },
      "execution_count": null,
      "outputs": [
        {
          "output_type": "stream",
          "name": "stdout",
          "text": [
            "<class 'pandas.core.frame.DataFrame'>\n",
            "RangeIndex: 891 entries, 0 to 890\n",
            "Data columns (total 15 columns):\n",
            " #   Column       Non-Null Count  Dtype   \n",
            "---  ------       --------------  -----   \n",
            " 0   survived     891 non-null    int64   \n",
            " 1   pclass       891 non-null    int64   \n",
            " 2   sex          891 non-null    object  \n",
            " 3   age          714 non-null    float64 \n",
            " 4   sibsp        891 non-null    int64   \n",
            " 5   parch        891 non-null    int64   \n",
            " 6   fare         891 non-null    float64 \n",
            " 7   embarked     889 non-null    object  \n",
            " 8   class        891 non-null    category\n",
            " 9   who          891 non-null    object  \n",
            " 10  adult_male   891 non-null    bool    \n",
            " 11  deck         203 non-null    category\n",
            " 12  embark_town  889 non-null    object  \n",
            " 13  alive        891 non-null    object  \n",
            " 14  alone        891 non-null    bool    \n",
            "dtypes: bool(2), category(2), float64(2), int64(4), object(5)\n",
            "memory usage: 80.7+ KB\n",
            "None\n",
            "<class 'pandas.core.frame.DataFrame'>\n",
            "RangeIndex: 891 entries, 0 to 890\n",
            "Data columns (total 15 columns):\n",
            " #   Column       Non-Null Count  Dtype   \n",
            "---  ------       --------------  -----   \n",
            " 0   survived     891 non-null    int64   \n",
            " 1   pclass       891 non-null    int64   \n",
            " 2   sex          891 non-null    object  \n",
            " 3   age          891 non-null    float64 \n",
            " 4   sibsp        891 non-null    int64   \n",
            " 5   parch        891 non-null    int64   \n",
            " 6   fare         891 non-null    float64 \n",
            " 7   embarked     889 non-null    object  \n",
            " 8   class        891 non-null    category\n",
            " 9   who          891 non-null    object  \n",
            " 10  adult_male   891 non-null    bool    \n",
            " 11  deck         203 non-null    category\n",
            " 12  embark_town  889 non-null    object  \n",
            " 13  alive        891 non-null    object  \n",
            " 14  alone        891 non-null    bool    \n",
            "dtypes: bool(2), category(2), float64(2), int64(4), object(5)\n",
            "memory usage: 80.7+ KB\n",
            "None\n",
            "<class 'pandas.core.frame.DataFrame'>\n",
            "RangeIndex: 891 entries, 0 to 890\n",
            "Data columns (total 15 columns):\n",
            " #   Column       Non-Null Count  Dtype   \n",
            "---  ------       --------------  -----   \n",
            " 0   survived     891 non-null    int64   \n",
            " 1   pclass       891 non-null    int64   \n",
            " 2   sex          891 non-null    object  \n",
            " 3   age          891 non-null    float64 \n",
            " 4   sibsp        891 non-null    int64   \n",
            " 5   parch        891 non-null    int64   \n",
            " 6   fare         891 non-null    float64 \n",
            " 7   embarked     889 non-null    object  \n",
            " 8   class        891 non-null    category\n",
            " 9   who          891 non-null    object  \n",
            " 10  adult_male   891 non-null    bool    \n",
            " 11  deck         891 non-null    object  \n",
            " 12  embark_town  889 non-null    object  \n",
            " 13  alive        891 non-null    object  \n",
            " 14  alone        891 non-null    bool    \n",
            "dtypes: bool(2), category(1), float64(2), int64(4), object(6)\n",
            "memory usage: 86.4+ KB\n",
            "None\n"
          ]
        }
      ]
    },
    {
      "cell_type": "code",
      "source": [
        "titanic_data['deck']"
      ],
      "metadata": {
        "colab": {
          "base_uri": "https://localhost:8080/"
        },
        "id": "5IwZH1nFFqqw",
        "outputId": "5d7a779c-dbf7-4d03-f108-fa3eb73990c1"
      },
      "execution_count": null,
      "outputs": [
        {
          "output_type": "execute_result",
          "data": {
            "text/plain": [
              "0      NaN\n",
              "1        C\n",
              "2      NaN\n",
              "3        C\n",
              "4      NaN\n",
              "      ... \n",
              "886    NaN\n",
              "887      B\n",
              "888    NaN\n",
              "889      C\n",
              "890    NaN\n",
              "Name: deck, Length: 891, dtype: category\n",
              "Categories (7, object): ['A', 'B', 'C', 'D', 'E', 'F', 'G']"
            ]
          },
          "metadata": {},
          "execution_count": 12
        }
      ]
    },
    {
      "cell_type": "markdown",
      "source": [
        "**3.3.Les graphiques de dispersion**\n",
        "\n",
        "**3.3.1. En utilisant Matplotlib**"
      ],
      "metadata": {
        "id": "VFy8KVNJt-yh"
      }
    },
    {
      "cell_type": "code",
      "source": [
        "import numpy as np\n",
        "import matplotlib.pyplot as plt\n",
        "\n",
        "# Créer deux tableaux de données\n",
        "x = np.random.randn(100)\n",
        "y = np.random.randn(100)\n",
        "\n",
        "# Créer un graphique de dispersion\n",
        "plt.scatter(x, y)\n",
        "\n",
        "# Afficher le graphique\n",
        "plt.show()\n"
      ],
      "metadata": {
        "colab": {
          "base_uri": "https://localhost:8080/",
          "height": 265
        },
        "id": "eUjCDXPct-fg",
        "outputId": "ea34f2a7-5ca0-4e73-eb53-7f14297c3eab"
      },
      "execution_count": null,
      "outputs": [
        {
          "output_type": "display_data",
          "data": {
            "text/plain": [
              "<Figure size 432x288 with 1 Axes>"
            ],
            "image/png": "[encoded data removed]"
          },
          "metadata": {
            "needs_background": "light"
          }
        }
      ]
    },
    {
      "cell_type": "markdown",
      "source": [
        "**3.3.Les graphiques de dispersion**\n",
        "\n",
        "**3.3.2. En utilisant Seaborn**"
      ],
      "metadata": {
        "id": "qZy-gBTpu7ZA"
      }
    },
    {
      "cell_type": "code",
      "source": [
        "import seaborn as sns\n",
        "import matplotlib.pyplot as plt\n",
        "\n",
        "# Génération de données aléatoires\n",
        "# pour les variables x et y\n",
        "x = [1, 2, 3, 4, 5, 6, 7, 8, 9, 10]\n",
        "y = [1, 3, 2, 5, 7, 8, 8, 9, 10, 12]\n",
        "\n",
        "# Création du scatter plot avec Seaborn\n",
        "sns.scatterplot(x=x, y=y)\n",
        "\n",
        "# Ajout d'un titre et des étiquettes d'axe\n",
        "plt.title(\"Relation entre les variables x et y\")\n",
        "plt.xlabel(\"Variable x\")\n",
        "plt.ylabel(\"Variable y\")\n",
        "\n",
        "# Affichage du graphique\n",
        "plt.show()\n"
      ],
      "metadata": {
        "colab": {
          "base_uri": "https://localhost:8080/",
          "height": 295
        },
        "id": "yqhmHlS_Fq1d",
        "outputId": "f1482f99-ada9-49f2-8897-7f90dd106415"
      },
      "execution_count": null,
      "outputs": [
        {
          "output_type": "display_data",
          "data": {
            "text/plain": [
              "<Figure size 432x288 with 1 Axes>"
            ],
            "image/png": "[encoded data removed]"
          },
          "metadata": {
            "needs_background": "light"
          }
        }
      ]
    },
    {
      "cell_type": "markdown",
      "source": [
        "**3.4.1.**\n",
        "**Les Histogrammes avec Matplotlib**"
      ],
      "metadata": {
        "id": "LknE1X-Sys0z"
      }
    },
    {
      "cell_type": "code",
      "source": [
        "import matplotlib.pyplot as plt\n",
        "import random\n",
        "\n",
        "# Génération de données aléatoires\n",
        "data = [random.randint(1, 100) for i in range(100)]\n",
        "\n",
        "# Création de l'histogramme avec Matplotlib\n",
        "plt.hist(data)\n",
        "\n",
        "# Ajout d'un titre et des étiquettes d'axe\n",
        "plt.title(\"Histogramme des données\")\n",
        "plt.xlabel(\"Valeurs\")\n",
        "plt.ylabel(\"Fréquence\")\n",
        "\n",
        "# Affichage du graphique\n",
        "plt.show()\n"
      ],
      "metadata": {
        "colab": {
          "base_uri": "https://localhost:8080/",
          "height": 295
        },
        "id": "rkgtPW9QvKN8",
        "outputId": "9cfa67af-85fa-43a5-ae6d-04724f54d7f9"
      },
      "execution_count": null,
      "outputs": [
        {
          "output_type": "display_data",
          "data": {
            "text/plain": [
              "<Figure size 432x288 with 1 Axes>"
            ],
            "image/png": "[encoded data removed]"
          },
          "metadata": {
            "needs_background": "light"
          }
        }
      ]
    },
    {
      "cell_type": "markdown",
      "source": [
        "**3.4.1.**\n",
        "**Les Histogrammes avec Seaborn**"
      ],
      "metadata": {
        "id": "kQP5Gt0Az8cB"
      }
    },
    {
      "cell_type": "code",
      "source": [
        "import seaborn as sns\n",
        "import random\n",
        "\n",
        "# Génération de données aléatoires\n",
        "data = [random.randint(1, 100) for i in range(100)]\n",
        "\n",
        "# Création de l'histogramme avec Seaborn\n",
        "sns.histplot(data)\n",
        "\n",
        "# Ajout d'un titre et des étiquettes d'axe\n",
        "plt.title(\"Histogramme des données\")\n",
        "plt.xlabel(\"Valeurs\")\n",
        "plt.ylabel(\"Fréquence\")\n",
        "\n",
        "# Affichage du graphique\n",
        "plt.show()\n"
      ],
      "metadata": {
        "colab": {
          "base_uri": "https://localhost:8080/",
          "height": 295
        },
        "id": "XfSElsDXy1Jj",
        "outputId": "b44c2aa4-4bb0-4b5a-9300-137ccbce1885"
      },
      "execution_count": null,
      "outputs": [
        {
          "output_type": "display_data",
          "data": {
            "text/plain": [
              "<Figure size 432x288 with 1 Axes>"
            ],
            "image/png": "[encoded data removed]"
          },
          "metadata": {
            "needs_background": "light"
          }
        }
      ]
    },
    {
      "cell_type": "markdown",
      "source": [
        "**3.4.2. Les barres plots avec Matplotlib**"
      ],
      "metadata": {
        "id": "J0IEZFf04R8k"
      }
    },
    {
      "cell_type": "code",
      "source": [
        "import pandas as pd\n",
        "import matplotlib.pyplot as plt\n",
        "import seaborn as sns\n",
        "\n",
        "# Chargement des données Titanic passenger\n",
        "# à partir d'un fichier CSV\n",
        "titanic_df = pd.read_csv(\"/content/titanic (3).csv\")\n",
        "\n",
        "# Calcul du nombre de passagers dans chaque classe\n",
        "class_counts = titanic_df[\"Pclass\"].value_counts()\n",
        "\n",
        "# Création du bar plot avec Matplotlib\n",
        "plt.bar(x=class_counts.index, height=class_counts.values)\n",
        "\n",
        "# Ajout d'un titre et des étiquettes d'axe\n",
        "plt.title(\"Nombre de passagers par classe\")\n",
        "plt.xlabel(\"Classe\")\n",
        "plt.ylabel(\"Nombre de passagers\")\n"
      ],
      "metadata": {
        "colab": {
          "base_uri": "https://localhost:8080/",
          "height": 312
        },
        "id": "zBqjXxs10C1O",
        "outputId": "fad3ee49-a06c-49fd-d3ea-23bcee1799a0"
      },
      "execution_count": null,
      "outputs": [
        {
          "output_type": "execute_result",
          "data": {
            "text/plain": [
              "Text(0, 0.5, 'Nombre de passagers')"
            ]
          },
          "metadata": {},
          "execution_count": 7
        },
        {
          "output_type": "display_data",
          "data": {
            "text/plain": [
              "<Figure size 432x288 with 1 Axes>"
            ],
            "image/png": "[encoded data removed]"
          },
          "metadata": {
            "needs_background": "light"
          }
        }
      ]
    },
    {
      "cell_type": "markdown",
      "source": [
        "**3.4.2. Les barres plots avec Seaborn**"
      ],
      "metadata": {
        "id": "yt5M4juJ5s6g"
      }
    },
    {
      "cell_type": "code",
      "source": [
        "\n",
        "# Création du même bar plot avec Seaborn\n",
        "sns.barplot(x=\"Pclass\", y=\"Survived\",\n",
        "            data=titanic_df, estimator=len)\n",
        "\n",
        "# Ajout d'un titre et des étiquettes d'axe\n",
        "plt.title(\"Nombre de passagers par classe\")\n",
        "plt.xlabel(\"Classe\")\n",
        "plt.ylabel(\"Nombre de passagers\")\n",
        "\n",
        "# Affichage du graphique\n",
        "plt.show()"
      ],
      "metadata": {
        "colab": {
          "base_uri": "https://localhost:8080/",
          "height": 295
        },
        "id": "N3z6VnF54ezq",
        "outputId": "13403e58-96c7-41a2-b33f-4d8149360edf"
      },
      "execution_count": null,
      "outputs": [
        {
          "output_type": "display_data",
          "data": {
            "text/plain": [
              "<Figure size 432x288 with 1 Axes>"
            ],
            "image/png": "[encoded data removed]"
          },
          "metadata": {
            "needs_background": "light"
          }
        }
      ]
    },
    {
      "cell_type": "markdown",
      "source": [
        "**3.4.3.Les Boxplots**\n",
        "\n",
        "**a. En utilisant Matplotlib**"
      ],
      "metadata": {
        "id": "ibeIiivt8vlw"
      }
    },
    {
      "cell_type": "code",
      "source": [
        "import pandas as pd\n",
        "import matplotlib.pyplot as plt\n",
        "\n",
        "# Chargement des données Titanic passenger\n",
        "#à partir d'un fichier CSV\n",
        "titanic_df = pd.read_csv(\"/content/titanic (3).csv\")\n",
        "\n",
        "# Création du boxplot avec Matplotlib\n",
        "plt.boxplot(titanic_df[\"Age\"].dropna())\n",
        "\n",
        "# Ajout d'un titre et d'une étiquette d'axe\n",
        "plt.title(\"Répartition de l'âge des passagers\")\n",
        "plt.ylabel(\"Âge (années)\")\n",
        "\n",
        "# Affichage du graphique\n",
        "plt.show()\n"
      ],
      "metadata": {
        "colab": {
          "base_uri": "https://localhost:8080/",
          "height": 281
        },
        "id": "HEYkmjtT5yiC",
        "outputId": "5912ed9a-6437-44b1-d497-b24a9ba24646"
      },
      "execution_count": null,
      "outputs": [
        {
          "output_type": "display_data",
          "data": {
            "text/plain": [
              "<Figure size 432x288 with 1 Axes>"
            ],
            "image/png": "[encoded data removed]"
          },
          "metadata": {
            "needs_background": "light"
          }
        }
      ]
    },
    {
      "cell_type": "markdown",
      "source": [
        "**a. En utilisant Seaborn**"
      ],
      "metadata": {
        "id": "X0d2lIVP_pq7"
      }
    },
    {
      "cell_type": "code",
      "source": [
        "import seaborn as sns\n",
        "import pandas as pd\n",
        "\n",
        "# Chargement des données Titanic passenger\n",
        "#à partir d'un fichier CSV\n",
        "titanic_df = pd.read_csv(\"/content/titanic (3).csv\")\n",
        "\n",
        "# Création du boxplot avec Seaborn\n",
        "sns.boxplot(x=\"Pclass\", y=\"Age\", data=titanic_df)\n",
        "\n",
        "# Ajout d'un titre et d'étiquettes d'axe\n",
        "plt.title(\"Répartition de l'âge des passagers par classe\")\n",
        "plt.xlabel(\"Classe\")\n",
        "plt.ylabel(\"Âge (années)\")\n",
        "\n",
        "# Affichage du graphique\n",
        "plt.show()\n",
        "\n"
      ],
      "metadata": {
        "colab": {
          "base_uri": "https://localhost:8080/",
          "height": 295
        },
        "id": "VtDfdNz687g3",
        "outputId": "805a9d64-31df-454f-f924-66896595cab6"
      },
      "execution_count": null,
      "outputs": [
        {
          "output_type": "display_data",
          "data": {
            "text/plain": [
              "<Figure size 432x288 with 1 Axes>"
            ],
            "image/png": "[encoded data removed]"
          },
          "metadata": {
            "needs_background": "light"
          }
        }
      ]
    },
    {
      "cell_type": "code",
      "source": [
        "import seaborn as sns\n",
        "import pandas as pd\n",
        "from sklearn.preprocessing import StandardScaler\n",
        "import matplotlib.pyplot as plt\n",
        "\n",
        "# Chargement de la base de données Titanic\n",
        "titanic = sns.load_dataset(\"titanic\")\n",
        "\n",
        "# Sélection de features numériques pour les boxplots\n",
        "features = [\"age\", \"fare\"]\n",
        "\n",
        "# Création des boxplots avant la standardisation\n",
        "sns.set(style=\"whitegrid\")\n",
        "fig, ax = plt.subplots(figsize=(10, 5))\n",
        "ax = sns.boxplot(data=titanic[features])\n",
        "ax.set_title(\"Boxplots avant standardisation\")\n",
        "plt.show()\n",
        "\n",
        "# Standardisation des features sélectionnées\n",
        "scaler = StandardScaler()\n",
        "titanic[features] = scaler.fit_transform(titanic[features])\n",
        "\n",
        "# Création des boxplots après la standardisation\n",
        "fig, ax = plt.subplots(figsize=(10, 5))\n",
        "ax = sns.boxplot(data=titanic[features])\n",
        "ax.set_title(\"Boxplots après standardisation\")\n",
        "plt.show()\n"
      ],
      "metadata": {
        "colab": {
          "base_uri": "https://localhost:8080/",
          "height": 659
        },
        "id": "oOdsa9aT9yDI",
        "outputId": "596a1c78-e32c-4b7a-b0dd-e2cea638c96c"
      },
      "execution_count": null,
      "outputs": [
        {
          "output_type": "display_data",
          "data": {
            "text/plain": [
              "<Figure size 720x360 with 1 Axes>"
            ],
            "image/png": "[encoded data removed]"
          },
          "metadata": {}
        },
        {
          "output_type": "display_data",
          "data": {
            "text/plain": [
              "<Figure size 720x360 with 1 Axes>"
            ],
            "image/png": "[encoded data removed]"
          },
          "metadata": {}
        }
      ]
    },
    {
      "cell_type": "code",
      "source": [
        "titanic"
      ],
      "metadata": {
        "colab": {
          "base_uri": "https://localhost:8080/",
          "height": 423
        },
        "id": "6bdG5Ah5JbKr",
        "outputId": "cd7e6499-da80-4a9c-ca2b-9861d224a853"
      },
      "execution_count": null,
      "outputs": [
        {
          "output_type": "execute_result",
          "data": {
            "text/plain": [
              "     survived  pclass     sex       age  sibsp  parch      fare embarked  \\\n",
              "0           0       3    male -0.530377      1      0 -0.502445        S   \n",
              "1           1       1  female  0.571831      1      0  0.786845        C   \n",
              "2           1       3  female -0.254825      0      0 -0.488854        S   \n",
              "3           1       1  female  0.365167      1      0  0.420730        S   \n",
              "4           0       3    male  0.365167      0      0 -0.486337        S   \n",
              "..        ...     ...     ...       ...    ...    ...       ...      ...   \n",
              "886         0       2    male -0.185937      0      0 -0.386671        S   \n",
              "887         1       1  female -0.737041      0      0 -0.044381        S   \n",
              "888         0       3  female       NaN      1      2 -0.176263        S   \n",
              "889         1       1    male -0.254825      0      0 -0.044381        C   \n",
              "890         0       3    male  0.158503      0      0 -0.492378        Q   \n",
              "\n",
              "      class    who  adult_male deck  embark_town alive  alone  \n",
              "0     Third    man        True  NaN  Southampton    no  False  \n",
              "1     First  woman       False    C    Cherbourg   yes  False  \n",
              "2     Third  woman       False  NaN  Southampton   yes   True  \n",
              "3     First  woman       False    C  Southampton   yes  False  \n",
              "4     Third    man        True  NaN  Southampton    no   True  \n",
              "..      ...    ...         ...  ...          ...   ...    ...  \n",
              "886  Second    man        True  NaN  Southampton    no   True  \n",
              "887   First  woman       False    B  Southampton   yes   True  \n",
              "888   Third  woman       False  NaN  Southampton    no  False  \n",
              "889   First    man        True    C    Cherbourg   yes   True  \n",
              "890   Third    man        True  NaN   Queenstown    no   True  \n",
              "\n",
              "[891 rows x 15 columns]"
            ],
            "text/html": [
              "\n",
              "  <div id=\"df-bda492c9-77dd-42f5-adf1-5a17fbe328ca\">\n",
              "    <div class=\"colab-df-container\">\n",
              "      <div>\n",
              "<style scoped>\n",
              "    .dataframe tbody tr th:only-of-type {\n",
              "        vertical-align: middle;\n",
              "    }\n",
              "\n",
              "    .dataframe tbody tr th {\n",
              "        vertical-align: top;\n",
              "    }\n",
              "\n",
              "    .dataframe thead th {\n",
              "        text-align: right;\n",
              "    }\n",
              "</style>\n",
              "<table border=\"1\" class=\"dataframe\">\n",
              "  <thead>\n",
              "    <tr style=\"text-align: right;\">\n",
              "      <th></th>\n",
              "      <th>survived</th>\n",
              "      <th>pclass</th>\n",
              "      <th>sex</th>\n",
              "      <th>age</th>\n",
              "      <th>sibsp</th>\n",
              "      <th>parch</th>\n",
              "      <th>fare</th>\n",
              "      <th>embarked</th>\n",
              "      <th>class</th>\n",
              "      <th>who</th>\n",
              "      <th>adult_male</th>\n",
              "      <th>deck</th>\n",
              "      <th>embark_town</th>\n",
              "      <th>alive</th>\n",
              "      <th>alone</th>\n",
              "    </tr>\n",
              "  </thead>\n",
              "  <tbody>\n",
              "    <tr>\n",
              "      <th>0</th>\n",
              "      <td>0</td>\n",
              "      <td>3</td>\n",
              "      <td>male</td>\n",
              "      <td>-0.530377</td>\n",
              "      <td>1</td>\n",
              "      <td>0</td>\n",
              "      <td>-0.502445</td>\n",
              "      <td>S</td>\n",
              "      <td>Third</td>\n",
              "      <td>man</td>\n",
              "      <td>True</td>\n",
              "      <td>NaN</td>\n",
              "      <td>Southampton</td>\n",
              "      <td>no</td>\n",
              "      <td>False</td>\n",
              "    </tr>\n",
              "    <tr>\n",
              "      <th>1</th>\n",
              "      <td>1</td>\n",
              "      <td>1</td>\n",
              "      <td>female</td>\n",
              "      <td>0.571831</td>\n",
              "      <td>1</td>\n",
              "      <td>0</td>\n",
              "      <td>0.786845</td>\n",
              "      <td>C</td>\n",
              "      <td>First</td>\n",
              "      <td>woman</td>\n",
              "      <td>False</td>\n",
              "      <td>C</td>\n",
              "      <td>Cherbourg</td>\n",
              "      <td>yes</td>\n",
              "      <td>False</td>\n",
              "    </tr>\n",
              "    <tr>\n",
              "      <th>2</th>\n",
              "      <td>1</td>\n",
              "      <td>3</td>\n",
              "      <td>female</td>\n",
              "      <td>-0.254825</td>\n",
              "      <td>0</td>\n",
              "      <td>0</td>\n",
              "      <td>-0.488854</td>\n",
              "      <td>S</td>\n",
              "      <td>Third</td>\n",
              "      <td>woman</td>\n",
              "      <td>False</td>\n",
              "      <td>NaN</td>\n",
              "      <td>Southampton</td>\n",
              "      <td>yes</td>\n",
              "      <td>True</td>\n",
              "    </tr>\n",
              "    <tr>\n",
              "      <th>3</th>\n",
              "      <td>1</td>\n",
              "      <td>1</td>\n",
              "      <td>female</td>\n",
              "      <td>0.365167</td>\n",
              "      <td>1</td>\n",
              "      <td>0</td>\n",
              "      <td>0.420730</td>\n",
              "      <td>S</td>\n",
              "      <td>First</td>\n",
              "      <td>woman</td>\n",
              "      <td>False</td>\n",
              "      <td>C</td>\n",
              "      <td>Southampton</td>\n",
              "      <td>yes</td>\n",
              "      <td>False</td>\n",
              "    </tr>\n",
              "    <tr>\n",
              "      <th>4</th>\n",
              "      <td>0</td>\n",
              "      <td>3</td>\n",
              "      <td>male</td>\n",
              "      <td>0.365167</td>\n",
              "      <td>0</td>\n",
              "      <td>0</td>\n",
              "      <td>-0.486337</td>\n",
              "      <td>S</td>\n",
              "      <td>Third</td>\n",
              "      <td>man</td>\n",
              "      <td>True</td>\n",
              "      <td>NaN</td>\n",
              "      <td>Southampton</td>\n",
              "      <td>no</td>\n",
              "      <td>True</td>\n",
              "    </tr>\n",
              "    <tr>\n",
              "      <th>...</th>\n",
              "      <td>...</td>\n",
              "      <td>...</td>\n",
              "      <td>...</td>\n",
              "      <td>...</td>\n",
              "      <td>...</td>\n",
              "      <td>...</td>\n",
              "      <td>...</td>\n",
              "      <td>...</td>\n",
              "      <td>...</td>\n",
              "      <td>...</td>\n",
              "      <td>...</td>\n",
              "      <td>...</td>\n",
              "      <td>...</td>\n",
              "      <td>...</td>\n",
              "      <td>...</td>\n",
              "    </tr>\n",
              "    <tr>\n",
              "      <th>886</th>\n",
              "      <td>0</td>\n",
              "      <td>2</td>\n",
              "      <td>male</td>\n",
              "      <td>-0.185937</td>\n",
              "      <td>0</td>\n",
              "      <td>0</td>\n",
              "      <td>-0.386671</td>\n",
              "      <td>S</td>\n",
              "      <td>Second</td>\n",
              "      <td>man</td>\n",
              "      <td>True</td>\n",
              "      <td>NaN</td>\n",
              "      <td>Southampton</td>\n",
              "      <td>no</td>\n",
              "      <td>True</td>\n",
              "    </tr>\n",
              "    <tr>\n",
              "      <th>887</th>\n",
              "      <td>1</td>\n",
              "      <td>1</td>\n",
              "      <td>female</td>\n",
              "      <td>-0.737041</td>\n",
              "      <td>0</td>\n",
              "      <td>0</td>\n",
              "      <td>-0.044381</td>\n",
              "      <td>S</td>\n",
              "      <td>First</td>\n",
              "      <td>woman</td>\n",
              "      <td>False</td>\n",
              "      <td>B</td>\n",
              "      <td>Southampton</td>\n",
              "      <td>yes</td>\n",
              "      <td>True</td>\n",
              "    </tr>\n",
              "    <tr>\n",
              "      <th>888</th>\n",
              "      <td>0</td>\n",
              "      <td>3</td>\n",
              "      <td>female</td>\n",
              "      <td>NaN</td>\n",
              "      <td>1</td>\n",
              "      <td>2</td>\n",
              "      <td>-0.176263</td>\n",
              "      <td>S</td>\n",
              "      <td>Third</td>\n",
              "      <td>woman</td>\n",
              "      <td>False</td>\n",
              "      <td>NaN</td>\n",
              "      <td>Southampton</td>\n",
              "      <td>no</td>\n",
              "      <td>False</td>\n",
              "    </tr>\n",
              "    <tr>\n",
              "      <th>889</th>\n",
              "      <td>1</td>\n",
              "      <td>1</td>\n",
              "      <td>male</td>\n",
              "      <td>-0.254825</td>\n",
              "      <td>0</td>\n",
              "      <td>0</td>\n",
              "      <td>-0.044381</td>\n",
              "      <td>C</td>\n",
              "      <td>First</td>\n",
              "      <td>man</td>\n",
              "      <td>True</td>\n",
              "      <td>C</td>\n",
              "      <td>Cherbourg</td>\n",
              "      <td>yes</td>\n",
              "      <td>True</td>\n",
              "    </tr>\n",
              "    <tr>\n",
              "      <th>890</th>\n",
              "      <td>0</td>\n",
              "      <td>3</td>\n",
              "      <td>male</td>\n",
              "      <td>0.158503</td>\n",
              "      <td>0</td>\n",
              "      <td>0</td>\n",
              "      <td>-0.492378</td>\n",
              "      <td>Q</td>\n",
              "      <td>Third</td>\n",
              "      <td>man</td>\n",
              "      <td>True</td>\n",
              "      <td>NaN</td>\n",
              "      <td>Queenstown</td>\n",
              "      <td>no</td>\n",
              "      <td>True</td>\n",
              "    </tr>\n",
              "  </tbody>\n",
              "</table>\n",
              "<p>891 rows × 15 columns</p>\n",
              "</div>\n",
              "      <button class=\"colab-df-convert\" onclick=\"convertToInteractive('df-bda492c9-77dd-42f5-adf1-5a17fbe328ca')\"\n",
              "              title=\"Convert this dataframe to an interactive table.\"\n",
              "              style=\"display:none;\">\n",
              "        \n",
              "  <svg xmlns=\"http://www.w3.org/2000/svg\" height=\"24px\"viewBox=\"0 0 24 24\"\n",
              "       width=\"24px\">\n",
              "    <path d=\"M0 0h24v24H0V0z\" fill=\"none\"/>\n",
              "    <path d=\"M18.56 5.44l.94 2.06.94-2.06 2.06-.94-2.06-.94-.94-2.06-.94 2.06-2.06.94zm-11 1L8.5 8.5l.94-2.06 2.06-.94-2.06-.94L8.5 2.5l-.94 2.06-2.06.94zm10 10l.94 2.06.94-2.06 2.06-.94-2.06-.94-.94-2.06-.94 2.06-2.06.94z\"/><path d=\"M17.41 7.96l-1.37-1.37c-.4-.4-.92-.59-1.43-.59-.52 0-1.04.2-1.43.59L10.3 9.45l-7.72 7.72c-.78.78-.78 2.05 0 2.83L4 21.41c.39.39.9.59 1.41.59.51 0 1.02-.2 1.41-.59l7.78-7.78 2.81-2.81c.8-.78.8-2.07 0-2.86zM5.41 20L4 18.59l7.72-7.72 1.47 1.35L5.41 20z\"/>\n",
              "  </svg>\n",
              "      </button>\n",
              "      \n",
              "  <style>\n",
              "    .colab-df-container {\n",
              "      display:flex;\n",
              "      flex-wrap:wrap;\n",
              "      gap: 12px;\n",
              "    }\n",
              "\n",
              "    .colab-df-convert {\n",
              "      background-color: #E8F0FE;\n",
              "      border: none;\n",
              "      border-radius: 50%;\n",
              "      cursor: pointer;\n",
              "      display: none;\n",
              "      fill: #1967D2;\n",
              "      height: 32px;\n",
              "      padding: 0 0 0 0;\n",
              "      width: 32px;\n",
              "    }\n",
              "\n",
              "    .colab-df-convert:hover {\n",
              "      background-color: #E2EBFA;\n",
              "      box-shadow: 0px 1px 2px rgba(60, 64, 67, 0.3), 0px 1px 3px 1px rgba(60, 64, 67, 0.15);\n",
              "      fill: #174EA6;\n",
              "    }\n",
              "\n",
              "    [theme=dark] .colab-df-convert {\n",
              "      background-color: #3B4455;\n",
              "      fill: #D2E3FC;\n",
              "    }\n",
              "\n",
              "    [theme=dark] .colab-df-convert:hover {\n",
              "      background-color: #434B5C;\n",
              "      box-shadow: 0px 1px 3px 1px rgba(0, 0, 0, 0.15);\n",
              "      filter: drop-shadow(0px 1px 2px rgba(0, 0, 0, 0.3));\n",
              "      fill: #FFFFFF;\n",
              "    }\n",
              "  </style>\n",
              "\n",
              "      <script>\n",
              "        const buttonEl =\n",
              "          document.querySelector('#df-bda492c9-77dd-42f5-adf1-5a17fbe328ca button.colab-df-convert');\n",
              "        buttonEl.style.display =\n",
              "          google.colab.kernel.accessAllowed ? 'block' : 'none';\n",
              "\n",
              "        async function convertToInteractive(key) {\n",
              "          const element = document.querySelector('#df-bda492c9-77dd-42f5-adf1-5a17fbe328ca');\n",
              "          const dataTable =\n",
              "            await google.colab.kernel.invokeFunction('convertToInteractive',\n",
              "                                                     [key], {});\n",
              "          if (!dataTable) return;\n",
              "\n",
              "          const docLinkHtml = 'Like what you see? Visit the ' +\n",
              "            '<a target=\"_blank\" href=https://colab.research.google.com/notebooks/data_table.ipynb>data table notebook</a>'\n",
              "            + ' to learn more about interactive tables.';\n",
              "          element.innerHTML = '';\n",
              "          dataTable['output_type'] = 'display_data';\n",
              "          await google.colab.output.renderOutput(dataTable, element);\n",
              "          const docLink = document.createElement('div');\n",
              "          docLink.innerHTML = docLinkHtml;\n",
              "          element.appendChild(docLink);\n",
              "        }\n",
              "      </script>\n",
              "    </div>\n",
              "  </div>\n",
              "  "
            ]
          },
          "metadata": {},
          "execution_count": 19
        }
      ]
    },
    {
      "cell_type": "code",
      "source": [
        "titanic = sns.load_dataset(\"titanic\")\n",
        "titanic"
      ],
      "metadata": {
        "colab": {
          "base_uri": "https://localhost:8080/",
          "height": 423
        },
        "id": "nPUOdEArI8_W",
        "outputId": "0f84c0c9-c8b0-49c8-b146-2372eec70b87"
      },
      "execution_count": null,
      "outputs": [
        {
          "output_type": "execute_result",
          "data": {
            "text/plain": [
              "     survived  pclass     sex   age  sibsp  parch     fare embarked   class  \\\n",
              "0           0       3    male  22.0      1      0   7.2500        S   Third   \n",
              "1           1       1  female  38.0      1      0  71.2833        C   First   \n",
              "2           1       3  female  26.0      0      0   7.9250        S   Third   \n",
              "3           1       1  female  35.0      1      0  53.1000        S   First   \n",
              "4           0       3    male  35.0      0      0   8.0500        S   Third   \n",
              "..        ...     ...     ...   ...    ...    ...      ...      ...     ...   \n",
              "886         0       2    male  27.0      0      0  13.0000        S  Second   \n",
              "887         1       1  female  19.0      0      0  30.0000        S   First   \n",
              "888         0       3  female   NaN      1      2  23.4500        S   Third   \n",
              "889         1       1    male  26.0      0      0  30.0000        C   First   \n",
              "890         0       3    male  32.0      0      0   7.7500        Q   Third   \n",
              "\n",
              "       who  adult_male deck  embark_town alive  alone  \n",
              "0      man        True  NaN  Southampton    no  False  \n",
              "1    woman       False    C    Cherbourg   yes  False  \n",
              "2    woman       False  NaN  Southampton   yes   True  \n",
              "3    woman       False    C  Southampton   yes  False  \n",
              "4      man        True  NaN  Southampton    no   True  \n",
              "..     ...         ...  ...          ...   ...    ...  \n",
              "886    man        True  NaN  Southampton    no   True  \n",
              "887  woman       False    B  Southampton   yes   True  \n",
              "888  woman       False  NaN  Southampton    no  False  \n",
              "889    man        True    C    Cherbourg   yes   True  \n",
              "890    man        True  NaN   Queenstown    no   True  \n",
              "\n",
              "[891 rows x 15 columns]"
            ],
            "text/html": [
              "\n",
              "  <div id=\"df-3601ea8c-d1b7-4e95-b6ac-d9b420fcb960\">\n",
              "    <div class=\"colab-df-container\">\n",
              "      <div>\n",
              "<style scoped>\n",
              "    .dataframe tbody tr th:only-of-type {\n",
              "        vertical-align: middle;\n",
              "    }\n",
              "\n",
              "    .dataframe tbody tr th {\n",
              "        vertical-align: top;\n",
              "    }\n",
              "\n",
              "    .dataframe thead th {\n",
              "        text-align: right;\n",
              "    }\n",
              "</style>\n",
              "<table border=\"1\" class=\"dataframe\">\n",
              "  <thead>\n",
              "    <tr style=\"text-align: right;\">\n",
              "      <th></th>\n",
              "      <th>survived</th>\n",
              "      <th>pclass</th>\n",
              "      <th>sex</th>\n",
              "      <th>age</th>\n",
              "      <th>sibsp</th>\n",
              "      <th>parch</th>\n",
              "      <th>fare</th>\n",
              "      <th>embarked</th>\n",
              "      <th>class</th>\n",
              "      <th>who</th>\n",
              "      <th>adult_male</th>\n",
              "      <th>deck</th>\n",
              "      <th>embark_town</th>\n",
              "      <th>alive</th>\n",
              "      <th>alone</th>\n",
              "    </tr>\n",
              "  </thead>\n",
              "  <tbody>\n",
              "    <tr>\n",
              "      <th>0</th>\n",
              "      <td>0</td>\n",
              "      <td>3</td>\n",
              "      <td>male</td>\n",
              "      <td>22.0</td>\n",
              "      <td>1</td>\n",
              "      <td>0</td>\n",
              "      <td>7.2500</td>\n",
              "      <td>S</td>\n",
              "      <td>Third</td>\n",
              "      <td>man</td>\n",
              "      <td>True</td>\n",
              "      <td>NaN</td>\n",
              "      <td>Southampton</td>\n",
              "      <td>no</td>\n",
              "      <td>False</td>\n",
              "    </tr>\n",
              "    <tr>\n",
              "      <th>1</th>\n",
              "      <td>1</td>\n",
              "      <td>1</td>\n",
              "      <td>female</td>\n",
              "      <td>38.0</td>\n",
              "      <td>1</td>\n",
              "      <td>0</td>\n",
              "      <td>71.2833</td>\n",
              "      <td>C</td>\n",
              "      <td>First</td>\n",
              "      <td>woman</td>\n",
              "      <td>False</td>\n",
              "      <td>C</td>\n",
              "      <td>Cherbourg</td>\n",
              "      <td>yes</td>\n",
              "      <td>False</td>\n",
              "    </tr>\n",
              "    <tr>\n",
              "      <th>2</th>\n",
              "      <td>1</td>\n",
              "      <td>3</td>\n",
              "      <td>female</td>\n",
              "      <td>26.0</td>\n",
              "      <td>0</td>\n",
              "      <td>0</td>\n",
              "      <td>7.9250</td>\n",
              "      <td>S</td>\n",
              "      <td>Third</td>\n",
              "      <td>woman</td>\n",
              "      <td>False</td>\n",
              "      <td>NaN</td>\n",
              "      <td>Southampton</td>\n",
              "      <td>yes</td>\n",
              "      <td>True</td>\n",
              "    </tr>\n",
              "    <tr>\n",
              "      <th>3</th>\n",
              "      <td>1</td>\n",
              "      <td>1</td>\n",
              "      <td>female</td>\n",
              "      <td>35.0</td>\n",
              "      <td>1</td>\n",
              "      <td>0</td>\n",
              "      <td>53.1000</td>\n",
              "      <td>S</td>\n",
              "      <td>First</td>\n",
              "      <td>woman</td>\n",
              "      <td>False</td>\n",
              "      <td>C</td>\n",
              "      <td>Southampton</td>\n",
              "      <td>yes</td>\n",
              "      <td>False</td>\n",
              "    </tr>\n",
              "    <tr>\n",
              "      <th>4</th>\n",
              "      <td>0</td>\n",
              "      <td>3</td>\n",
              "      <td>male</td>\n",
              "      <td>35.0</td>\n",
              "      <td>0</td>\n",
              "      <td>0</td>\n",
              "      <td>8.0500</td>\n",
              "      <td>S</td>\n",
              "      <td>Third</td>\n",
              "      <td>man</td>\n",
              "      <td>True</td>\n",
              "      <td>NaN</td>\n",
              "      <td>Southampton</td>\n",
              "      <td>no</td>\n",
              "      <td>True</td>\n",
              "    </tr>\n",
              "    <tr>\n",
              "      <th>...</th>\n",
              "      <td>...</td>\n",
              "      <td>...</td>\n",
              "      <td>...</td>\n",
              "      <td>...</td>\n",
              "      <td>...</td>\n",
              "      <td>...</td>\n",
              "      <td>...</td>\n",
              "      <td>...</td>\n",
              "      <td>...</td>\n",
              "      <td>...</td>\n",
              "      <td>...</td>\n",
              "      <td>...</td>\n",
              "      <td>...</td>\n",
              "      <td>...</td>\n",
              "      <td>...</td>\n",
              "    </tr>\n",
              "    <tr>\n",
              "      <th>886</th>\n",
              "      <td>0</td>\n",
              "      <td>2</td>\n",
              "      <td>male</td>\n",
              "      <td>27.0</td>\n",
              "      <td>0</td>\n",
              "      <td>0</td>\n",
              "      <td>13.0000</td>\n",
              "      <td>S</td>\n",
              "      <td>Second</td>\n",
              "      <td>man</td>\n",
              "      <td>True</td>\n",
              "      <td>NaN</td>\n",
              "      <td>Southampton</td>\n",
              "      <td>no</td>\n",
              "      <td>True</td>\n",
              "    </tr>\n",
              "    <tr>\n",
              "      <th>887</th>\n",
              "      <td>1</td>\n",
              "      <td>1</td>\n",
              "      <td>female</td>\n",
              "      <td>19.0</td>\n",
              "      <td>0</td>\n",
              "      <td>0</td>\n",
              "      <td>30.0000</td>\n",
              "      <td>S</td>\n",
              "      <td>First</td>\n",
              "      <td>woman</td>\n",
              "      <td>False</td>\n",
              "      <td>B</td>\n",
              "      <td>Southampton</td>\n",
              "      <td>yes</td>\n",
              "      <td>True</td>\n",
              "    </tr>\n",
              "    <tr>\n",
              "      <th>888</th>\n",
              "      <td>0</td>\n",
              "      <td>3</td>\n",
              "      <td>female</td>\n",
              "      <td>NaN</td>\n",
              "      <td>1</td>\n",
              "      <td>2</td>\n",
              "      <td>23.4500</td>\n",
              "      <td>S</td>\n",
              "      <td>Third</td>\n",
              "      <td>woman</td>\n",
              "      <td>False</td>\n",
              "      <td>NaN</td>\n",
              "      <td>Southampton</td>\n",
              "      <td>no</td>\n",
              "      <td>False</td>\n",
              "    </tr>\n",
              "    <tr>\n",
              "      <th>889</th>\n",
              "      <td>1</td>\n",
              "      <td>1</td>\n",
              "      <td>male</td>\n",
              "      <td>26.0</td>\n",
              "      <td>0</td>\n",
              "      <td>0</td>\n",
              "      <td>30.0000</td>\n",
              "      <td>C</td>\n",
              "      <td>First</td>\n",
              "      <td>man</td>\n",
              "      <td>True</td>\n",
              "      <td>C</td>\n",
              "      <td>Cherbourg</td>\n",
              "      <td>yes</td>\n",
              "      <td>True</td>\n",
              "    </tr>\n",
              "    <tr>\n",
              "      <th>890</th>\n",
              "      <td>0</td>\n",
              "      <td>3</td>\n",
              "      <td>male</td>\n",
              "      <td>32.0</td>\n",
              "      <td>0</td>\n",
              "      <td>0</td>\n",
              "      <td>7.7500</td>\n",
              "      <td>Q</td>\n",
              "      <td>Third</td>\n",
              "      <td>man</td>\n",
              "      <td>True</td>\n",
              "      <td>NaN</td>\n",
              "      <td>Queenstown</td>\n",
              "      <td>no</td>\n",
              "      <td>True</td>\n",
              "    </tr>\n",
              "  </tbody>\n",
              "</table>\n",
              "<p>891 rows × 15 columns</p>\n",
              "</div>\n",
              "      <button class=\"colab-df-convert\" onclick=\"convertToInteractive('df-3601ea8c-d1b7-4e95-b6ac-d9b420fcb960')\"\n",
              "              title=\"Convert this dataframe to an interactive table.\"\n",
              "              style=\"display:none;\">\n",
              "        \n",
              "  <svg xmlns=\"http://www.w3.org/2000/svg\" height=\"24px\"viewBox=\"0 0 24 24\"\n",
              "       width=\"24px\">\n",
              "    <path d=\"M0 0h24v24H0V0z\" fill=\"none\"/>\n",
              "    <path d=\"M18.56 5.44l.94 2.06.94-2.06 2.06-.94-2.06-.94-.94-2.06-.94 2.06-2.06.94zm-11 1L8.5 8.5l.94-2.06 2.06-.94-2.06-.94L8.5 2.5l-.94 2.06-2.06.94zm10 10l.94 2.06.94-2.06 2.06-.94-2.06-.94-.94-2.06-.94 2.06-2.06.94z\"/><path d=\"M17.41 7.96l-1.37-1.37c-.4-.4-.92-.59-1.43-.59-.52 0-1.04.2-1.43.59L10.3 9.45l-7.72 7.72c-.78.78-.78 2.05 0 2.83L4 21.41c.39.39.9.59 1.41.59.51 0 1.02-.2 1.41-.59l7.78-7.78 2.81-2.81c.8-.78.8-2.07 0-2.86zM5.41 20L4 18.59l7.72-7.72 1.47 1.35L5.41 20z\"/>\n",
              "  </svg>\n",
              "      </button>\n",
              "      \n",
              "  <style>\n",
              "    .colab-df-container {\n",
              "      display:flex;\n",
              "      flex-wrap:wrap;\n",
              "      gap: 12px;\n",
              "    }\n",
              "\n",
              "    .colab-df-convert {\n",
              "      background-color: #E8F0FE;\n",
              "      border: none;\n",
              "      border-radius: 50%;\n",
              "      cursor: pointer;\n",
              "      display: none;\n",
              "      fill: #1967D2;\n",
              "      height: 32px;\n",
              "      padding: 0 0 0 0;\n",
              "      width: 32px;\n",
              "    }\n",
              "\n",
              "    .colab-df-convert:hover {\n",
              "      background-color: #E2EBFA;\n",
              "      box-shadow: 0px 1px 2px rgba(60, 64, 67, 0.3), 0px 1px 3px 1px rgba(60, 64, 67, 0.15);\n",
              "      fill: #174EA6;\n",
              "    }\n",
              "\n",
              "    [theme=dark] .colab-df-convert {\n",
              "      background-color: #3B4455;\n",
              "      fill: #D2E3FC;\n",
              "    }\n",
              "\n",
              "    [theme=dark] .colab-df-convert:hover {\n",
              "      background-color: #434B5C;\n",
              "      box-shadow: 0px 1px 3px 1px rgba(0, 0, 0, 0.15);\n",
              "      filter: drop-shadow(0px 1px 2px rgba(0, 0, 0, 0.3));\n",
              "      fill: #FFFFFF;\n",
              "    }\n",
              "  </style>\n",
              "\n",
              "      <script>\n",
              "        const buttonEl =\n",
              "          document.querySelector('#df-3601ea8c-d1b7-4e95-b6ac-d9b420fcb960 button.colab-df-convert');\n",
              "        buttonEl.style.display =\n",
              "          google.colab.kernel.accessAllowed ? 'block' : 'none';\n",
              "\n",
              "        async function convertToInteractive(key) {\n",
              "          const element = document.querySelector('#df-3601ea8c-d1b7-4e95-b6ac-d9b420fcb960');\n",
              "          const dataTable =\n",
              "            await google.colab.kernel.invokeFunction('convertToInteractive',\n",
              "                                                     [key], {});\n",
              "          if (!dataTable) return;\n",
              "\n",
              "          const docLinkHtml = 'Like what you see? Visit the ' +\n",
              "            '<a target=\"_blank\" href=https://colab.research.google.com/notebooks/data_table.ipynb>data table notebook</a>'\n",
              "            + ' to learn more about interactive tables.';\n",
              "          element.innerHTML = '';\n",
              "          dataTable['output_type'] = 'display_data';\n",
              "          await google.colab.output.renderOutput(dataTable, element);\n",
              "          const docLink = document.createElement('div');\n",
              "          docLink.innerHTML = docLinkHtml;\n",
              "          element.appendChild(docLink);\n",
              "        }\n",
              "      </script>\n",
              "    </div>\n",
              "  </div>\n",
              "  "
            ]
          },
          "metadata": {},
          "execution_count": 20
        }
      ]
    },
    {
      "cell_type": "markdown",
      "source": [
        "**3.5. La standardisation**"
      ],
      "metadata": {
        "id": "EpweQwtIE5SA"
      }
    },
    {
      "cell_type": "code",
      "source": [
        "import pandas as pd\n",
        "import numpy as np\n",
        "from sklearn.preprocessing import StandardScaler\n",
        "import matplotlib.pyplot as plt\n",
        "\n",
        "# Créer un DataFrame de 3 colonnes de 10 lignes\n",
        "# chacune avec des données aléatoires\n",
        "df = pd.DataFrame({'colonne_1': np.random.normal(10, 5, 10),\n",
        "                   'colonne_2': np.random.normal(50, 10, 10),\n",
        "                   'colonne_3': np.random.normal(100, 20, 10)})\n",
        "\n",
        "# Afficher les boxplots avant la standardisation\n",
        "df.boxplot()\n",
        "plt.title(\"Boxplots avant la standardisation\")\n",
        "plt.show()\n",
        "\n",
        "# Standardiser les données avec la\n",
        "# fonction StandardScaler\n",
        "scaler = StandardScaler()\n",
        "df_standardized = scaler.fit_transform(df)\n",
        "\n",
        "# Créer un nouveau DataFrame avec les\n",
        "# données standardisées\n",
        "df_standardized = pd.DataFrame(df_standardized,\n",
        "                               columns=df.columns)\n",
        "\n",
        "# Afficher les boxplots après la standardisation\n",
        "df_standardized.boxplot()\n",
        "plt.title(\"Boxplots après la standardisation\")\n",
        "plt.show()\n"
      ],
      "metadata": {
        "id": "SR9FW22aJ25X",
        "colab": {
          "base_uri": "https://localhost:8080/",
          "height": 547
        },
        "outputId": "32bc9cec-ca1c-46e1-d69f-895cf2b3e640"
      },
      "execution_count": null,
      "outputs": [
        {
          "output_type": "display_data",
          "data": {
            "text/plain": [
              "<Figure size 432x288 with 1 Axes>"
            ],
            "image/png": "[encoded data removed]"
          },
          "metadata": {
            "needs_background": "light"
          }
        },
        {
          "output_type": "display_data",
          "data": {
            "text/plain": [
              "<Figure size 432x288 with 1 Axes>"
            ],
            "image/png": "[encoded data removed]"
          },
          "metadata": {
            "needs_background": "light"
          }
        }
      ]
    },
    {
      "cell_type": "markdown",
      "source": [
        "**3.6. La suppression des valeurs aberrantes**"
      ],
      "metadata": {
        "id": "p8BksSoTP5Tl"
      }
    },
    {
      "cell_type": "code",
      "source": [
        "import pandas as pd\n",
        "import matplotlib.pyplot as plt\n",
        "\n",
        "# Télécharger le fichier de données Boston Housing\n",
        "url = 'https://archive.ics.uci.edu/ml/machine-learning-databases/housing/housing.data'\n",
        "column_names = ['CRIM', 'ZN', 'INDUS', 'CHAS', 'NOX', 'RM', 'AGE',\n",
        "                'DIS', 'RAD', 'TAX', 'PTRATIO', 'B', 'LSTAT', 'MEDV']\n",
        "df = pd.read_csv(url, delim_whitespace=True, names=column_names)\n",
        "\n",
        "# Afficher les boxplots avec les valeurs aberrantes\n",
        "plt.figure(figsize=(10,6))\n",
        "df.boxplot(column=column_names)\n",
        "plt.title(\"Boxplots avec les valeurs aberrantes\")\n",
        "plt.show()\n",
        "\n",
        "# Supprimer les valeurs aberrantes\n",
        "q1 = df.quantile(0.25)\n",
        "q3 = df.quantile(0.75)\n",
        "iqr = q3 - q1\n",
        "df_clean = df[~((df < (q1 - 1.5 * iqr)) | (df > (q3 + 1.5 * iqr))).any(axis=1)]\n",
        "\n",
        "# Afficher les boxplots sans les valeurs aberrantes\n",
        "plt.figure(figsize=(10,6))\n",
        "df_clean.boxplot(column=column_names)\n",
        "plt.title(\"Boxplots sans les valeurs aberrantes\")\n",
        "plt.show()\n"
      ],
      "metadata": {
        "colab": {
          "base_uri": "https://localhost:8080/",
          "height": 763
        },
        "id": "sWpNo6YSFS-K",
        "outputId": "d1314538-f026-4cf4-adb3-fd59454dbc6e"
      },
      "execution_count": null,
      "outputs": [
        {
          "output_type": "display_data",
          "data": {
            "text/plain": [
              "<Figure size 720x432 with 1 Axes>"
            ],
            "image/png": "[encoded data removed]"
          },
          "metadata": {
            "needs_background": "light"
          }
        },
        {
          "output_type": "display_data",
          "data": {
            "text/plain": [
              "<Figure size 720x432 with 1 Axes>"
            ],
            "image/png": "[encoded data removed]"
          },
          "metadata": {
            "needs_background": "light"
          }
        }
      ]
    },
    {
      "cell_type": "markdown",
      "source": [
        "**3.7. Les Heatmaps**"
      ],
      "metadata": {
        "id": "xF_K7pnYyTmr"
      }
    },
    {
      "cell_type": "code",
      "source": [
        "import seaborn as sns\n",
        "import numpy as np\n",
        "\n",
        "# Créer une matrice de corrélation\n",
        "#aléatoire de 5 variables\n",
        "corr_matrix = np.random.rand(5, 5)\n",
        "print(corr_matrix)\n",
        "\n",
        "# Créer une heat map de la matrice de corrélation\n",
        "# avec une palette de couleurs bleu-vert-rouge\n",
        "sns.heatmap(corr_matrix, cmap=\"coolwarm\",annot = True)\n"
      ],
      "metadata": {
        "colab": {
          "base_uri": "https://localhost:8080/",
          "height": 373
        },
        "id": "UTobXRbyQGM_",
        "outputId": "d1fcfefd-79a2-43bf-e8ae-434acd5b1734"
      },
      "execution_count": null,
      "outputs": [
        {
          "output_type": "stream",
          "name": "stdout",
          "text": [
            "[[0.45097686 0.62934127 0.45619511 0.18149334 0.87155201]\n",
            " [0.70414741 0.92133906 0.13540637 0.04716983 0.46513734]\n",
            " [0.10883685 0.39687257 0.19146636 0.70314126 0.3375822 ]\n",
            " [0.62689718 0.97353077 0.9095591  0.7623116  0.03335577]\n",
            " [0.31137007 0.30305282 0.06201926 0.62112655 0.17704582]]\n"
          ]
        },
        {
          "output_type": "execute_result",
          "data": {
            "text/plain": [
              "<AxesSubplot:>"
            ]
          },
          "metadata": {},
          "execution_count": 14
        },
        {
          "output_type": "display_data",
          "data": {
            "text/plain": [
              "<Figure size 432x288 with 2 Axes>"
            ],
            "image/png": "[encoded data removed]"
          },
          "metadata": {
            "needs_background": "light"
          }
        }
      ]
    },
    {
      "cell_type": "code",
      "source": [],
      "metadata": {
        "id": "kLB30m-9yhFm"
      },
      "execution_count": null,
      "outputs": []
    }
  ]
}