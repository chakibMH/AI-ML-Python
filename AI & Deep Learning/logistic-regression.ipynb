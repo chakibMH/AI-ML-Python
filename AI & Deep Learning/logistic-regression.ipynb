{
 "cells": [
  {
   "cell_type": "code",
   "execution_count": 1,
   "id": "3889952c",
   "metadata": {
    "_cell_guid": "b1076dfc-b9ad-4769-8c92-a6c4dae69d19",
    "_uuid": "8f2839f25d086af736a60e9eeb907d3b93b6e0e5",
    "execution": {
     "iopub.execute_input": "2022-09-21T16:39:11.854864Z",
     "iopub.status.busy": "2022-09-21T16:39:11.853970Z",
     "iopub.status.idle": "2022-09-21T16:39:11.865328Z",
     "shell.execute_reply": "2022-09-21T16:39:11.864039Z"
    },
    "papermill": {
     "duration": 0.023231,
     "end_time": "2022-09-21T16:39:11.868211",
     "exception": false,
     "start_time": "2022-09-21T16:39:11.844980",
     "status": "completed"
    },
    "tags": []
   },
   "outputs": [],
   "source": [
    "import pandas as pd\n",
    "import numpy as np"
   ]
  },
  {
   "cell_type": "code",
   "execution_count": 2,
   "id": "f1e96660",
   "metadata": {
    "execution": {
     "iopub.execute_input": "2022-09-21T16:39:11.880448Z",
     "iopub.status.busy": "2022-09-21T16:39:11.879973Z",
     "iopub.status.idle": "2022-09-21T16:39:13.207318Z",
     "shell.execute_reply": "2022-09-21T16:39:13.206009Z"
    },
    "papermill": {
     "duration": 1.337122,
     "end_time": "2022-09-21T16:39:13.210640",
     "exception": false,
     "start_time": "2022-09-21T16:39:11.873518",
     "status": "completed"
    },
    "tags": []
   },
   "outputs": [],
   "source": [
    "from sklearn.model_selection import train_test_split\n",
    "from sklearn.linear_model import LogisticRegression\n",
    "from sklearn import metrics\n"
   ]
  },
  {
   "cell_type": "code",
   "execution_count": 3,
   "id": "3200dada",
   "metadata": {
    "execution": {
     "iopub.execute_input": "2022-09-21T16:39:13.223621Z",
     "iopub.status.busy": "2022-09-21T16:39:13.222791Z",
     "iopub.status.idle": "2022-09-21T16:39:13.405290Z",
     "shell.execute_reply": "2022-09-21T16:39:13.404055Z"
    },
    "papermill": {
     "duration": 0.192091,
     "end_time": "2022-09-21T16:39:13.408220",
     "exception": false,
     "start_time": "2022-09-21T16:39:13.216129",
     "status": "completed"
    },
    "tags": []
   },
   "outputs": [],
   "source": [
    "import seaborn as sns\n",
    "import matplotlib.pyplot as plt"
   ]
  },
  {
   "cell_type": "code",
   "execution_count": 4,
   "id": "e7cdd9d0",
   "metadata": {
    "execution": {
     "iopub.execute_input": "2022-09-21T16:39:13.420951Z",
     "iopub.status.busy": "2022-09-21T16:39:13.420455Z",
     "iopub.status.idle": "2022-09-21T16:39:13.448366Z",
     "shell.execute_reply": "2022-09-21T16:39:13.447104Z"
    },
    "papermill": {
     "duration": 0.037624,
     "end_time": "2022-09-21T16:39:13.451412",
     "exception": false,
     "start_time": "2022-09-21T16:39:13.413788",
     "status": "completed"
    },
    "tags": []
   },
   "outputs": [],
   "source": [
    "data = pd.read_csv(\"../input/titanic/titanic-passengers.csv\", sep=';')"
   ]
  },
  {
   "cell_type": "code",
   "execution_count": 5,
   "id": "62c810a4",
   "metadata": {
    "execution": {
     "iopub.execute_input": "2022-09-21T16:39:13.464258Z",
     "iopub.status.busy": "2022-09-21T16:39:13.463809Z",
     "iopub.status.idle": "2022-09-21T16:39:13.495576Z",
     "shell.execute_reply": "2022-09-21T16:39:13.493899Z"
    },
    "papermill": {
     "duration": 0.041466,
     "end_time": "2022-09-21T16:39:13.498557",
     "exception": false,
     "start_time": "2022-09-21T16:39:13.457091",
     "status": "completed"
    },
    "tags": []
   },
   "outputs": [
    {
     "name": "stdout",
     "output_type": "stream",
     "text": [
      "<class 'pandas.core.frame.DataFrame'>\n",
      "RangeIndex: 891 entries, 0 to 890\n",
      "Data columns (total 12 columns):\n",
      " #   Column       Non-Null Count  Dtype  \n",
      "---  ------       --------------  -----  \n",
      " 0   PassengerId  891 non-null    int64  \n",
      " 1   Survived     891 non-null    object \n",
      " 2   Pclass       891 non-null    int64  \n",
      " 3   Name         891 non-null    object \n",
      " 4   Sex          891 non-null    object \n",
      " 5   Age          714 non-null    float64\n",
      " 6   SibSp        891 non-null    int64  \n",
      " 7   Parch        891 non-null    int64  \n",
      " 8   Ticket       891 non-null    object \n",
      " 9   Fare         891 non-null    float64\n",
      " 10  Cabin        204 non-null    object \n",
      " 11  Embarked     889 non-null    object \n",
      "dtypes: float64(2), int64(4), object(6)\n",
      "memory usage: 83.7+ KB\n"
     ]
    }
   ],
   "source": [
    "data.info()"
   ]
  },
  {
   "cell_type": "code",
   "execution_count": 6,
   "id": "cb91404c",
   "metadata": {
    "execution": {
     "iopub.execute_input": "2022-09-21T16:39:13.512314Z",
     "iopub.status.busy": "2022-09-21T16:39:13.511859Z",
     "iopub.status.idle": "2022-09-21T16:39:13.520760Z",
     "shell.execute_reply": "2022-09-21T16:39:13.519671Z"
    },
    "papermill": {
     "duration": 0.018197,
     "end_time": "2022-09-21T16:39:13.523138",
     "exception": false,
     "start_time": "2022-09-21T16:39:13.504941",
     "status": "completed"
    },
    "tags": []
   },
   "outputs": [],
   "source": [
    "data.Age.fillna(data.Age.mean(), inplace = True)"
   ]
  },
  {
   "cell_type": "code",
   "execution_count": 7,
   "id": "f7e5e296",
   "metadata": {
    "execution": {
     "iopub.execute_input": "2022-09-21T16:39:13.536431Z",
     "iopub.status.busy": "2022-09-21T16:39:13.535445Z",
     "iopub.status.idle": "2022-09-21T16:39:13.552670Z",
     "shell.execute_reply": "2022-09-21T16:39:13.550671Z"
    },
    "papermill": {
     "duration": 0.026519,
     "end_time": "2022-09-21T16:39:13.555294",
     "exception": false,
     "start_time": "2022-09-21T16:39:13.528775",
     "status": "completed"
    },
    "tags": []
   },
   "outputs": [
    {
     "name": "stdout",
     "output_type": "stream",
     "text": [
      "<class 'pandas.core.frame.DataFrame'>\n",
      "RangeIndex: 891 entries, 0 to 890\n",
      "Data columns (total 12 columns):\n",
      " #   Column       Non-Null Count  Dtype  \n",
      "---  ------       --------------  -----  \n",
      " 0   PassengerId  891 non-null    int64  \n",
      " 1   Survived     891 non-null    object \n",
      " 2   Pclass       891 non-null    int64  \n",
      " 3   Name         891 non-null    object \n",
      " 4   Sex          891 non-null    object \n",
      " 5   Age          891 non-null    float64\n",
      " 6   SibSp        891 non-null    int64  \n",
      " 7   Parch        891 non-null    int64  \n",
      " 8   Ticket       891 non-null    object \n",
      " 9   Fare         891 non-null    float64\n",
      " 10  Cabin        204 non-null    object \n",
      " 11  Embarked     889 non-null    object \n",
      "dtypes: float64(2), int64(4), object(6)\n",
      "memory usage: 83.7+ KB\n"
     ]
    }
   ],
   "source": [
    "data.info()"
   ]
  },
  {
   "cell_type": "markdown",
   "id": "d5bc821a",
   "metadata": {
    "papermill": {
     "duration": 0.005005,
     "end_time": "2022-09-21T16:39:13.565783",
     "exception": false,
     "start_time": "2022-09-21T16:39:13.560778",
     "status": "completed"
    },
    "tags": []
   },
   "source": [
    "Transform the variable sex to  numerical data"
   ]
  },
  {
   "cell_type": "code",
   "execution_count": 8,
   "id": "8ffa8e9f",
   "metadata": {
    "execution": {
     "iopub.execute_input": "2022-09-21T16:39:13.578373Z",
     "iopub.status.busy": "2022-09-21T16:39:13.577970Z",
     "iopub.status.idle": "2022-09-21T16:39:13.585099Z",
     "shell.execute_reply": "2022-09-21T16:39:13.583923Z"
    },
    "papermill": {
     "duration": 0.016272,
     "end_time": "2022-09-21T16:39:13.587271",
     "exception": false,
     "start_time": "2022-09-21T16:39:13.570999",
     "status": "completed"
    },
    "tags": []
   },
   "outputs": [],
   "source": [
    "data.Sex = data.Sex.map(lambda x: 1 if x == 'male' else 0)"
   ]
  },
  {
   "cell_type": "code",
   "execution_count": 9,
   "id": "ffa04c34",
   "metadata": {
    "execution": {
     "iopub.execute_input": "2022-09-21T16:39:13.599930Z",
     "iopub.status.busy": "2022-09-21T16:39:13.599515Z",
     "iopub.status.idle": "2022-09-21T16:39:13.605532Z",
     "shell.execute_reply": "2022-09-21T16:39:13.604667Z"
    },
    "papermill": {
     "duration": 0.015203,
     "end_time": "2022-09-21T16:39:13.607864",
     "exception": false,
     "start_time": "2022-09-21T16:39:13.592661",
     "status": "completed"
    },
    "tags": []
   },
   "outputs": [],
   "source": [
    "data.Survived = data.Survived.map(lambda x:1 if x == 'Yes' else 0)"
   ]
  },
  {
   "cell_type": "code",
   "execution_count": 10,
   "id": "1883db68",
   "metadata": {
    "execution": {
     "iopub.execute_input": "2022-09-21T16:39:13.620374Z",
     "iopub.status.busy": "2022-09-21T16:39:13.620001Z",
     "iopub.status.idle": "2022-09-21T16:39:13.626004Z",
     "shell.execute_reply": "2022-09-21T16:39:13.625023Z"
    },
    "papermill": {
     "duration": 0.01486,
     "end_time": "2022-09-21T16:39:13.628009",
     "exception": false,
     "start_time": "2022-09-21T16:39:13.613149",
     "status": "completed"
    },
    "tags": []
   },
   "outputs": [],
   "source": [
    "def plot_roc_curve(y_test, y_pred):\n",
    "    \"\"\"\n",
    "    plots the roc curve based of the probabilities\n",
    "    \"\"\"\n",
    "\n",
    "    fpr, tpr, thresholds = metrics.roc_curve(y_test, y_pred)\n",
    "    plt.plot(fpr, tpr)\n",
    "    plt.xlabel('False Positive Rate')\n",
    "    plt.ylabel('True Positive Rate')"
   ]
  },
  {
   "cell_type": "code",
   "execution_count": 11,
   "id": "b1ba112a",
   "metadata": {
    "execution": {
     "iopub.execute_input": "2022-09-21T16:39:13.640414Z",
     "iopub.status.busy": "2022-09-21T16:39:13.639975Z",
     "iopub.status.idle": "2022-09-21T16:39:13.648487Z",
     "shell.execute_reply": "2022-09-21T16:39:13.647307Z"
    },
    "papermill": {
     "duration": 0.017276,
     "end_time": "2022-09-21T16:39:13.650729",
     "exception": false,
     "start_time": "2022-09-21T16:39:13.633453",
     "status": "completed"
    },
    "tags": []
   },
   "outputs": [],
   "source": [
    "def log_reg(x, y):\n",
    "    x_train,x_test,y_train,y_test = train_test_split(x,y,test_size=0.25,random_state=0)  #splitting data with test size of 25%\n",
    "    logreg = LogisticRegression()   #build our logistic model\n",
    "    logreg.fit(x_train, y_train)  #fitting training data\n",
    "    y_pred  = logreg.predict(x_test)    #testing model’s performance\n",
    "    print(\"Accuracy={:.2f}\".format(logreg.score(x_test, y_test)))\n",
    "    print(metrics.confusion_matrix(y_test, y_pred))\n",
    "    \n",
    "    confusion_matrix = pd.crosstab(y_test, y_pred, rownames=['Actual'], colnames=['Predicted'])\n",
    "    sns.heatmap(confusion_matrix, annot=True)\n",
    "\n",
    "    print(\"AUC score=\",metrics.roc_auc_score(y_test, y_pred))\n",
    "    \n",
    "    return y_test, y_pred"
   ]
  },
  {
   "cell_type": "code",
   "execution_count": 12,
   "id": "526a6ec3",
   "metadata": {
    "execution": {
     "iopub.execute_input": "2022-09-21T16:39:13.663248Z",
     "iopub.status.busy": "2022-09-21T16:39:13.662804Z",
     "iopub.status.idle": "2022-09-21T16:39:14.017008Z",
     "shell.execute_reply": "2022-09-21T16:39:14.014156Z"
    },
    "papermill": {
     "duration": 0.363805,
     "end_time": "2022-09-21T16:39:14.019816",
     "exception": false,
     "start_time": "2022-09-21T16:39:13.656011",
     "status": "completed"
    },
    "tags": []
   },
   "outputs": [
    {
     "name": "stdout",
     "output_type": "stream",
     "text": [
      "Accuracy=0.83\n",
      "[[129  15]\n",
      " [ 24  55]]\n",
      "AUC score= 0.7960179324894515\n"
     ]
    },
    {
     "data": {
      "image/png": "[encoded data removed]",
      "text/plain": [
       "<Figure size 432x288 with 2 Axes>"
      ]
     },
     "metadata": {
      "needs_background": "light"
     },
     "output_type": "display_data"
    }
   ],
   "source": [
    "y_test, y_pred = log_reg(data[['Sex','Age']], data['Survived'])\n"
   ]
  },
  {
   "cell_type": "code",
   "execution_count": 13,
   "id": "2845787e",
   "metadata": {
    "execution": {
     "iopub.execute_input": "2022-09-21T16:39:14.033402Z",
     "iopub.status.busy": "2022-09-21T16:39:14.032963Z",
     "iopub.status.idle": "2022-09-21T16:39:14.252408Z",
     "shell.execute_reply": "2022-09-21T16:39:14.250916Z"
    },
    "papermill": {
     "duration": 0.229358,
     "end_time": "2022-09-21T16:39:14.255134",
     "exception": false,
     "start_time": "2022-09-21T16:39:14.025776",
     "status": "completed"
    },
    "tags": []
   },
   "outputs": [
    {
     "data": {
      "image/png": "[encoded data removed]",
      "text/plain": [
       "<Figure size 432x288 with 1 Axes>"
      ]
     },
     "metadata": {
      "needs_background": "light"
     },
     "output_type": "display_data"
    }
   ],
   "source": [
    "plot_roc_curve(y_test, y_pred)"
   ]
  },
  {
   "cell_type": "code",
   "execution_count": 14,
   "id": "d9f806cc",
   "metadata": {
    "execution": {
     "iopub.execute_input": "2022-09-21T16:39:14.270964Z",
     "iopub.status.busy": "2022-09-21T16:39:14.270482Z",
     "iopub.status.idle": "2022-09-21T16:39:14.550792Z",
     "shell.execute_reply": "2022-09-21T16:39:14.549920Z"
    },
    "papermill": {
     "duration": 0.290331,
     "end_time": "2022-09-21T16:39:14.553166",
     "exception": false,
     "start_time": "2022-09-21T16:39:14.262835",
     "status": "completed"
    },
    "tags": []
   },
   "outputs": [
    {
     "name": "stdout",
     "output_type": "stream",
     "text": [
      "Accuracy=0.65\n",
      "[[144   0]\n",
      " [ 79   0]]\n",
      "AUC score= 0.5\n"
     ]
    },
    {
     "data": {
      "image/png": "[encoded data removed]",
      "text/plain": [
       "<Figure size 432x288 with 2 Axes>"
      ]
     },
     "metadata": {
      "needs_background": "light"
     },
     "output_type": "display_data"
    }
   ],
   "source": [
    "y_test, y_pred = log_reg(data[['Age']], data['Survived'])"
   ]
  },
  {
   "cell_type": "code",
   "execution_count": 15,
   "id": "7a32f7d5",
   "metadata": {
    "execution": {
     "iopub.execute_input": "2022-09-21T16:39:14.568258Z",
     "iopub.status.busy": "2022-09-21T16:39:14.567029Z",
     "iopub.status.idle": "2022-09-21T16:39:14.786106Z",
     "shell.execute_reply": "2022-09-21T16:39:14.784869Z"
    },
    "papermill": {
     "duration": 0.229002,
     "end_time": "2022-09-21T16:39:14.788531",
     "exception": false,
     "start_time": "2022-09-21T16:39:14.559529",
     "status": "completed"
    },
    "tags": []
   },
   "outputs": [
    {
     "data": {
      "image/png": "[encoded data removed]",
      "text/plain": [
       "<Figure size 432x288 with 1 Axes>"
      ]
     },
     "metadata": {
      "needs_background": "light"
     },
     "output_type": "display_data"
    }
   ],
   "source": [
    "plot_roc_curve(y_test, y_pred)"
   ]
  },
  {
   "cell_type": "code",
   "execution_count": 16,
   "id": "e0c2687b",
   "metadata": {
    "execution": {
     "iopub.execute_input": "2022-09-21T16:39:14.804355Z",
     "iopub.status.busy": "2022-09-21T16:39:14.803285Z",
     "iopub.status.idle": "2022-09-21T16:39:15.082875Z",
     "shell.execute_reply": "2022-09-21T16:39:15.081648Z"
    },
    "papermill": {
     "duration": 0.290543,
     "end_time": "2022-09-21T16:39:15.085724",
     "exception": false,
     "start_time": "2022-09-21T16:39:14.795181",
     "status": "completed"
    },
    "tags": []
   },
   "outputs": [
    {
     "name": "stdout",
     "output_type": "stream",
     "text": [
      "Accuracy=0.64\n",
      "[[142   2]\n",
      " [ 78   1]]\n",
      "AUC score= 0.49938466947960625\n"
     ]
    },
    {
     "data": {
      "image/png": "[encoded data removed]",
      "text/plain": [
       "<Figure size 432x288 with 2 Axes>"
      ]
     },
     "metadata": {
      "needs_background": "light"
     },
     "output_type": "display_data"
    }
   ],
   "source": [
    "y_test, y_pred = log_reg(data[['Parch']], data['Survived'])"
   ]
  },
  {
   "cell_type": "code",
   "execution_count": 17,
   "id": "fe0344d0",
   "metadata": {
    "execution": {
     "iopub.execute_input": "2022-09-21T16:39:15.102589Z",
     "iopub.status.busy": "2022-09-21T16:39:15.101909Z",
     "iopub.status.idle": "2022-09-21T16:39:15.310819Z",
     "shell.execute_reply": "2022-09-21T16:39:15.309639Z"
    },
    "papermill": {
     "duration": 0.220411,
     "end_time": "2022-09-21T16:39:15.313571",
     "exception": false,
     "start_time": "2022-09-21T16:39:15.093160",
     "status": "completed"
    },
    "tags": []
   },
   "outputs": [
    {
     "data": {
      "image/png": "[encoded data removed]",
      "text/plain": [
       "<Figure size 432x288 with 1 Axes>"
      ]
     },
     "metadata": {
      "needs_background": "light"
     },
     "output_type": "display_data"
    }
   ],
   "source": [
    "plot_roc_curve(y_test, y_pred)"
   ]
  },
  {
   "cell_type": "code",
   "execution_count": null,
   "id": "0d109794",
   "metadata": {
    "papermill": {
     "duration": 0.008313,
     "end_time": "2022-09-21T16:39:15.332078",
     "exception": false,
     "start_time": "2022-09-21T16:39:15.323765",
     "status": "completed"
    },
    "tags": []
   },
   "outputs": [],
   "source": []
  }
 ],
 "metadata": {
  "kernelspec": {
   "display_name": "Python 3",
   "language": "python",
   "name": "python3"
  },
  "language_info": {
   "codemirror_mode": {
    "name": "ipython",
    "version": 3
   },
   "file_extension": ".py",
   "mimetype": "text/x-python",
   "name": "python",
   "nbconvert_exporter": "python",
   "pygments_lexer": "ipython3",
   "version": "3.7.12"
  },
  "papermill": {
   "default_parameters": {},
   "duration": 14.350109,
   "end_time": "2022-09-21T16:39:16.465518",
   "environment_variables": {},
   "exception": null,
   "input_path": "__notebook__.ipynb",
   "output_path": "__notebook__.ipynb",
   "parameters": {},
   "start_time": "2022-09-21T16:39:02.115409",
   "version": "2.3.4"
  }
 },
 "nbformat": 4,
 "nbformat_minor": 5
}
