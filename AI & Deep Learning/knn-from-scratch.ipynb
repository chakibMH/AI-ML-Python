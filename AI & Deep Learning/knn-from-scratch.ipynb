{
 "cells": [
  {
   "cell_type": "markdown",
   "id": "c68de0c3",
   "metadata": {},
   "source": [
    "# K-Nearest Neighbors (KNN) from Scratch\n",
    "\n",
    "## Introduction\n",
    "\n",
    "The K-Nearest Neighbors (KNN) algorithm is a simple yet powerful supervised machine learning algorithm used for classification and regression tasks. It works by finding the k most similar instances (neighbors) to a given data point and making predictions based on the majority class among those neighbors.\n",
    "\n",
    "In this notebook, we will implement the KNN algorithm from scratch using Python. We will go through the following steps:\n",
    "\n",
    "1. **Import Libraries**: Import the necessary libraries for data manipulation and mathematical calculations.\n",
    "2. **Load Dataset**: Load the Iris dataset and split it into training and test sets.\n",
    "3. **Similarity**: Calculate the similarity between data instances using the Euclidean distance measure.\n",
    "4. **Neighbors**: Identify the k most similar neighbors for a given test instance.\n",
    "5. **Response**: Determine the majority class among the neighbors to make a prediction.\n",
    "6. **Accuracy**: Evaluate the accuracy of the predictions by comparing them to the actual class labels.\n",
    "7. **KNN Algorithm**: Combine all the steps to create the complete KNN algorithm and test it on the dataset.\n",
    "\n"
   ]
  },
  {
   "cell_type": "code",
   "execution_count": 1,
   "id": "10e245e7",
   "metadata": {
    "_cell_guid": "b1076dfc-b9ad-4769-8c92-a6c4dae69d19",
    "_uuid": "8f2839f25d086af736a60e9eeb907d3b93b6e0e5",
    "execution": {
     "iopub.execute_input": "2022-09-21T20:16:23.493066Z",
     "iopub.status.busy": "2022-09-21T20:16:23.492561Z",
     "iopub.status.idle": "2022-09-21T20:16:23.503678Z",
     "shell.execute_reply": "2022-09-21T20:16:23.502485Z"
    },
    "papermill": {
     "duration": 0.024645,
     "end_time": "2022-09-21T20:16:23.506351",
     "exception": false,
     "start_time": "2022-09-21T20:16:23.481706",
     "status": "completed"
    },
    "tags": []
   },
   "outputs": [],
   "source": [
    "import numpy as np # linear algebra\n",
    "import pandas as pd # data processing, CSV file I/O (e.g. pd.read_csv)\n",
    "\n"
   ]
  },
  {
   "cell_type": "code",
   "execution_count": 2,
   "id": "1c3bb90f",
   "metadata": {
    "execution": {
     "iopub.execute_input": "2022-09-21T20:16:23.524289Z",
     "iopub.status.busy": "2022-09-21T20:16:23.523669Z",
     "iopub.status.idle": "2022-09-21T20:16:23.541190Z",
     "shell.execute_reply": "2022-09-21T20:16:23.540045Z"
    },
    "papermill": {
     "duration": 0.030549,
     "end_time": "2022-09-21T20:16:23.545144",
     "exception": false,
     "start_time": "2022-09-21T20:16:23.514595",
     "status": "completed"
    },
    "tags": []
   },
   "outputs": [
    {
     "name": "stdout",
     "output_type": "stream",
     "text": [
      "5.1, 3.5, 1.4, 0.2, Iris-setosa\n",
      "4.9, 3.0, 1.4, 0.2, Iris-setosa\n",
      "4.7, 3.2, 1.3, 0.2, Iris-setosa\n",
      "4.6, 3.1, 1.5, 0.2, Iris-setosa\n",
      "5.0, 3.6, 1.4, 0.2, Iris-setosa\n",
      "5.4, 3.9, 1.7, 0.4, Iris-setosa\n",
      "4.6, 3.4, 1.4, 0.3, Iris-setosa\n",
      "5.0, 3.4, 1.5, 0.2, Iris-setosa\n",
      "4.4, 2.9, 1.4, 0.2, Iris-setosa\n",
      "4.9, 3.1, 1.5, 0.1, Iris-setosa\n",
      "5.4, 3.7, 1.5, 0.2, Iris-setosa\n",
      "4.8, 3.4, 1.6, 0.2, Iris-setosa\n",
      "4.8, 3.0, 1.4, 0.1, Iris-setosa\n",
      "4.3, 3.0, 1.1, 0.1, Iris-setosa\n",
      "5.8, 4.0, 1.2, 0.2, Iris-setosa\n",
      "5.7, 4.4, 1.5, 0.4, Iris-setosa\n",
      "5.4, 3.9, 1.3, 0.4, Iris-setosa\n",
      "5.1, 3.5, 1.4, 0.3, Iris-setosa\n",
      "5.7, 3.8, 1.7, 0.3, Iris-setosa\n",
      "5.1, 3.8, 1.5, 0.3, Iris-setosa\n",
      "5.4, 3.4, 1.7, 0.2, Iris-setosa\n",
      "5.1, 3.7, 1.5, 0.4, Iris-setosa\n",
      "4.6, 3.6, 1.0, 0.2, Iris-setosa\n",
      "5.1, 3.3, 1.7, 0.5, Iris-setosa\n",
      "4.8, 3.4, 1.9, 0.2, Iris-setosa\n",
      "5.0, 3.0, 1.6, 0.2, Iris-setosa\n",
      "5.0, 3.4, 1.6, 0.4, Iris-setosa\n",
      "5.2, 3.5, 1.5, 0.2, Iris-setosa\n",
      "5.2, 3.4, 1.4, 0.2, Iris-setosa\n",
      "4.7, 3.2, 1.6, 0.2, Iris-setosa\n",
      "4.8, 3.1, 1.6, 0.2, Iris-setosa\n",
      "5.4, 3.4, 1.5, 0.4, Iris-setosa\n",
      "5.2, 4.1, 1.5, 0.1, Iris-setosa\n",
      "5.5, 4.2, 1.4, 0.2, Iris-setosa\n",
      "4.9, 3.1, 1.5, 0.1, Iris-setosa\n",
      "5.0, 3.2, 1.2, 0.2, Iris-setosa\n",
      "5.5, 3.5, 1.3, 0.2, Iris-setosa\n",
      "4.9, 3.1, 1.5, 0.1, Iris-setosa\n",
      "4.4, 3.0, 1.3, 0.2, Iris-setosa\n",
      "5.1, 3.4, 1.5, 0.2, Iris-setosa\n",
      "5.0, 3.5, 1.3, 0.3, Iris-setosa\n",
      "4.5, 2.3, 1.3, 0.3, Iris-setosa\n",
      "4.4, 3.2, 1.3, 0.2, Iris-setosa\n",
      "5.0, 3.5, 1.6, 0.6, Iris-setosa\n",
      "5.1, 3.8, 1.9, 0.4, Iris-setosa\n",
      "4.8, 3.0, 1.4, 0.3, Iris-setosa\n",
      "5.1, 3.8, 1.6, 0.2, Iris-setosa\n",
      "4.6, 3.2, 1.4, 0.2, Iris-setosa\n",
      "5.3, 3.7, 1.5, 0.2, Iris-setosa\n",
      "5.0, 3.3, 1.4, 0.2, Iris-setosa\n",
      "7.0, 3.2, 4.7, 1.4, Iris-versicolor\n",
      "6.4, 3.2, 4.5, 1.5, Iris-versicolor\n",
      "6.9, 3.1, 4.9, 1.5, Iris-versicolor\n",
      "5.5, 2.3, 4.0, 1.3, Iris-versicolor\n",
      "6.5, 2.8, 4.6, 1.5, Iris-versicolor\n",
      "5.7, 2.8, 4.5, 1.3, Iris-versicolor\n",
      "6.3, 3.3, 4.7, 1.6, Iris-versicolor\n",
      "4.9, 2.4, 3.3, 1.0, Iris-versicolor\n",
      "6.6, 2.9, 4.6, 1.3, Iris-versicolor\n",
      "5.2, 2.7, 3.9, 1.4, Iris-versicolor\n",
      "5.0, 2.0, 3.5, 1.0, Iris-versicolor\n",
      "5.9, 3.0, 4.2, 1.5, Iris-versicolor\n",
      "6.0, 2.2, 4.0, 1.0, Iris-versicolor\n",
      "6.1, 2.9, 4.7, 1.4, Iris-versicolor\n",
      "5.6, 2.9, 3.6, 1.3, Iris-versicolor\n",
      "6.7, 3.1, 4.4, 1.4, Iris-versicolor\n",
      "5.6, 3.0, 4.5, 1.5, Iris-versicolor\n",
      "5.8, 2.7, 4.1, 1.0, Iris-versicolor\n",
      "6.2, 2.2, 4.5, 1.5, Iris-versicolor\n",
      "5.6, 2.5, 3.9, 1.1, Iris-versicolor\n",
      "5.9, 3.2, 4.8, 1.8, Iris-versicolor\n",
      "6.1, 2.8, 4.0, 1.3, Iris-versicolor\n",
      "6.3, 2.5, 4.9, 1.5, Iris-versicolor\n",
      "6.1, 2.8, 4.7, 1.2, Iris-versicolor\n",
      "6.4, 2.9, 4.3, 1.3, Iris-versicolor\n",
      "6.6, 3.0, 4.4, 1.4, Iris-versicolor\n",
      "6.8, 2.8, 4.8, 1.4, Iris-versicolor\n",
      "6.7, 3.0, 5.0, 1.7, Iris-versicolor\n",
      "6.0, 2.9, 4.5, 1.5, Iris-versicolor\n",
      "5.7, 2.6, 3.5, 1.0, Iris-versicolor\n",
      "5.5, 2.4, 3.8, 1.1, Iris-versicolor\n",
      "5.5, 2.4, 3.7, 1.0, Iris-versicolor\n",
      "5.8, 2.7, 3.9, 1.2, Iris-versicolor\n",
      "6.0, 2.7, 5.1, 1.6, Iris-versicolor\n",
      "5.4, 3.0, 4.5, 1.5, Iris-versicolor\n",
      "6.0, 3.4, 4.5, 1.6, Iris-versicolor\n",
      "6.7, 3.1, 4.7, 1.5, Iris-versicolor\n",
      "6.3, 2.3, 4.4, 1.3, Iris-versicolor\n",
      "5.6, 3.0, 4.1, 1.3, Iris-versicolor\n",
      "5.5, 2.5, 4.0, 1.3, Iris-versicolor\n",
      "5.5, 2.6, 4.4, 1.2, Iris-versicolor\n",
      "6.1, 3.0, 4.6, 1.4, Iris-versicolor\n",
      "5.8, 2.6, 4.0, 1.2, Iris-versicolor\n",
      "5.0, 2.3, 3.3, 1.0, Iris-versicolor\n",
      "5.6, 2.7, 4.2, 1.3, Iris-versicolor\n",
      "5.7, 3.0, 4.2, 1.2, Iris-versicolor\n",
      "5.7, 2.9, 4.2, 1.3, Iris-versicolor\n",
      "6.2, 2.9, 4.3, 1.3, Iris-versicolor\n",
      "5.1, 2.5, 3.0, 1.1, Iris-versicolor\n",
      "5.7, 2.8, 4.1, 1.3, Iris-versicolor\n",
      "6.3, 3.3, 6.0, 2.5, Iris-virginica\n",
      "5.8, 2.7, 5.1, 1.9, Iris-virginica\n",
      "7.1, 3.0, 5.9, 2.1, Iris-virginica\n",
      "6.3, 2.9, 5.6, 1.8, Iris-virginica\n",
      "6.5, 3.0, 5.8, 2.2, Iris-virginica\n",
      "7.6, 3.0, 6.6, 2.1, Iris-virginica\n",
      "4.9, 2.5, 4.5, 1.7, Iris-virginica\n",
      "7.3, 2.9, 6.3, 1.8, Iris-virginica\n",
      "6.7, 2.5, 5.8, 1.8, Iris-virginica\n",
      "7.2, 3.6, 6.1, 2.5, Iris-virginica\n",
      "6.5, 3.2, 5.1, 2.0, Iris-virginica\n",
      "6.4, 2.7, 5.3, 1.9, Iris-virginica\n",
      "6.8, 3.0, 5.5, 2.1, Iris-virginica\n",
      "5.7, 2.5, 5.0, 2.0, Iris-virginica\n",
      "5.8, 2.8, 5.1, 2.4, Iris-virginica\n",
      "6.4, 3.2, 5.3, 2.3, Iris-virginica\n",
      "6.5, 3.0, 5.5, 1.8, Iris-virginica\n",
      "7.7, 3.8, 6.7, 2.2, Iris-virginica\n",
      "7.7, 2.6, 6.9, 2.3, Iris-virginica\n",
      "6.0, 2.2, 5.0, 1.5, Iris-virginica\n",
      "6.9, 3.2, 5.7, 2.3, Iris-virginica\n",
      "5.6, 2.8, 4.9, 2.0, Iris-virginica\n",
      "7.7, 2.8, 6.7, 2.0, Iris-virginica\n",
      "6.3, 2.7, 4.9, 1.8, Iris-virginica\n",
      "6.7, 3.3, 5.7, 2.1, Iris-virginica\n",
      "7.2, 3.2, 6.0, 1.8, Iris-virginica\n",
      "6.2, 2.8, 4.8, 1.8, Iris-virginica\n",
      "6.1, 3.0, 4.9, 1.8, Iris-virginica\n",
      "6.4, 2.8, 5.6, 2.1, Iris-virginica\n",
      "7.2, 3.0, 5.8, 1.6, Iris-virginica\n",
      "7.4, 2.8, 6.1, 1.9, Iris-virginica\n",
      "7.9, 3.8, 6.4, 2.0, Iris-virginica\n",
      "6.4, 2.8, 5.6, 2.2, Iris-virginica\n",
      "6.3, 2.8, 5.1, 1.5, Iris-virginica\n",
      "6.1, 2.6, 5.6, 1.4, Iris-virginica\n",
      "7.7, 3.0, 6.1, 2.3, Iris-virginica\n",
      "6.3, 3.4, 5.6, 2.4, Iris-virginica\n",
      "6.4, 3.1, 5.5, 1.8, Iris-virginica\n",
      "6.0, 3.0, 4.8, 1.8, Iris-virginica\n",
      "6.9, 3.1, 5.4, 2.1, Iris-virginica\n",
      "6.7, 3.1, 5.6, 2.4, Iris-virginica\n",
      "6.9, 3.1, 5.1, 2.3, Iris-virginica\n",
      "5.8, 2.7, 5.1, 1.9, Iris-virginica\n",
      "6.8, 3.2, 5.9, 2.3, Iris-virginica\n",
      "6.7, 3.3, 5.7, 2.5, Iris-virginica\n",
      "6.7, 3.0, 5.2, 2.3, Iris-virginica\n",
      "6.3, 2.5, 5.0, 1.9, Iris-virginica\n",
      "6.5, 3.0, 5.2, 2.0, Iris-virginica\n",
      "6.2, 3.4, 5.4, 2.3, Iris-virginica\n",
      "5.9, 3.0, 5.1, 1.8, Iris-virginica\n"
     ]
    }
   ],
   "source": [
    "import csv\n",
    "\n",
    "with open('../input/iris-dataset/iris.data.txt', 'r') as csvfile:\n",
    "\n",
    "    lines = csv.reader(csvfile)\n",
    "\n",
    "    for row in lines :\n",
    "\n",
    "    \tprint (', '.join(row))"
   ]
  },
  {
   "cell_type": "code",
   "execution_count": 3,
   "id": "cb6b4df4",
   "metadata": {
    "execution": {
     "iopub.execute_input": "2022-09-21T20:16:23.563141Z",
     "iopub.status.busy": "2022-09-21T20:16:23.562736Z",
     "iopub.status.idle": "2022-09-21T20:16:23.568769Z",
     "shell.execute_reply": "2022-09-21T20:16:23.567059Z"
    },
    "papermill": {
     "duration": 0.018497,
     "end_time": "2022-09-21T20:16:23.571900",
     "exception": false,
     "start_time": "2022-09-21T20:16:23.553403",
     "status": "completed"
    },
    "tags": []
   },
   "outputs": [],
   "source": [
    "import random"
   ]
  },
  {
   "cell_type": "code",
   "execution_count": 4,
   "id": "3564ca5e",
   "metadata": {
    "execution": {
     "iopub.execute_input": "2022-09-21T20:16:23.589515Z",
     "iopub.status.busy": "2022-09-21T20:16:23.589079Z",
     "iopub.status.idle": "2022-09-21T20:16:23.596360Z",
     "shell.execute_reply": "2022-09-21T20:16:23.595099Z"
    },
    "papermill": {
     "duration": 0.019091,
     "end_time": "2022-09-21T20:16:23.598663",
     "exception": false,
     "start_time": "2022-09-21T20:16:23.579572",
     "status": "completed"
    },
    "tags": []
   },
   "outputs": [],
   "source": [
    "def loadDataset(filename, split, trainingSet=[] , testSet=[]):\n",
    "\n",
    "    with open(filename, 'r') as csvfile:\n",
    "\n",
    "      lines = csv.reader(csvfile)\n",
    "\n",
    "      dataset = list(lines)\n",
    "\n",
    "      for x in range(len(dataset)-1):\n",
    "\n",
    "        for y in range(4):\n",
    "\n",
    "          dataset[x][y] = float(dataset[x][y])\n",
    "\n",
    "        if random.random() < split:\n",
    "\n",
    "          trainingSet.append(dataset[x])\n",
    "\n",
    "        else:\n",
    "\n",
    "          testSet.append(dataset[x])"
   ]
  },
  {
   "cell_type": "code",
   "execution_count": 5,
   "id": "cd83dffb",
   "metadata": {
    "execution": {
     "iopub.execute_input": "2022-09-21T20:16:23.616067Z",
     "iopub.status.busy": "2022-09-21T20:16:23.615672Z",
     "iopub.status.idle": "2022-09-21T20:16:23.624006Z",
     "shell.execute_reply": "2022-09-21T20:16:23.622761Z"
    },
    "papermill": {
     "duration": 0.020035,
     "end_time": "2022-09-21T20:16:23.626252",
     "exception": false,
     "start_time": "2022-09-21T20:16:23.606217",
     "status": "completed"
    },
    "tags": []
   },
   "outputs": [
    {
     "name": "stdout",
     "output_type": "stream",
     "text": [
      "Train: 92\n",
      "Test: 57\n"
     ]
    }
   ],
   "source": [
    "trainingSet=[]\n",
    "\n",
    "testSet=[]\n",
    "\n",
    "loadDataset('../input/iris-dataset/iris.data.txt', 0.66, trainingSet, testSet)\n",
    "\n",
    "print ('Train: ' + repr(len(trainingSet)))\n",
    "\n",
    "print ('Test: ' + repr(len(testSet)) )"
   ]
  },
  {
   "cell_type": "code",
   "execution_count": 6,
   "id": "33644a35",
   "metadata": {
    "execution": {
     "iopub.execute_input": "2022-09-21T20:16:23.645665Z",
     "iopub.status.busy": "2022-09-21T20:16:23.644691Z",
     "iopub.status.idle": "2022-09-21T20:16:23.654910Z",
     "shell.execute_reply": "2022-09-21T20:16:23.653548Z"
    },
    "papermill": {
     "duration": 0.023309,
     "end_time": "2022-09-21T20:16:23.657250",
     "exception": false,
     "start_time": "2022-09-21T20:16:23.633941",
     "status": "completed"
    },
    "tags": []
   },
   "outputs": [
    {
     "data": {
      "text/plain": [
       "[5.1, 3.5, 1.4, 0.2, 'Iris-setosa']"
      ]
     },
     "execution_count": 6,
     "metadata": {},
     "output_type": "execute_result"
    }
   ],
   "source": [
    "trainingSet[0]"
   ]
  },
  {
   "cell_type": "markdown",
   "id": "12a3025e",
   "metadata": {
    "papermill": {
     "duration": 0.007853,
     "end_time": "2022-09-21T20:16:23.673461",
     "exception": false,
     "start_time": "2022-09-21T20:16:23.665608",
     "status": "completed"
    },
    "tags": []
   },
   "source": [
    "# 2. Similarity"
   ]
  },
  {
   "cell_type": "markdown",
   "id": "6dbbaf96",
   "metadata": {
    "papermill": {
     "duration": 0.007651,
     "end_time": "2022-09-21T20:16:23.689156",
     "exception": false,
     "start_time": "2022-09-21T20:16:23.681505",
     "status": "completed"
    },
    "tags": []
   },
   "source": [
    "To make predictions we need to calculate the similarity between any two given data instances. This is needed so that we can locate the k most similar data instances in the training dataset for a given member of the test dataset and in turn, make a prediction.\n",
    "\n",
    "Given that all four flower measurements are numeric and have the same units, we can directly use the Euclidean distance measure. \n",
    "\n",
    "Additionally, we want to control which fields to include in the distance calculation. Specifically, we only want to include the first 4 attributes. One approach is to limit the Euclidean distance to a fixed length, ignoring the final dimension.\n",
    "\n",
    "Putting all of this together, you have to define the Euclidean distance"
   ]
  },
  {
   "cell_type": "code",
   "execution_count": 7,
   "id": "612913cf",
   "metadata": {
    "execution": {
     "iopub.execute_input": "2022-09-21T20:16:23.707141Z",
     "iopub.status.busy": "2022-09-21T20:16:23.706547Z",
     "iopub.status.idle": "2022-09-21T20:16:23.712300Z",
     "shell.execute_reply": "2022-09-21T20:16:23.711009Z"
    },
    "papermill": {
     "duration": 0.01752,
     "end_time": "2022-09-21T20:16:23.714751",
     "exception": false,
     "start_time": "2022-09-21T20:16:23.697231",
     "status": "completed"
    },
    "tags": []
   },
   "outputs": [],
   "source": [
    "import math\n"
   ]
  },
  {
   "cell_type": "code",
   "execution_count": 8,
   "id": "0c833e74",
   "metadata": {
    "execution": {
     "iopub.execute_input": "2022-09-21T20:16:23.732848Z",
     "iopub.status.busy": "2022-09-21T20:16:23.732402Z",
     "iopub.status.idle": "2022-09-21T20:16:23.739257Z",
     "shell.execute_reply": "2022-09-21T20:16:23.737956Z"
    },
    "papermill": {
     "duration": 0.018695,
     "end_time": "2022-09-21T20:16:23.741803",
     "exception": false,
     "start_time": "2022-09-21T20:16:23.723108",
     "status": "completed"
    },
    "tags": []
   },
   "outputs": [],
   "source": [
    "\n",
    "def euclideanDistance(instance1, instance2, length):\n",
    "    \n",
    "    return math.sqrt(sum([(instance1[i]-instance2[i])**2 for i in range(length)]))"
   ]
  },
  {
   "cell_type": "code",
   "execution_count": 9,
   "id": "1fc2229a",
   "metadata": {
    "execution": {
     "iopub.execute_input": "2022-09-21T20:16:23.759373Z",
     "iopub.status.busy": "2022-09-21T20:16:23.758956Z",
     "iopub.status.idle": "2022-09-21T20:16:23.773460Z",
     "shell.execute_reply": "2022-09-21T20:16:23.771774Z"
    },
    "papermill": {
     "duration": 0.026092,
     "end_time": "2022-09-21T20:16:23.775916",
     "exception": false,
     "start_time": "2022-09-21T20:16:23.749824",
     "status": "completed"
    },
    "tags": []
   },
   "outputs": [
    {
     "name": "stdout",
     "output_type": "stream",
     "text": [
      "Distance:  3.4641016151377544\n"
     ]
    }
   ],
   "source": [
    "data1 = [2, 2, 2, 'a']\n",
    "\n",
    "data2 = [4, 4, 4, 'b']\n",
    "\n",
    "distance = euclideanDistance(data1, data2, 3)\n",
    "\n",
    "print ('Distance: ' , repr(distance))\n",
    "\n"
   ]
  },
  {
   "cell_type": "code",
   "execution_count": 10,
   "id": "2010239d",
   "metadata": {
    "execution": {
     "iopub.execute_input": "2022-09-21T20:16:23.794550Z",
     "iopub.status.busy": "2022-09-21T20:16:23.794125Z",
     "iopub.status.idle": "2022-09-21T20:16:23.799730Z",
     "shell.execute_reply": "2022-09-21T20:16:23.798486Z"
    },
    "papermill": {
     "duration": 0.018092,
     "end_time": "2022-09-21T20:16:23.802018",
     "exception": false,
     "start_time": "2022-09-21T20:16:23.783926",
     "status": "completed"
    },
    "tags": []
   },
   "outputs": [],
   "source": [
    "def manhattanDistance(instance1, instance2, length):\n",
    "    return sum([abs((instance1[i]-instance2[i])) for i in range(length)])"
   ]
  },
  {
   "cell_type": "code",
   "execution_count": 11,
   "id": "f86954c4",
   "metadata": {
    "execution": {
     "iopub.execute_input": "2022-09-21T20:16:23.820036Z",
     "iopub.status.busy": "2022-09-21T20:16:23.819205Z",
     "iopub.status.idle": "2022-09-21T20:16:23.825098Z",
     "shell.execute_reply": "2022-09-21T20:16:23.824003Z"
    },
    "papermill": {
     "duration": 0.01761,
     "end_time": "2022-09-21T20:16:23.827437",
     "exception": false,
     "start_time": "2022-09-21T20:16:23.809827",
     "status": "completed"
    },
    "tags": []
   },
   "outputs": [],
   "source": [
    "def minkowskiDistance(instance1, instance2, length, q):\n",
    "    return (sum([abs((instance1[i]-instance2[i])) for i in range(length)]))**(1/float(q))"
   ]
  },
  {
   "cell_type": "code",
   "execution_count": 12,
   "id": "56e23fb9",
   "metadata": {
    "execution": {
     "iopub.execute_input": "2022-09-21T20:16:23.845149Z",
     "iopub.status.busy": "2022-09-21T20:16:23.844306Z",
     "iopub.status.idle": "2022-09-21T20:16:23.850774Z",
     "shell.execute_reply": "2022-09-21T20:16:23.849630Z"
    },
    "papermill": {
     "duration": 0.019165,
     "end_time": "2022-09-21T20:16:23.854384",
     "exception": false,
     "start_time": "2022-09-21T20:16:23.835219",
     "status": "completed"
    },
    "tags": []
   },
   "outputs": [
    {
     "name": "stdout",
     "output_type": "stream",
     "text": [
      "Distance:  6\n"
     ]
    }
   ],
   "source": [
    "data1 = [2, 2, 2, 'a']\n",
    "\n",
    "data2 = [4, 4, 4, 'b']\n",
    "\n",
    "distance = manhattanDistance(data1, data2, 3)\n",
    "\n",
    "print ('Distance: ' , repr(distance))\n"
   ]
  },
  {
   "cell_type": "code",
   "execution_count": 13,
   "id": "fd1a1862",
   "metadata": {
    "execution": {
     "iopub.execute_input": "2022-09-21T20:16:23.873293Z",
     "iopub.status.busy": "2022-09-21T20:16:23.872900Z",
     "iopub.status.idle": "2022-09-21T20:16:23.879616Z",
     "shell.execute_reply": "2022-09-21T20:16:23.878396Z"
    },
    "papermill": {
     "duration": 0.018519,
     "end_time": "2022-09-21T20:16:23.882014",
     "exception": false,
     "start_time": "2022-09-21T20:16:23.863495",
     "status": "completed"
    },
    "tags": []
   },
   "outputs": [
    {
     "name": "stdout",
     "output_type": "stream",
     "text": [
      "Distance:  2.449489742783178\n"
     ]
    }
   ],
   "source": [
    "data1 = [2, 2, 2, 'a']\n",
    "\n",
    "data2 = [4, 4, 4, 'b']\n",
    "\n",
    "distance = minkowskiDistance(data1, data2, 3, 2)\n",
    "\n",
    "print ('Distance: ' , repr(distance))\n"
   ]
  },
  {
   "cell_type": "markdown",
   "id": "e0f93e69",
   "metadata": {
    "papermill": {
     "duration": 0.007626,
     "end_time": "2022-09-21T20:16:23.897633",
     "exception": false,
     "start_time": "2022-09-21T20:16:23.890007",
     "status": "completed"
    },
    "tags": []
   },
   "source": [
    "# 3. Neighbors"
   ]
  },
  {
   "cell_type": "markdown",
   "id": "41f8f1b8",
   "metadata": {
    "papermill": {
     "duration": 0.007604,
     "end_time": "2022-09-21T20:16:23.913181",
     "exception": false,
     "start_time": "2022-09-21T20:16:23.905577",
     "status": "completed"
    },
    "tags": []
   },
   "source": [
    "Now that we have a similarity measure, we can use it to collect the k most similar instances for a given unseen instance.\n",
    "\n",
    "This is a straightforward process of calculating the distance for all instances and selecting a subset with the smallest distance values.\n",
    "\n",
    "Below is the getNeighbors function that returns k most similar neighbors from the training set for a given test instance (using the already defined euclideanDistance function)"
   ]
  },
  {
   "cell_type": "code",
   "execution_count": 14,
   "id": "6f010d78",
   "metadata": {
    "execution": {
     "iopub.execute_input": "2022-09-21T20:16:23.931367Z",
     "iopub.status.busy": "2022-09-21T20:16:23.930941Z",
     "iopub.status.idle": "2022-09-21T20:16:23.936465Z",
     "shell.execute_reply": "2022-09-21T20:16:23.935249Z"
    },
    "papermill": {
     "duration": 0.017129,
     "end_time": "2022-09-21T20:16:23.938770",
     "exception": false,
     "start_time": "2022-09-21T20:16:23.921641",
     "status": "completed"
    },
    "tags": []
   },
   "outputs": [],
   "source": [
    "import operator"
   ]
  },
  {
   "cell_type": "code",
   "execution_count": 15,
   "id": "4d98602d",
   "metadata": {
    "execution": {
     "iopub.execute_input": "2022-09-21T20:16:23.956900Z",
     "iopub.status.busy": "2022-09-21T20:16:23.956487Z",
     "iopub.status.idle": "2022-09-21T20:16:23.963502Z",
     "shell.execute_reply": "2022-09-21T20:16:23.962658Z"
    },
    "papermill": {
     "duration": 0.018508,
     "end_time": "2022-09-21T20:16:23.965684",
     "exception": false,
     "start_time": "2022-09-21T20:16:23.947176",
     "status": "completed"
    },
    "tags": []
   },
   "outputs": [],
   "source": [
    "\n",
    "\n",
    "def getNeighbors(trainingSet, testInstance, k):\n",
    "\n",
    "    distances = []\n",
    "\n",
    "    length = len(testInstance)-1\n",
    "\n",
    "    for x in range(len(trainingSet)):\n",
    "\n",
    "        dist = euclideanDistance(testInstance, trainingSet[x], length)\n",
    "\n",
    "        distances.append((trainingSet[x], dist))\n",
    "\n",
    "    distances.sort(key=operator.itemgetter(1))\n",
    "\n",
    "    neighbors = []\n",
    "\n",
    "    for x in range(k):\n",
    "\n",
    "        neighbors.append(distances[x][0])\n",
    "\n",
    "    return neighbors"
   ]
  },
  {
   "cell_type": "markdown",
   "id": "6f66c9df",
   "metadata": {
    "papermill": {
     "duration": 0.007905,
     "end_time": "2022-09-21T20:16:23.982547",
     "exception": false,
     "start_time": "2022-09-21T20:16:23.974642",
     "status": "completed"
    },
    "tags": []
   },
   "source": [
    "We can test out this function as follows:"
   ]
  },
  {
   "cell_type": "code",
   "execution_count": 16,
   "id": "0dc32ddf",
   "metadata": {
    "execution": {
     "iopub.execute_input": "2022-09-21T20:16:24.000485Z",
     "iopub.status.busy": "2022-09-21T20:16:24.000029Z",
     "iopub.status.idle": "2022-09-21T20:16:24.006764Z",
     "shell.execute_reply": "2022-09-21T20:16:24.005480Z"
    },
    "papermill": {
     "duration": 0.018892,
     "end_time": "2022-09-21T20:16:24.009468",
     "exception": false,
     "start_time": "2022-09-21T20:16:23.990576",
     "status": "completed"
    },
    "tags": []
   },
   "outputs": [
    {
     "name": "stdout",
     "output_type": "stream",
     "text": [
      "[[4, 4, 4, 'b']]\n"
     ]
    }
   ],
   "source": [
    "\n",
    "\n",
    "trainSet = [[2, 2, 2, 'a'], [4, 4, 4, 'b']]\n",
    "\n",
    "testInstance = [5, 5, 5]\n",
    "\n",
    "k = 1\n",
    "\n",
    "neighbors = getNeighbors(trainSet, testInstance, 1)\n",
    "\n",
    "print(neighbors)"
   ]
  },
  {
   "cell_type": "markdown",
   "id": "ba5ec6cc",
   "metadata": {
    "papermill": {
     "duration": 0.007774,
     "end_time": "2022-09-21T20:16:24.025506",
     "exception": false,
     "start_time": "2022-09-21T20:16:24.017732",
     "status": "completed"
    },
    "tags": []
   },
   "source": [
    "# 4. Response"
   ]
  },
  {
   "cell_type": "markdown",
   "id": "d7c4dcb8",
   "metadata": {
    "papermill": {
     "duration": 0.007722,
     "end_time": "2022-09-21T20:16:24.041557",
     "exception": false,
     "start_time": "2022-09-21T20:16:24.033835",
     "status": "completed"
    },
    "tags": []
   },
   "source": [
    "Once we have located the most similar neighbors for a test instance, the next task is to devise a predicted response based on those neighbors.\n",
    "\n",
    "We can do this by allowing each neighbor to vote for their class attribute, and taking the majority vote as the prediction.\n",
    "\n",
    "Below is a function for getting the majority voted response from a number of neighbors. It assumes the class is the last attribute for each neighbor."
   ]
  },
  {
   "cell_type": "code",
   "execution_count": 17,
   "id": "930171b2",
   "metadata": {
    "execution": {
     "iopub.execute_input": "2022-09-21T20:16:24.060712Z",
     "iopub.status.busy": "2022-09-21T20:16:24.060264Z",
     "iopub.status.idle": "2022-09-21T20:16:24.067240Z",
     "shell.execute_reply": "2022-09-21T20:16:24.066122Z"
    },
    "papermill": {
     "duration": 0.019081,
     "end_time": "2022-09-21T20:16:24.069408",
     "exception": false,
     "start_time": "2022-09-21T20:16:24.050327",
     "status": "completed"
    },
    "tags": []
   },
   "outputs": [],
   "source": [
    "\n",
    "def getResponse(neighbors):\n",
    "\n",
    "    classVotes = {}\n",
    "\n",
    "    for x in range(len(neighbors)):\n",
    "\n",
    "        response = neighbors[x][ -1 ] #complete with appropriate number\n",
    "\n",
    "        if response in classVotes:\n",
    "            classVotes[response] += 1\n",
    "        else:\n",
    "            classVotes[response] = 1\n",
    "    \n",
    "    sortedVotes = sorted(classVotes.items(), key=operator.itemgetter(1), reverse=True)\n",
    "\n",
    "    return sortedVotes[0][0]"
   ]
  },
  {
   "cell_type": "markdown",
   "id": "5114ffce",
   "metadata": {
    "papermill": {
     "duration": 0.007935,
     "end_time": "2022-09-21T20:16:24.085562",
     "exception": false,
     "start_time": "2022-09-21T20:16:24.077627",
     "status": "completed"
    },
    "tags": []
   },
   "source": [
    "We can test out this function with some test neighbors, as follows:"
   ]
  },
  {
   "cell_type": "code",
   "execution_count": 18,
   "id": "6fc2f975",
   "metadata": {
    "execution": {
     "iopub.execute_input": "2022-09-21T20:16:24.103638Z",
     "iopub.status.busy": "2022-09-21T20:16:24.103193Z",
     "iopub.status.idle": "2022-09-21T20:16:24.109323Z",
     "shell.execute_reply": "2022-09-21T20:16:24.108475Z"
    },
    "papermill": {
     "duration": 0.018133,
     "end_time": "2022-09-21T20:16:24.111779",
     "exception": false,
     "start_time": "2022-09-21T20:16:24.093646",
     "status": "completed"
    },
    "tags": []
   },
   "outputs": [
    {
     "name": "stdout",
     "output_type": "stream",
     "text": [
      "a\n"
     ]
    }
   ],
   "source": [
    "neighbors = [[1,1,1,'a'], [2,2,2,'a'], [3,3,3,'b']]\n",
    "\n",
    "response = getResponse(neighbors)\n",
    "\n",
    "print(response)"
   ]
  },
  {
   "cell_type": "markdown",
   "id": "bb015969",
   "metadata": {
    "papermill": {
     "duration": 0.007725,
     "end_time": "2022-09-21T20:16:24.128221",
     "exception": false,
     "start_time": "2022-09-21T20:16:24.120496",
     "status": "completed"
    },
    "tags": []
   },
   "source": [
    "# 5. Accuracy"
   ]
  },
  {
   "cell_type": "markdown",
   "id": "45614216",
   "metadata": {
    "papermill": {
     "duration": 0.007878,
     "end_time": "2022-09-21T20:16:24.144406",
     "exception": false,
     "start_time": "2022-09-21T20:16:24.136528",
     "status": "completed"
    },
    "tags": []
   },
   "source": [
    "\n",
    "\n",
    "We have all of the pieces of the KNN algorithm in place. An important remaining concern is how to evaluate the accuracy of predictions.\n",
    "\n",
    "An easy way to evaluate the accuracy of the model is to calculate a ratio of the total correct predictions out of all predictions made, called classification accuracy.\n",
    "\n",
    "Below is the getAccuracy function that sums the total correct predictions and returns the accuracy as a percentage of correct classifications."
   ]
  },
  {
   "cell_type": "code",
   "execution_count": 19,
   "id": "cecd37d7",
   "metadata": {
    "execution": {
     "iopub.execute_input": "2022-09-21T20:16:24.162889Z",
     "iopub.status.busy": "2022-09-21T20:16:24.162472Z",
     "iopub.status.idle": "2022-09-21T20:16:24.167666Z",
     "shell.execute_reply": "2022-09-21T20:16:24.166786Z"
    },
    "papermill": {
     "duration": 0.017264,
     "end_time": "2022-09-21T20:16:24.169979",
     "exception": false,
     "start_time": "2022-09-21T20:16:24.152715",
     "status": "completed"
    },
    "tags": []
   },
   "outputs": [],
   "source": [
    "def getAccuracy(testSet, predictions):\n",
    "    \n",
    "    correct = 0\n",
    "    \n",
    "    for i in range(len(predictions)):\n",
    "        \n",
    "        if predictions[i] == testSet[i][-1]:\n",
    "            \n",
    "            correct += 1\n",
    "    \n",
    "    return (correct/float(len(testSet))) * 100.0"
   ]
  },
  {
   "cell_type": "markdown",
   "id": "b7747f0c",
   "metadata": {
    "papermill": {
     "duration": 0.008473,
     "end_time": "2022-09-21T20:16:24.187325",
     "exception": false,
     "start_time": "2022-09-21T20:16:24.178852",
     "status": "completed"
    },
    "tags": []
   },
   "source": [
    "We can test this function with a test dataset and predictions, as follows:\n",
    "\n"
   ]
  },
  {
   "cell_type": "code",
   "execution_count": 20,
   "id": "30d160a6",
   "metadata": {
    "execution": {
     "iopub.execute_input": "2022-09-21T20:16:24.206079Z",
     "iopub.status.busy": "2022-09-21T20:16:24.205671Z",
     "iopub.status.idle": "2022-09-21T20:16:24.212612Z",
     "shell.execute_reply": "2022-09-21T20:16:24.211145Z"
    },
    "papermill": {
     "duration": 0.019395,
     "end_time": "2022-09-21T20:16:24.215239",
     "exception": false,
     "start_time": "2022-09-21T20:16:24.195844",
     "status": "completed"
    },
    "tags": []
   },
   "outputs": [
    {
     "name": "stdout",
     "output_type": "stream",
     "text": [
      "66.66666666666666\n"
     ]
    }
   ],
   "source": [
    "testSet = [[1,1,1,'a'], [2,2,2,'a'], [3,3,3,'b']]\n",
    "\n",
    "predictions = ['a', 'a', 'a']\n",
    "\n",
    "accuracy = getAccuracy(testSet, predictions)\n",
    "\n",
    "print(accuracy)"
   ]
  },
  {
   "cell_type": "code",
   "execution_count": 21,
   "id": "3f5b2c6b",
   "metadata": {
    "execution": {
     "iopub.execute_input": "2022-09-21T20:16:24.233790Z",
     "iopub.status.busy": "2022-09-21T20:16:24.233330Z",
     "iopub.status.idle": "2022-09-21T20:16:24.238852Z",
     "shell.execute_reply": "2022-09-21T20:16:24.237998Z"
    },
    "papermill": {
     "duration": 0.017521,
     "end_time": "2022-09-21T20:16:24.241084",
     "exception": false,
     "start_time": "2022-09-21T20:16:24.223563",
     "status": "completed"
    },
    "tags": []
   },
   "outputs": [],
   "source": [
    "def Knn(trainingSet, testSet, k):\n",
    "    \n",
    "    predictions = []\n",
    "    for testInstance in testSet:\n",
    "    \n",
    "        neighbors = getNeighbors(trainingSet, testInstance, k)\n",
    "        Response = getResponse(neighbors)\n",
    "        predictions.append(Response)\n",
    "    \n",
    "    acc = getAccuracy(testSet, predictions)\n",
    "    print(\"accuracy = \",acc)"
   ]
  },
  {
   "cell_type": "code",
   "execution_count": 22,
   "id": "65f9f25b",
   "metadata": {
    "execution": {
     "iopub.execute_input": "2022-09-21T20:16:24.260590Z",
     "iopub.status.busy": "2022-09-21T20:16:24.259212Z",
     "iopub.status.idle": "2022-09-21T20:16:24.266806Z",
     "shell.execute_reply": "2022-09-21T20:16:24.265002Z"
    },
    "papermill": {
     "duration": 0.019921,
     "end_time": "2022-09-21T20:16:24.269309",
     "exception": false,
     "start_time": "2022-09-21T20:16:24.249388",
     "status": "completed"
    },
    "tags": []
   },
   "outputs": [
    {
     "name": "stdout",
     "output_type": "stream",
     "text": [
      "accuracy =  0.0\n"
     ]
    }
   ],
   "source": [
    "Knn(trainingSet, testSet,1)"
   ]
  }
 ],
 "metadata": {
  "kernelspec": {
   "display_name": "Python 3",
   "language": "python",
   "name": "python3"
  },
  "language_info": {
   "codemirror_mode": {
    "name": "ipython",
    "version": 3
   },
   "file_extension": ".py",
   "mimetype": "text/x-python",
   "name": "python",
   "nbconvert_exporter": "python",
   "pygments_lexer": "ipython3",
   "version": "3.7.12"
  },
  "papermill": {
   "default_parameters": {},
   "duration": 11.039959,
   "end_time": "2022-09-21T20:16:25.000202",
   "environment_variables": {},
   "exception": null,
   "input_path": "__notebook__.ipynb",
   "output_path": "__notebook__.ipynb",
   "parameters": {},
   "start_time": "2022-09-21T20:16:13.960243",
   "version": "2.3.4"
  }
 },
 "nbformat": 4,
 "nbformat_minor": 5
}
