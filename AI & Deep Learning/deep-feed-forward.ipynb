{
 "cells": [
  {
   "cell_type": "code",
   "execution_count": 1,
   "id": "2b51a980",
   "metadata": {
    "_cell_guid": "b1076dfc-b9ad-4769-8c92-a6c4dae69d19",
    "_uuid": "8f2839f25d086af736a60e9eeb907d3b93b6e0e5",
    "execution": {
     "iopub.execute_input": "2023-09-24T11:02:44.760174Z",
     "iopub.status.busy": "2023-09-24T11:02:44.759722Z",
     "iopub.status.idle": "2023-09-24T11:02:45.670109Z",
     "shell.execute_reply": "2023-09-24T11:02:45.669100Z"
    },
    "papermill": {
     "duration": 0.929895,
     "end_time": "2023-09-24T11:02:45.672943",
     "exception": false,
     "start_time": "2023-09-24T11:02:44.743048",
     "status": "completed"
    },
    "tags": []
   },
   "outputs": [],
   "source": [
    "import numpy as np # linear algebra\n",
    "import pandas as pd # data processing, CSV file I/O (e.g. pd.read_csv)\n",
    "from sklearn.model_selection import train_test_split"
   ]
  },
  {
   "cell_type": "markdown",
   "id": "aa83fb6a",
   "metadata": {
    "papermill": {
     "duration": 0.011162,
     "end_time": "2023-09-24T11:02:45.695827",
     "exception": false,
     "start_time": "2023-09-24T11:02:45.684665",
     "status": "completed"
    },
    "tags": []
   },
   "source": [
    "# DATA !"
   ]
  },
  {
   "cell_type": "code",
   "execution_count": 2,
   "id": "93cb6b6c",
   "metadata": {
    "execution": {
     "iopub.execute_input": "2023-09-24T11:02:45.719721Z",
     "iopub.status.busy": "2023-09-24T11:02:45.719401Z",
     "iopub.status.idle": "2023-09-24T11:02:45.767412Z",
     "shell.execute_reply": "2023-09-24T11:02:45.766501Z"
    },
    "papermill": {
     "duration": 0.062514,
     "end_time": "2023-09-24T11:02:45.769675",
     "exception": false,
     "start_time": "2023-09-24T11:02:45.707161",
     "status": "completed"
    },
    "tags": []
   },
   "outputs": [],
   "source": [
    "data = pd.read_csv(\"../input/bank-data/Bank_Term_Deposit.csv\")"
   ]
  },
  {
   "cell_type": "code",
   "execution_count": 3,
   "id": "262519b9",
   "metadata": {
    "execution": {
     "iopub.execute_input": "2023-09-24T11:02:45.794818Z",
     "iopub.status.busy": "2023-09-24T11:02:45.794522Z",
     "iopub.status.idle": "2023-09-24T11:02:45.802820Z",
     "shell.execute_reply": "2023-09-24T11:02:45.801879Z"
    },
    "papermill": {
     "duration": 0.023439,
     "end_time": "2023-09-24T11:02:45.805668",
     "exception": false,
     "start_time": "2023-09-24T11:02:45.782229",
     "status": "completed"
    },
    "tags": []
   },
   "outputs": [
    {
     "data": {
      "text/plain": [
       "(11162, 17)"
      ]
     },
     "execution_count": 3,
     "metadata": {},
     "output_type": "execute_result"
    }
   ],
   "source": [
    "data.shape"
   ]
  },
  {
   "cell_type": "code",
   "execution_count": 4,
   "id": "794e4ce1",
   "metadata": {
    "execution": {
     "iopub.execute_input": "2023-09-24T11:02:45.829930Z",
     "iopub.status.busy": "2023-09-24T11:02:45.829652Z",
     "iopub.status.idle": "2023-09-24T11:02:45.836409Z",
     "shell.execute_reply": "2023-09-24T11:02:45.835327Z"
    },
    "papermill": {
     "duration": 0.022462,
     "end_time": "2023-09-24T11:02:45.839502",
     "exception": false,
     "start_time": "2023-09-24T11:02:45.817040",
     "status": "completed"
    },
    "tags": []
   },
   "outputs": [
    {
     "data": {
      "text/plain": [
       "Index(['age', 'job', 'marital', 'education', 'default', 'balance', 'housing',\n",
       "       'loan', 'contact', 'day', 'month', 'duration', 'campaign', 'pdays',\n",
       "       'previous', 'poutcome', 'deposit'],\n",
       "      dtype='object')"
      ]
     },
     "execution_count": 4,
     "metadata": {},
     "output_type": "execute_result"
    }
   ],
   "source": [
    "data.columns"
   ]
  },
  {
   "cell_type": "code",
   "execution_count": 5,
   "id": "1e201875",
   "metadata": {
    "execution": {
     "iopub.execute_input": "2023-09-24T11:02:45.863915Z",
     "iopub.status.busy": "2023-09-24T11:02:45.863635Z",
     "iopub.status.idle": "2023-09-24T11:02:45.894410Z",
     "shell.execute_reply": "2023-09-24T11:02:45.893302Z"
    },
    "papermill": {
     "duration": 0.045842,
     "end_time": "2023-09-24T11:02:45.897074",
     "exception": false,
     "start_time": "2023-09-24T11:02:45.851232",
     "status": "completed"
    },
    "tags": []
   },
   "outputs": [
    {
     "data": {
      "text/html": [
       "<div>\n",
       "<style scoped>\n",
       "    .dataframe tbody tr th:only-of-type {\n",
       "        vertical-align: middle;\n",
       "    }\n",
       "\n",
       "    .dataframe tbody tr th {\n",
       "        vertical-align: top;\n",
       "    }\n",
       "\n",
       "    .dataframe thead th {\n",
       "        text-align: right;\n",
       "    }\n",
       "</style>\n",
       "<table border=\"1\" class=\"dataframe\">\n",
       "  <thead>\n",
       "    <tr style=\"text-align: right;\">\n",
       "      <th></th>\n",
       "      <th>age</th>\n",
       "      <th>job</th>\n",
       "      <th>marital</th>\n",
       "      <th>education</th>\n",
       "      <th>default</th>\n",
       "      <th>balance</th>\n",
       "      <th>housing</th>\n",
       "      <th>loan</th>\n",
       "      <th>contact</th>\n",
       "      <th>day</th>\n",
       "      <th>month</th>\n",
       "      <th>duration</th>\n",
       "      <th>campaign</th>\n",
       "      <th>pdays</th>\n",
       "      <th>previous</th>\n",
       "      <th>poutcome</th>\n",
       "      <th>deposit</th>\n",
       "    </tr>\n",
       "  </thead>\n",
       "  <tbody>\n",
       "    <tr>\n",
       "      <th>0</th>\n",
       "      <td>59</td>\n",
       "      <td>admin.</td>\n",
       "      <td>married</td>\n",
       "      <td>secondary</td>\n",
       "      <td>no</td>\n",
       "      <td>2343</td>\n",
       "      <td>yes</td>\n",
       "      <td>no</td>\n",
       "      <td>unknown</td>\n",
       "      <td>5</td>\n",
       "      <td>may</td>\n",
       "      <td>1042</td>\n",
       "      <td>1</td>\n",
       "      <td>-1</td>\n",
       "      <td>0</td>\n",
       "      <td>unknown</td>\n",
       "      <td>yes</td>\n",
       "    </tr>\n",
       "    <tr>\n",
       "      <th>1</th>\n",
       "      <td>56</td>\n",
       "      <td>admin.</td>\n",
       "      <td>married</td>\n",
       "      <td>secondary</td>\n",
       "      <td>no</td>\n",
       "      <td>45</td>\n",
       "      <td>no</td>\n",
       "      <td>no</td>\n",
       "      <td>unknown</td>\n",
       "      <td>5</td>\n",
       "      <td>may</td>\n",
       "      <td>1467</td>\n",
       "      <td>1</td>\n",
       "      <td>-1</td>\n",
       "      <td>0</td>\n",
       "      <td>unknown</td>\n",
       "      <td>yes</td>\n",
       "    </tr>\n",
       "    <tr>\n",
       "      <th>2</th>\n",
       "      <td>41</td>\n",
       "      <td>technician</td>\n",
       "      <td>married</td>\n",
       "      <td>secondary</td>\n",
       "      <td>no</td>\n",
       "      <td>1270</td>\n",
       "      <td>yes</td>\n",
       "      <td>no</td>\n",
       "      <td>unknown</td>\n",
       "      <td>5</td>\n",
       "      <td>may</td>\n",
       "      <td>1389</td>\n",
       "      <td>1</td>\n",
       "      <td>-1</td>\n",
       "      <td>0</td>\n",
       "      <td>unknown</td>\n",
       "      <td>yes</td>\n",
       "    </tr>\n",
       "    <tr>\n",
       "      <th>3</th>\n",
       "      <td>55</td>\n",
       "      <td>services</td>\n",
       "      <td>married</td>\n",
       "      <td>secondary</td>\n",
       "      <td>no</td>\n",
       "      <td>2476</td>\n",
       "      <td>yes</td>\n",
       "      <td>no</td>\n",
       "      <td>unknown</td>\n",
       "      <td>5</td>\n",
       "      <td>may</td>\n",
       "      <td>579</td>\n",
       "      <td>1</td>\n",
       "      <td>-1</td>\n",
       "      <td>0</td>\n",
       "      <td>unknown</td>\n",
       "      <td>yes</td>\n",
       "    </tr>\n",
       "    <tr>\n",
       "      <th>4</th>\n",
       "      <td>54</td>\n",
       "      <td>admin.</td>\n",
       "      <td>married</td>\n",
       "      <td>tertiary</td>\n",
       "      <td>no</td>\n",
       "      <td>184</td>\n",
       "      <td>no</td>\n",
       "      <td>no</td>\n",
       "      <td>unknown</td>\n",
       "      <td>5</td>\n",
       "      <td>may</td>\n",
       "      <td>673</td>\n",
       "      <td>2</td>\n",
       "      <td>-1</td>\n",
       "      <td>0</td>\n",
       "      <td>unknown</td>\n",
       "      <td>yes</td>\n",
       "    </tr>\n",
       "    <tr>\n",
       "      <th>...</th>\n",
       "      <td>...</td>\n",
       "      <td>...</td>\n",
       "      <td>...</td>\n",
       "      <td>...</td>\n",
       "      <td>...</td>\n",
       "      <td>...</td>\n",
       "      <td>...</td>\n",
       "      <td>...</td>\n",
       "      <td>...</td>\n",
       "      <td>...</td>\n",
       "      <td>...</td>\n",
       "      <td>...</td>\n",
       "      <td>...</td>\n",
       "      <td>...</td>\n",
       "      <td>...</td>\n",
       "      <td>...</td>\n",
       "      <td>...</td>\n",
       "    </tr>\n",
       "    <tr>\n",
       "      <th>11157</th>\n",
       "      <td>33</td>\n",
       "      <td>blue-collar</td>\n",
       "      <td>single</td>\n",
       "      <td>primary</td>\n",
       "      <td>no</td>\n",
       "      <td>1</td>\n",
       "      <td>yes</td>\n",
       "      <td>no</td>\n",
       "      <td>cellular</td>\n",
       "      <td>20</td>\n",
       "      <td>apr</td>\n",
       "      <td>257</td>\n",
       "      <td>1</td>\n",
       "      <td>-1</td>\n",
       "      <td>0</td>\n",
       "      <td>unknown</td>\n",
       "      <td>no</td>\n",
       "    </tr>\n",
       "    <tr>\n",
       "      <th>11158</th>\n",
       "      <td>39</td>\n",
       "      <td>services</td>\n",
       "      <td>married</td>\n",
       "      <td>secondary</td>\n",
       "      <td>no</td>\n",
       "      <td>733</td>\n",
       "      <td>no</td>\n",
       "      <td>no</td>\n",
       "      <td>unknown</td>\n",
       "      <td>16</td>\n",
       "      <td>jun</td>\n",
       "      <td>83</td>\n",
       "      <td>4</td>\n",
       "      <td>-1</td>\n",
       "      <td>0</td>\n",
       "      <td>unknown</td>\n",
       "      <td>no</td>\n",
       "    </tr>\n",
       "    <tr>\n",
       "      <th>11159</th>\n",
       "      <td>32</td>\n",
       "      <td>technician</td>\n",
       "      <td>single</td>\n",
       "      <td>secondary</td>\n",
       "      <td>no</td>\n",
       "      <td>29</td>\n",
       "      <td>no</td>\n",
       "      <td>no</td>\n",
       "      <td>cellular</td>\n",
       "      <td>19</td>\n",
       "      <td>aug</td>\n",
       "      <td>156</td>\n",
       "      <td>2</td>\n",
       "      <td>-1</td>\n",
       "      <td>0</td>\n",
       "      <td>unknown</td>\n",
       "      <td>no</td>\n",
       "    </tr>\n",
       "    <tr>\n",
       "      <th>11160</th>\n",
       "      <td>43</td>\n",
       "      <td>technician</td>\n",
       "      <td>married</td>\n",
       "      <td>secondary</td>\n",
       "      <td>no</td>\n",
       "      <td>0</td>\n",
       "      <td>no</td>\n",
       "      <td>yes</td>\n",
       "      <td>cellular</td>\n",
       "      <td>8</td>\n",
       "      <td>may</td>\n",
       "      <td>9</td>\n",
       "      <td>2</td>\n",
       "      <td>172</td>\n",
       "      <td>5</td>\n",
       "      <td>failure</td>\n",
       "      <td>no</td>\n",
       "    </tr>\n",
       "    <tr>\n",
       "      <th>11161</th>\n",
       "      <td>34</td>\n",
       "      <td>technician</td>\n",
       "      <td>married</td>\n",
       "      <td>secondary</td>\n",
       "      <td>no</td>\n",
       "      <td>0</td>\n",
       "      <td>no</td>\n",
       "      <td>no</td>\n",
       "      <td>cellular</td>\n",
       "      <td>9</td>\n",
       "      <td>jul</td>\n",
       "      <td>628</td>\n",
       "      <td>1</td>\n",
       "      <td>-1</td>\n",
       "      <td>0</td>\n",
       "      <td>unknown</td>\n",
       "      <td>no</td>\n",
       "    </tr>\n",
       "  </tbody>\n",
       "</table>\n",
       "<p>11162 rows × 17 columns</p>\n",
       "</div>"
      ],
      "text/plain": [
       "       age          job  marital  education default  balance housing loan  \\\n",
       "0       59       admin.  married  secondary      no     2343     yes   no   \n",
       "1       56       admin.  married  secondary      no       45      no   no   \n",
       "2       41   technician  married  secondary      no     1270     yes   no   \n",
       "3       55     services  married  secondary      no     2476     yes   no   \n",
       "4       54       admin.  married   tertiary      no      184      no   no   \n",
       "...    ...          ...      ...        ...     ...      ...     ...  ...   \n",
       "11157   33  blue-collar   single    primary      no        1     yes   no   \n",
       "11158   39     services  married  secondary      no      733      no   no   \n",
       "11159   32   technician   single  secondary      no       29      no   no   \n",
       "11160   43   technician  married  secondary      no        0      no  yes   \n",
       "11161   34   technician  married  secondary      no        0      no   no   \n",
       "\n",
       "        contact  day month  duration  campaign  pdays  previous poutcome  \\\n",
       "0       unknown    5   may      1042         1     -1         0  unknown   \n",
       "1       unknown    5   may      1467         1     -1         0  unknown   \n",
       "2       unknown    5   may      1389         1     -1         0  unknown   \n",
       "3       unknown    5   may       579         1     -1         0  unknown   \n",
       "4       unknown    5   may       673         2     -1         0  unknown   \n",
       "...         ...  ...   ...       ...       ...    ...       ...      ...   \n",
       "11157  cellular   20   apr       257         1     -1         0  unknown   \n",
       "11158   unknown   16   jun        83         4     -1         0  unknown   \n",
       "11159  cellular   19   aug       156         2     -1         0  unknown   \n",
       "11160  cellular    8   may         9         2    172         5  failure   \n",
       "11161  cellular    9   jul       628         1     -1         0  unknown   \n",
       "\n",
       "      deposit  \n",
       "0         yes  \n",
       "1         yes  \n",
       "2         yes  \n",
       "3         yes  \n",
       "4         yes  \n",
       "...       ...  \n",
       "11157      no  \n",
       "11158      no  \n",
       "11159      no  \n",
       "11160      no  \n",
       "11161      no  \n",
       "\n",
       "[11162 rows x 17 columns]"
      ]
     },
     "execution_count": 5,
     "metadata": {},
     "output_type": "execute_result"
    }
   ],
   "source": [
    "data"
   ]
  },
  {
   "cell_type": "markdown",
   "id": "a55fb35d",
   "metadata": {
    "papermill": {
     "duration": 0.011874,
     "end_time": "2023-09-24T11:02:45.921054",
     "exception": false,
     "start_time": "2023-09-24T11:02:45.909180",
     "status": "completed"
    },
    "tags": []
   },
   "source": [
    "# Transform categorical data"
   ]
  },
  {
   "cell_type": "code",
   "execution_count": 6,
   "id": "2fa028c1",
   "metadata": {
    "execution": {
     "iopub.execute_input": "2023-09-24T11:02:45.946565Z",
     "iopub.status.busy": "2023-09-24T11:02:45.946255Z",
     "iopub.status.idle": "2023-09-24T11:02:45.950464Z",
     "shell.execute_reply": "2023-09-24T11:02:45.949513Z"
    },
    "papermill": {
     "duration": 0.019178,
     "end_time": "2023-09-24T11:02:45.952584",
     "exception": false,
     "start_time": "2023-09-24T11:02:45.933406",
     "status": "completed"
    },
    "tags": []
   },
   "outputs": [],
   "source": [
    "from sklearn.preprocessing import LabelEncoder"
   ]
  },
  {
   "cell_type": "code",
   "execution_count": 7,
   "id": "73e47343",
   "metadata": {
    "execution": {
     "iopub.execute_input": "2023-09-24T11:02:45.977849Z",
     "iopub.status.busy": "2023-09-24T11:02:45.977294Z",
     "iopub.status.idle": "2023-09-24T11:02:45.992156Z",
     "shell.execute_reply": "2023-09-24T11:02:45.991209Z"
    },
    "papermill": {
     "duration": 0.029908,
     "end_time": "2023-09-24T11:02:45.994348",
     "exception": false,
     "start_time": "2023-09-24T11:02:45.964440",
     "status": "completed"
    },
    "tags": []
   },
   "outputs": [],
   "source": [
    "data.deposit.replace({'yes':1, 'no':0}, inplace = True)"
   ]
  },
  {
   "cell_type": "code",
   "execution_count": 8,
   "id": "d080ef6a",
   "metadata": {
    "execution": {
     "iopub.execute_input": "2023-09-24T11:02:46.020149Z",
     "iopub.status.busy": "2023-09-24T11:02:46.019328Z",
     "iopub.status.idle": "2023-09-24T11:02:46.023565Z",
     "shell.execute_reply": "2023-09-24T11:02:46.022589Z"
    },
    "papermill": {
     "duration": 0.019466,
     "end_time": "2023-09-24T11:02:46.025801",
     "exception": false,
     "start_time": "2023-09-24T11:02:46.006335",
     "status": "completed"
    },
    "tags": []
   },
   "outputs": [],
   "source": [
    "#data[['job', 'marital', 'education', 'default', 'housing', 'loan', 'contact']].apply(LabelEncoder().fit_transform)"
   ]
  },
  {
   "cell_type": "code",
   "execution_count": 9,
   "id": "156448d4",
   "metadata": {
    "execution": {
     "iopub.execute_input": "2023-09-24T11:02:46.051687Z",
     "iopub.status.busy": "2023-09-24T11:02:46.050857Z",
     "iopub.status.idle": "2023-09-24T11:02:46.087152Z",
     "shell.execute_reply": "2023-09-24T11:02:46.086260Z"
    },
    "papermill": {
     "duration": 0.051541,
     "end_time": "2023-09-24T11:02:46.089400",
     "exception": false,
     "start_time": "2023-09-24T11:02:46.037859",
     "status": "completed"
    },
    "tags": []
   },
   "outputs": [],
   "source": [
    "le = LabelEncoder()\n",
    "for c in ['job', 'marital', 'education', 'default', 'housing', 'loan', 'contact', 'poutcome']:\n",
    "    data[c] = le.fit_transform(data[c].values)"
   ]
  },
  {
   "cell_type": "code",
   "execution_count": 10,
   "id": "904b5471",
   "metadata": {
    "execution": {
     "iopub.execute_input": "2023-09-24T11:02:46.115131Z",
     "iopub.status.busy": "2023-09-24T11:02:46.114842Z",
     "iopub.status.idle": "2023-09-24T11:02:46.135685Z",
     "shell.execute_reply": "2023-09-24T11:02:46.134768Z"
    },
    "papermill": {
     "duration": 0.036317,
     "end_time": "2023-09-24T11:02:46.137856",
     "exception": false,
     "start_time": "2023-09-24T11:02:46.101539",
     "status": "completed"
    },
    "tags": []
   },
   "outputs": [
    {
     "data": {
      "text/html": [
       "<div>\n",
       "<style scoped>\n",
       "    .dataframe tbody tr th:only-of-type {\n",
       "        vertical-align: middle;\n",
       "    }\n",
       "\n",
       "    .dataframe tbody tr th {\n",
       "        vertical-align: top;\n",
       "    }\n",
       "\n",
       "    .dataframe thead th {\n",
       "        text-align: right;\n",
       "    }\n",
       "</style>\n",
       "<table border=\"1\" class=\"dataframe\">\n",
       "  <thead>\n",
       "    <tr style=\"text-align: right;\">\n",
       "      <th></th>\n",
       "      <th>age</th>\n",
       "      <th>job</th>\n",
       "      <th>marital</th>\n",
       "      <th>education</th>\n",
       "      <th>default</th>\n",
       "      <th>balance</th>\n",
       "      <th>housing</th>\n",
       "      <th>loan</th>\n",
       "      <th>contact</th>\n",
       "      <th>day</th>\n",
       "      <th>month</th>\n",
       "      <th>duration</th>\n",
       "      <th>campaign</th>\n",
       "      <th>pdays</th>\n",
       "      <th>previous</th>\n",
       "      <th>poutcome</th>\n",
       "      <th>deposit</th>\n",
       "    </tr>\n",
       "  </thead>\n",
       "  <tbody>\n",
       "    <tr>\n",
       "      <th>0</th>\n",
       "      <td>59</td>\n",
       "      <td>0</td>\n",
       "      <td>1</td>\n",
       "      <td>1</td>\n",
       "      <td>0</td>\n",
       "      <td>2343</td>\n",
       "      <td>1</td>\n",
       "      <td>0</td>\n",
       "      <td>2</td>\n",
       "      <td>5</td>\n",
       "      <td>may</td>\n",
       "      <td>1042</td>\n",
       "      <td>1</td>\n",
       "      <td>-1</td>\n",
       "      <td>0</td>\n",
       "      <td>3</td>\n",
       "      <td>1</td>\n",
       "    </tr>\n",
       "    <tr>\n",
       "      <th>1</th>\n",
       "      <td>56</td>\n",
       "      <td>0</td>\n",
       "      <td>1</td>\n",
       "      <td>1</td>\n",
       "      <td>0</td>\n",
       "      <td>45</td>\n",
       "      <td>0</td>\n",
       "      <td>0</td>\n",
       "      <td>2</td>\n",
       "      <td>5</td>\n",
       "      <td>may</td>\n",
       "      <td>1467</td>\n",
       "      <td>1</td>\n",
       "      <td>-1</td>\n",
       "      <td>0</td>\n",
       "      <td>3</td>\n",
       "      <td>1</td>\n",
       "    </tr>\n",
       "    <tr>\n",
       "      <th>2</th>\n",
       "      <td>41</td>\n",
       "      <td>9</td>\n",
       "      <td>1</td>\n",
       "      <td>1</td>\n",
       "      <td>0</td>\n",
       "      <td>1270</td>\n",
       "      <td>1</td>\n",
       "      <td>0</td>\n",
       "      <td>2</td>\n",
       "      <td>5</td>\n",
       "      <td>may</td>\n",
       "      <td>1389</td>\n",
       "      <td>1</td>\n",
       "      <td>-1</td>\n",
       "      <td>0</td>\n",
       "      <td>3</td>\n",
       "      <td>1</td>\n",
       "    </tr>\n",
       "    <tr>\n",
       "      <th>3</th>\n",
       "      <td>55</td>\n",
       "      <td>7</td>\n",
       "      <td>1</td>\n",
       "      <td>1</td>\n",
       "      <td>0</td>\n",
       "      <td>2476</td>\n",
       "      <td>1</td>\n",
       "      <td>0</td>\n",
       "      <td>2</td>\n",
       "      <td>5</td>\n",
       "      <td>may</td>\n",
       "      <td>579</td>\n",
       "      <td>1</td>\n",
       "      <td>-1</td>\n",
       "      <td>0</td>\n",
       "      <td>3</td>\n",
       "      <td>1</td>\n",
       "    </tr>\n",
       "    <tr>\n",
       "      <th>4</th>\n",
       "      <td>54</td>\n",
       "      <td>0</td>\n",
       "      <td>1</td>\n",
       "      <td>2</td>\n",
       "      <td>0</td>\n",
       "      <td>184</td>\n",
       "      <td>0</td>\n",
       "      <td>0</td>\n",
       "      <td>2</td>\n",
       "      <td>5</td>\n",
       "      <td>may</td>\n",
       "      <td>673</td>\n",
       "      <td>2</td>\n",
       "      <td>-1</td>\n",
       "      <td>0</td>\n",
       "      <td>3</td>\n",
       "      <td>1</td>\n",
       "    </tr>\n",
       "    <tr>\n",
       "      <th>...</th>\n",
       "      <td>...</td>\n",
       "      <td>...</td>\n",
       "      <td>...</td>\n",
       "      <td>...</td>\n",
       "      <td>...</td>\n",
       "      <td>...</td>\n",
       "      <td>...</td>\n",
       "      <td>...</td>\n",
       "      <td>...</td>\n",
       "      <td>...</td>\n",
       "      <td>...</td>\n",
       "      <td>...</td>\n",
       "      <td>...</td>\n",
       "      <td>...</td>\n",
       "      <td>...</td>\n",
       "      <td>...</td>\n",
       "      <td>...</td>\n",
       "    </tr>\n",
       "    <tr>\n",
       "      <th>11157</th>\n",
       "      <td>33</td>\n",
       "      <td>1</td>\n",
       "      <td>2</td>\n",
       "      <td>0</td>\n",
       "      <td>0</td>\n",
       "      <td>1</td>\n",
       "      <td>1</td>\n",
       "      <td>0</td>\n",
       "      <td>0</td>\n",
       "      <td>20</td>\n",
       "      <td>apr</td>\n",
       "      <td>257</td>\n",
       "      <td>1</td>\n",
       "      <td>-1</td>\n",
       "      <td>0</td>\n",
       "      <td>3</td>\n",
       "      <td>0</td>\n",
       "    </tr>\n",
       "    <tr>\n",
       "      <th>11158</th>\n",
       "      <td>39</td>\n",
       "      <td>7</td>\n",
       "      <td>1</td>\n",
       "      <td>1</td>\n",
       "      <td>0</td>\n",
       "      <td>733</td>\n",
       "      <td>0</td>\n",
       "      <td>0</td>\n",
       "      <td>2</td>\n",
       "      <td>16</td>\n",
       "      <td>jun</td>\n",
       "      <td>83</td>\n",
       "      <td>4</td>\n",
       "      <td>-1</td>\n",
       "      <td>0</td>\n",
       "      <td>3</td>\n",
       "      <td>0</td>\n",
       "    </tr>\n",
       "    <tr>\n",
       "      <th>11159</th>\n",
       "      <td>32</td>\n",
       "      <td>9</td>\n",
       "      <td>2</td>\n",
       "      <td>1</td>\n",
       "      <td>0</td>\n",
       "      <td>29</td>\n",
       "      <td>0</td>\n",
       "      <td>0</td>\n",
       "      <td>0</td>\n",
       "      <td>19</td>\n",
       "      <td>aug</td>\n",
       "      <td>156</td>\n",
       "      <td>2</td>\n",
       "      <td>-1</td>\n",
       "      <td>0</td>\n",
       "      <td>3</td>\n",
       "      <td>0</td>\n",
       "    </tr>\n",
       "    <tr>\n",
       "      <th>11160</th>\n",
       "      <td>43</td>\n",
       "      <td>9</td>\n",
       "      <td>1</td>\n",
       "      <td>1</td>\n",
       "      <td>0</td>\n",
       "      <td>0</td>\n",
       "      <td>0</td>\n",
       "      <td>1</td>\n",
       "      <td>0</td>\n",
       "      <td>8</td>\n",
       "      <td>may</td>\n",
       "      <td>9</td>\n",
       "      <td>2</td>\n",
       "      <td>172</td>\n",
       "      <td>5</td>\n",
       "      <td>0</td>\n",
       "      <td>0</td>\n",
       "    </tr>\n",
       "    <tr>\n",
       "      <th>11161</th>\n",
       "      <td>34</td>\n",
       "      <td>9</td>\n",
       "      <td>1</td>\n",
       "      <td>1</td>\n",
       "      <td>0</td>\n",
       "      <td>0</td>\n",
       "      <td>0</td>\n",
       "      <td>0</td>\n",
       "      <td>0</td>\n",
       "      <td>9</td>\n",
       "      <td>jul</td>\n",
       "      <td>628</td>\n",
       "      <td>1</td>\n",
       "      <td>-1</td>\n",
       "      <td>0</td>\n",
       "      <td>3</td>\n",
       "      <td>0</td>\n",
       "    </tr>\n",
       "  </tbody>\n",
       "</table>\n",
       "<p>11162 rows × 17 columns</p>\n",
       "</div>"
      ],
      "text/plain": [
       "       age  job  marital  education  default  balance  housing  loan  contact  \\\n",
       "0       59    0        1          1        0     2343        1     0        2   \n",
       "1       56    0        1          1        0       45        0     0        2   \n",
       "2       41    9        1          1        0     1270        1     0        2   \n",
       "3       55    7        1          1        0     2476        1     0        2   \n",
       "4       54    0        1          2        0      184        0     0        2   \n",
       "...    ...  ...      ...        ...      ...      ...      ...   ...      ...   \n",
       "11157   33    1        2          0        0        1        1     0        0   \n",
       "11158   39    7        1          1        0      733        0     0        2   \n",
       "11159   32    9        2          1        0       29        0     0        0   \n",
       "11160   43    9        1          1        0        0        0     1        0   \n",
       "11161   34    9        1          1        0        0        0     0        0   \n",
       "\n",
       "       day month  duration  campaign  pdays  previous  poutcome  deposit  \n",
       "0        5   may      1042         1     -1         0         3        1  \n",
       "1        5   may      1467         1     -1         0         3        1  \n",
       "2        5   may      1389         1     -1         0         3        1  \n",
       "3        5   may       579         1     -1         0         3        1  \n",
       "4        5   may       673         2     -1         0         3        1  \n",
       "...    ...   ...       ...       ...    ...       ...       ...      ...  \n",
       "11157   20   apr       257         1     -1         0         3        0  \n",
       "11158   16   jun        83         4     -1         0         3        0  \n",
       "11159   19   aug       156         2     -1         0         3        0  \n",
       "11160    8   may         9         2    172         5         0        0  \n",
       "11161    9   jul       628         1     -1         0         3        0  \n",
       "\n",
       "[11162 rows x 17 columns]"
      ]
     },
     "execution_count": 10,
     "metadata": {},
     "output_type": "execute_result"
    }
   ],
   "source": [
    "data"
   ]
  },
  {
   "cell_type": "markdown",
   "id": "fad79266",
   "metadata": {
    "papermill": {
     "duration": 0.012254,
     "end_time": "2023-09-24T11:02:46.162670",
     "exception": false,
     "start_time": "2023-09-24T11:02:46.150416",
     "status": "completed"
    },
    "tags": []
   },
   "source": [
    "# # Some Feature Engineering"
   ]
  },
  {
   "cell_type": "markdown",
   "id": "f0614128",
   "metadata": {
    "papermill": {
     "duration": 0.012346,
     "end_time": "2023-09-24T11:02:46.187386",
     "exception": false,
     "start_time": "2023-09-24T11:02:46.175040",
     "status": "completed"
    },
    "tags": []
   },
   "source": [
    "# First Data Representation :\n",
    "\n",
    "We will encode dates folowing a sequentiel encoding. This means that days will still as they are (the actual number), concerning the month they will take values from 0-11, according on their sequentiel position in the calendar (minus 1)"
   ]
  },
  {
   "cell_type": "code",
   "execution_count": 11,
   "id": "754a6aec",
   "metadata": {
    "execution": {
     "iopub.execute_input": "2023-09-24T11:02:46.213313Z",
     "iopub.status.busy": "2023-09-24T11:02:46.213038Z",
     "iopub.status.idle": "2023-09-24T11:02:46.223678Z",
     "shell.execute_reply": "2023-09-24T11:02:46.222806Z"
    },
    "papermill": {
     "duration": 0.026014,
     "end_time": "2023-09-24T11:02:46.225798",
     "exception": false,
     "start_time": "2023-09-24T11:02:46.199784",
     "status": "completed"
    },
    "tags": []
   },
   "outputs": [],
   "source": [
    "data_seq = data.copy()\n",
    "data_seq['month'] = le.fit_transform(data_seq['month'].values)"
   ]
  },
  {
   "cell_type": "code",
   "execution_count": 12,
   "id": "78df6332",
   "metadata": {
    "execution": {
     "iopub.execute_input": "2023-09-24T11:02:46.252215Z",
     "iopub.status.busy": "2023-09-24T11:02:46.251345Z",
     "iopub.status.idle": "2023-09-24T11:02:46.268976Z",
     "shell.execute_reply": "2023-09-24T11:02:46.268083Z"
    },
    "papermill": {
     "duration": 0.033015,
     "end_time": "2023-09-24T11:02:46.271144",
     "exception": false,
     "start_time": "2023-09-24T11:02:46.238129",
     "status": "completed"
    },
    "tags": []
   },
   "outputs": [
    {
     "data": {
      "text/html": [
       "<div>\n",
       "<style scoped>\n",
       "    .dataframe tbody tr th:only-of-type {\n",
       "        vertical-align: middle;\n",
       "    }\n",
       "\n",
       "    .dataframe tbody tr th {\n",
       "        vertical-align: top;\n",
       "    }\n",
       "\n",
       "    .dataframe thead th {\n",
       "        text-align: right;\n",
       "    }\n",
       "</style>\n",
       "<table border=\"1\" class=\"dataframe\">\n",
       "  <thead>\n",
       "    <tr style=\"text-align: right;\">\n",
       "      <th></th>\n",
       "      <th>age</th>\n",
       "      <th>job</th>\n",
       "      <th>marital</th>\n",
       "      <th>education</th>\n",
       "      <th>default</th>\n",
       "      <th>balance</th>\n",
       "      <th>housing</th>\n",
       "      <th>loan</th>\n",
       "      <th>contact</th>\n",
       "      <th>day</th>\n",
       "      <th>month</th>\n",
       "      <th>duration</th>\n",
       "      <th>campaign</th>\n",
       "      <th>pdays</th>\n",
       "      <th>previous</th>\n",
       "      <th>poutcome</th>\n",
       "      <th>deposit</th>\n",
       "    </tr>\n",
       "  </thead>\n",
       "  <tbody>\n",
       "    <tr>\n",
       "      <th>0</th>\n",
       "      <td>59</td>\n",
       "      <td>0</td>\n",
       "      <td>1</td>\n",
       "      <td>1</td>\n",
       "      <td>0</td>\n",
       "      <td>2343</td>\n",
       "      <td>1</td>\n",
       "      <td>0</td>\n",
       "      <td>2</td>\n",
       "      <td>5</td>\n",
       "      <td>8</td>\n",
       "      <td>1042</td>\n",
       "      <td>1</td>\n",
       "      <td>-1</td>\n",
       "      <td>0</td>\n",
       "      <td>3</td>\n",
       "      <td>1</td>\n",
       "    </tr>\n",
       "    <tr>\n",
       "      <th>1</th>\n",
       "      <td>56</td>\n",
       "      <td>0</td>\n",
       "      <td>1</td>\n",
       "      <td>1</td>\n",
       "      <td>0</td>\n",
       "      <td>45</td>\n",
       "      <td>0</td>\n",
       "      <td>0</td>\n",
       "      <td>2</td>\n",
       "      <td>5</td>\n",
       "      <td>8</td>\n",
       "      <td>1467</td>\n",
       "      <td>1</td>\n",
       "      <td>-1</td>\n",
       "      <td>0</td>\n",
       "      <td>3</td>\n",
       "      <td>1</td>\n",
       "    </tr>\n",
       "    <tr>\n",
       "      <th>2</th>\n",
       "      <td>41</td>\n",
       "      <td>9</td>\n",
       "      <td>1</td>\n",
       "      <td>1</td>\n",
       "      <td>0</td>\n",
       "      <td>1270</td>\n",
       "      <td>1</td>\n",
       "      <td>0</td>\n",
       "      <td>2</td>\n",
       "      <td>5</td>\n",
       "      <td>8</td>\n",
       "      <td>1389</td>\n",
       "      <td>1</td>\n",
       "      <td>-1</td>\n",
       "      <td>0</td>\n",
       "      <td>3</td>\n",
       "      <td>1</td>\n",
       "    </tr>\n",
       "    <tr>\n",
       "      <th>3</th>\n",
       "      <td>55</td>\n",
       "      <td>7</td>\n",
       "      <td>1</td>\n",
       "      <td>1</td>\n",
       "      <td>0</td>\n",
       "      <td>2476</td>\n",
       "      <td>1</td>\n",
       "      <td>0</td>\n",
       "      <td>2</td>\n",
       "      <td>5</td>\n",
       "      <td>8</td>\n",
       "      <td>579</td>\n",
       "      <td>1</td>\n",
       "      <td>-1</td>\n",
       "      <td>0</td>\n",
       "      <td>3</td>\n",
       "      <td>1</td>\n",
       "    </tr>\n",
       "    <tr>\n",
       "      <th>4</th>\n",
       "      <td>54</td>\n",
       "      <td>0</td>\n",
       "      <td>1</td>\n",
       "      <td>2</td>\n",
       "      <td>0</td>\n",
       "      <td>184</td>\n",
       "      <td>0</td>\n",
       "      <td>0</td>\n",
       "      <td>2</td>\n",
       "      <td>5</td>\n",
       "      <td>8</td>\n",
       "      <td>673</td>\n",
       "      <td>2</td>\n",
       "      <td>-1</td>\n",
       "      <td>0</td>\n",
       "      <td>3</td>\n",
       "      <td>1</td>\n",
       "    </tr>\n",
       "    <tr>\n",
       "      <th>...</th>\n",
       "      <td>...</td>\n",
       "      <td>...</td>\n",
       "      <td>...</td>\n",
       "      <td>...</td>\n",
       "      <td>...</td>\n",
       "      <td>...</td>\n",
       "      <td>...</td>\n",
       "      <td>...</td>\n",
       "      <td>...</td>\n",
       "      <td>...</td>\n",
       "      <td>...</td>\n",
       "      <td>...</td>\n",
       "      <td>...</td>\n",
       "      <td>...</td>\n",
       "      <td>...</td>\n",
       "      <td>...</td>\n",
       "      <td>...</td>\n",
       "    </tr>\n",
       "    <tr>\n",
       "      <th>11157</th>\n",
       "      <td>33</td>\n",
       "      <td>1</td>\n",
       "      <td>2</td>\n",
       "      <td>0</td>\n",
       "      <td>0</td>\n",
       "      <td>1</td>\n",
       "      <td>1</td>\n",
       "      <td>0</td>\n",
       "      <td>0</td>\n",
       "      <td>20</td>\n",
       "      <td>0</td>\n",
       "      <td>257</td>\n",
       "      <td>1</td>\n",
       "      <td>-1</td>\n",
       "      <td>0</td>\n",
       "      <td>3</td>\n",
       "      <td>0</td>\n",
       "    </tr>\n",
       "    <tr>\n",
       "      <th>11158</th>\n",
       "      <td>39</td>\n",
       "      <td>7</td>\n",
       "      <td>1</td>\n",
       "      <td>1</td>\n",
       "      <td>0</td>\n",
       "      <td>733</td>\n",
       "      <td>0</td>\n",
       "      <td>0</td>\n",
       "      <td>2</td>\n",
       "      <td>16</td>\n",
       "      <td>6</td>\n",
       "      <td>83</td>\n",
       "      <td>4</td>\n",
       "      <td>-1</td>\n",
       "      <td>0</td>\n",
       "      <td>3</td>\n",
       "      <td>0</td>\n",
       "    </tr>\n",
       "    <tr>\n",
       "      <th>11159</th>\n",
       "      <td>32</td>\n",
       "      <td>9</td>\n",
       "      <td>2</td>\n",
       "      <td>1</td>\n",
       "      <td>0</td>\n",
       "      <td>29</td>\n",
       "      <td>0</td>\n",
       "      <td>0</td>\n",
       "      <td>0</td>\n",
       "      <td>19</td>\n",
       "      <td>1</td>\n",
       "      <td>156</td>\n",
       "      <td>2</td>\n",
       "      <td>-1</td>\n",
       "      <td>0</td>\n",
       "      <td>3</td>\n",
       "      <td>0</td>\n",
       "    </tr>\n",
       "    <tr>\n",
       "      <th>11160</th>\n",
       "      <td>43</td>\n",
       "      <td>9</td>\n",
       "      <td>1</td>\n",
       "      <td>1</td>\n",
       "      <td>0</td>\n",
       "      <td>0</td>\n",
       "      <td>0</td>\n",
       "      <td>1</td>\n",
       "      <td>0</td>\n",
       "      <td>8</td>\n",
       "      <td>8</td>\n",
       "      <td>9</td>\n",
       "      <td>2</td>\n",
       "      <td>172</td>\n",
       "      <td>5</td>\n",
       "      <td>0</td>\n",
       "      <td>0</td>\n",
       "    </tr>\n",
       "    <tr>\n",
       "      <th>11161</th>\n",
       "      <td>34</td>\n",
       "      <td>9</td>\n",
       "      <td>1</td>\n",
       "      <td>1</td>\n",
       "      <td>0</td>\n",
       "      <td>0</td>\n",
       "      <td>0</td>\n",
       "      <td>0</td>\n",
       "      <td>0</td>\n",
       "      <td>9</td>\n",
       "      <td>5</td>\n",
       "      <td>628</td>\n",
       "      <td>1</td>\n",
       "      <td>-1</td>\n",
       "      <td>0</td>\n",
       "      <td>3</td>\n",
       "      <td>0</td>\n",
       "    </tr>\n",
       "  </tbody>\n",
       "</table>\n",
       "<p>11162 rows × 17 columns</p>\n",
       "</div>"
      ],
      "text/plain": [
       "       age  job  marital  education  default  balance  housing  loan  contact  \\\n",
       "0       59    0        1          1        0     2343        1     0        2   \n",
       "1       56    0        1          1        0       45        0     0        2   \n",
       "2       41    9        1          1        0     1270        1     0        2   \n",
       "3       55    7        1          1        0     2476        1     0        2   \n",
       "4       54    0        1          2        0      184        0     0        2   \n",
       "...    ...  ...      ...        ...      ...      ...      ...   ...      ...   \n",
       "11157   33    1        2          0        0        1        1     0        0   \n",
       "11158   39    7        1          1        0      733        0     0        2   \n",
       "11159   32    9        2          1        0       29        0     0        0   \n",
       "11160   43    9        1          1        0        0        0     1        0   \n",
       "11161   34    9        1          1        0        0        0     0        0   \n",
       "\n",
       "       day  month  duration  campaign  pdays  previous  poutcome  deposit  \n",
       "0        5      8      1042         1     -1         0         3        1  \n",
       "1        5      8      1467         1     -1         0         3        1  \n",
       "2        5      8      1389         1     -1         0         3        1  \n",
       "3        5      8       579         1     -1         0         3        1  \n",
       "4        5      8       673         2     -1         0         3        1  \n",
       "...    ...    ...       ...       ...    ...       ...       ...      ...  \n",
       "11157   20      0       257         1     -1         0         3        0  \n",
       "11158   16      6        83         4     -1         0         3        0  \n",
       "11159   19      1       156         2     -1         0         3        0  \n",
       "11160    8      8         9         2    172         5         0        0  \n",
       "11161    9      5       628         1     -1         0         3        0  \n",
       "\n",
       "[11162 rows x 17 columns]"
      ]
     },
     "execution_count": 12,
     "metadata": {},
     "output_type": "execute_result"
    }
   ],
   "source": [
    "data_seq"
   ]
  },
  {
   "cell_type": "code",
   "execution_count": 13,
   "id": "4990eeb4",
   "metadata": {
    "execution": {
     "iopub.execute_input": "2023-09-24T11:02:46.299671Z",
     "iopub.status.busy": "2023-09-24T11:02:46.297997Z",
     "iopub.status.idle": "2023-09-24T11:02:46.308465Z",
     "shell.execute_reply": "2023-09-24T11:02:46.307502Z"
    },
    "papermill": {
     "duration": 0.026607,
     "end_time": "2023-09-24T11:02:46.310707",
     "exception": false,
     "start_time": "2023-09-24T11:02:46.284100",
     "status": "completed"
    },
    "tags": []
   },
   "outputs": [],
   "source": [
    "X_train_seq, X_test_seq, y_train_seq, y_test_seq = train_test_split(data_seq.iloc[:,:-1].values, data_seq.iloc[:,-1].values, test_size=0.33, random_state=42)"
   ]
  },
  {
   "cell_type": "code",
   "execution_count": 14,
   "id": "649dd1c6",
   "metadata": {
    "execution": {
     "iopub.execute_input": "2023-09-24T11:02:46.337647Z",
     "iopub.status.busy": "2023-09-24T11:02:46.336885Z",
     "iopub.status.idle": "2023-09-24T11:02:46.343473Z",
     "shell.execute_reply": "2023-09-24T11:02:46.342504Z"
    },
    "papermill": {
     "duration": 0.02214,
     "end_time": "2023-09-24T11:02:46.345571",
     "exception": false,
     "start_time": "2023-09-24T11:02:46.323431",
     "status": "completed"
    },
    "tags": []
   },
   "outputs": [
    {
     "data": {
      "text/plain": [
       "array([[ 52,   5,   1, ...,  -1,   0,   3],\n",
       "       [ 40,   1,   1, ..., 344,   1,   0],\n",
       "       [ 35,   4,   1, ...,  -1,   0,   3],\n",
       "       ...,\n",
       "       [ 35,   9,   1, ...,  -1,   0,   3],\n",
       "       [ 51,   5,   1, ...,  -1,   0,   3],\n",
       "       [ 30,   4,   2, ...,  -1,   0,   3]])"
      ]
     },
     "execution_count": 14,
     "metadata": {},
     "output_type": "execute_result"
    }
   ],
   "source": [
    "X_train_seq"
   ]
  },
  {
   "cell_type": "code",
   "execution_count": 15,
   "id": "317a4251",
   "metadata": {
    "execution": {
     "iopub.execute_input": "2023-09-24T11:02:46.372700Z",
     "iopub.status.busy": "2023-09-24T11:02:46.372056Z",
     "iopub.status.idle": "2023-09-24T11:02:46.377850Z",
     "shell.execute_reply": "2023-09-24T11:02:46.376966Z"
    },
    "papermill": {
     "duration": 0.02162,
     "end_time": "2023-09-24T11:02:46.380081",
     "exception": false,
     "start_time": "2023-09-24T11:02:46.358461",
     "status": "completed"
    },
    "tags": []
   },
   "outputs": [
    {
     "data": {
      "text/plain": [
       "array([1, 0, 1, ..., 0, 1, 0])"
      ]
     },
     "execution_count": 15,
     "metadata": {},
     "output_type": "execute_result"
    }
   ],
   "source": [
    "y_train_seq"
   ]
  },
  {
   "cell_type": "markdown",
   "id": "4382be55",
   "metadata": {
    "papermill": {
     "duration": 0.013006,
     "end_time": "2023-09-24T11:02:46.406026",
     "exception": false,
     "start_time": "2023-09-24T11:02:46.393020",
     "status": "completed"
    },
    "tags": []
   },
   "source": [
    "# Second Data Representation :\n",
    "\n",
    "We will encode dates folowing a cyclical encoding. We will consider date as cyclical features.\n",
    "This means that days will still as they are (the actual number), concerning the month they will take values from 0-11, according on their sequentiel position in the calendar (minus 1)"
   ]
  },
  {
   "cell_type": "code",
   "execution_count": 16,
   "id": "af691f7e",
   "metadata": {
    "execution": {
     "iopub.execute_input": "2023-09-24T11:02:46.434623Z",
     "iopub.status.busy": "2023-09-24T11:02:46.433054Z",
     "iopub.status.idle": "2023-09-24T11:02:46.442225Z",
     "shell.execute_reply": "2023-09-24T11:02:46.441286Z"
    },
    "papermill": {
     "duration": 0.0253,
     "end_time": "2023-09-24T11:02:46.444350",
     "exception": false,
     "start_time": "2023-09-24T11:02:46.419050",
     "status": "completed"
    },
    "tags": []
   },
   "outputs": [
    {
     "data": {
      "text/plain": [
       "array([ 8,  6,  5,  1, 10,  9,  2,  4,  3,  7,  0, 11])"
      ]
     },
     "execution_count": 16,
     "metadata": {},
     "output_type": "execute_result"
    }
   ],
   "source": [
    "data_seq.month.unique()"
   ]
  },
  {
   "cell_type": "markdown",
   "id": "bd6662de",
   "metadata": {
    "papermill": {
     "duration": 0.01289,
     "end_time": "2023-09-24T11:02:46.470308",
     "exception": false,
     "start_time": "2023-09-24T11:02:46.457418",
     "status": "completed"
    },
    "tags": []
   },
   "source": [
    "Tranforming months into cyclical features"
   ]
  },
  {
   "cell_type": "code",
   "execution_count": 17,
   "id": "bc9c7912",
   "metadata": {
    "execution": {
     "iopub.execute_input": "2023-09-24T11:02:46.497979Z",
     "iopub.status.busy": "2023-09-24T11:02:46.497705Z",
     "iopub.status.idle": "2023-09-24T11:02:46.507530Z",
     "shell.execute_reply": "2023-09-24T11:02:46.506663Z"
    },
    "papermill": {
     "duration": 0.026108,
     "end_time": "2023-09-24T11:02:46.509620",
     "exception": false,
     "start_time": "2023-09-24T11:02:46.483512",
     "status": "completed"
    },
    "tags": []
   },
   "outputs": [],
   "source": [
    "# get to numerical representation \n",
    "data_cyc = data_seq.copy()\n",
    "# use cyclical caractheristic\n",
    "data_cyc['month_sin'] = np.sin((data_cyc.month)*(2.*np.pi/12))\n",
    "data_cyc['month_cos'] = np.cos((data_cyc.month)*(2.*np.pi/12))"
   ]
  },
  {
   "cell_type": "code",
   "execution_count": 18,
   "id": "bd3e3d00",
   "metadata": {
    "execution": {
     "iopub.execute_input": "2023-09-24T11:02:46.537921Z",
     "iopub.status.busy": "2023-09-24T11:02:46.537097Z",
     "iopub.status.idle": "2023-09-24T11:02:46.543558Z",
     "shell.execute_reply": "2023-09-24T11:02:46.542673Z"
    },
    "papermill": {
     "duration": 0.022805,
     "end_time": "2023-09-24T11:02:46.545697",
     "exception": false,
     "start_time": "2023-09-24T11:02:46.522892",
     "status": "completed"
    },
    "tags": []
   },
   "outputs": [],
   "source": [
    "data_cyc.drop('month', axis=1, inplace = True)"
   ]
  },
  {
   "cell_type": "code",
   "execution_count": 19,
   "id": "9ac71d37",
   "metadata": {
    "execution": {
     "iopub.execute_input": "2023-09-24T11:02:46.573578Z",
     "iopub.status.busy": "2023-09-24T11:02:46.572824Z",
     "iopub.status.idle": "2023-09-24T11:02:46.578780Z",
     "shell.execute_reply": "2023-09-24T11:02:46.577873Z"
    },
    "papermill": {
     "duration": 0.021964,
     "end_time": "2023-09-24T11:02:46.580840",
     "exception": false,
     "start_time": "2023-09-24T11:02:46.558876",
     "status": "completed"
    },
    "tags": []
   },
   "outputs": [],
   "source": [
    "y_data_cyc = data_cyc[['deposit']].copy()\n",
    "X_data_cyc = data_cyc.drop('deposit', axis=1)\n"
   ]
  },
  {
   "cell_type": "code",
   "execution_count": 20,
   "id": "df2e6bb3",
   "metadata": {
    "execution": {
     "iopub.execute_input": "2023-09-24T11:02:46.608747Z",
     "iopub.status.busy": "2023-09-24T11:02:46.607949Z",
     "iopub.status.idle": "2023-09-24T11:02:46.627173Z",
     "shell.execute_reply": "2023-09-24T11:02:46.626285Z"
    },
    "papermill": {
     "duration": 0.035397,
     "end_time": "2023-09-24T11:02:46.629358",
     "exception": false,
     "start_time": "2023-09-24T11:02:46.593961",
     "status": "completed"
    },
    "tags": []
   },
   "outputs": [
    {
     "data": {
      "text/html": [
       "<div>\n",
       "<style scoped>\n",
       "    .dataframe tbody tr th:only-of-type {\n",
       "        vertical-align: middle;\n",
       "    }\n",
       "\n",
       "    .dataframe tbody tr th {\n",
       "        vertical-align: top;\n",
       "    }\n",
       "\n",
       "    .dataframe thead th {\n",
       "        text-align: right;\n",
       "    }\n",
       "</style>\n",
       "<table border=\"1\" class=\"dataframe\">\n",
       "  <thead>\n",
       "    <tr style=\"text-align: right;\">\n",
       "      <th></th>\n",
       "      <th>age</th>\n",
       "      <th>job</th>\n",
       "      <th>marital</th>\n",
       "      <th>education</th>\n",
       "      <th>default</th>\n",
       "      <th>balance</th>\n",
       "      <th>housing</th>\n",
       "      <th>loan</th>\n",
       "      <th>contact</th>\n",
       "      <th>day</th>\n",
       "      <th>duration</th>\n",
       "      <th>campaign</th>\n",
       "      <th>pdays</th>\n",
       "      <th>previous</th>\n",
       "      <th>poutcome</th>\n",
       "      <th>month_sin</th>\n",
       "      <th>month_cos</th>\n",
       "    </tr>\n",
       "  </thead>\n",
       "  <tbody>\n",
       "    <tr>\n",
       "      <th>0</th>\n",
       "      <td>59</td>\n",
       "      <td>0</td>\n",
       "      <td>1</td>\n",
       "      <td>1</td>\n",
       "      <td>0</td>\n",
       "      <td>2343</td>\n",
       "      <td>1</td>\n",
       "      <td>0</td>\n",
       "      <td>2</td>\n",
       "      <td>5</td>\n",
       "      <td>1042</td>\n",
       "      <td>1</td>\n",
       "      <td>-1</td>\n",
       "      <td>0</td>\n",
       "      <td>3</td>\n",
       "      <td>-8.660254e-01</td>\n",
       "      <td>-0.500000</td>\n",
       "    </tr>\n",
       "    <tr>\n",
       "      <th>1</th>\n",
       "      <td>56</td>\n",
       "      <td>0</td>\n",
       "      <td>1</td>\n",
       "      <td>1</td>\n",
       "      <td>0</td>\n",
       "      <td>45</td>\n",
       "      <td>0</td>\n",
       "      <td>0</td>\n",
       "      <td>2</td>\n",
       "      <td>5</td>\n",
       "      <td>1467</td>\n",
       "      <td>1</td>\n",
       "      <td>-1</td>\n",
       "      <td>0</td>\n",
       "      <td>3</td>\n",
       "      <td>-8.660254e-01</td>\n",
       "      <td>-0.500000</td>\n",
       "    </tr>\n",
       "    <tr>\n",
       "      <th>2</th>\n",
       "      <td>41</td>\n",
       "      <td>9</td>\n",
       "      <td>1</td>\n",
       "      <td>1</td>\n",
       "      <td>0</td>\n",
       "      <td>1270</td>\n",
       "      <td>1</td>\n",
       "      <td>0</td>\n",
       "      <td>2</td>\n",
       "      <td>5</td>\n",
       "      <td>1389</td>\n",
       "      <td>1</td>\n",
       "      <td>-1</td>\n",
       "      <td>0</td>\n",
       "      <td>3</td>\n",
       "      <td>-8.660254e-01</td>\n",
       "      <td>-0.500000</td>\n",
       "    </tr>\n",
       "    <tr>\n",
       "      <th>3</th>\n",
       "      <td>55</td>\n",
       "      <td>7</td>\n",
       "      <td>1</td>\n",
       "      <td>1</td>\n",
       "      <td>0</td>\n",
       "      <td>2476</td>\n",
       "      <td>1</td>\n",
       "      <td>0</td>\n",
       "      <td>2</td>\n",
       "      <td>5</td>\n",
       "      <td>579</td>\n",
       "      <td>1</td>\n",
       "      <td>-1</td>\n",
       "      <td>0</td>\n",
       "      <td>3</td>\n",
       "      <td>-8.660254e-01</td>\n",
       "      <td>-0.500000</td>\n",
       "    </tr>\n",
       "    <tr>\n",
       "      <th>4</th>\n",
       "      <td>54</td>\n",
       "      <td>0</td>\n",
       "      <td>1</td>\n",
       "      <td>2</td>\n",
       "      <td>0</td>\n",
       "      <td>184</td>\n",
       "      <td>0</td>\n",
       "      <td>0</td>\n",
       "      <td>2</td>\n",
       "      <td>5</td>\n",
       "      <td>673</td>\n",
       "      <td>2</td>\n",
       "      <td>-1</td>\n",
       "      <td>0</td>\n",
       "      <td>3</td>\n",
       "      <td>-8.660254e-01</td>\n",
       "      <td>-0.500000</td>\n",
       "    </tr>\n",
       "    <tr>\n",
       "      <th>...</th>\n",
       "      <td>...</td>\n",
       "      <td>...</td>\n",
       "      <td>...</td>\n",
       "      <td>...</td>\n",
       "      <td>...</td>\n",
       "      <td>...</td>\n",
       "      <td>...</td>\n",
       "      <td>...</td>\n",
       "      <td>...</td>\n",
       "      <td>...</td>\n",
       "      <td>...</td>\n",
       "      <td>...</td>\n",
       "      <td>...</td>\n",
       "      <td>...</td>\n",
       "      <td>...</td>\n",
       "      <td>...</td>\n",
       "      <td>...</td>\n",
       "    </tr>\n",
       "    <tr>\n",
       "      <th>11157</th>\n",
       "      <td>33</td>\n",
       "      <td>1</td>\n",
       "      <td>2</td>\n",
       "      <td>0</td>\n",
       "      <td>0</td>\n",
       "      <td>1</td>\n",
       "      <td>1</td>\n",
       "      <td>0</td>\n",
       "      <td>0</td>\n",
       "      <td>20</td>\n",
       "      <td>257</td>\n",
       "      <td>1</td>\n",
       "      <td>-1</td>\n",
       "      <td>0</td>\n",
       "      <td>3</td>\n",
       "      <td>0.000000e+00</td>\n",
       "      <td>1.000000</td>\n",
       "    </tr>\n",
       "    <tr>\n",
       "      <th>11158</th>\n",
       "      <td>39</td>\n",
       "      <td>7</td>\n",
       "      <td>1</td>\n",
       "      <td>1</td>\n",
       "      <td>0</td>\n",
       "      <td>733</td>\n",
       "      <td>0</td>\n",
       "      <td>0</td>\n",
       "      <td>2</td>\n",
       "      <td>16</td>\n",
       "      <td>83</td>\n",
       "      <td>4</td>\n",
       "      <td>-1</td>\n",
       "      <td>0</td>\n",
       "      <td>3</td>\n",
       "      <td>1.224647e-16</td>\n",
       "      <td>-1.000000</td>\n",
       "    </tr>\n",
       "    <tr>\n",
       "      <th>11159</th>\n",
       "      <td>32</td>\n",
       "      <td>9</td>\n",
       "      <td>2</td>\n",
       "      <td>1</td>\n",
       "      <td>0</td>\n",
       "      <td>29</td>\n",
       "      <td>0</td>\n",
       "      <td>0</td>\n",
       "      <td>0</td>\n",
       "      <td>19</td>\n",
       "      <td>156</td>\n",
       "      <td>2</td>\n",
       "      <td>-1</td>\n",
       "      <td>0</td>\n",
       "      <td>3</td>\n",
       "      <td>5.000000e-01</td>\n",
       "      <td>0.866025</td>\n",
       "    </tr>\n",
       "    <tr>\n",
       "      <th>11160</th>\n",
       "      <td>43</td>\n",
       "      <td>9</td>\n",
       "      <td>1</td>\n",
       "      <td>1</td>\n",
       "      <td>0</td>\n",
       "      <td>0</td>\n",
       "      <td>0</td>\n",
       "      <td>1</td>\n",
       "      <td>0</td>\n",
       "      <td>8</td>\n",
       "      <td>9</td>\n",
       "      <td>2</td>\n",
       "      <td>172</td>\n",
       "      <td>5</td>\n",
       "      <td>0</td>\n",
       "      <td>-8.660254e-01</td>\n",
       "      <td>-0.500000</td>\n",
       "    </tr>\n",
       "    <tr>\n",
       "      <th>11161</th>\n",
       "      <td>34</td>\n",
       "      <td>9</td>\n",
       "      <td>1</td>\n",
       "      <td>1</td>\n",
       "      <td>0</td>\n",
       "      <td>0</td>\n",
       "      <td>0</td>\n",
       "      <td>0</td>\n",
       "      <td>0</td>\n",
       "      <td>9</td>\n",
       "      <td>628</td>\n",
       "      <td>1</td>\n",
       "      <td>-1</td>\n",
       "      <td>0</td>\n",
       "      <td>3</td>\n",
       "      <td>5.000000e-01</td>\n",
       "      <td>-0.866025</td>\n",
       "    </tr>\n",
       "  </tbody>\n",
       "</table>\n",
       "<p>11162 rows × 17 columns</p>\n",
       "</div>"
      ],
      "text/plain": [
       "       age  job  marital  education  default  balance  housing  loan  contact  \\\n",
       "0       59    0        1          1        0     2343        1     0        2   \n",
       "1       56    0        1          1        0       45        0     0        2   \n",
       "2       41    9        1          1        0     1270        1     0        2   \n",
       "3       55    7        1          1        0     2476        1     0        2   \n",
       "4       54    0        1          2        0      184        0     0        2   \n",
       "...    ...  ...      ...        ...      ...      ...      ...   ...      ...   \n",
       "11157   33    1        2          0        0        1        1     0        0   \n",
       "11158   39    7        1          1        0      733        0     0        2   \n",
       "11159   32    9        2          1        0       29        0     0        0   \n",
       "11160   43    9        1          1        0        0        0     1        0   \n",
       "11161   34    9        1          1        0        0        0     0        0   \n",
       "\n",
       "       day  duration  campaign  pdays  previous  poutcome     month_sin  \\\n",
       "0        5      1042         1     -1         0         3 -8.660254e-01   \n",
       "1        5      1467         1     -1         0         3 -8.660254e-01   \n",
       "2        5      1389         1     -1         0         3 -8.660254e-01   \n",
       "3        5       579         1     -1         0         3 -8.660254e-01   \n",
       "4        5       673         2     -1         0         3 -8.660254e-01   \n",
       "...    ...       ...       ...    ...       ...       ...           ...   \n",
       "11157   20       257         1     -1         0         3  0.000000e+00   \n",
       "11158   16        83         4     -1         0         3  1.224647e-16   \n",
       "11159   19       156         2     -1         0         3  5.000000e-01   \n",
       "11160    8         9         2    172         5         0 -8.660254e-01   \n",
       "11161    9       628         1     -1         0         3  5.000000e-01   \n",
       "\n",
       "       month_cos  \n",
       "0      -0.500000  \n",
       "1      -0.500000  \n",
       "2      -0.500000  \n",
       "3      -0.500000  \n",
       "4      -0.500000  \n",
       "...          ...  \n",
       "11157   1.000000  \n",
       "11158  -1.000000  \n",
       "11159   0.866025  \n",
       "11160  -0.500000  \n",
       "11161  -0.866025  \n",
       "\n",
       "[11162 rows x 17 columns]"
      ]
     },
     "execution_count": 20,
     "metadata": {},
     "output_type": "execute_result"
    }
   ],
   "source": [
    "X_data_cyc"
   ]
  },
  {
   "cell_type": "code",
   "execution_count": 21,
   "id": "3b3bbd7c",
   "metadata": {
    "execution": {
     "iopub.execute_input": "2023-09-24T11:02:46.658221Z",
     "iopub.status.busy": "2023-09-24T11:02:46.657416Z",
     "iopub.status.idle": "2023-09-24T11:02:46.665794Z",
     "shell.execute_reply": "2023-09-24T11:02:46.664920Z"
    },
    "papermill": {
     "duration": 0.024864,
     "end_time": "2023-09-24T11:02:46.667947",
     "exception": false,
     "start_time": "2023-09-24T11:02:46.643083",
     "status": "completed"
    },
    "tags": []
   },
   "outputs": [],
   "source": [
    "X_train_cyc, X_test_cyc, y_train_cyc, y_test_cyc = train_test_split(X_data_cyc.iloc[:,:].values, y_data_cyc.iloc[:,:].values, test_size=0.33, random_state=42)"
   ]
  },
  {
   "cell_type": "code",
   "execution_count": 22,
   "id": "8822f5fc",
   "metadata": {
    "execution": {
     "iopub.execute_input": "2023-09-24T11:02:46.696682Z",
     "iopub.status.busy": "2023-09-24T11:02:46.696115Z",
     "iopub.status.idle": "2023-09-24T11:02:46.701337Z",
     "shell.execute_reply": "2023-09-24T11:02:46.700493Z"
    },
    "papermill": {
     "duration": 0.021955,
     "end_time": "2023-09-24T11:02:46.703480",
     "exception": false,
     "start_time": "2023-09-24T11:02:46.681525",
     "status": "completed"
    },
    "tags": []
   },
   "outputs": [],
   "source": [
    "y_train_cyc = y_train_cyc.reshape((-1))"
   ]
  },
  {
   "cell_type": "code",
   "execution_count": 23,
   "id": "0c201c57",
   "metadata": {
    "execution": {
     "iopub.execute_input": "2023-09-24T11:02:46.732149Z",
     "iopub.status.busy": "2023-09-24T11:02:46.731355Z",
     "iopub.status.idle": "2023-09-24T11:02:46.736160Z",
     "shell.execute_reply": "2023-09-24T11:02:46.735275Z"
    },
    "papermill": {
     "duration": 0.021141,
     "end_time": "2023-09-24T11:02:46.738149",
     "exception": false,
     "start_time": "2023-09-24T11:02:46.717008",
     "status": "completed"
    },
    "tags": []
   },
   "outputs": [],
   "source": [
    "y_test_cyc = y_test_cyc.reshape((-1))"
   ]
  },
  {
   "cell_type": "markdown",
   "id": "587bd9b0",
   "metadata": {
    "papermill": {
     "duration": 0.015969,
     "end_time": "2023-09-24T11:02:46.767785",
     "exception": false,
     "start_time": "2023-09-24T11:02:46.751816",
     "status": "completed"
    },
    "tags": []
   },
   "source": [
    "# Models ! "
   ]
  },
  {
   "cell_type": "markdown",
   "id": "cf9f8343",
   "metadata": {
    "papermill": {
     "duration": 0.01336,
     "end_time": "2023-09-24T11:02:46.795040",
     "exception": false,
     "start_time": "2023-09-24T11:02:46.781680",
     "status": "completed"
    },
    "tags": []
   },
   "source": [
    "a function that help detecting overfitting\n"
   ]
  },
  {
   "cell_type": "code",
   "execution_count": 24,
   "id": "803aa1c3",
   "metadata": {
    "execution": {
     "iopub.execute_input": "2023-09-24T11:02:46.824300Z",
     "iopub.status.busy": "2023-09-24T11:02:46.823527Z",
     "iopub.status.idle": "2023-09-24T11:02:46.828207Z",
     "shell.execute_reply": "2023-09-24T11:02:46.827315Z"
    },
    "papermill": {
     "duration": 0.021763,
     "end_time": "2023-09-24T11:02:46.830353",
     "exception": false,
     "start_time": "2023-09-24T11:02:46.808590",
     "status": "completed"
    },
    "tags": []
   },
   "outputs": [],
   "source": [
    "import matplotlib.pyplot as plt\n"
   ]
  },
  {
   "cell_type": "code",
   "execution_count": 25,
   "id": "b56c34ec",
   "metadata": {
    "execution": {
     "iopub.execute_input": "2023-09-24T11:02:46.858884Z",
     "iopub.status.busy": "2023-09-24T11:02:46.858340Z",
     "iopub.status.idle": "2023-09-24T11:02:46.865625Z",
     "shell.execute_reply": "2023-09-24T11:02:46.864671Z"
    },
    "papermill": {
     "duration": 0.023798,
     "end_time": "2023-09-24T11:02:46.867766",
     "exception": false,
     "start_time": "2023-09-24T11:02:46.843968",
     "status": "completed"
    },
    "tags": []
   },
   "outputs": [],
   "source": [
    "def plot_train_val(history):\n",
    "    # Retrieve a list of accuracy results on training and validation data\n",
    "    # sets for each training epoch\n",
    "    acc = history.history['accuracy']\n",
    "    val_acc = history.history['val_accuracy']\n",
    "\n",
    "    # Retrieve a list of list results on training and validation data\n",
    "    # sets for each training epoch\n",
    "    loss = history.history['loss']\n",
    "    val_loss = history.history['val_loss']\n",
    "\n",
    "    # Get number of epochs\n",
    "    epochs = range(len(acc))\n",
    "\n",
    "    # Plot training and validation accuracy per epoch\n",
    "    plt.plot(epochs, acc, label = 'train_acc')\n",
    "    plt.plot(epochs, val_acc, label = 'val_acc')\n",
    "    plt.title('Training and validation accuracy')\n",
    "\n",
    "    plt.figure()\n",
    "\n",
    "    # Plot training and validation loss per epoch\n",
    "    plt.plot(epochs, loss)\n",
    "    plt.plot(epochs, val_loss)\n",
    "    plt.title('Training and validation loss')"
   ]
  },
  {
   "cell_type": "markdown",
   "id": "421a8076",
   "metadata": {
    "papermill": {
     "duration": 0.013345,
     "end_time": "2023-09-24T11:02:46.894880",
     "exception": false,
     "start_time": "2023-09-24T11:02:46.881535",
     "status": "completed"
    },
    "tags": []
   },
   "source": [
    "we will test the same configuration of a model  with both representation"
   ]
  },
  {
   "cell_type": "code",
   "execution_count": 26,
   "id": "895a13a9",
   "metadata": {
    "execution": {
     "iopub.execute_input": "2023-09-24T11:02:46.923661Z",
     "iopub.status.busy": "2023-09-24T11:02:46.922763Z",
     "iopub.status.idle": "2023-09-24T11:02:46.929161Z",
     "shell.execute_reply": "2023-09-24T11:02:46.928200Z"
    },
    "papermill": {
     "duration": 0.022871,
     "end_time": "2023-09-24T11:02:46.931302",
     "exception": false,
     "start_time": "2023-09-24T11:02:46.908431",
     "status": "completed"
    },
    "tags": []
   },
   "outputs": [
    {
     "data": {
      "text/plain": [
       "(7478, 16)"
      ]
     },
     "execution_count": 26,
     "metadata": {},
     "output_type": "execute_result"
    }
   ],
   "source": [
    "X_train_seq.shape"
   ]
  },
  {
   "cell_type": "code",
   "execution_count": 27,
   "id": "c2a9eb96",
   "metadata": {
    "execution": {
     "iopub.execute_input": "2023-09-24T11:02:46.960282Z",
     "iopub.status.busy": "2023-09-24T11:02:46.959515Z",
     "iopub.status.idle": "2023-09-24T11:02:50.950572Z",
     "shell.execute_reply": "2023-09-24T11:02:50.949476Z"
    },
    "papermill": {
     "duration": 4.008448,
     "end_time": "2023-09-24T11:02:50.953478",
     "exception": false,
     "start_time": "2023-09-24T11:02:46.945030",
     "status": "completed"
    },
    "tags": []
   },
   "outputs": [],
   "source": [
    "import tensorflow as tf"
   ]
  },
  {
   "cell_type": "markdown",
   "id": "d48b1dd0",
   "metadata": {
    "papermill": {
     "duration": 0.013581,
     "end_time": "2023-09-24T11:02:50.981219",
     "exception": false,
     "start_time": "2023-09-24T11:02:50.967638",
     "status": "completed"
    },
    "tags": []
   },
   "source": [
    "# Model 1"
   ]
  },
  {
   "cell_type": "markdown",
   "id": "9cea6fc3",
   "metadata": {
    "papermill": {
     "duration": 0.013525,
     "end_time": "2023-09-24T11:02:51.008493",
     "exception": false,
     "start_time": "2023-09-24T11:02:50.994968",
     "status": "completed"
    },
    "tags": []
   },
   "source": [
    "# First Repsentation"
   ]
  },
  {
   "cell_type": "code",
   "execution_count": null,
   "id": "00af526c",
   "metadata": {
    "papermill": {
     "duration": 0.013703,
     "end_time": "2023-09-24T11:02:51.036196",
     "exception": false,
     "start_time": "2023-09-24T11:02:51.022493",
     "status": "completed"
    },
    "tags": []
   },
   "outputs": [],
   "source": []
  },
  {
   "cell_type": "code",
   "execution_count": 28,
   "id": "7f33f77c",
   "metadata": {
    "execution": {
     "iopub.execute_input": "2023-09-24T11:02:51.066372Z",
     "iopub.status.busy": "2023-09-24T11:02:51.065798Z",
     "iopub.status.idle": "2023-09-24T11:03:38.137923Z",
     "shell.execute_reply": "2023-09-24T11:03:38.136920Z"
    },
    "papermill": {
     "duration": 47.090253,
     "end_time": "2023-09-24T11:03:38.140549",
     "exception": false,
     "start_time": "2023-09-24T11:02:51.050296",
     "status": "completed"
    },
    "tags": []
   },
   "outputs": [
    {
     "name": "stdout",
     "output_type": "stream",
     "text": [
      "Model: \"sequential\"\n",
      "_________________________________________________________________\n",
      "Layer (type)                 Output Shape              Param #   \n",
      "=================================================================\n",
      "dense (Dense)                (None, 16)                272       \n",
      "_________________________________________________________________\n",
      "dense_1 (Dense)              (None, 32)                544       \n",
      "_________________________________________________________________\n",
      "dense_2 (Dense)              (None, 64)                2112      \n",
      "_________________________________________________________________\n",
      "dense_3 (Dense)              (None, 1)                 65        \n",
      "=================================================================\n",
      "Total params: 2,993\n",
      "Trainable params: 2,993\n",
      "Non-trainable params: 0\n",
      "_________________________________________________________________\n",
      "None\n",
      "Epoch 1/50\n",
      "234/234 [==============================] - 2s 4ms/step - loss: 2.6253 - accuracy: 0.5719 - val_loss: 1.0177 - val_accuracy: 0.6830\n",
      "Epoch 2/50\n",
      "234/234 [==============================] - 1s 4ms/step - loss: 1.2945 - accuracy: 0.6724 - val_loss: 3.6331 - val_accuracy: 0.5570\n",
      "Epoch 3/50\n",
      "234/234 [==============================] - 1s 3ms/step - loss: 1.3747 - accuracy: 0.6804 - val_loss: 0.7370 - val_accuracy: 0.7367\n",
      "Epoch 4/50\n",
      "234/234 [==============================] - 1s 5ms/step - loss: 1.0467 - accuracy: 0.6987 - val_loss: 0.6268 - val_accuracy: 0.7427\n",
      "Epoch 5/50\n",
      "234/234 [==============================] - 1s 4ms/step - loss: 0.9415 - accuracy: 0.7109 - val_loss: 0.8829 - val_accuracy: 0.7128\n",
      "Epoch 6/50\n",
      "234/234 [==============================] - 1s 4ms/step - loss: 0.7890 - accuracy: 0.7264 - val_loss: 0.8932 - val_accuracy: 0.6987\n",
      "Epoch 7/50\n",
      "234/234 [==============================] - 1s 3ms/step - loss: 0.7808 - accuracy: 0.7241 - val_loss: 0.6629 - val_accuracy: 0.6873\n",
      "Epoch 8/50\n",
      "234/234 [==============================] - 1s 4ms/step - loss: 0.8745 - accuracy: 0.7156 - val_loss: 0.9713 - val_accuracy: 0.7161\n",
      "Epoch 9/50\n",
      "234/234 [==============================] - 1s 4ms/step - loss: 0.8517 - accuracy: 0.7269 - val_loss: 0.6483 - val_accuracy: 0.7462\n",
      "Epoch 10/50\n",
      "234/234 [==============================] - 1s 3ms/step - loss: 0.6470 - accuracy: 0.7406 - val_loss: 0.5914 - val_accuracy: 0.7606\n",
      "Epoch 11/50\n",
      "234/234 [==============================] - 1s 3ms/step - loss: 0.6841 - accuracy: 0.7408 - val_loss: 0.6681 - val_accuracy: 0.7448\n",
      "Epoch 12/50\n",
      "234/234 [==============================] - 1s 4ms/step - loss: 0.6098 - accuracy: 0.7499 - val_loss: 0.5430 - val_accuracy: 0.7682\n",
      "Epoch 13/50\n",
      "234/234 [==============================] - 1s 4ms/step - loss: 0.5905 - accuracy: 0.7482 - val_loss: 0.5134 - val_accuracy: 0.7625\n",
      "Epoch 14/50\n",
      "234/234 [==============================] - 1s 4ms/step - loss: 0.5861 - accuracy: 0.7499 - val_loss: 0.5510 - val_accuracy: 0.7611\n",
      "Epoch 15/50\n",
      "234/234 [==============================] - 1s 4ms/step - loss: 0.5750 - accuracy: 0.7573 - val_loss: 0.6588 - val_accuracy: 0.7511\n",
      "Epoch 16/50\n",
      "234/234 [==============================] - 1s 3ms/step - loss: 0.5477 - accuracy: 0.7654 - val_loss: 0.6892 - val_accuracy: 0.6710\n",
      "Epoch 17/50\n",
      "234/234 [==============================] - 1s 3ms/step - loss: 0.5835 - accuracy: 0.7562 - val_loss: 0.7345 - val_accuracy: 0.7269\n",
      "Epoch 18/50\n",
      "234/234 [==============================] - 1s 4ms/step - loss: 0.5626 - accuracy: 0.7547 - val_loss: 0.5365 - val_accuracy: 0.7622\n",
      "Epoch 19/50\n",
      "234/234 [==============================] - 1s 3ms/step - loss: 0.5468 - accuracy: 0.7649 - val_loss: 0.5599 - val_accuracy: 0.7652\n",
      "Epoch 20/50\n",
      "234/234 [==============================] - 1s 3ms/step - loss: 0.5433 - accuracy: 0.7617 - val_loss: 0.7152 - val_accuracy: 0.7370\n",
      "Epoch 21/50\n",
      "234/234 [==============================] - 1s 4ms/step - loss: 0.5231 - accuracy: 0.7654 - val_loss: 0.5144 - val_accuracy: 0.7766\n",
      "Epoch 22/50\n",
      "234/234 [==============================] - 1s 4ms/step - loss: 0.5357 - accuracy: 0.7660 - val_loss: 0.5657 - val_accuracy: 0.7663\n",
      "Epoch 23/50\n",
      "234/234 [==============================] - 1s 3ms/step - loss: 0.5282 - accuracy: 0.7658 - val_loss: 0.5889 - val_accuracy: 0.7267\n",
      "Epoch 24/50\n",
      "234/234 [==============================] - 1s 3ms/step - loss: 0.5415 - accuracy: 0.7653 - val_loss: 0.6402 - val_accuracy: 0.7334\n",
      "Epoch 25/50\n",
      "234/234 [==============================] - 1s 3ms/step - loss: 0.5029 - accuracy: 0.7751 - val_loss: 0.5384 - val_accuracy: 0.7571\n",
      "Epoch 26/50\n",
      "234/234 [==============================] - 1s 3ms/step - loss: 0.4977 - accuracy: 0.7715 - val_loss: 0.4953 - val_accuracy: 0.7725\n",
      "Epoch 27/50\n",
      "234/234 [==============================] - 1s 3ms/step - loss: 0.4884 - accuracy: 0.7764 - val_loss: 0.5321 - val_accuracy: 0.7614\n",
      "Epoch 28/50\n",
      "234/234 [==============================] - 1s 3ms/step - loss: 0.4835 - accuracy: 0.7775 - val_loss: 0.5593 - val_accuracy: 0.7788\n",
      "Epoch 29/50\n",
      "234/234 [==============================] - 1s 4ms/step - loss: 0.5249 - accuracy: 0.7650 - val_loss: 0.5178 - val_accuracy: 0.7478\n",
      "Epoch 30/50\n",
      "234/234 [==============================] - 1s 3ms/step - loss: 0.5006 - accuracy: 0.7709 - val_loss: 0.5119 - val_accuracy: 0.7687\n",
      "Epoch 31/50\n",
      "234/234 [==============================] - 1s 3ms/step - loss: 0.4803 - accuracy: 0.7815 - val_loss: 0.5083 - val_accuracy: 0.7769\n",
      "Epoch 32/50\n",
      "234/234 [==============================] - 1s 3ms/step - loss: 0.4872 - accuracy: 0.7779 - val_loss: 0.4800 - val_accuracy: 0.7839\n",
      "Epoch 33/50\n",
      "234/234 [==============================] - 1s 3ms/step - loss: 0.4749 - accuracy: 0.7843 - val_loss: 0.4929 - val_accuracy: 0.7788\n",
      "Epoch 34/50\n",
      "234/234 [==============================] - 1s 4ms/step - loss: 0.4612 - accuracy: 0.7874 - val_loss: 0.4931 - val_accuracy: 0.7809\n",
      "Epoch 35/50\n",
      "234/234 [==============================] - 1s 3ms/step - loss: 0.4635 - accuracy: 0.7883 - val_loss: 0.4772 - val_accuracy: 0.7861\n",
      "Epoch 36/50\n",
      "234/234 [==============================] - 1s 3ms/step - loss: 0.4809 - accuracy: 0.7745 - val_loss: 0.4783 - val_accuracy: 0.7820\n",
      "Epoch 37/50\n",
      "234/234 [==============================] - 1s 3ms/step - loss: 0.4714 - accuracy: 0.7855 - val_loss: 0.5192 - val_accuracy: 0.7592\n",
      "Epoch 38/50\n",
      "234/234 [==============================] - 1s 3ms/step - loss: 0.4775 - accuracy: 0.7830 - val_loss: 0.5023 - val_accuracy: 0.7625\n",
      "Epoch 39/50\n",
      "234/234 [==============================] - 1s 4ms/step - loss: 0.4616 - accuracy: 0.7879 - val_loss: 0.4765 - val_accuracy: 0.7788\n",
      "Epoch 40/50\n",
      "234/234 [==============================] - 1s 3ms/step - loss: 0.4540 - accuracy: 0.7938 - val_loss: 0.4598 - val_accuracy: 0.7932\n",
      "Epoch 41/50\n",
      "234/234 [==============================] - 1s 3ms/step - loss: 0.4568 - accuracy: 0.7910 - val_loss: 0.4633 - val_accuracy: 0.7907\n",
      "Epoch 42/50\n",
      "234/234 [==============================] - 1s 4ms/step - loss: 0.4587 - accuracy: 0.7913 - val_loss: 0.4684 - val_accuracy: 0.7875\n",
      "Epoch 43/50\n",
      "234/234 [==============================] - 1s 5ms/step - loss: 0.4483 - accuracy: 0.7959 - val_loss: 0.4724 - val_accuracy: 0.7834\n",
      "Epoch 44/50\n",
      "234/234 [==============================] - 1s 3ms/step - loss: 0.4494 - accuracy: 0.7918 - val_loss: 0.4692 - val_accuracy: 0.7793\n",
      "Epoch 45/50\n",
      "234/234 [==============================] - 1s 4ms/step - loss: 0.4463 - accuracy: 0.7950 - val_loss: 0.4613 - val_accuracy: 0.7910\n",
      "Epoch 46/50\n",
      "234/234 [==============================] - 1s 4ms/step - loss: 0.4466 - accuracy: 0.7951 - val_loss: 0.4568 - val_accuracy: 0.7921\n",
      "Epoch 47/50\n",
      "234/234 [==============================] - 1s 3ms/step - loss: 0.4397 - accuracy: 0.7975 - val_loss: 0.4918 - val_accuracy: 0.7896\n",
      "Epoch 48/50\n",
      "234/234 [==============================] - 1s 3ms/step - loss: 0.4490 - accuracy: 0.7911 - val_loss: 0.6046 - val_accuracy: 0.7446\n",
      "Epoch 49/50\n",
      "234/234 [==============================] - 1s 3ms/step - loss: 0.4563 - accuracy: 0.7876 - val_loss: 0.5457 - val_accuracy: 0.6944\n",
      "Epoch 50/50\n",
      "234/234 [==============================] - 1s 3ms/step - loss: 0.4494 - accuracy: 0.7907 - val_loss: 0.4696 - val_accuracy: 0.7864\n"
     ]
    },
    {
     "data": {
      "image/png": "[encoded data removed]",
      "text/plain": [
       "<Figure size 432x288 with 1 Axes>"
      ]
     },
     "metadata": {
      "needs_background": "light"
     },
     "output_type": "display_data"
    },
    {
     "data": {
      "image/png": "[encoded data removed]",
      "text/plain": [
       "<Figure size 432x288 with 1 Axes>"
      ]
     },
     "metadata": {
      "needs_background": "light"
     },
     "output_type": "display_data"
    }
   ],
   "source": [
    "import tensorflow.keras.layers as layers\n",
    "model = tf.keras.Sequential([\n",
    "    layers.Input(shape = (16,)),\n",
    "    layers.Dense(16, activation = 'relu'),\n",
    "   # tf.keras.layers.Dropout(0.2),\n",
    "    layers.Dense(32, activation = 'relu'),\n",
    "    #tf.keras.layers.Dropout(0.2),\n",
    "    layers.Dense(64, activation = 'relu'),\n",
    "    #tf.keras.layers.Dropout(0.2),\n",
    "    layers.Dense(1,activation='sigmoid')\n",
    "    ])\n",
    "\n",
    "\n",
    "\n",
    "print(model.summary())\n",
    "\n",
    "model.compile(loss='BinaryCrossentropy',\n",
    "              optimizer='Adam',\n",
    "              metrics=['accuracy'])\n",
    "\n",
    "history = model.fit(X_train_seq, y_train_seq\n",
    "#                     batch_size=128,\n",
    "                    ,epochs=50,\n",
    "#                     verbose=1\n",
    "                   validation_data=(X_test_seq, y_test_seq)\n",
    "                )\n",
    "\n",
    "plot_train_val(history)"
   ]
  },
  {
   "cell_type": "code",
   "execution_count": null,
   "id": "4092de6b",
   "metadata": {
    "papermill": {
     "duration": 0.063559,
     "end_time": "2023-09-24T11:03:38.268866",
     "exception": false,
     "start_time": "2023-09-24T11:03:38.205307",
     "status": "completed"
    },
    "tags": []
   },
   "outputs": [],
   "source": []
  },
  {
   "cell_type": "markdown",
   "id": "5e36abb1",
   "metadata": {
    "papermill": {
     "duration": 0.063515,
     "end_time": "2023-09-24T11:03:38.397104",
     "exception": false,
     "start_time": "2023-09-24T11:03:38.333589",
     "status": "completed"
    },
    "tags": []
   },
   "source": [
    "# Second Repsentation"
   ]
  },
  {
   "cell_type": "code",
   "execution_count": 29,
   "id": "4ddde905",
   "metadata": {
    "execution": {
     "iopub.execute_input": "2023-09-24T11:03:38.526810Z",
     "iopub.status.busy": "2023-09-24T11:03:38.526426Z",
     "iopub.status.idle": "2023-09-24T11:03:38.533089Z",
     "shell.execute_reply": "2023-09-24T11:03:38.532134Z"
    },
    "papermill": {
     "duration": 0.073908,
     "end_time": "2023-09-24T11:03:38.535843",
     "exception": false,
     "start_time": "2023-09-24T11:03:38.461935",
     "status": "completed"
    },
    "tags": []
   },
   "outputs": [
    {
     "data": {
      "text/plain": [
       "(7478, 17)"
      ]
     },
     "execution_count": 29,
     "metadata": {},
     "output_type": "execute_result"
    }
   ],
   "source": [
    "X_train_cyc.shape"
   ]
  },
  {
   "cell_type": "code",
   "execution_count": 30,
   "id": "88f547d5",
   "metadata": {
    "execution": {
     "iopub.execute_input": "2023-09-24T11:03:38.663538Z",
     "iopub.status.busy": "2023-09-24T11:03:38.663210Z",
     "iopub.status.idle": "2023-09-24T11:05:01.463463Z",
     "shell.execute_reply": "2023-09-24T11:05:01.462506Z"
    },
    "papermill": {
     "duration": 82.906252,
     "end_time": "2023-09-24T11:05:01.504941",
     "exception": false,
     "start_time": "2023-09-24T11:03:38.598689",
     "status": "completed"
    },
    "tags": []
   },
   "outputs": [
    {
     "name": "stdout",
     "output_type": "stream",
     "text": [
      "Model: \"sequential_1\"\n",
      "_________________________________________________________________\n",
      "Layer (type)                 Output Shape              Param #   \n",
      "=================================================================\n",
      "dense_4 (Dense)              (None, 16)                288       \n",
      "_________________________________________________________________\n",
      "dense_5 (Dense)              (None, 32)                544       \n",
      "_________________________________________________________________\n",
      "dense_6 (Dense)              (None, 64)                2112      \n",
      "_________________________________________________________________\n",
      "dense_7 (Dense)              (None, 1)                 65        \n",
      "=================================================================\n",
      "Total params: 3,009\n",
      "Trainable params: 3,009\n",
      "Non-trainable params: 0\n",
      "_________________________________________________________________\n",
      "None\n",
      "Epoch 1/50\n",
      "234/234 [==============================] - 1s 4ms/step - loss: 1.7228 - accuracy: 0.6494 - val_loss: 1.2666 - val_accuracy: 0.6713\n",
      "Epoch 2/50\n",
      "234/234 [==============================] - 1s 3ms/step - loss: 1.4038 - accuracy: 0.6888 - val_loss: 0.6481 - val_accuracy: 0.7408\n",
      "Epoch 3/50\n",
      "234/234 [==============================] - 1s 4ms/step - loss: 1.1687 - accuracy: 0.7041 - val_loss: 1.7084 - val_accuracy: 0.6678\n",
      "Epoch 4/50\n",
      "234/234 [==============================] - 1s 3ms/step - loss: 0.9216 - accuracy: 0.7160 - val_loss: 0.8893 - val_accuracy: 0.6170\n",
      "Epoch 5/50\n",
      "234/234 [==============================] - 1s 4ms/step - loss: 0.8624 - accuracy: 0.7279 - val_loss: 0.6347 - val_accuracy: 0.7519\n",
      "Epoch 6/50\n",
      "234/234 [==============================] - 1s 3ms/step - loss: 0.9188 - accuracy: 0.7194 - val_loss: 0.6847 - val_accuracy: 0.7497\n",
      "Epoch 7/50\n",
      "234/234 [==============================] - 1s 4ms/step - loss: 0.8390 - accuracy: 0.7288 - val_loss: 0.6699 - val_accuracy: 0.7459\n",
      "Epoch 8/50\n",
      "234/234 [==============================] - 1s 4ms/step - loss: 0.7363 - accuracy: 0.7359 - val_loss: 0.6544 - val_accuracy: 0.7508\n",
      "Epoch 9/50\n",
      "234/234 [==============================] - 1s 4ms/step - loss: 0.7440 - accuracy: 0.7391 - val_loss: 0.6537 - val_accuracy: 0.7462\n",
      "Epoch 10/50\n",
      "234/234 [==============================] - 1s 4ms/step - loss: 0.6662 - accuracy: 0.7454 - val_loss: 0.6867 - val_accuracy: 0.7568\n",
      "Epoch 11/50\n",
      "234/234 [==============================] - 1s 3ms/step - loss: 0.5856 - accuracy: 0.7541 - val_loss: 0.5773 - val_accuracy: 0.7459\n",
      "Epoch 12/50\n",
      "234/234 [==============================] - 1s 3ms/step - loss: 0.6248 - accuracy: 0.7485 - val_loss: 0.6793 - val_accuracy: 0.7511\n",
      "Epoch 13/50\n",
      "234/234 [==============================] - 1s 4ms/step - loss: 0.6731 - accuracy: 0.7481 - val_loss: 0.7534 - val_accuracy: 0.6792\n",
      "Epoch 14/50\n",
      "234/234 [==============================] - 1s 3ms/step - loss: 0.6551 - accuracy: 0.7497 - val_loss: 0.7568 - val_accuracy: 0.7416\n",
      "Epoch 15/50\n",
      "234/234 [==============================] - 1s 3ms/step - loss: 0.6206 - accuracy: 0.7547 - val_loss: 0.5095 - val_accuracy: 0.7690\n",
      "Epoch 16/50\n",
      "234/234 [==============================] - 1s 3ms/step - loss: 0.6239 - accuracy: 0.7533 - val_loss: 0.5225 - val_accuracy: 0.7641\n",
      "Epoch 17/50\n",
      "234/234 [==============================] - 1s 4ms/step - loss: 0.5696 - accuracy: 0.7598 - val_loss: 0.5806 - val_accuracy: 0.7557\n",
      "Epoch 18/50\n",
      "234/234 [==============================] - 1s 4ms/step - loss: 0.6715 - accuracy: 0.7581 - val_loss: 0.5547 - val_accuracy: 0.7619\n",
      "Epoch 19/50\n",
      "234/234 [==============================] - 1s 3ms/step - loss: 0.5598 - accuracy: 0.7636 - val_loss: 0.5301 - val_accuracy: 0.7530\n",
      "Epoch 20/50\n",
      "234/234 [==============================] - 1s 3ms/step - loss: 0.5911 - accuracy: 0.7588 - val_loss: 0.5463 - val_accuracy: 0.7714\n",
      "Epoch 21/50\n",
      "234/234 [==============================] - 1s 4ms/step - loss: 0.5442 - accuracy: 0.7691 - val_loss: 0.5509 - val_accuracy: 0.7655\n",
      "Epoch 22/50\n",
      "234/234 [==============================] - 1s 3ms/step - loss: 0.5188 - accuracy: 0.7724 - val_loss: 0.5253 - val_accuracy: 0.7633\n",
      "Epoch 23/50\n",
      "234/234 [==============================] - 1s 3ms/step - loss: 0.5258 - accuracy: 0.7745 - val_loss: 0.4865 - val_accuracy: 0.7698\n",
      "Epoch 24/50\n",
      "234/234 [==============================] - 1s 3ms/step - loss: 0.5293 - accuracy: 0.7691 - val_loss: 0.5259 - val_accuracy: 0.7771\n",
      "Epoch 25/50\n",
      "234/234 [==============================] - 1s 3ms/step - loss: 0.5443 - accuracy: 0.7732 - val_loss: 0.4842 - val_accuracy: 0.7761\n",
      "Epoch 26/50\n",
      "234/234 [==============================] - 1s 4ms/step - loss: 0.5308 - accuracy: 0.7753 - val_loss: 0.4839 - val_accuracy: 0.7742\n",
      "Epoch 27/50\n",
      "234/234 [==============================] - 1s 4ms/step - loss: 0.5074 - accuracy: 0.7792 - val_loss: 0.5767 - val_accuracy: 0.7549\n",
      "Epoch 28/50\n",
      "234/234 [==============================] - 1s 3ms/step - loss: 0.4954 - accuracy: 0.7767 - val_loss: 0.4818 - val_accuracy: 0.7777\n",
      "Epoch 29/50\n",
      "234/234 [==============================] - 1s 4ms/step - loss: 0.5109 - accuracy: 0.7777 - val_loss: 0.4822 - val_accuracy: 0.7809\n",
      "Epoch 30/50\n",
      "234/234 [==============================] - 1s 5ms/step - loss: 0.4875 - accuracy: 0.7830 - val_loss: 0.5543 - val_accuracy: 0.7725\n",
      "Epoch 31/50\n",
      "234/234 [==============================] - 1s 3ms/step - loss: 0.4977 - accuracy: 0.7790 - val_loss: 0.4726 - val_accuracy: 0.7823\n",
      "Epoch 32/50\n",
      "234/234 [==============================] - 1s 4ms/step - loss: 0.4866 - accuracy: 0.7859 - val_loss: 0.5339 - val_accuracy: 0.7736\n",
      "Epoch 33/50\n",
      "234/234 [==============================] - 1s 3ms/step - loss: 0.4777 - accuracy: 0.7896 - val_loss: 0.4664 - val_accuracy: 0.7918\n",
      "Epoch 34/50\n",
      "234/234 [==============================] - 1s 3ms/step - loss: 0.4724 - accuracy: 0.7840 - val_loss: 0.4705 - val_accuracy: 0.7853\n",
      "Epoch 35/50\n",
      "234/234 [==============================] - 1s 3ms/step - loss: 0.4821 - accuracy: 0.7860 - val_loss: 0.5502 - val_accuracy: 0.7459\n",
      "Epoch 36/50\n",
      "234/234 [==============================] - 1s 3ms/step - loss: 0.4716 - accuracy: 0.7879 - val_loss: 0.4744 - val_accuracy: 0.7826\n",
      "Epoch 37/50\n",
      "234/234 [==============================] - 1s 3ms/step - loss: 0.4797 - accuracy: 0.7846 - val_loss: 0.4998 - val_accuracy: 0.7799\n",
      "Epoch 38/50\n",
      "234/234 [==============================] - 1s 4ms/step - loss: 0.4721 - accuracy: 0.7850 - val_loss: 0.4670 - val_accuracy: 0.7774\n",
      "Epoch 39/50\n",
      "234/234 [==============================] - 1s 3ms/step - loss: 0.4590 - accuracy: 0.7850 - val_loss: 0.4717 - val_accuracy: 0.7801\n",
      "Epoch 40/50\n",
      "234/234 [==============================] - 1s 3ms/step - loss: 0.4726 - accuracy: 0.7858 - val_loss: 0.4609 - val_accuracy: 0.7888\n",
      "Epoch 41/50\n",
      "234/234 [==============================] - 1s 3ms/step - loss: 0.4651 - accuracy: 0.7882 - val_loss: 0.4652 - val_accuracy: 0.7828\n",
      "Epoch 42/50\n",
      "234/234 [==============================] - 1s 3ms/step - loss: 0.4605 - accuracy: 0.7906 - val_loss: 0.4687 - val_accuracy: 0.7823\n",
      "Epoch 43/50\n",
      "234/234 [==============================] - 1s 4ms/step - loss: 0.4583 - accuracy: 0.7937 - val_loss: 0.4652 - val_accuracy: 0.7888\n",
      "Epoch 44/50\n",
      "234/234 [==============================] - 1s 3ms/step - loss: 0.4664 - accuracy: 0.7814 - val_loss: 0.4627 - val_accuracy: 0.7921\n",
      "Epoch 45/50\n",
      "234/234 [==============================] - 1s 4ms/step - loss: 0.4555 - accuracy: 0.7923 - val_loss: 0.4677 - val_accuracy: 0.7915\n",
      "Epoch 46/50\n",
      "234/234 [==============================] - 1s 4ms/step - loss: 0.4511 - accuracy: 0.7882 - val_loss: 0.4787 - val_accuracy: 0.7858\n",
      "Epoch 47/50\n",
      "234/234 [==============================] - 1s 4ms/step - loss: 0.4575 - accuracy: 0.7862 - val_loss: 0.4720 - val_accuracy: 0.7831\n",
      "Epoch 48/50\n",
      "234/234 [==============================] - 1s 3ms/step - loss: 0.4463 - accuracy: 0.7945 - val_loss: 0.4892 - val_accuracy: 0.7755\n",
      "Epoch 49/50\n",
      "234/234 [==============================] - 1s 4ms/step - loss: 0.4492 - accuracy: 0.7907 - val_loss: 0.4627 - val_accuracy: 0.7842\n",
      "Epoch 50/50\n",
      "234/234 [==============================] - 1s 3ms/step - loss: 0.4520 - accuracy: 0.7903 - val_loss: 0.4599 - val_accuracy: 0.7961\n"
     ]
    },
    {
     "data": {
      "image/png": "[encoded data removed]",
      "text/plain": [
       "<Figure size 432x288 with 1 Axes>"
      ]
     },
     "metadata": {
      "needs_background": "light"
     },
     "output_type": "display_data"
    },
    {
     "data": {
      "image/png": "[encoded data removed]",
      "text/plain": [
       "<Figure size 432x288 with 1 Axes>"
      ]
     },
     "metadata": {
      "needs_background": "light"
     },
     "output_type": "display_data"
    }
   ],
   "source": [
    "model = tf.keras.Sequential([\n",
    "    layers.Input(shape = (17,)),\n",
    "    layers.Dense(16, activation = 'relu'),\n",
    "   # tf.keras.layers.Dropout(0.2),\n",
    "    layers.Dense(32, activation = 'relu'),\n",
    "    #tf.keras.layers.Dropout(0.2),\n",
    "    layers.Dense(64, activation = 'relu'),\n",
    "    #tf.keras.layers.Dropout(0.2),\n",
    "    layers.Dense(1,activation='sigmoid')\n",
    "    ])\n",
    "\n",
    "\n",
    "\n",
    "print(model.summary())\n",
    "model.compile(loss='BinaryCrossentropy',\n",
    "              optimizer='Adam',\n",
    "              metrics=['accuracy'])\n",
    "\n",
    "history = model.fit(X_train_cyc, y_train_cyc\n",
    "#                     batch_size=128,\n",
    "                    ,epochs=50,\n",
    "#                     verbose=1\n",
    "                   validation_data=(X_test_cyc, y_test_cyc)\n",
    "                )\n",
    "\n",
    "plot_train_val(history)"
   ]
  },
  {
   "cell_type": "markdown",
   "id": "00db2734",
   "metadata": {
    "papermill": {
     "duration": 0.110967,
     "end_time": "2023-09-24T11:05:01.727510",
     "exception": false,
     "start_time": "2023-09-24T11:05:01.616543",
     "status": "completed"
    },
    "tags": []
   },
   "source": [
    "# Conclusion"
   ]
  },
  {
   "cell_type": "markdown",
   "id": "d440ce8e",
   "metadata": {
    "papermill": {
     "duration": 0.1116,
     "end_time": "2023-09-24T11:05:01.949920",
     "exception": false,
     "start_time": "2023-09-24T11:05:01.838320",
     "status": "completed"
    },
    "tags": []
   },
   "source": [
    "Running the same configuration (the same model) with both representation, we notice that cyclical data representation of month didn't improve the results. This can be due to the nature of deep learning that can learn automatically hiden patterns, a therefore using the sequentiel representation will be the same as using the cyclical one."
   ]
  },
  {
   "cell_type": "code",
   "execution_count": null,
   "id": "b7cc1585",
   "metadata": {
    "papermill": {
     "duration": 0.116522,
     "end_time": "2023-09-24T11:05:02.177108",
     "exception": false,
     "start_time": "2023-09-24T11:05:02.060586",
     "status": "completed"
    },
    "tags": []
   },
   "outputs": [],
   "source": []
  },
  {
   "cell_type": "code",
   "execution_count": null,
   "id": "a0574aac",
   "metadata": {
    "papermill": {
     "duration": 0.112672,
     "end_time": "2023-09-24T11:05:02.402365",
     "exception": false,
     "start_time": "2023-09-24T11:05:02.289693",
     "status": "completed"
    },
    "tags": []
   },
   "outputs": [],
   "source": []
  }
 ],
 "metadata": {
  "kernelspec": {
   "display_name": "Python 3",
   "language": "python",
   "name": "python3"
  },
  "language_info": {
   "codemirror_mode": {
    "name": "ipython",
    "version": 3
   },
   "file_extension": ".py",
   "mimetype": "text/x-python",
   "name": "python",
   "nbconvert_exporter": "python",
   "pygments_lexer": "ipython3",
   "version": "3.7.12"
  },
  "papermill": {
   "default_parameters": {},
   "duration": 150.45958,
   "end_time": "2023-09-24T11:05:06.128108",
   "environment_variables": {},
   "exception": null,
   "input_path": "__notebook__.ipynb",
   "output_path": "__notebook__.ipynb",
   "parameters": {},
   "start_time": "2023-09-24T11:02:35.668528",
   "version": "2.3.4"
  }
 },
 "nbformat": 4,
 "nbformat_minor": 5
}
