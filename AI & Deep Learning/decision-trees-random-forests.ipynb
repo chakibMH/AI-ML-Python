{
 "cells": [
  {
   "cell_type": "markdown",
   "id": "5b0d7ab2",
   "metadata": {},
   "source": [
    "# Decision Trees and Random Forests\n",
    "\n",
    "This notebook demonstrates how to build and train decision tree and random forest models using Python and popular machine learning libraries. We will cover the following steps:\n",
    "1. Importing necessary libraries\n",
    "2. Loading and preprocessing the data\n",
    "3. Building the decision tree model\n",
    "4. Building the random forest model\n",
    "5. Training the models\n",
    "6. Evaluating the models' performance\n",
    "\n",
    "## 1. Importing Necessary Libraries\n",
    "\n",
    "We start by importing the required libraries for linear algebra, data processing, and model training."
   ]
  },
  {
   "cell_type": "code",
   "execution_count": 1,
   "id": "7dce8a80",
   "metadata": {
    "_cell_guid": "b1076dfc-b9ad-4769-8c92-a6c4dae69d19",
    "_uuid": "8f2839f25d086af736a60e9eeb907d3b93b6e0e5",
    "execution": {
     "iopub.execute_input": "2022-09-25T19:16:51.240696Z",
     "iopub.status.busy": "2022-09-25T19:16:51.240210Z",
     "iopub.status.idle": "2022-09-25T19:16:51.250277Z",
     "shell.execute_reply": "2022-09-25T19:16:51.249394Z"
    },
    "papermill": {
     "duration": 0.022869,
     "end_time": "2022-09-25T19:16:51.252601",
     "exception": false,
     "start_time": "2022-09-25T19:16:51.229732",
     "status": "completed"
    },
    "tags": []
   },
   "outputs": [],
   "source": [
    "\n",
    "import numpy as np # linear algebra\n",
    "import pandas as pd # data processing, CSV file I/O (e.g. pd.read_csv)\n"
   ]
  },
  {
   "cell_type": "code",
   "execution_count": 2,
   "id": "5c0cdf54",
   "metadata": {
    "execution": {
     "iopub.execute_input": "2022-09-25T19:16:51.268938Z",
     "iopub.status.busy": "2022-09-25T19:16:51.268533Z",
     "iopub.status.idle": "2022-09-25T19:16:51.294252Z",
     "shell.execute_reply": "2022-09-25T19:16:51.292985Z"
    },
    "papermill": {
     "duration": 0.036912,
     "end_time": "2022-09-25T19:16:51.296888",
     "exception": false,
     "start_time": "2022-09-25T19:16:51.259976",
     "status": "completed"
    },
    "tags": []
   },
   "outputs": [],
   "source": [
    "data = pd.read_csv(\"../input/titanic/titanic-passengers.csv\", sep = ';')"
   ]
  },
  {
   "cell_type": "code",
   "execution_count": 3,
   "id": "e94f38fa",
   "metadata": {
    "execution": {
     "iopub.execute_input": "2022-09-25T19:16:51.313968Z",
     "iopub.status.busy": "2022-09-25T19:16:51.313229Z",
     "iopub.status.idle": "2022-09-25T19:16:51.345092Z",
     "shell.execute_reply": "2022-09-25T19:16:51.343880Z"
    },
    "papermill": {
     "duration": 0.043814,
     "end_time": "2022-09-25T19:16:51.348252",
     "exception": false,
     "start_time": "2022-09-25T19:16:51.304438",
     "status": "completed"
    },
    "tags": []
   },
   "outputs": [
    {
     "data": {
      "text/html": [
       "<div>\n",
       "<style scoped>\n",
       "    .dataframe tbody tr th:only-of-type {\n",
       "        vertical-align: middle;\n",
       "    }\n",
       "\n",
       "    .dataframe tbody tr th {\n",
       "        vertical-align: top;\n",
       "    }\n",
       "\n",
       "    .dataframe thead th {\n",
       "        text-align: right;\n",
       "    }\n",
       "</style>\n",
       "<table border=\"1\" class=\"dataframe\">\n",
       "  <thead>\n",
       "    <tr style=\"text-align: right;\">\n",
       "      <th></th>\n",
       "      <th>PassengerId</th>\n",
       "      <th>Survived</th>\n",
       "      <th>Pclass</th>\n",
       "      <th>Name</th>\n",
       "      <th>Sex</th>\n",
       "      <th>Age</th>\n",
       "      <th>SibSp</th>\n",
       "      <th>Parch</th>\n",
       "      <th>Ticket</th>\n",
       "      <th>Fare</th>\n",
       "      <th>Cabin</th>\n",
       "      <th>Embarked</th>\n",
       "    </tr>\n",
       "  </thead>\n",
       "  <tbody>\n",
       "    <tr>\n",
       "      <th>0</th>\n",
       "      <td>343</td>\n",
       "      <td>No</td>\n",
       "      <td>2</td>\n",
       "      <td>Collander, Mr. Erik Gustaf</td>\n",
       "      <td>male</td>\n",
       "      <td>28.0</td>\n",
       "      <td>0</td>\n",
       "      <td>0</td>\n",
       "      <td>248740</td>\n",
       "      <td>13.0000</td>\n",
       "      <td>NaN</td>\n",
       "      <td>S</td>\n",
       "    </tr>\n",
       "    <tr>\n",
       "      <th>1</th>\n",
       "      <td>76</td>\n",
       "      <td>No</td>\n",
       "      <td>3</td>\n",
       "      <td>Moen, Mr. Sigurd Hansen</td>\n",
       "      <td>male</td>\n",
       "      <td>25.0</td>\n",
       "      <td>0</td>\n",
       "      <td>0</td>\n",
       "      <td>348123</td>\n",
       "      <td>7.6500</td>\n",
       "      <td>F G73</td>\n",
       "      <td>S</td>\n",
       "    </tr>\n",
       "    <tr>\n",
       "      <th>2</th>\n",
       "      <td>641</td>\n",
       "      <td>No</td>\n",
       "      <td>3</td>\n",
       "      <td>Jensen, Mr. Hans Peder</td>\n",
       "      <td>male</td>\n",
       "      <td>20.0</td>\n",
       "      <td>0</td>\n",
       "      <td>0</td>\n",
       "      <td>350050</td>\n",
       "      <td>7.8542</td>\n",
       "      <td>NaN</td>\n",
       "      <td>S</td>\n",
       "    </tr>\n",
       "    <tr>\n",
       "      <th>3</th>\n",
       "      <td>568</td>\n",
       "      <td>No</td>\n",
       "      <td>3</td>\n",
       "      <td>Palsson, Mrs. Nils (Alma Cornelia Berglund)</td>\n",
       "      <td>female</td>\n",
       "      <td>29.0</td>\n",
       "      <td>0</td>\n",
       "      <td>4</td>\n",
       "      <td>349909</td>\n",
       "      <td>21.0750</td>\n",
       "      <td>NaN</td>\n",
       "      <td>S</td>\n",
       "    </tr>\n",
       "    <tr>\n",
       "      <th>4</th>\n",
       "      <td>672</td>\n",
       "      <td>No</td>\n",
       "      <td>1</td>\n",
       "      <td>Davidson, Mr. Thornton</td>\n",
       "      <td>male</td>\n",
       "      <td>31.0</td>\n",
       "      <td>1</td>\n",
       "      <td>0</td>\n",
       "      <td>F.C. 12750</td>\n",
       "      <td>52.0000</td>\n",
       "      <td>B71</td>\n",
       "      <td>S</td>\n",
       "    </tr>\n",
       "  </tbody>\n",
       "</table>\n",
       "</div>"
      ],
      "text/plain": [
       "   PassengerId Survived  Pclass                                         Name  \\\n",
       "0          343       No       2                   Collander, Mr. Erik Gustaf   \n",
       "1           76       No       3                      Moen, Mr. Sigurd Hansen   \n",
       "2          641       No       3                       Jensen, Mr. Hans Peder   \n",
       "3          568       No       3  Palsson, Mrs. Nils (Alma Cornelia Berglund)   \n",
       "4          672       No       1                       Davidson, Mr. Thornton   \n",
       "\n",
       "      Sex   Age  SibSp  Parch      Ticket     Fare  Cabin Embarked  \n",
       "0    male  28.0      0      0      248740  13.0000    NaN        S  \n",
       "1    male  25.0      0      0      348123   7.6500  F G73        S  \n",
       "2    male  20.0      0      0      350050   7.8542    NaN        S  \n",
       "3  female  29.0      0      4      349909  21.0750    NaN        S  \n",
       "4    male  31.0      1      0  F.C. 12750  52.0000    B71        S  "
      ]
     },
     "execution_count": 3,
     "metadata": {},
     "output_type": "execute_result"
    }
   ],
   "source": [
    "data.head()"
   ]
  },
  {
   "cell_type": "code",
   "execution_count": 4,
   "id": "30d53147",
   "metadata": {
    "execution": {
     "iopub.execute_input": "2022-09-25T19:16:51.368747Z",
     "iopub.status.busy": "2022-09-25T19:16:51.367880Z",
     "iopub.status.idle": "2022-09-25T19:16:51.375245Z",
     "shell.execute_reply": "2022-09-25T19:16:51.374377Z"
    },
    "papermill": {
     "duration": 0.018798,
     "end_time": "2022-09-25T19:16:51.377502",
     "exception": false,
     "start_time": "2022-09-25T19:16:51.358704",
     "status": "completed"
    },
    "tags": []
   },
   "outputs": [
    {
     "data": {
      "text/plain": [
       "Index(['PassengerId', 'Survived', 'Pclass', 'Name', 'Sex', 'Age', 'SibSp',\n",
       "       'Parch', 'Ticket', 'Fare', 'Cabin', 'Embarked'],\n",
       "      dtype='object')"
      ]
     },
     "execution_count": 4,
     "metadata": {},
     "output_type": "execute_result"
    }
   ],
   "source": [
    "data.columns"
   ]
  },
  {
   "cell_type": "markdown",
   "id": "00e87dc2",
   "metadata": {
    "papermill": {
     "duration": 0.009556,
     "end_time": "2022-09-25T19:16:51.394604",
     "exception": false,
     "start_time": "2022-09-25T19:16:51.385048",
     "status": "completed"
    },
    "tags": []
   },
   "source": [
    "# Preprocessing the data"
   ]
  },
  {
   "cell_type": "code",
   "execution_count": 5,
   "id": "86ad0308",
   "metadata": {
    "execution": {
     "iopub.execute_input": "2022-09-25T19:16:51.413730Z",
     "iopub.status.busy": "2022-09-25T19:16:51.412940Z",
     "iopub.status.idle": "2022-09-25T19:16:51.421833Z",
     "shell.execute_reply": "2022-09-25T19:16:51.420825Z"
    },
    "papermill": {
     "duration": 0.021995,
     "end_time": "2022-09-25T19:16:51.424238",
     "exception": false,
     "start_time": "2022-09-25T19:16:51.402243",
     "status": "completed"
    },
    "tags": []
   },
   "outputs": [],
   "source": [
    "data.Age.fillna(data.Age.mean(), inplace = True)"
   ]
  },
  {
   "cell_type": "code",
   "execution_count": 6,
   "id": "e1af6b78",
   "metadata": {
    "execution": {
     "iopub.execute_input": "2022-09-25T19:16:51.441850Z",
     "iopub.status.busy": "2022-09-25T19:16:51.441066Z",
     "iopub.status.idle": "2022-09-25T19:16:51.446919Z",
     "shell.execute_reply": "2022-09-25T19:16:51.446124Z"
    },
    "papermill": {
     "duration": 0.017295,
     "end_time": "2022-09-25T19:16:51.449176",
     "exception": false,
     "start_time": "2022-09-25T19:16:51.431881",
     "status": "completed"
    },
    "tags": []
   },
   "outputs": [],
   "source": [
    "data.Cabin.fillna('G6', inplace = True)"
   ]
  },
  {
   "cell_type": "code",
   "execution_count": 7,
   "id": "3a5ab5b4",
   "metadata": {
    "execution": {
     "iopub.execute_input": "2022-09-25T19:16:51.466480Z",
     "iopub.status.busy": "2022-09-25T19:16:51.465718Z",
     "iopub.status.idle": "2022-09-25T19:16:51.472798Z",
     "shell.execute_reply": "2022-09-25T19:16:51.471976Z"
    },
    "papermill": {
     "duration": 0.018284,
     "end_time": "2022-09-25T19:16:51.475061",
     "exception": false,
     "start_time": "2022-09-25T19:16:51.456777",
     "status": "completed"
    },
    "tags": []
   },
   "outputs": [],
   "source": [
    "data.replace({'Sex':{'male': 1,'female':0}},inplace=True)"
   ]
  },
  {
   "cell_type": "code",
   "execution_count": 8,
   "id": "3dd68941",
   "metadata": {
    "execution": {
     "iopub.execute_input": "2022-09-25T19:16:51.492703Z",
     "iopub.status.busy": "2022-09-25T19:16:51.491876Z",
     "iopub.status.idle": "2022-09-25T19:16:51.499324Z",
     "shell.execute_reply": "2022-09-25T19:16:51.498529Z"
    },
    "papermill": {
     "duration": 0.019252,
     "end_time": "2022-09-25T19:16:51.501837",
     "exception": false,
     "start_time": "2022-09-25T19:16:51.482585",
     "status": "completed"
    },
    "tags": []
   },
   "outputs": [],
   "source": [
    "data.replace({'Survived':{'Yes': 1,'No':0}},inplace=True)"
   ]
  },
  {
   "cell_type": "markdown",
   "id": "28a2f45d",
   "metadata": {
    "papermill": {
     "duration": 0.007735,
     "end_time": "2022-09-25T19:16:51.517317",
     "exception": false,
     "start_time": "2022-09-25T19:16:51.509582",
     "status": "completed"
    },
    "tags": []
   },
   "source": [
    "# # The Models"
   ]
  },
  {
   "cell_type": "code",
   "execution_count": 9,
   "id": "92c8000e",
   "metadata": {
    "execution": {
     "iopub.execute_input": "2022-09-25T19:16:51.534854Z",
     "iopub.status.busy": "2022-09-25T19:16:51.534475Z",
     "iopub.status.idle": "2022-09-25T19:16:52.677638Z",
     "shell.execute_reply": "2022-09-25T19:16:52.676385Z"
    },
    "papermill": {
     "duration": 1.155399,
     "end_time": "2022-09-25T19:16:52.680675",
     "exception": false,
     "start_time": "2022-09-25T19:16:51.525276",
     "status": "completed"
    },
    "tags": []
   },
   "outputs": [],
   "source": [
    "from sklearn.model_selection import train_test_split\n",
    "from sklearn import tree   \n",
    "from sklearn.tree import DecisionTreeClassifier\n",
    "from sklearn.metrics import accuracy_score"
   ]
  },
  {
   "cell_type": "markdown",
   "id": "d538fcdc",
   "metadata": {
    "papermill": {
     "duration": 0.007745,
     "end_time": "2022-09-25T19:16:52.696352",
     "exception": false,
     "start_time": "2022-09-25T19:16:52.688607",
     "status": "completed"
    },
    "tags": []
   },
   "source": []
  },
  {
   "cell_type": "code",
   "execution_count": 10,
   "id": "0d2af509",
   "metadata": {
    "execution": {
     "iopub.execute_input": "2022-09-25T19:16:52.714398Z",
     "iopub.status.busy": "2022-09-25T19:16:52.713630Z",
     "iopub.status.idle": "2022-09-25T19:16:52.737950Z",
     "shell.execute_reply": "2022-09-25T19:16:52.736266Z"
    },
    "papermill": {
     "duration": 0.037883,
     "end_time": "2022-09-25T19:16:52.741994",
     "exception": false,
     "start_time": "2022-09-25T19:16:52.704111",
     "status": "completed"
    },
    "tags": []
   },
   "outputs": [
    {
     "name": "stdout",
     "output_type": "stream",
     "text": [
      "score:0.770949720670391\n"
     ]
    }
   ],
   "source": [
    "#features extraction\n",
    "x=data.drop([\"Survived\", \"Name\", \"Cabin\", \"Ticket\", \"Embarked\"], axis=1)\n",
    "y= data[\"Survived\"]\n",
    "\n",
    "#splitting data\n",
    "x_train, x_test, y_train, y_test = train_test_split(x,y, test_size=0.20,random_state=10)\n",
    "\n",
    "#applying tree algorithm\n",
    "model = DecisionTreeClassifier()  \n",
    "model.fit(x_train, y_train)   #fitting our model\n",
    "y_pred=model.predict(x_test)   # evaluating our model\n",
    "print(\"score:{}\".format(accuracy_score(y_test, y_pred)))"
   ]
  },
  {
   "cell_type": "code",
   "execution_count": 11,
   "id": "ecc5014f",
   "metadata": {
    "execution": {
     "iopub.execute_input": "2022-09-25T19:16:52.765136Z",
     "iopub.status.busy": "2022-09-25T19:16:52.764269Z",
     "iopub.status.idle": "2022-09-25T19:16:52.783399Z",
     "shell.execute_reply": "2022-09-25T19:16:52.782237Z"
    },
    "papermill": {
     "duration": 0.036409,
     "end_time": "2022-09-25T19:16:52.786657",
     "exception": false,
     "start_time": "2022-09-25T19:16:52.750248",
     "status": "completed"
    },
    "tags": []
   },
   "outputs": [],
   "source": [
    "import graphviz"
   ]
  },
  {
   "cell_type": "code",
   "execution_count": 12,
   "id": "9b4235e1",
   "metadata": {
    "execution": {
     "iopub.execute_input": "2022-09-25T19:16:52.810813Z",
     "iopub.status.busy": "2022-09-25T19:16:52.810140Z",
     "iopub.status.idle": "2022-09-25T19:16:52.815399Z",
     "shell.execute_reply": "2022-09-25T19:16:52.814650Z"
    },
    "papermill": {
     "duration": 0.018749,
     "end_time": "2022-09-25T19:16:52.817514",
     "exception": false,
     "start_time": "2022-09-25T19:16:52.798765",
     "status": "completed"
    },
    "tags": []
   },
   "outputs": [],
   "source": [
    "def viz_tree(model, name):\n",
    "    d = tree.export_graphviz(model)\n",
    "    graph = graphviz.Source(d)\n",
    "    graph.render(name)"
   ]
  },
  {
   "cell_type": "code",
   "execution_count": 13,
   "id": "468c3467",
   "metadata": {
    "execution": {
     "iopub.execute_input": "2022-09-25T19:16:52.834840Z",
     "iopub.status.busy": "2022-09-25T19:16:52.834172Z",
     "iopub.status.idle": "2022-09-25T19:16:53.987943Z",
     "shell.execute_reply": "2022-09-25T19:16:53.986619Z"
    },
    "papermill": {
     "duration": 1.165805,
     "end_time": "2022-09-25T19:16:53.990934",
     "exception": false,
     "start_time": "2022-09-25T19:16:52.825129",
     "status": "completed"
    },
    "tags": []
   },
   "outputs": [],
   "source": [
    "viz_tree(model, 'tree')"
   ]
  },
  {
   "cell_type": "markdown",
   "id": "8a2f746c",
   "metadata": {
    "papermill": {
     "duration": 0.007418,
     "end_time": "2022-09-25T19:16:54.006268",
     "exception": false,
     "start_time": "2022-09-25T19:16:53.998850",
     "status": "completed"
    },
    "tags": []
   },
   "source": [
    "# Change some params"
   ]
  },
  {
   "cell_type": "code",
   "execution_count": 14,
   "id": "a1747d27",
   "metadata": {
    "execution": {
     "iopub.execute_input": "2022-09-25T19:16:54.023995Z",
     "iopub.status.busy": "2022-09-25T19:16:54.023256Z",
     "iopub.status.idle": "2022-09-25T19:16:54.036375Z",
     "shell.execute_reply": "2022-09-25T19:16:54.035592Z"
    },
    "papermill": {
     "duration": 0.025043,
     "end_time": "2022-09-25T19:16:54.038863",
     "exception": false,
     "start_time": "2022-09-25T19:16:54.013820",
     "status": "completed"
    },
    "tags": []
   },
   "outputs": [
    {
     "name": "stdout",
     "output_type": "stream",
     "text": [
      "score:0.8044692737430168\n"
     ]
    }
   ],
   "source": [
    "#applying tree algorithm\n",
    "model = DecisionTreeClassifier(max_depth=5,min_samples_leaf = 5)  \n",
    "model.fit(x_train, y_train)   #fitting our model\n",
    "y_pred=model.predict(x_test)   # evaluating our model\n",
    "print(\"score:{}\".format(accuracy_score(y_test, y_pred)))"
   ]
  },
  {
   "cell_type": "markdown",
   "id": "0fadce35",
   "metadata": {
    "papermill": {
     "duration": 0.007504,
     "end_time": "2022-09-25T19:16:54.054231",
     "exception": false,
     "start_time": "2022-09-25T19:16:54.046727",
     "status": "completed"
    },
    "tags": []
   },
   "source": [
    "Note : better accuracy"
   ]
  },
  {
   "cell_type": "code",
   "execution_count": 15,
   "id": "28d4ece4",
   "metadata": {
    "execution": {
     "iopub.execute_input": "2022-09-25T19:16:54.072510Z",
     "iopub.status.busy": "2022-09-25T19:16:54.071642Z",
     "iopub.status.idle": "2022-09-25T19:16:54.123152Z",
     "shell.execute_reply": "2022-09-25T19:16:54.121294Z"
    },
    "papermill": {
     "duration": 0.064096,
     "end_time": "2022-09-25T19:16:54.126027",
     "exception": false,
     "start_time": "2022-09-25T19:16:54.061931",
     "status": "completed"
    },
    "tags": []
   },
   "outputs": [],
   "source": [
    "viz_tree(model, 'tree_2')"
   ]
  },
  {
   "cell_type": "markdown",
   "id": "f004f1bd",
   "metadata": {
    "papermill": {
     "duration": 0.00759,
     "end_time": "2022-09-25T19:16:54.141612",
     "exception": false,
     "start_time": "2022-09-25T19:16:54.134022",
     "status": "completed"
    },
    "tags": []
   },
   "source": [
    "# Random Forests"
   ]
  },
  {
   "cell_type": "code",
   "execution_count": 16,
   "id": "beaabd84",
   "metadata": {
    "execution": {
     "iopub.execute_input": "2022-09-25T19:16:54.160410Z",
     "iopub.status.busy": "2022-09-25T19:16:54.159956Z",
     "iopub.status.idle": "2022-09-25T19:16:54.224658Z",
     "shell.execute_reply": "2022-09-25T19:16:54.223475Z"
    },
    "papermill": {
     "duration": 0.077422,
     "end_time": "2022-09-25T19:16:54.227335",
     "exception": false,
     "start_time": "2022-09-25T19:16:54.149913",
     "status": "completed"
    },
    "tags": []
   },
   "outputs": [],
   "source": [
    "from sklearn.ensemble import RandomForestClassifier #Importing Random Forest Classifier\n",
    "from sklearn import metrics  # Importing metrics to test accuracy"
   ]
  },
  {
   "cell_type": "code",
   "execution_count": 17,
   "id": "8ee9b371",
   "metadata": {
    "execution": {
     "iopub.execute_input": "2022-09-25T19:16:54.244895Z",
     "iopub.status.busy": "2022-09-25T19:16:54.244492Z",
     "iopub.status.idle": "2022-09-25T19:16:54.281211Z",
     "shell.execute_reply": "2022-09-25T19:16:54.279692Z"
    },
    "papermill": {
     "duration": 0.050119,
     "end_time": "2022-09-25T19:16:54.285318",
     "exception": false,
     "start_time": "2022-09-25T19:16:54.235199",
     "status": "completed"
    },
    "tags": []
   },
   "outputs": [
    {
     "name": "stdout",
     "output_type": "stream",
     "text": [
      "Accuracy: 0.8715083798882681\n"
     ]
    }
   ],
   "source": [
    "clf=RandomForestClassifier(n_estimators=10)  #Creating a random forest with 10 decision trees\n",
    "clf.fit(x_train, y_train)  #Training our model\n",
    "y_pred=clf.predict(x_test)  #testing our model\n",
    "print(\"Accuracy:\", metrics.accuracy_score(y_test, y_pred))  #Measuring the accuracy of our model"
   ]
  },
  {
   "cell_type": "markdown",
   "id": "d04effd8",
   "metadata": {
    "papermill": {
     "duration": 0.007665,
     "end_time": "2022-09-25T19:16:54.301190",
     "exception": false,
     "start_time": "2022-09-25T19:16:54.293525",
     "status": "completed"
    },
    "tags": []
   },
   "source": [
    "Note : Better accuracy than the two previous mdels"
   ]
  },
  {
   "cell_type": "code",
   "execution_count": 18,
   "id": "4c47cf72",
   "metadata": {
    "execution": {
     "iopub.execute_input": "2022-09-25T19:16:54.320272Z",
     "iopub.status.busy": "2022-09-25T19:16:54.319379Z",
     "iopub.status.idle": "2022-09-25T19:16:54.370913Z",
     "shell.execute_reply": "2022-09-25T19:16:54.369192Z"
    },
    "papermill": {
     "duration": 0.064028,
     "end_time": "2022-09-25T19:16:54.373968",
     "exception": false,
     "start_time": "2022-09-25T19:16:54.309940",
     "status": "completed"
    },
    "tags": []
   },
   "outputs": [],
   "source": [
    "viz_tree(model, 'random_forests')"
   ]
  },
  {
   "cell_type": "code",
   "execution_count": 19,
   "id": "859e61a1",
   "metadata": {
    "execution": {
     "iopub.execute_input": "2022-09-25T19:16:54.392494Z",
     "iopub.status.busy": "2022-09-25T19:16:54.392021Z",
     "iopub.status.idle": "2022-09-25T19:16:54.484246Z",
     "shell.execute_reply": "2022-09-25T19:16:54.482348Z"
    },
    "papermill": {
     "duration": 0.105418,
     "end_time": "2022-09-25T19:16:54.487506",
     "exception": false,
     "start_time": "2022-09-25T19:16:54.382088",
     "status": "completed"
    },
    "tags": []
   },
   "outputs": [
    {
     "name": "stdout",
     "output_type": "stream",
     "text": [
      "Accuracy: 0.8491620111731844\n"
     ]
    }
   ],
   "source": [
    "clf=RandomForestClassifier(n_estimators=15)  #Creating a random forest with 10 decision trees\n",
    "clf.fit(x_train, y_train)  #Training our model\n",
    "y_pred=clf.predict(x_test)  #testing our model\n",
    "print(\"Accuracy:\", metrics.accuracy_score(y_test, y_pred))  #Measuring the accuracy of our model\n",
    "viz_tree(model, 'random_forests_2')"
   ]
  },
  {
   "cell_type": "code",
   "execution_count": 20,
   "id": "5660652b",
   "metadata": {
    "execution": {
     "iopub.execute_input": "2022-09-25T19:16:54.506013Z",
     "iopub.status.busy": "2022-09-25T19:16:54.505604Z",
     "iopub.status.idle": "2022-09-25T19:16:54.561856Z",
     "shell.execute_reply": "2022-09-25T19:16:54.560454Z"
    },
    "papermill": {
     "duration": 0.068612,
     "end_time": "2022-09-25T19:16:54.564406",
     "exception": false,
     "start_time": "2022-09-25T19:16:54.495794",
     "status": "completed"
    },
    "tags": []
   },
   "outputs": [
    {
     "name": "stdout",
     "output_type": "stream",
     "text": [
      "Accuracy: 0.8491620111731844\n"
     ]
    }
   ],
   "source": [
    "clf=RandomForestClassifier(n_estimators=20)  #Creating a random forest with 10 decision trees\n",
    "clf.fit(x_train, y_train)  #Training our model\n",
    "y_pred=clf.predict(x_test)  #testing our model\n",
    "print(\"Accuracy:\", metrics.accuracy_score(y_test, y_pred))  #Measuring the accuracy of our model"
   ]
  },
  {
   "cell_type": "code",
   "execution_count": 21,
   "id": "6b703c0c",
   "metadata": {
    "execution": {
     "iopub.execute_input": "2022-09-25T19:16:54.582294Z",
     "iopub.status.busy": "2022-09-25T19:16:54.581858Z",
     "iopub.status.idle": "2022-09-25T19:16:54.647929Z",
     "shell.execute_reply": "2022-09-25T19:16:54.646313Z"
    },
    "papermill": {
     "duration": 0.078024,
     "end_time": "2022-09-25T19:16:54.650539",
     "exception": false,
     "start_time": "2022-09-25T19:16:54.572515",
     "status": "completed"
    },
    "tags": []
   },
   "outputs": [
    {
     "name": "stdout",
     "output_type": "stream",
     "text": [
      "Accuracy: 0.8379888268156425\n"
     ]
    }
   ],
   "source": [
    "clf=RandomForestClassifier(n_estimators=25)  #Creating a random forest with 10 decision trees\n",
    "clf.fit(x_train, y_train)  #Training our model\n",
    "y_pred=clf.predict(x_test)  #testing our model\n",
    "print(\"Accuracy:\", metrics.accuracy_score(y_test, y_pred))  #Measuring the accuracy of our model"
   ]
  },
  {
   "cell_type": "code",
   "execution_count": 22,
   "id": "918539f8",
   "metadata": {
    "execution": {
     "iopub.execute_input": "2022-09-25T19:16:54.668864Z",
     "iopub.status.busy": "2022-09-25T19:16:54.668457Z",
     "iopub.status.idle": "2022-09-25T19:16:54.744884Z",
     "shell.execute_reply": "2022-09-25T19:16:54.743402Z"
    },
    "papermill": {
     "duration": 0.089133,
     "end_time": "2022-09-25T19:16:54.748033",
     "exception": false,
     "start_time": "2022-09-25T19:16:54.658900",
     "status": "completed"
    },
    "tags": []
   },
   "outputs": [
    {
     "name": "stdout",
     "output_type": "stream",
     "text": [
      "Accuracy: 0.8379888268156425\n"
     ]
    }
   ],
   "source": [
    "clf=RandomForestClassifier(n_estimators=30)  #Creating a random forest with 10 decision trees\n",
    "clf.fit(x_train, y_train)  #Training our model\n",
    "y_pred=clf.predict(x_test)  #testing our model\n",
    "print(\"Accuracy:\", metrics.accuracy_score(y_test, y_pred))  #Measuring the accuracy of our model"
   ]
  },
  {
   "cell_type": "code",
   "execution_count": 23,
   "id": "67dee5d1",
   "metadata": {
    "execution": {
     "iopub.execute_input": "2022-09-25T19:16:54.769346Z",
     "iopub.status.busy": "2022-09-25T19:16:54.768949Z",
     "iopub.status.idle": "2022-09-25T19:16:54.884750Z",
     "shell.execute_reply": "2022-09-25T19:16:54.883372Z"
    },
    "papermill": {
     "duration": 0.128532,
     "end_time": "2022-09-25T19:16:54.887498",
     "exception": false,
     "start_time": "2022-09-25T19:16:54.758966",
     "status": "completed"
    },
    "tags": []
   },
   "outputs": [
    {
     "name": "stdout",
     "output_type": "stream",
     "text": [
      "Accuracy: 0.8379888268156425\n"
     ]
    }
   ],
   "source": [
    "clf=RandomForestClassifier(n_estimators=40)  #Creating a random forest with 10 decision trees\n",
    "clf.fit(x_train, y_train)  #Training our model\n",
    "y_pred=clf.predict(x_test)  #testing our model\n",
    "print(\"Accuracy:\", metrics.accuracy_score(y_test, y_pred))  #Measuring the accuracy of our model"
   ]
  },
  {
   "cell_type": "code",
   "execution_count": 24,
   "id": "b907ba0c",
   "metadata": {
    "execution": {
     "iopub.execute_input": "2022-09-25T19:16:54.906396Z",
     "iopub.status.busy": "2022-09-25T19:16:54.905277Z",
     "iopub.status.idle": "2022-09-25T19:16:54.992889Z",
     "shell.execute_reply": "2022-09-25T19:16:54.991558Z"
    },
    "papermill": {
     "duration": 0.099711,
     "end_time": "2022-09-25T19:16:54.995520",
     "exception": false,
     "start_time": "2022-09-25T19:16:54.895809",
     "status": "completed"
    },
    "tags": []
   },
   "outputs": [
    {
     "name": "stdout",
     "output_type": "stream",
     "text": [
      "Accuracy: 0.8659217877094972\n"
     ]
    }
   ],
   "source": [
    "clf=RandomForestClassifier(n_estimators=35)  #Creating a random forest with 10 decision trees\n",
    "clf.fit(x_train, y_train)  #Training our model\n",
    "y_pred=clf.predict(x_test)  #testing our model\n",
    "print(\"Accuracy:\", metrics.accuracy_score(y_test, y_pred))  #Measuring the accuracy of our model"
   ]
  },
  {
   "cell_type": "markdown",
   "id": "08e87aa4",
   "metadata": {
    "papermill": {
     "duration": 0.0079,
     "end_time": "2022-09-25T19:16:55.011649",
     "exception": false,
     "start_time": "2022-09-25T19:16:55.003749",
     "status": "completed"
    },
    "tags": []
   },
   "source": [
    "NOTES: \n",
    "After few testing, the best accuracy was seen with n_estimators = 10, and n_estimators = 35.\n",
    "Radom forests were overall better than simple DTs"
   ]
  },
  {
   "cell_type": "code",
   "execution_count": null,
   "id": "7e2d2969",
   "metadata": {
    "papermill": {
     "duration": 0.007813,
     "end_time": "2022-09-25T19:16:55.027570",
     "exception": false,
     "start_time": "2022-09-25T19:16:55.019757",
     "status": "completed"
    },
    "tags": []
   },
   "outputs": [],
   "source": []
  }
 ],
 "metadata": {
  "kernelspec": {
   "display_name": "Python 3",
   "language": "python",
   "name": "python3"
  },
  "language_info": {
   "codemirror_mode": {
    "name": "ipython",
    "version": 3
   },
   "file_extension": ".py",
   "mimetype": "text/x-python",
   "name": "python",
   "nbconvert_exporter": "python",
   "pygments_lexer": "ipython3",
   "version": "3.7.12"
  },
  "papermill": {
   "default_parameters": {},
   "duration": 13.44729,
   "end_time": "2022-09-25T19:16:55.857752",
   "environment_variables": {},
   "exception": null,
   "input_path": "__notebook__.ipynb",
   "output_path": "__notebook__.ipynb",
   "parameters": {},
   "start_time": "2022-09-25T19:16:42.410462",
   "version": "2.3.4"
  }
 },
 "nbformat": 4,
 "nbformat_minor": 5
}
