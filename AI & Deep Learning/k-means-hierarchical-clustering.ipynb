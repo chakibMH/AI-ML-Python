{
 "cells": [
  {
   "cell_type": "markdown",
   "id": "8455e364",
   "metadata": {},
   "source": [
    "# K-Means and Hierarchical Clustering\n",
    "\n",
    "This notebook demonstrates how to perform K-Means and Hierarchical clustering using Python and popular machine learning libraries. We will cover the following steps:\n",
    "1. Importing necessary libraries\n",
    "2. Loading and preprocessing the data\n",
    "3. Performing Hierarchical clustering\n",
    "4. Performing K-Means clustering\n",
    "5. Using the Elbow method to determine the optimal number of clusters\n",
    "\n",
    "## 1. Importing Necessary Libraries\n",
    "\n",
    "We start by importing the required libraries for linear algebra, data processing, and clustering."
   ]
  },
  {
   "cell_type": "code",
   "execution_count": 1,
   "id": "54a1ede2",
   "metadata": {
    "_cell_guid": "b1076dfc-b9ad-4769-8c92-a6c4dae69d19",
    "_uuid": "8f2839f25d086af736a60e9eeb907d3b93b6e0e5",
    "execution": {
     "iopub.execute_input": "2022-09-28T19:01:02.180271Z",
     "iopub.status.busy": "2022-09-28T19:01:02.179477Z",
     "iopub.status.idle": "2022-09-28T19:01:02.189078Z",
     "shell.execute_reply": "2022-09-28T19:01:02.188090Z"
    },
    "papermill": {
     "duration": 0.021231,
     "end_time": "2022-09-28T19:01:02.191344",
     "exception": false,
     "start_time": "2022-09-28T19:01:02.170113",
     "status": "completed"
    },
    "tags": []
   },
   "outputs": [],
   "source": [
    "import numpy as np # linear algebra\n",
    "import pandas as pd # data processing, CSV file I/O (e.g. pd.read_csv)\n"
   ]
  },
  {
   "cell_type": "markdown",
   "id": "83ebb7a9",
   "metadata": {
    "papermill": {
     "duration": 0.006013,
     "end_time": "2022-09-28T19:01:02.203807",
     "exception": false,
     "start_time": "2022-09-28T19:01:02.197794",
     "status": "completed"
    },
    "tags": []
   },
   "source": [
    "## 2. Loading and Preprocessing the Data\n",
    "\n",
    "We load the dataset and perform necessary preprocessing steps such as handling missing values.# 1. Loading the dataset. "
   ]
  },
  {
   "cell_type": "code",
   "execution_count": 2,
   "id": "1b652f00",
   "metadata": {
    "execution": {
     "iopub.execute_input": "2022-09-28T19:01:02.218216Z",
     "iopub.status.busy": "2022-09-28T19:01:02.217369Z",
     "iopub.status.idle": "2022-09-28T19:01:02.283275Z",
     "shell.execute_reply": "2022-09-28T19:01:02.282406Z"
    },
    "papermill": {
     "duration": 0.075675,
     "end_time": "2022-09-28T19:01:02.285786",
     "exception": false,
     "start_time": "2022-09-28T19:01:02.210111",
     "status": "completed"
    },
    "tags": []
   },
   "outputs": [],
   "source": [
    "data = pd.read_csv(\"../input/cc-general/CC GENERAL.csv\",index_col = 'CUST_ID')"
   ]
  },
  {
   "cell_type": "code",
   "execution_count": 3,
   "id": "8714ebb8",
   "metadata": {
    "execution": {
     "iopub.execute_input": "2022-09-28T19:01:02.300551Z",
     "iopub.status.busy": "2022-09-28T19:01:02.299914Z",
     "iopub.status.idle": "2022-09-28T19:01:02.331575Z",
     "shell.execute_reply": "2022-09-28T19:01:02.330837Z"
    },
    "papermill": {
     "duration": 0.042035,
     "end_time": "2022-09-28T19:01:02.334210",
     "exception": false,
     "start_time": "2022-09-28T19:01:02.292175",
     "status": "completed"
    },
    "tags": []
   },
   "outputs": [
    {
     "data": {
      "text/html": [
       "<div>\n",
       "<style scoped>\n",
       "    .dataframe tbody tr th:only-of-type {\n",
       "        vertical-align: middle;\n",
       "    }\n",
       "\n",
       "    .dataframe tbody tr th {\n",
       "        vertical-align: top;\n",
       "    }\n",
       "\n",
       "    .dataframe thead th {\n",
       "        text-align: right;\n",
       "    }\n",
       "</style>\n",
       "<table border=\"1\" class=\"dataframe\">\n",
       "  <thead>\n",
       "    <tr style=\"text-align: right;\">\n",
       "      <th></th>\n",
       "      <th>BALANCE</th>\n",
       "      <th>BALANCE_FREQUENCY</th>\n",
       "      <th>PURCHASES</th>\n",
       "      <th>ONEOFF_PURCHASES</th>\n",
       "      <th>INSTALLMENTS_PURCHASES</th>\n",
       "      <th>CASH_ADVANCE</th>\n",
       "      <th>PURCHASES_FREQUENCY</th>\n",
       "      <th>ONEOFF_PURCHASES_FREQUENCY</th>\n",
       "      <th>PURCHASES_INSTALLMENTS_FREQUENCY</th>\n",
       "      <th>CASH_ADVANCE_FREQUENCY</th>\n",
       "      <th>CASH_ADVANCE_TRX</th>\n",
       "      <th>PURCHASES_TRX</th>\n",
       "      <th>CREDIT_LIMIT</th>\n",
       "      <th>PAYMENTS</th>\n",
       "      <th>MINIMUM_PAYMENTS</th>\n",
       "      <th>PRC_FULL_PAYMENT</th>\n",
       "      <th>TENURE</th>\n",
       "    </tr>\n",
       "    <tr>\n",
       "      <th>CUST_ID</th>\n",
       "      <th></th>\n",
       "      <th></th>\n",
       "      <th></th>\n",
       "      <th></th>\n",
       "      <th></th>\n",
       "      <th></th>\n",
       "      <th></th>\n",
       "      <th></th>\n",
       "      <th></th>\n",
       "      <th></th>\n",
       "      <th></th>\n",
       "      <th></th>\n",
       "      <th></th>\n",
       "      <th></th>\n",
       "      <th></th>\n",
       "      <th></th>\n",
       "      <th></th>\n",
       "    </tr>\n",
       "  </thead>\n",
       "  <tbody>\n",
       "    <tr>\n",
       "      <th>C10001</th>\n",
       "      <td>40.900749</td>\n",
       "      <td>0.818182</td>\n",
       "      <td>95.40</td>\n",
       "      <td>0.00</td>\n",
       "      <td>95.4</td>\n",
       "      <td>0.000000</td>\n",
       "      <td>0.166667</td>\n",
       "      <td>0.000000</td>\n",
       "      <td>0.083333</td>\n",
       "      <td>0.000000</td>\n",
       "      <td>0</td>\n",
       "      <td>2</td>\n",
       "      <td>1000.0</td>\n",
       "      <td>201.802084</td>\n",
       "      <td>139.509787</td>\n",
       "      <td>0.000000</td>\n",
       "      <td>12</td>\n",
       "    </tr>\n",
       "    <tr>\n",
       "      <th>C10002</th>\n",
       "      <td>3202.467416</td>\n",
       "      <td>0.909091</td>\n",
       "      <td>0.00</td>\n",
       "      <td>0.00</td>\n",
       "      <td>0.0</td>\n",
       "      <td>6442.945483</td>\n",
       "      <td>0.000000</td>\n",
       "      <td>0.000000</td>\n",
       "      <td>0.000000</td>\n",
       "      <td>0.250000</td>\n",
       "      <td>4</td>\n",
       "      <td>0</td>\n",
       "      <td>7000.0</td>\n",
       "      <td>4103.032597</td>\n",
       "      <td>1072.340217</td>\n",
       "      <td>0.222222</td>\n",
       "      <td>12</td>\n",
       "    </tr>\n",
       "    <tr>\n",
       "      <th>C10003</th>\n",
       "      <td>2495.148862</td>\n",
       "      <td>1.000000</td>\n",
       "      <td>773.17</td>\n",
       "      <td>773.17</td>\n",
       "      <td>0.0</td>\n",
       "      <td>0.000000</td>\n",
       "      <td>1.000000</td>\n",
       "      <td>1.000000</td>\n",
       "      <td>0.000000</td>\n",
       "      <td>0.000000</td>\n",
       "      <td>0</td>\n",
       "      <td>12</td>\n",
       "      <td>7500.0</td>\n",
       "      <td>622.066742</td>\n",
       "      <td>627.284787</td>\n",
       "      <td>0.000000</td>\n",
       "      <td>12</td>\n",
       "    </tr>\n",
       "    <tr>\n",
       "      <th>C10004</th>\n",
       "      <td>1666.670542</td>\n",
       "      <td>0.636364</td>\n",
       "      <td>1499.00</td>\n",
       "      <td>1499.00</td>\n",
       "      <td>0.0</td>\n",
       "      <td>205.788017</td>\n",
       "      <td>0.083333</td>\n",
       "      <td>0.083333</td>\n",
       "      <td>0.000000</td>\n",
       "      <td>0.083333</td>\n",
       "      <td>1</td>\n",
       "      <td>1</td>\n",
       "      <td>7500.0</td>\n",
       "      <td>0.000000</td>\n",
       "      <td>NaN</td>\n",
       "      <td>0.000000</td>\n",
       "      <td>12</td>\n",
       "    </tr>\n",
       "    <tr>\n",
       "      <th>C10005</th>\n",
       "      <td>817.714335</td>\n",
       "      <td>1.000000</td>\n",
       "      <td>16.00</td>\n",
       "      <td>16.00</td>\n",
       "      <td>0.0</td>\n",
       "      <td>0.000000</td>\n",
       "      <td>0.083333</td>\n",
       "      <td>0.083333</td>\n",
       "      <td>0.000000</td>\n",
       "      <td>0.000000</td>\n",
       "      <td>0</td>\n",
       "      <td>1</td>\n",
       "      <td>1200.0</td>\n",
       "      <td>678.334763</td>\n",
       "      <td>244.791237</td>\n",
       "      <td>0.000000</td>\n",
       "      <td>12</td>\n",
       "    </tr>\n",
       "  </tbody>\n",
       "</table>\n",
       "</div>"
      ],
      "text/plain": [
       "             BALANCE  BALANCE_FREQUENCY  PURCHASES  ONEOFF_PURCHASES  \\\n",
       "CUST_ID                                                                \n",
       "C10001     40.900749           0.818182      95.40              0.00   \n",
       "C10002   3202.467416           0.909091       0.00              0.00   \n",
       "C10003   2495.148862           1.000000     773.17            773.17   \n",
       "C10004   1666.670542           0.636364    1499.00           1499.00   \n",
       "C10005    817.714335           1.000000      16.00             16.00   \n",
       "\n",
       "         INSTALLMENTS_PURCHASES  CASH_ADVANCE  PURCHASES_FREQUENCY  \\\n",
       "CUST_ID                                                              \n",
       "C10001                     95.4      0.000000             0.166667   \n",
       "C10002                      0.0   6442.945483             0.000000   \n",
       "C10003                      0.0      0.000000             1.000000   \n",
       "C10004                      0.0    205.788017             0.083333   \n",
       "C10005                      0.0      0.000000             0.083333   \n",
       "\n",
       "         ONEOFF_PURCHASES_FREQUENCY  PURCHASES_INSTALLMENTS_FREQUENCY  \\\n",
       "CUST_ID                                                                 \n",
       "C10001                     0.000000                          0.083333   \n",
       "C10002                     0.000000                          0.000000   \n",
       "C10003                     1.000000                          0.000000   \n",
       "C10004                     0.083333                          0.000000   \n",
       "C10005                     0.083333                          0.000000   \n",
       "\n",
       "         CASH_ADVANCE_FREQUENCY  CASH_ADVANCE_TRX  PURCHASES_TRX  \\\n",
       "CUST_ID                                                            \n",
       "C10001                 0.000000                 0              2   \n",
       "C10002                 0.250000                 4              0   \n",
       "C10003                 0.000000                 0             12   \n",
       "C10004                 0.083333                 1              1   \n",
       "C10005                 0.000000                 0              1   \n",
       "\n",
       "         CREDIT_LIMIT     PAYMENTS  MINIMUM_PAYMENTS  PRC_FULL_PAYMENT  TENURE  \n",
       "CUST_ID                                                                         \n",
       "C10001         1000.0   201.802084        139.509787          0.000000      12  \n",
       "C10002         7000.0  4103.032597       1072.340217          0.222222      12  \n",
       "C10003         7500.0   622.066742        627.284787          0.000000      12  \n",
       "C10004         7500.0     0.000000               NaN          0.000000      12  \n",
       "C10005         1200.0   678.334763        244.791237          0.000000      12  "
      ]
     },
     "execution_count": 3,
     "metadata": {},
     "output_type": "execute_result"
    }
   ],
   "source": [
    "data.head()"
   ]
  },
  {
   "cell_type": "code",
   "execution_count": 4,
   "id": "b6aa8cab",
   "metadata": {
    "execution": {
     "iopub.execute_input": "2022-09-28T19:01:02.349275Z",
     "iopub.status.busy": "2022-09-28T19:01:02.348710Z",
     "iopub.status.idle": "2022-09-28T19:01:02.354375Z",
     "shell.execute_reply": "2022-09-28T19:01:02.353386Z"
    },
    "papermill": {
     "duration": 0.015619,
     "end_time": "2022-09-28T19:01:02.356715",
     "exception": false,
     "start_time": "2022-09-28T19:01:02.341096",
     "status": "completed"
    },
    "tags": []
   },
   "outputs": [
    {
     "data": {
      "text/plain": [
       "(8950, 17)"
      ]
     },
     "execution_count": 4,
     "metadata": {},
     "output_type": "execute_result"
    }
   ],
   "source": [
    "data.shape"
   ]
  },
  {
   "cell_type": "code",
   "execution_count": 5,
   "id": "8dd790f2",
   "metadata": {
    "execution": {
     "iopub.execute_input": "2022-09-28T19:01:02.372288Z",
     "iopub.status.busy": "2022-09-28T19:01:02.371612Z",
     "iopub.status.idle": "2022-09-28T19:01:02.378795Z",
     "shell.execute_reply": "2022-09-28T19:01:02.377870Z"
    },
    "papermill": {
     "duration": 0.017279,
     "end_time": "2022-09-28T19:01:02.380892",
     "exception": false,
     "start_time": "2022-09-28T19:01:02.363613",
     "status": "completed"
    },
    "tags": []
   },
   "outputs": [
    {
     "data": {
      "text/plain": [
       "Index(['BALANCE', 'BALANCE_FREQUENCY', 'PURCHASES', 'ONEOFF_PURCHASES',\n",
       "       'INSTALLMENTS_PURCHASES', 'CASH_ADVANCE', 'PURCHASES_FREQUENCY',\n",
       "       'ONEOFF_PURCHASES_FREQUENCY', 'PURCHASES_INSTALLMENTS_FREQUENCY',\n",
       "       'CASH_ADVANCE_FREQUENCY', 'CASH_ADVANCE_TRX', 'PURCHASES_TRX',\n",
       "       'CREDIT_LIMIT', 'PAYMENTS', 'MINIMUM_PAYMENTS', 'PRC_FULL_PAYMENT',\n",
       "       'TENURE'],\n",
       "      dtype='object')"
      ]
     },
     "execution_count": 5,
     "metadata": {},
     "output_type": "execute_result"
    }
   ],
   "source": [
    "data.columns"
   ]
  },
  {
   "cell_type": "code",
   "execution_count": 6,
   "id": "3010d1aa",
   "metadata": {
    "execution": {
     "iopub.execute_input": "2022-09-28T19:01:02.396050Z",
     "iopub.status.busy": "2022-09-28T19:01:02.395695Z",
     "iopub.status.idle": "2022-09-28T19:01:02.416094Z",
     "shell.execute_reply": "2022-09-28T19:01:02.414388Z"
    },
    "papermill": {
     "duration": 0.030758,
     "end_time": "2022-09-28T19:01:02.418397",
     "exception": false,
     "start_time": "2022-09-28T19:01:02.387639",
     "status": "completed"
    },
    "tags": []
   },
   "outputs": [
    {
     "name": "stdout",
     "output_type": "stream",
     "text": [
      "<class 'pandas.core.frame.DataFrame'>\n",
      "Index: 8950 entries, C10001 to C19190\n",
      "Data columns (total 17 columns):\n",
      " #   Column                            Non-Null Count  Dtype  \n",
      "---  ------                            --------------  -----  \n",
      " 0   BALANCE                           8950 non-null   float64\n",
      " 1   BALANCE_FREQUENCY                 8950 non-null   float64\n",
      " 2   PURCHASES                         8950 non-null   float64\n",
      " 3   ONEOFF_PURCHASES                  8950 non-null   float64\n",
      " 4   INSTALLMENTS_PURCHASES            8950 non-null   float64\n",
      " 5   CASH_ADVANCE                      8950 non-null   float64\n",
      " 6   PURCHASES_FREQUENCY               8950 non-null   float64\n",
      " 7   ONEOFF_PURCHASES_FREQUENCY        8950 non-null   float64\n",
      " 8   PURCHASES_INSTALLMENTS_FREQUENCY  8950 non-null   float64\n",
      " 9   CASH_ADVANCE_FREQUENCY            8950 non-null   float64\n",
      " 10  CASH_ADVANCE_TRX                  8950 non-null   int64  \n",
      " 11  PURCHASES_TRX                     8950 non-null   int64  \n",
      " 12  CREDIT_LIMIT                      8949 non-null   float64\n",
      " 13  PAYMENTS                          8950 non-null   float64\n",
      " 14  MINIMUM_PAYMENTS                  8637 non-null   float64\n",
      " 15  PRC_FULL_PAYMENT                  8950 non-null   float64\n",
      " 16  TENURE                            8950 non-null   int64  \n",
      "dtypes: float64(14), int64(3)\n",
      "memory usage: 1.2+ MB\n"
     ]
    }
   ],
   "source": [
    "data.info()"
   ]
  },
  {
   "cell_type": "markdown",
   "id": "feac1f32",
   "metadata": {
    "papermill": {
     "duration": 0.006499,
     "end_time": "2022-09-28T19:01:02.431842",
     "exception": false,
     "start_time": "2022-09-28T19:01:02.425343",
     "status": "completed"
    },
    "tags": []
   },
   "source": [
    "MINIMUM_PAYMENTS contains some missing value.\n",
    "\n",
    "We will fill them with the mean."
   ]
  },
  {
   "cell_type": "code",
   "execution_count": 7,
   "id": "52513ad6",
   "metadata": {
    "execution": {
     "iopub.execute_input": "2022-09-28T19:01:02.450149Z",
     "iopub.status.busy": "2022-09-28T19:01:02.449427Z",
     "iopub.status.idle": "2022-09-28T19:01:02.455346Z",
     "shell.execute_reply": "2022-09-28T19:01:02.454218Z"
    },
    "papermill": {
     "duration": 0.019042,
     "end_time": "2022-09-28T19:01:02.457390",
     "exception": false,
     "start_time": "2022-09-28T19:01:02.438348",
     "status": "completed"
    },
    "tags": []
   },
   "outputs": [],
   "source": [
    "data.MINIMUM_PAYMENTS.fillna(data.MINIMUM_PAYMENTS.mean(), inplace = True)"
   ]
  },
  {
   "cell_type": "code",
   "execution_count": 8,
   "id": "6e7f41df",
   "metadata": {
    "execution": {
     "iopub.execute_input": "2022-09-28T19:01:02.472566Z",
     "iopub.status.busy": "2022-09-28T19:01:02.472178Z",
     "iopub.status.idle": "2022-09-28T19:01:02.485257Z",
     "shell.execute_reply": "2022-09-28T19:01:02.483550Z"
    },
    "papermill": {
     "duration": 0.022867,
     "end_time": "2022-09-28T19:01:02.487303",
     "exception": false,
     "start_time": "2022-09-28T19:01:02.464436",
     "status": "completed"
    },
    "tags": []
   },
   "outputs": [
    {
     "name": "stdout",
     "output_type": "stream",
     "text": [
      "<class 'pandas.core.frame.DataFrame'>\n",
      "Index: 8950 entries, C10001 to C19190\n",
      "Data columns (total 17 columns):\n",
      " #   Column                            Non-Null Count  Dtype  \n",
      "---  ------                            --------------  -----  \n",
      " 0   BALANCE                           8950 non-null   float64\n",
      " 1   BALANCE_FREQUENCY                 8950 non-null   float64\n",
      " 2   PURCHASES                         8950 non-null   float64\n",
      " 3   ONEOFF_PURCHASES                  8950 non-null   float64\n",
      " 4   INSTALLMENTS_PURCHASES            8950 non-null   float64\n",
      " 5   CASH_ADVANCE                      8950 non-null   float64\n",
      " 6   PURCHASES_FREQUENCY               8950 non-null   float64\n",
      " 7   ONEOFF_PURCHASES_FREQUENCY        8950 non-null   float64\n",
      " 8   PURCHASES_INSTALLMENTS_FREQUENCY  8950 non-null   float64\n",
      " 9   CASH_ADVANCE_FREQUENCY            8950 non-null   float64\n",
      " 10  CASH_ADVANCE_TRX                  8950 non-null   int64  \n",
      " 11  PURCHASES_TRX                     8950 non-null   int64  \n",
      " 12  CREDIT_LIMIT                      8949 non-null   float64\n",
      " 13  PAYMENTS                          8950 non-null   float64\n",
      " 14  MINIMUM_PAYMENTS                  8950 non-null   float64\n",
      " 15  PRC_FULL_PAYMENT                  8950 non-null   float64\n",
      " 16  TENURE                            8950 non-null   int64  \n",
      "dtypes: float64(14), int64(3)\n",
      "memory usage: 1.2+ MB\n"
     ]
    }
   ],
   "source": [
    "data.info()"
   ]
  },
  {
   "cell_type": "code",
   "execution_count": 9,
   "id": "78975fe1",
   "metadata": {
    "execution": {
     "iopub.execute_input": "2022-09-28T19:01:02.503264Z",
     "iopub.status.busy": "2022-09-28T19:01:02.502652Z",
     "iopub.status.idle": "2022-09-28T19:01:02.508738Z",
     "shell.execute_reply": "2022-09-28T19:01:02.507985Z"
    },
    "papermill": {
     "duration": 0.016336,
     "end_time": "2022-09-28T19:01:02.510650",
     "exception": false,
     "start_time": "2022-09-28T19:01:02.494314",
     "status": "completed"
    },
    "tags": []
   },
   "outputs": [
    {
     "data": {
      "text/plain": [
       "True"
      ]
     },
     "execution_count": 9,
     "metadata": {},
     "output_type": "execute_result"
    }
   ],
   "source": [
    "np.any(np.isnan(data.CREDIT_LIMIT))"
   ]
  },
  {
   "cell_type": "code",
   "execution_count": 10,
   "id": "cb608dc7",
   "metadata": {
    "execution": {
     "iopub.execute_input": "2022-09-28T19:01:02.526579Z",
     "iopub.status.busy": "2022-09-28T19:01:02.525981Z",
     "iopub.status.idle": "2022-09-28T19:01:02.531172Z",
     "shell.execute_reply": "2022-09-28T19:01:02.530092Z"
    },
    "papermill": {
     "duration": 0.015412,
     "end_time": "2022-09-28T19:01:02.533266",
     "exception": false,
     "start_time": "2022-09-28T19:01:02.517854",
     "status": "completed"
    },
    "tags": []
   },
   "outputs": [],
   "source": [
    "data.CREDIT_LIMIT.fillna(data.CREDIT_LIMIT.mean(), inplace =True)"
   ]
  },
  {
   "cell_type": "code",
   "execution_count": 11,
   "id": "2319f829",
   "metadata": {
    "execution": {
     "iopub.execute_input": "2022-09-28T19:01:02.548833Z",
     "iopub.status.busy": "2022-09-28T19:01:02.548428Z",
     "iopub.status.idle": "2022-09-28T19:01:02.555743Z",
     "shell.execute_reply": "2022-09-28T19:01:02.554682Z"
    },
    "papermill": {
     "duration": 0.017661,
     "end_time": "2022-09-28T19:01:02.557864",
     "exception": false,
     "start_time": "2022-09-28T19:01:02.540203",
     "status": "completed"
    },
    "tags": []
   },
   "outputs": [
    {
     "data": {
      "text/plain": [
       "False"
      ]
     },
     "execution_count": 11,
     "metadata": {},
     "output_type": "execute_result"
    }
   ],
   "source": [
    "np.any(np.isnan(data.CREDIT_LIMIT))"
   ]
  },
  {
   "cell_type": "markdown",
   "id": "5d46704f",
   "metadata": {
    "papermill": {
     "duration": 0.006877,
     "end_time": "2022-09-28T19:01:02.571965",
     "exception": false,
     "start_time": "2022-09-28T19:01:02.565088",
     "status": "completed"
    },
    "tags": []
   },
   "source": [
    "## 3. Performing Hierarchical Clustering\n",
    "\n",
    "We use the Agglomerative clustering method to identify inherent groupings within the data.# Hierarchical clustering (Agglomerative)  to identify the inherent groupings within the data"
   ]
  },
  {
   "cell_type": "code",
   "execution_count": 12,
   "id": "5ad481a2",
   "metadata": {
    "execution": {
     "iopub.execute_input": "2022-09-28T19:01:02.587873Z",
     "iopub.status.busy": "2022-09-28T19:01:02.587446Z",
     "iopub.status.idle": "2022-09-28T19:01:07.626928Z",
     "shell.execute_reply": "2022-09-28T19:01:07.625680Z"
    },
    "papermill": {
     "duration": 5.050658,
     "end_time": "2022-09-28T19:01:07.629609",
     "exception": false,
     "start_time": "2022-09-28T19:01:02.578951",
     "status": "completed"
    },
    "tags": []
   },
   "outputs": [],
   "source": [
    "from sklearn.cluster import AgglomerativeClustering #Importing our clustering algorithm : Agglomerative\n",
    "model=AgglomerativeClustering(n_clusters=5, affinity='euclidean', linkage='complete')\n",
    "clust_labels=model.fit_predict(data.values)  #Applying agglomerative algorithm with 5 clusters, using euclidean distance as a metric"
   ]
  },
  {
   "cell_type": "code",
   "execution_count": 13,
   "id": "8e0dd00f",
   "metadata": {
    "execution": {
     "iopub.execute_input": "2022-09-28T19:01:07.648186Z",
     "iopub.status.busy": "2022-09-28T19:01:07.647080Z",
     "iopub.status.idle": "2022-09-28T19:01:07.654445Z",
     "shell.execute_reply": "2022-09-28T19:01:07.653518Z"
    },
    "papermill": {
     "duration": 0.018534,
     "end_time": "2022-09-28T19:01:07.656678",
     "exception": false,
     "start_time": "2022-09-28T19:01:07.638144",
     "status": "completed"
    },
    "tags": []
   },
   "outputs": [
    {
     "data": {
      "text/plain": [
       "array([0, 0, 0, ..., 0, 0, 0])"
      ]
     },
     "execution_count": 13,
     "metadata": {},
     "output_type": "execute_result"
    }
   ],
   "source": [
    "agglomerative=pd.DataFrame(clust_labels)\n",
    "model.labels_"
   ]
  },
  {
   "cell_type": "code",
   "execution_count": 14,
   "id": "123c9e28",
   "metadata": {
    "execution": {
     "iopub.execute_input": "2022-09-28T19:01:07.672357Z",
     "iopub.status.busy": "2022-09-28T19:01:07.671984Z",
     "iopub.status.idle": "2022-09-28T19:01:08.335582Z",
     "shell.execute_reply": "2022-09-28T19:01:08.334538Z"
    },
    "papermill": {
     "duration": 0.674123,
     "end_time": "2022-09-28T19:01:08.337994",
     "exception": false,
     "start_time": "2022-09-28T19:01:07.663871",
     "status": "completed"
    },
    "tags": []
   },
   "outputs": [
    {
     "data": {
      "text/plain": [
       "<matplotlib.colorbar.Colorbar at 0x7f335ba55710>"
      ]
     },
     "execution_count": 14,
     "metadata": {},
     "output_type": "execute_result"
    },
    {
     "data": {
      "image/png": "[encoded data removed]",
      "text/plain": [
       "<Figure size 432x288 with 2 Axes>"
      ]
     },
     "metadata": {
      "needs_background": "light"
     },
     "output_type": "display_data"
    }
   ],
   "source": [
    "import matplotlib.pyplot as plt\n",
    "fig =plt.figure()\n",
    "ax = fig.add_subplot(111)\n",
    "scatter = ax.scatter (data ['BALANCE_FREQUENCY'] , data [\"PAYMENTS\"] , c= agglomerative[0], s=50)\n",
    "ax.set_title(\"Agglomerative Clustering\")\n",
    "ax.set_xlabel(\"BALANCE_FREQUENCY\")\n",
    "ax.set_ylabel(\"PAYMENTS\")\n",
    "plt.colorbar(scatter)"
   ]
  },
  {
   "cell_type": "code",
   "execution_count": 15,
   "id": "538156a6",
   "metadata": {
    "execution": {
     "iopub.execute_input": "2022-09-28T19:01:08.356543Z",
     "iopub.status.busy": "2022-09-28T19:01:08.355418Z",
     "iopub.status.idle": "2022-09-28T19:04:36.211984Z",
     "shell.execute_reply": "2022-09-28T19:04:36.210892Z"
    },
    "papermill": {
     "duration": 207.877305,
     "end_time": "2022-09-28T19:04:36.223378",
     "exception": false,
     "start_time": "2022-09-28T19:01:08.346073",
     "status": "completed"
    },
    "tags": []
   },
   "outputs": [
    {
     "data": {
      "image/png": "[encoded data removed]",
      "text/plain": [
       "<Figure size 720x504 with 1 Axes>"
      ]
     },
     "metadata": {
      "needs_background": "light"
     },
     "output_type": "display_data"
    }
   ],
   "source": [
    "import matplotlib.pyplot as plt\n",
    "import scipy.cluster.hierarchy as shc\n",
    "plt.figure(figsize=(10,7))\n",
    "plt.title(\"Dendrograms\")\n",
    "dend=shc.dendrogram(shc.linkage(data, method=\"complete\"))"
   ]
  },
  {
   "cell_type": "markdown",
   "id": "a2df1280",
   "metadata": {
    "papermill": {
     "duration": 0.007928,
     "end_time": "2022-09-28T19:04:36.239686",
     "exception": false,
     "start_time": "2022-09-28T19:04:36.231758",
     "status": "completed"
    },
    "tags": []
   },
   "source": [
    "## 4. Performing K-Means Clustering\n",
    "\n",
    "We use the K-Means clustering algorithm to cluster the data into a specified number of clusters.# K-MEANS"
   ]
  },
  {
   "cell_type": "code",
   "execution_count": 16,
   "id": "0d7ec7e9",
   "metadata": {
    "execution": {
     "iopub.execute_input": "2022-09-28T19:04:36.258127Z",
     "iopub.status.busy": "2022-09-28T19:04:36.257765Z",
     "iopub.status.idle": "2022-09-28T19:04:37.850485Z",
     "shell.execute_reply": "2022-09-28T19:04:37.849569Z"
    },
    "papermill": {
     "duration": 1.605402,
     "end_time": "2022-09-28T19:04:37.853267",
     "exception": false,
     "start_time": "2022-09-28T19:04:36.247865",
     "status": "completed"
    },
    "tags": []
   },
   "outputs": [
    {
     "data": {
      "text/plain": [
       "KMeans(n_clusters=5, random_state=0)"
      ]
     },
     "execution_count": 16,
     "metadata": {},
     "output_type": "execute_result"
    }
   ],
   "source": [
    "from sklearn.cluster import KMeans  #Importing our clustering algorithm: KMeans\n",
    "kmeans=KMeans(n_clusters=5, random_state=0)  #Cluster our data by choosing 5 as number of clusters\n",
    "kmeans.fit(data)"
   ]
  },
  {
   "cell_type": "code",
   "execution_count": 17,
   "id": "70c94638",
   "metadata": {
    "execution": {
     "iopub.execute_input": "2022-09-28T19:04:37.873450Z",
     "iopub.status.busy": "2022-09-28T19:04:37.873051Z",
     "iopub.status.idle": "2022-09-28T19:04:37.884951Z",
     "shell.execute_reply": "2022-09-28T19:04:37.883875Z"
    },
    "papermill": {
     "duration": 0.024187,
     "end_time": "2022-09-28T19:04:37.887131",
     "exception": false,
     "start_time": "2022-09-28T19:04:37.862944",
     "status": "completed"
    },
    "tags": []
   },
   "outputs": [
    {
     "data": {
      "text/html": [
       "<div>\n",
       "<style scoped>\n",
       "    .dataframe tbody tr th:only-of-type {\n",
       "        vertical-align: middle;\n",
       "    }\n",
       "\n",
       "    .dataframe tbody tr th {\n",
       "        vertical-align: top;\n",
       "    }\n",
       "\n",
       "    .dataframe thead th {\n",
       "        text-align: right;\n",
       "    }\n",
       "</style>\n",
       "<table border=\"1\" class=\"dataframe\">\n",
       "  <thead>\n",
       "    <tr style=\"text-align: right;\">\n",
       "      <th></th>\n",
       "      <th>0</th>\n",
       "    </tr>\n",
       "  </thead>\n",
       "  <tbody>\n",
       "    <tr>\n",
       "      <th>0</th>\n",
       "      <td>2</td>\n",
       "    </tr>\n",
       "    <tr>\n",
       "      <th>1</th>\n",
       "      <td>3</td>\n",
       "    </tr>\n",
       "    <tr>\n",
       "      <th>2</th>\n",
       "      <td>0</td>\n",
       "    </tr>\n",
       "    <tr>\n",
       "      <th>3</th>\n",
       "      <td>0</td>\n",
       "    </tr>\n",
       "    <tr>\n",
       "      <th>4</th>\n",
       "      <td>2</td>\n",
       "    </tr>\n",
       "    <tr>\n",
       "      <th>...</th>\n",
       "      <td>...</td>\n",
       "    </tr>\n",
       "    <tr>\n",
       "      <th>8945</th>\n",
       "      <td>2</td>\n",
       "    </tr>\n",
       "    <tr>\n",
       "      <th>8946</th>\n",
       "      <td>2</td>\n",
       "    </tr>\n",
       "    <tr>\n",
       "      <th>8947</th>\n",
       "      <td>2</td>\n",
       "    </tr>\n",
       "    <tr>\n",
       "      <th>8948</th>\n",
       "      <td>2</td>\n",
       "    </tr>\n",
       "    <tr>\n",
       "      <th>8949</th>\n",
       "      <td>2</td>\n",
       "    </tr>\n",
       "  </tbody>\n",
       "</table>\n",
       "<p>8950 rows × 1 columns</p>\n",
       "</div>"
      ],
      "text/plain": [
       "      0\n",
       "0     2\n",
       "1     3\n",
       "2     0\n",
       "3     0\n",
       "4     2\n",
       "...  ..\n",
       "8945  2\n",
       "8946  2\n",
       "8947  2\n",
       "8948  2\n",
       "8949  2\n",
       "\n",
       "[8950 rows x 1 columns]"
      ]
     },
     "execution_count": 17,
     "metadata": {},
     "output_type": "execute_result"
    }
   ],
   "source": [
    "labels=pd.DataFrame(kmeans.labels_)\n",
    "labels"
   ]
  },
  {
   "cell_type": "code",
   "execution_count": 18,
   "id": "f7590e63",
   "metadata": {
    "execution": {
     "iopub.execute_input": "2022-09-28T19:04:37.906895Z",
     "iopub.status.busy": "2022-09-28T19:04:37.906471Z",
     "iopub.status.idle": "2022-09-28T19:04:38.538186Z",
     "shell.execute_reply": "2022-09-28T19:04:38.535886Z"
    },
    "papermill": {
     "duration": 0.644354,
     "end_time": "2022-09-28T19:04:38.540749",
     "exception": false,
     "start_time": "2022-09-28T19:04:37.896395",
     "status": "completed"
    },
    "tags": []
   },
   "outputs": [
    {
     "data": {
      "text/plain": [
       "<matplotlib.colorbar.Colorbar at 0x7f3354b24610>"
      ]
     },
     "execution_count": 18,
     "metadata": {},
     "output_type": "execute_result"
    },
    {
     "data": {
      "image/png": "[encoded data removed]",
      "text/plain": [
       "<Figure size 432x288 with 2 Axes>"
      ]
     },
     "metadata": {
      "needs_background": "light"
     },
     "output_type": "display_data"
    }
   ],
   "source": [
    "fig =plt.figure()\n",
    "ax = fig.add_subplot(111)\n",
    "scatter = ax.scatter (data ['BALANCE_FREQUENCY'] , data [\"PAYMENTS\"] , c= labels[0], s=50)\n",
    "ax.set_title(\"K-Means Clustering\")\n",
    "ax.set_xlabel(\"BALANCE_FREQUENCY\")\n",
    "ax.set_ylabel(\"PAYMENTS\")\n",
    "plt.colorbar(scatter)"
   ]
  },
  {
   "cell_type": "markdown",
   "id": "c537bf41",
   "metadata": {
    "papermill": {
     "duration": 0.00926,
     "end_time": "2022-09-28T19:04:38.559901",
     "exception": false,
     "start_time": "2022-09-28T19:04:38.550641",
     "status": "completed"
    },
    "tags": []
   },
   "source": [
    "We notice adiffence between the clusters formation, btween kmeans and Hierarchical clustering (Agglomerative)"
   ]
  },
  {
   "cell_type": "markdown",
   "id": "66c944f5",
   "metadata": {
    "papermill": {
     "duration": 0.009125,
     "end_time": "2022-09-28T19:04:38.578316",
     "exception": false,
     "start_time": "2022-09-28T19:04:38.569191",
     "status": "completed"
    },
    "tags": []
   },
   "source": [
    "## 5. Using the Elbow Method to Determine the Optimal Number of Clusters\n",
    "\n",
    "We use the Elbow method to determine the optimal number of clusters for K-Means clustering.# The Elbow Method for the rigth number of k"
   ]
  },
  {
   "cell_type": "code",
   "execution_count": 19,
   "id": "291d5a7f",
   "metadata": {
    "execution": {
     "iopub.execute_input": "2022-09-28T19:04:38.599013Z",
     "iopub.status.busy": "2022-09-28T19:04:38.598649Z",
     "iopub.status.idle": "2022-09-28T19:05:02.664605Z",
     "shell.execute_reply": "2022-09-28T19:05:02.663540Z"
    },
    "papermill": {
     "duration": 24.079329,
     "end_time": "2022-09-28T19:05:02.667153",
     "exception": false,
     "start_time": "2022-09-28T19:04:38.587824",
     "status": "completed"
    },
    "tags": []
   },
   "outputs": [
    {
     "name": "stdout",
     "output_type": "stream",
     "text": [
      "1\n",
      "2\n",
      "3\n",
      "4\n",
      "5\n",
      "6\n",
      "7\n",
      "8\n",
      "9\n",
      "10\n",
      "11\n",
      "12\n",
      "13\n",
      "14\n"
     ]
    }
   ],
   "source": [
    "SSD = []\n",
    "K = range(1, 15)\n",
    "for k in K:\n",
    "    print(k)\n",
    "    km =  KMeans(n_clusters=k, random_state=0)\n",
    "    km.fit(data)\n",
    "    SSD.append(km.inertia_)"
   ]
  },
  {
   "cell_type": "code",
   "execution_count": 20,
   "id": "cd01a8e7",
   "metadata": {
    "execution": {
     "iopub.execute_input": "2022-09-28T19:05:02.691095Z",
     "iopub.status.busy": "2022-09-28T19:05:02.690720Z",
     "iopub.status.idle": "2022-09-28T19:05:02.905826Z",
     "shell.execute_reply": "2022-09-28T19:05:02.904671Z"
    },
    "papermill": {
     "duration": 0.229148,
     "end_time": "2022-09-28T19:05:02.908291",
     "exception": false,
     "start_time": "2022-09-28T19:05:02.679143",
     "status": "completed"
    },
    "tags": []
   },
   "outputs": [
    {
     "data": {
      "image/png": "[encoded data removed]",
      "text/plain": [
       "<Figure size 432x288 with 1 Axes>"
      ]
     },
     "metadata": {
      "needs_background": "light"
     },
     "output_type": "display_data"
    }
   ],
   "source": [
    "plt.figure()\n",
    "plt.plot (K , SSD, 'bx-')\n",
    "plt.title(\"Elbow method for optimal k\")\n",
    "plt.xlabel(\"K\")\n",
    "plt.ylabel(\"SSD\")\n",
    "plt.show()"
   ]
  },
  {
   "cell_type": "markdown",
   "id": "db63b6f7",
   "metadata": {
    "papermill": {
     "duration": 0.010352,
     "end_time": "2022-09-28T19:05:02.929216",
     "exception": false,
     "start_time": "2022-09-28T19:05:02.918864",
     "status": "completed"
    },
    "tags": []
   },
   "source": [
    "according to the graphe, k=6, is the optimal number of clusters"
   ]
  },
  {
   "cell_type": "code",
   "execution_count": null,
   "id": "2c9b4a2b",
   "metadata": {
    "papermill": {
     "duration": 0.010353,
     "end_time": "2022-09-28T19:05:02.950074",
     "exception": false,
     "start_time": "2022-09-28T19:05:02.939721",
     "status": "completed"
    },
    "tags": []
   },
   "outputs": [],
   "source": []
  }
 ],
 "metadata": {
  "kernelspec": {
   "display_name": "Python 3",
   "language": "python",
   "name": "python3"
  },
  "language_info": {
   "codemirror_mode": {
    "name": "ipython",
    "version": 3
   },
   "file_extension": ".py",
   "mimetype": "text/x-python",
   "name": "python",
   "nbconvert_exporter": "python",
   "pygments_lexer": "ipython3",
   "version": "3.7.12"
  },
  "papermill": {
   "default_parameters": {},
   "duration": 250.784582,
   "end_time": "2022-09-28T19:05:04.285027",
   "environment_variables": {},
   "exception": null,
   "input_path": "__notebook__.ipynb",
   "output_path": "__notebook__.ipynb",
   "parameters": {},
   "start_time": "2022-09-28T19:00:53.500445",
   "version": "2.3.4"
  }
 },
 "nbformat": 4,
 "nbformat_minor": 5
}
