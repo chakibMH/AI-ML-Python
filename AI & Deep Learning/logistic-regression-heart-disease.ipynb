{
 "cells": [
  {
   "cell_type": "code",
   "execution_count": 1,
   "id": "26d2cabd",
   "metadata": {
    "_cell_guid": "b1076dfc-b9ad-4769-8c92-a6c4dae69d19",
    "_uuid": "8f2839f25d086af736a60e9eeb907d3b93b6e0e5",
    "execution": {
     "iopub.execute_input": "2022-09-24T11:38:33.143226Z",
     "iopub.status.busy": "2022-09-24T11:38:33.142668Z",
     "iopub.status.idle": "2022-09-24T11:38:33.154610Z",
     "shell.execute_reply": "2022-09-24T11:38:33.153573Z"
    },
    "papermill": {
     "duration": 0.026194,
     "end_time": "2022-09-24T11:38:33.157504",
     "exception": false,
     "start_time": "2022-09-24T11:38:33.131310",
     "status": "completed"
    },
    "tags": []
   },
   "outputs": [],
   "source": [
    "import numpy as np # linear algebra\n",
    "import pandas as pd # data processing, CSV file I/O (e.g. pd.read_csv)\n"
   ]
  },
  {
   "cell_type": "markdown",
   "id": "c0ee966f",
   "metadata": {
    "papermill": {
     "duration": 0.007166,
     "end_time": "2022-09-24T11:38:33.172470",
     "exception": false,
     "start_time": "2022-09-24T11:38:33.165304",
     "status": "completed"
    },
    "tags": []
   },
   "source": [
    "# Explore Data"
   ]
  },
  {
   "cell_type": "code",
   "execution_count": 2,
   "id": "37a3bac3",
   "metadata": {
    "execution": {
     "iopub.execute_input": "2022-09-24T11:38:33.189911Z",
     "iopub.status.busy": "2022-09-24T11:38:33.189418Z",
     "iopub.status.idle": "2022-09-24T11:38:33.221521Z",
     "shell.execute_reply": "2022-09-24T11:38:33.220535Z"
    },
    "papermill": {
     "duration": 0.04432,
     "end_time": "2022-09-24T11:38:33.224530",
     "exception": false,
     "start_time": "2022-09-24T11:38:33.180210",
     "status": "completed"
    },
    "tags": []
   },
   "outputs": [],
   "source": [
    "data = pd.read_csv(\"../input/heart-data/heart.csv\")"
   ]
  },
  {
   "cell_type": "code",
   "execution_count": 3,
   "id": "e7fb3839",
   "metadata": {
    "execution": {
     "iopub.execute_input": "2022-09-24T11:38:33.241685Z",
     "iopub.status.busy": "2022-09-24T11:38:33.241210Z",
     "iopub.status.idle": "2022-09-24T11:38:33.251709Z",
     "shell.execute_reply": "2022-09-24T11:38:33.250460Z"
    },
    "papermill": {
     "duration": 0.022306,
     "end_time": "2022-09-24T11:38:33.254256",
     "exception": false,
     "start_time": "2022-09-24T11:38:33.231950",
     "status": "completed"
    },
    "tags": []
   },
   "outputs": [
    {
     "data": {
      "text/plain": [
       "Index(['age', 'sex', 'cp', 'trestbps', 'chol', 'fbs', 'restecg', 'thalach',\n",
       "       'exang', 'oldpeak', 'slope', 'ca', 'thal', 'target'],\n",
       "      dtype='object')"
      ]
     },
     "execution_count": 3,
     "metadata": {},
     "output_type": "execute_result"
    }
   ],
   "source": [
    "data.columns"
   ]
  },
  {
   "cell_type": "code",
   "execution_count": 4,
   "id": "1aff8343",
   "metadata": {
    "execution": {
     "iopub.execute_input": "2022-09-24T11:38:33.271024Z",
     "iopub.status.busy": "2022-09-24T11:38:33.270598Z",
     "iopub.status.idle": "2022-09-24T11:38:33.300310Z",
     "shell.execute_reply": "2022-09-24T11:38:33.298880Z"
    },
    "papermill": {
     "duration": 0.041808,
     "end_time": "2022-09-24T11:38:33.303636",
     "exception": false,
     "start_time": "2022-09-24T11:38:33.261828",
     "status": "completed"
    },
    "tags": []
   },
   "outputs": [
    {
     "data": {
      "text/html": [
       "<div>\n",
       "<style scoped>\n",
       "    .dataframe tbody tr th:only-of-type {\n",
       "        vertical-align: middle;\n",
       "    }\n",
       "\n",
       "    .dataframe tbody tr th {\n",
       "        vertical-align: top;\n",
       "    }\n",
       "\n",
       "    .dataframe thead th {\n",
       "        text-align: right;\n",
       "    }\n",
       "</style>\n",
       "<table border=\"1\" class=\"dataframe\">\n",
       "  <thead>\n",
       "    <tr style=\"text-align: right;\">\n",
       "      <th></th>\n",
       "      <th>age</th>\n",
       "      <th>sex</th>\n",
       "      <th>cp</th>\n",
       "      <th>trestbps</th>\n",
       "      <th>chol</th>\n",
       "      <th>fbs</th>\n",
       "      <th>restecg</th>\n",
       "      <th>thalach</th>\n",
       "      <th>exang</th>\n",
       "      <th>oldpeak</th>\n",
       "      <th>slope</th>\n",
       "      <th>ca</th>\n",
       "      <th>thal</th>\n",
       "      <th>target</th>\n",
       "    </tr>\n",
       "  </thead>\n",
       "  <tbody>\n",
       "    <tr>\n",
       "      <th>0</th>\n",
       "      <td>63</td>\n",
       "      <td>1</td>\n",
       "      <td>3</td>\n",
       "      <td>145</td>\n",
       "      <td>233</td>\n",
       "      <td>1</td>\n",
       "      <td>0</td>\n",
       "      <td>150</td>\n",
       "      <td>0</td>\n",
       "      <td>2.3</td>\n",
       "      <td>0</td>\n",
       "      <td>0</td>\n",
       "      <td>1</td>\n",
       "      <td>1</td>\n",
       "    </tr>\n",
       "    <tr>\n",
       "      <th>1</th>\n",
       "      <td>37</td>\n",
       "      <td>1</td>\n",
       "      <td>2</td>\n",
       "      <td>130</td>\n",
       "      <td>250</td>\n",
       "      <td>0</td>\n",
       "      <td>1</td>\n",
       "      <td>187</td>\n",
       "      <td>0</td>\n",
       "      <td>3.5</td>\n",
       "      <td>0</td>\n",
       "      <td>0</td>\n",
       "      <td>2</td>\n",
       "      <td>1</td>\n",
       "    </tr>\n",
       "    <tr>\n",
       "      <th>2</th>\n",
       "      <td>41</td>\n",
       "      <td>0</td>\n",
       "      <td>1</td>\n",
       "      <td>130</td>\n",
       "      <td>204</td>\n",
       "      <td>0</td>\n",
       "      <td>0</td>\n",
       "      <td>172</td>\n",
       "      <td>0</td>\n",
       "      <td>1.4</td>\n",
       "      <td>2</td>\n",
       "      <td>0</td>\n",
       "      <td>2</td>\n",
       "      <td>1</td>\n",
       "    </tr>\n",
       "    <tr>\n",
       "      <th>3</th>\n",
       "      <td>56</td>\n",
       "      <td>1</td>\n",
       "      <td>1</td>\n",
       "      <td>120</td>\n",
       "      <td>236</td>\n",
       "      <td>0</td>\n",
       "      <td>1</td>\n",
       "      <td>178</td>\n",
       "      <td>0</td>\n",
       "      <td>0.8</td>\n",
       "      <td>2</td>\n",
       "      <td>0</td>\n",
       "      <td>2</td>\n",
       "      <td>1</td>\n",
       "    </tr>\n",
       "    <tr>\n",
       "      <th>4</th>\n",
       "      <td>57</td>\n",
       "      <td>0</td>\n",
       "      <td>0</td>\n",
       "      <td>120</td>\n",
       "      <td>354</td>\n",
       "      <td>0</td>\n",
       "      <td>1</td>\n",
       "      <td>163</td>\n",
       "      <td>1</td>\n",
       "      <td>0.6</td>\n",
       "      <td>2</td>\n",
       "      <td>0</td>\n",
       "      <td>2</td>\n",
       "      <td>1</td>\n",
       "    </tr>\n",
       "  </tbody>\n",
       "</table>\n",
       "</div>"
      ],
      "text/plain": [
       "   age  sex  cp  trestbps  chol  fbs  restecg  thalach  exang  oldpeak  slope  \\\n",
       "0   63    1   3       145   233    1        0      150      0      2.3      0   \n",
       "1   37    1   2       130   250    0        1      187      0      3.5      0   \n",
       "2   41    0   1       130   204    0        0      172      0      1.4      2   \n",
       "3   56    1   1       120   236    0        1      178      0      0.8      2   \n",
       "4   57    0   0       120   354    0        1      163      1      0.6      2   \n",
       "\n",
       "   ca  thal  target  \n",
       "0   0     1       1  \n",
       "1   0     2       1  \n",
       "2   0     2       1  \n",
       "3   0     2       1  \n",
       "4   0     2       1  "
      ]
     },
     "execution_count": 4,
     "metadata": {},
     "output_type": "execute_result"
    }
   ],
   "source": [
    "data.head()"
   ]
  },
  {
   "cell_type": "code",
   "execution_count": 5,
   "id": "d473d8f0",
   "metadata": {
    "execution": {
     "iopub.execute_input": "2022-09-24T11:38:33.322462Z",
     "iopub.status.busy": "2022-09-24T11:38:33.321801Z",
     "iopub.status.idle": "2022-09-24T11:38:33.350593Z",
     "shell.execute_reply": "2022-09-24T11:38:33.348636Z"
    },
    "papermill": {
     "duration": 0.041411,
     "end_time": "2022-09-24T11:38:33.353551",
     "exception": false,
     "start_time": "2022-09-24T11:38:33.312140",
     "status": "completed"
    },
    "tags": []
   },
   "outputs": [
    {
     "name": "stdout",
     "output_type": "stream",
     "text": [
      "<class 'pandas.core.frame.DataFrame'>\n",
      "RangeIndex: 303 entries, 0 to 302\n",
      "Data columns (total 14 columns):\n",
      " #   Column    Non-Null Count  Dtype  \n",
      "---  ------    --------------  -----  \n",
      " 0   age       303 non-null    int64  \n",
      " 1   sex       303 non-null    int64  \n",
      " 2   cp        303 non-null    int64  \n",
      " 3   trestbps  303 non-null    int64  \n",
      " 4   chol      303 non-null    int64  \n",
      " 5   fbs       303 non-null    int64  \n",
      " 6   restecg   303 non-null    int64  \n",
      " 7   thalach   303 non-null    int64  \n",
      " 8   exang     303 non-null    int64  \n",
      " 9   oldpeak   303 non-null    float64\n",
      " 10  slope     303 non-null    int64  \n",
      " 11  ca        303 non-null    int64  \n",
      " 12  thal      303 non-null    int64  \n",
      " 13  target    303 non-null    int64  \n",
      "dtypes: float64(1), int64(13)\n",
      "memory usage: 33.3 KB\n"
     ]
    }
   ],
   "source": [
    "data.info()"
   ]
  },
  {
   "cell_type": "code",
   "execution_count": 6,
   "id": "0b202f70",
   "metadata": {
    "execution": {
     "iopub.execute_input": "2022-09-24T11:38:33.373243Z",
     "iopub.status.busy": "2022-09-24T11:38:33.372852Z",
     "iopub.status.idle": "2022-09-24T11:38:33.380612Z",
     "shell.execute_reply": "2022-09-24T11:38:33.379244Z"
    },
    "papermill": {
     "duration": 0.021035,
     "end_time": "2022-09-24T11:38:33.383437",
     "exception": false,
     "start_time": "2022-09-24T11:38:33.362402",
     "status": "completed"
    },
    "tags": []
   },
   "outputs": [
    {
     "data": {
      "text/plain": [
       "(303, 14)"
      ]
     },
     "execution_count": 6,
     "metadata": {},
     "output_type": "execute_result"
    }
   ],
   "source": [
    "data.shape"
   ]
  },
  {
   "cell_type": "markdown",
   "id": "c02d6fd8",
   "metadata": {
    "papermill": {
     "duration": 0.007105,
     "end_time": "2022-09-24T11:38:33.399805",
     "exception": false,
     "start_time": "2022-09-24T11:38:33.392700",
     "status": "completed"
    },
    "tags": []
   },
   "source": [
    "Conclusions:\n",
    "* All the data is nemerical\n",
    "* There is no null data point ( all 303 rows of each column has a value)"
   ]
  },
  {
   "cell_type": "markdown",
   "id": "66b9719c",
   "metadata": {
    "papermill": {
     "duration": 0.007135,
     "end_time": "2022-09-24T11:38:33.414272",
     "exception": false,
     "start_time": "2022-09-24T11:38:33.407137",
     "status": "completed"
    },
    "tags": []
   },
   "source": [
    "# Split Train Test"
   ]
  },
  {
   "cell_type": "code",
   "execution_count": 7,
   "id": "9e4e316a",
   "metadata": {
    "execution": {
     "iopub.execute_input": "2022-09-24T11:38:33.432180Z",
     "iopub.status.busy": "2022-09-24T11:38:33.431695Z",
     "iopub.status.idle": "2022-09-24T11:38:34.628132Z",
     "shell.execute_reply": "2022-09-24T11:38:34.626954Z"
    },
    "papermill": {
     "duration": 1.208772,
     "end_time": "2022-09-24T11:38:34.630829",
     "exception": false,
     "start_time": "2022-09-24T11:38:33.422057",
     "status": "completed"
    },
    "tags": []
   },
   "outputs": [],
   "source": [
    "from sklearn.model_selection import train_test_split"
   ]
  },
  {
   "cell_type": "code",
   "execution_count": 8,
   "id": "0164e279",
   "metadata": {
    "execution": {
     "iopub.execute_input": "2022-09-24T11:38:34.648044Z",
     "iopub.status.busy": "2022-09-24T11:38:34.647376Z",
     "iopub.status.idle": "2022-09-24T11:38:34.655477Z",
     "shell.execute_reply": "2022-09-24T11:38:34.654623Z"
    },
    "papermill": {
     "duration": 0.01925,
     "end_time": "2022-09-24T11:38:34.657778",
     "exception": false,
     "start_time": "2022-09-24T11:38:34.638528",
     "status": "completed"
    },
    "tags": []
   },
   "outputs": [],
   "source": [
    "X = data.iloc[:,:-1].values\n",
    "y = data.iloc[:,-1].values"
   ]
  },
  {
   "cell_type": "code",
   "execution_count": 9,
   "id": "d02e30ea",
   "metadata": {
    "execution": {
     "iopub.execute_input": "2022-09-24T11:38:34.675293Z",
     "iopub.status.busy": "2022-09-24T11:38:34.674661Z",
     "iopub.status.idle": "2022-09-24T11:38:34.682700Z",
     "shell.execute_reply": "2022-09-24T11:38:34.681468Z"
    },
    "papermill": {
     "duration": 0.01937,
     "end_time": "2022-09-24T11:38:34.685007",
     "exception": false,
     "start_time": "2022-09-24T11:38:34.665637",
     "status": "completed"
    },
    "tags": []
   },
   "outputs": [
    {
     "data": {
      "text/plain": [
       "array([[63.,  1.,  3., ...,  0.,  0.,  1.],\n",
       "       [37.,  1.,  2., ...,  0.,  0.,  2.],\n",
       "       [41.,  0.,  1., ...,  2.,  0.,  2.],\n",
       "       ...,\n",
       "       [68.,  1.,  0., ...,  1.,  2.,  3.],\n",
       "       [57.,  1.,  0., ...,  1.,  1.,  3.],\n",
       "       [57.,  0.,  1., ...,  1.,  1.,  2.]])"
      ]
     },
     "execution_count": 9,
     "metadata": {},
     "output_type": "execute_result"
    }
   ],
   "source": [
    "X"
   ]
  },
  {
   "cell_type": "code",
   "execution_count": 10,
   "id": "cfdbbd4b",
   "metadata": {
    "execution": {
     "iopub.execute_input": "2022-09-24T11:38:34.704248Z",
     "iopub.status.busy": "2022-09-24T11:38:34.703532Z",
     "iopub.status.idle": "2022-09-24T11:38:34.711765Z",
     "shell.execute_reply": "2022-09-24T11:38:34.710908Z"
    },
    "papermill": {
     "duration": 0.020432,
     "end_time": "2022-09-24T11:38:34.714028",
     "exception": false,
     "start_time": "2022-09-24T11:38:34.693596",
     "status": "completed"
    },
    "tags": []
   },
   "outputs": [
    {
     "data": {
      "text/plain": [
       "array([1, 1, 1, 1, 1, 1, 1, 1, 1, 1, 1, 1, 1, 1, 1, 1, 1, 1, 1, 1, 1, 1,\n",
       "       1, 1, 1, 1, 1, 1, 1, 1, 1, 1, 1, 1, 1, 1, 1, 1, 1, 1, 1, 1, 1, 1,\n",
       "       1, 1, 1, 1, 1, 1, 1, 1, 1, 1, 1, 1, 1, 1, 1, 1, 1, 1, 1, 1, 1, 1,\n",
       "       1, 1, 1, 1, 1, 1, 1, 1, 1, 1, 1, 1, 1, 1, 1, 1, 1, 1, 1, 1, 1, 1,\n",
       "       1, 1, 1, 1, 1, 1, 1, 1, 1, 1, 1, 1, 1, 1, 1, 1, 1, 1, 1, 1, 1, 1,\n",
       "       1, 1, 1, 1, 1, 1, 1, 1, 1, 1, 1, 1, 1, 1, 1, 1, 1, 1, 1, 1, 1, 1,\n",
       "       1, 1, 1, 1, 1, 1, 1, 1, 1, 1, 1, 1, 1, 1, 1, 1, 1, 1, 1, 1, 1, 1,\n",
       "       1, 1, 1, 1, 1, 1, 1, 1, 1, 1, 1, 0, 0, 0, 0, 0, 0, 0, 0, 0, 0, 0,\n",
       "       0, 0, 0, 0, 0, 0, 0, 0, 0, 0, 0, 0, 0, 0, 0, 0, 0, 0, 0, 0, 0, 0,\n",
       "       0, 0, 0, 0, 0, 0, 0, 0, 0, 0, 0, 0, 0, 0, 0, 0, 0, 0, 0, 0, 0, 0,\n",
       "       0, 0, 0, 0, 0, 0, 0, 0, 0, 0, 0, 0, 0, 0, 0, 0, 0, 0, 0, 0, 0, 0,\n",
       "       0, 0, 0, 0, 0, 0, 0, 0, 0, 0, 0, 0, 0, 0, 0, 0, 0, 0, 0, 0, 0, 0,\n",
       "       0, 0, 0, 0, 0, 0, 0, 0, 0, 0, 0, 0, 0, 0, 0, 0, 0, 0, 0, 0, 0, 0,\n",
       "       0, 0, 0, 0, 0, 0, 0, 0, 0, 0, 0, 0, 0, 0, 0, 0, 0])"
      ]
     },
     "execution_count": 10,
     "metadata": {},
     "output_type": "execute_result"
    }
   ],
   "source": [
    "y"
   ]
  },
  {
   "cell_type": "code",
   "execution_count": 11,
   "id": "bff4b301",
   "metadata": {
    "execution": {
     "iopub.execute_input": "2022-09-24T11:38:34.732394Z",
     "iopub.status.busy": "2022-09-24T11:38:34.731767Z",
     "iopub.status.idle": "2022-09-24T11:38:34.738169Z",
     "shell.execute_reply": "2022-09-24T11:38:34.737248Z"
    },
    "papermill": {
     "duration": 0.018106,
     "end_time": "2022-09-24T11:38:34.740303",
     "exception": false,
     "start_time": "2022-09-24T11:38:34.722197",
     "status": "completed"
    },
    "tags": []
   },
   "outputs": [],
   "source": [
    "X_train, X_test, y_train, y_test = train_test_split(X, y, test_size=0.33, random_state=42)"
   ]
  },
  {
   "cell_type": "markdown",
   "id": "9e4de2dd",
   "metadata": {
    "papermill": {
     "duration": 0.007443,
     "end_time": "2022-09-24T11:38:34.755524",
     "exception": false,
     "start_time": "2022-09-24T11:38:34.748081",
     "status": "completed"
    },
    "tags": []
   },
   "source": [
    "# The Model"
   ]
  },
  {
   "cell_type": "markdown",
   "id": "491f5af5",
   "metadata": {
    "papermill": {
     "duration": 0.007315,
     "end_time": "2022-09-24T11:38:34.770553",
     "exception": false,
     "start_time": "2022-09-24T11:38:34.763238",
     "status": "completed"
    },
    "tags": []
   },
   "source": [
    "To decide the type of model we use, we should first check the type of output"
   ]
  },
  {
   "cell_type": "code",
   "execution_count": 12,
   "id": "e374b4b5",
   "metadata": {
    "execution": {
     "iopub.execute_input": "2022-09-24T11:38:34.788806Z",
     "iopub.status.busy": "2022-09-24T11:38:34.787503Z",
     "iopub.status.idle": "2022-09-24T11:38:34.795469Z",
     "shell.execute_reply": "2022-09-24T11:38:34.794307Z"
    },
    "papermill": {
     "duration": 0.020232,
     "end_time": "2022-09-24T11:38:34.798435",
     "exception": false,
     "start_time": "2022-09-24T11:38:34.778203",
     "status": "completed"
    },
    "tags": []
   },
   "outputs": [
    {
     "data": {
      "text/plain": [
       "{0, 1}"
      ]
     },
     "execution_count": 12,
     "metadata": {},
     "output_type": "execute_result"
    }
   ],
   "source": [
    "set(y)"
   ]
  },
  {
   "cell_type": "markdown",
   "id": "f14b8edd",
   "metadata": {
    "papermill": {
     "duration": 0.008127,
     "end_time": "2022-09-24T11:38:34.815089",
     "exception": false,
     "start_time": "2022-09-24T11:38:34.806962",
     "status": "completed"
    },
    "tags": []
   },
   "source": [
    "This problem is a binary classification, let's use LogisticRegression"
   ]
  },
  {
   "cell_type": "code",
   "execution_count": 13,
   "id": "e44913f8",
   "metadata": {
    "execution": {
     "iopub.execute_input": "2022-09-24T11:38:34.833378Z",
     "iopub.status.busy": "2022-09-24T11:38:34.832233Z",
     "iopub.status.idle": "2022-09-24T11:38:34.923069Z",
     "shell.execute_reply": "2022-09-24T11:38:34.921865Z"
    },
    "papermill": {
     "duration": 0.10272,
     "end_time": "2022-09-24T11:38:34.925855",
     "exception": false,
     "start_time": "2022-09-24T11:38:34.823135",
     "status": "completed"
    },
    "tags": []
   },
   "outputs": [],
   "source": [
    "from sklearn.linear_model import LogisticRegression"
   ]
  },
  {
   "cell_type": "code",
   "execution_count": 14,
   "id": "5ee92b1b",
   "metadata": {
    "execution": {
     "iopub.execute_input": "2022-09-24T11:38:34.943376Z",
     "iopub.status.busy": "2022-09-24T11:38:34.942992Z",
     "iopub.status.idle": "2022-09-24T11:38:34.948607Z",
     "shell.execute_reply": "2022-09-24T11:38:34.947371Z"
    },
    "papermill": {
     "duration": 0.017246,
     "end_time": "2022-09-24T11:38:34.950958",
     "exception": false,
     "start_time": "2022-09-24T11:38:34.933712",
     "status": "completed"
    },
    "tags": []
   },
   "outputs": [],
   "source": [
    "reg = LogisticRegression()"
   ]
  },
  {
   "cell_type": "code",
   "execution_count": 15,
   "id": "3459b79e",
   "metadata": {
    "execution": {
     "iopub.execute_input": "2022-09-24T11:38:34.969336Z",
     "iopub.status.busy": "2022-09-24T11:38:34.968797Z",
     "iopub.status.idle": "2022-09-24T11:38:34.975418Z",
     "shell.execute_reply": "2022-09-24T11:38:34.974635Z"
    },
    "papermill": {
     "duration": 0.018844,
     "end_time": "2022-09-24T11:38:34.978039",
     "exception": false,
     "start_time": "2022-09-24T11:38:34.959195",
     "status": "completed"
    },
    "tags": []
   },
   "outputs": [],
   "source": [
    "from sklearn import preprocessing\n",
    "scaler = preprocessing.StandardScaler().fit(X_train)\n",
    "X_scaled = scaler.transform(X_train)"
   ]
  },
  {
   "cell_type": "code",
   "execution_count": 16,
   "id": "8f26414f",
   "metadata": {
    "execution": {
     "iopub.execute_input": "2022-09-24T11:38:34.997897Z",
     "iopub.status.busy": "2022-09-24T11:38:34.996679Z",
     "iopub.status.idle": "2022-09-24T11:38:35.018897Z",
     "shell.execute_reply": "2022-09-24T11:38:35.017669Z"
    },
    "papermill": {
     "duration": 0.034535,
     "end_time": "2022-09-24T11:38:35.021294",
     "exception": false,
     "start_time": "2022-09-24T11:38:34.986759",
     "status": "completed"
    },
    "tags": []
   },
   "outputs": [
    {
     "data": {
      "text/plain": [
       "LogisticRegression()"
      ]
     },
     "execution_count": 16,
     "metadata": {},
     "output_type": "execute_result"
    }
   ],
   "source": [
    "\n",
    "reg.fit(X_scaled, y_train)"
   ]
  },
  {
   "cell_type": "code",
   "execution_count": 17,
   "id": "54beeaba",
   "metadata": {
    "execution": {
     "iopub.execute_input": "2022-09-24T11:38:35.041394Z",
     "iopub.status.busy": "2022-09-24T11:38:35.040183Z",
     "iopub.status.idle": "2022-09-24T11:38:35.047382Z",
     "shell.execute_reply": "2022-09-24T11:38:35.046405Z"
    },
    "papermill": {
     "duration": 0.019742,
     "end_time": "2022-09-24T11:38:35.049713",
     "exception": false,
     "start_time": "2022-09-24T11:38:35.029971",
     "status": "completed"
    },
    "tags": []
   },
   "outputs": [
    {
     "data": {
      "text/plain": [
       "array([[ 0.16398782, -0.62257459,  0.93569068, -0.13829519, -0.08243793,\n",
       "         0.09158781,  0.30070315,  0.36688628, -0.52204557, -0.46760167,\n",
       "         0.56726011, -1.33780127, -0.77941493]])"
      ]
     },
     "execution_count": 17,
     "metadata": {},
     "output_type": "execute_result"
    }
   ],
   "source": [
    "reg.coef_"
   ]
  },
  {
   "cell_type": "markdown",
   "id": "e1974480",
   "metadata": {
    "papermill": {
     "duration": 0.008189,
     "end_time": "2022-09-24T11:38:35.066665",
     "exception": false,
     "start_time": "2022-09-24T11:38:35.058476",
     "status": "completed"
    },
    "tags": []
   },
   "source": [
    "There are 13 coefs because of the 13 colunms in the training set"
   ]
  },
  {
   "cell_type": "code",
   "execution_count": 18,
   "id": "e7ee2d66",
   "metadata": {
    "execution": {
     "iopub.execute_input": "2022-09-24T11:38:35.085594Z",
     "iopub.status.busy": "2022-09-24T11:38:35.084979Z",
     "iopub.status.idle": "2022-09-24T11:38:35.089395Z",
     "shell.execute_reply": "2022-09-24T11:38:35.088592Z"
    },
    "papermill": {
     "duration": 0.016457,
     "end_time": "2022-09-24T11:38:35.091616",
     "exception": false,
     "start_time": "2022-09-24T11:38:35.075159",
     "status": "completed"
    },
    "tags": []
   },
   "outputs": [],
   "source": [
    "y_pred = reg.predict(X_test)"
   ]
  },
  {
   "cell_type": "markdown",
   "id": "397b5a24",
   "metadata": {
    "papermill": {
     "duration": 0.008154,
     "end_time": "2022-09-24T11:38:35.108341",
     "exception": false,
     "start_time": "2022-09-24T11:38:35.100187",
     "status": "completed"
    },
    "tags": []
   },
   "source": [
    "# Results"
   ]
  },
  {
   "cell_type": "code",
   "execution_count": 19,
   "id": "0ae1ffe8",
   "metadata": {
    "execution": {
     "iopub.execute_input": "2022-09-24T11:38:35.126864Z",
     "iopub.status.busy": "2022-09-24T11:38:35.126406Z",
     "iopub.status.idle": "2022-09-24T11:38:35.321293Z",
     "shell.execute_reply": "2022-09-24T11:38:35.320184Z"
    },
    "papermill": {
     "duration": 0.20748,
     "end_time": "2022-09-24T11:38:35.324241",
     "exception": false,
     "start_time": "2022-09-24T11:38:35.116761",
     "status": "completed"
    },
    "tags": []
   },
   "outputs": [],
   "source": [
    "import seaborn as sns\n",
    "def confusion_matrix(y_test, y_pred):\n",
    "    confusion_matrix = pd.crosstab(y_test, y_pred, rownames=['Actual'], colnames=['Predicted'])\n",
    "    sns.heatmap(confusion_matrix, annot=True)"
   ]
  },
  {
   "cell_type": "code",
   "execution_count": 20,
   "id": "600ce76d",
   "metadata": {
    "execution": {
     "iopub.execute_input": "2022-09-24T11:38:35.344639Z",
     "iopub.status.busy": "2022-09-24T11:38:35.344197Z",
     "iopub.status.idle": "2022-09-24T11:38:35.352074Z",
     "shell.execute_reply": "2022-09-24T11:38:35.350679Z"
    },
    "papermill": {
     "duration": 0.02118,
     "end_time": "2022-09-24T11:38:35.354776",
     "exception": false,
     "start_time": "2022-09-24T11:38:35.333596",
     "status": "completed"
    },
    "tags": []
   },
   "outputs": [
    {
     "data": {
      "text/plain": [
       "array([1, 1, 1, 1, 1, 1, 1, 0, 1, 1, 1, 1, 1, 1, 1, 1, 1, 1, 1, 1, 1, 1,\n",
       "       0, 1, 1, 1, 1, 1, 1, 1, 1, 1, 1, 1, 1, 1, 1, 1, 1, 1, 1, 1, 1, 1,\n",
       "       1, 1, 1, 1, 1, 1, 1, 1, 1, 1, 1, 1, 1, 1, 1, 1, 1, 1, 1, 1, 1, 1,\n",
       "       1, 1, 1, 1, 1, 1, 1, 1, 1, 1, 1, 1, 1, 1, 1, 1, 1, 1, 1, 1, 1, 1,\n",
       "       1, 1, 1, 1, 1, 1, 1, 1, 1, 1, 1, 1])"
      ]
     },
     "execution_count": 20,
     "metadata": {},
     "output_type": "execute_result"
    }
   ],
   "source": [
    "y_pred"
   ]
  },
  {
   "cell_type": "code",
   "execution_count": 21,
   "id": "e3c1e536",
   "metadata": {
    "execution": {
     "iopub.execute_input": "2022-09-24T11:38:35.373053Z",
     "iopub.status.busy": "2022-09-24T11:38:35.372657Z",
     "iopub.status.idle": "2022-09-24T11:38:35.671224Z",
     "shell.execute_reply": "2022-09-24T11:38:35.670145Z"
    },
    "papermill": {
     "duration": 0.310578,
     "end_time": "2022-09-24T11:38:35.673694",
     "exception": false,
     "start_time": "2022-09-24T11:38:35.363116",
     "status": "completed"
    },
    "tags": []
   },
   "outputs": [
    {
     "data": {
      "image/png": "[encoded data removed]",
      "text/plain": [
       "<Figure size 432x288 with 2 Axes>"
      ]
     },
     "metadata": {
      "needs_background": "light"
     },
     "output_type": "display_data"
    }
   ],
   "source": [
    "confusion_matrix(y_test, y_pred)"
   ]
  },
  {
   "cell_type": "code",
   "execution_count": 22,
   "id": "f12d6294",
   "metadata": {
    "execution": {
     "iopub.execute_input": "2022-09-24T11:38:35.694425Z",
     "iopub.status.busy": "2022-09-24T11:38:35.693159Z",
     "iopub.status.idle": "2022-09-24T11:38:35.701424Z",
     "shell.execute_reply": "2022-09-24T11:38:35.700135Z"
    },
    "papermill": {
     "duration": 0.020994,
     "end_time": "2022-09-24T11:38:35.703806",
     "exception": false,
     "start_time": "2022-09-24T11:38:35.682812",
     "status": "completed"
    },
    "tags": []
   },
   "outputs": [
    {
     "name": "stdout",
     "output_type": "stream",
     "text": [
      "Accuracy=0.60\n"
     ]
    }
   ],
   "source": [
    "print(\"Accuracy={:.2f}\".format(reg.score(X_test, y_test)))"
   ]
  },
  {
   "cell_type": "code",
   "execution_count": null,
   "id": "3e61e483",
   "metadata": {
    "papermill": {
     "duration": 0.009026,
     "end_time": "2022-09-24T11:38:35.721943",
     "exception": false,
     "start_time": "2022-09-24T11:38:35.712917",
     "status": "completed"
    },
    "tags": []
   },
   "outputs": [],
   "source": []
  }
 ],
 "metadata": {
  "kernelspec": {
   "display_name": "Python 3",
   "language": "python",
   "name": "python3"
  },
  "language_info": {
   "codemirror_mode": {
    "name": "ipython",
    "version": 3
   },
   "file_extension": ".py",
   "mimetype": "text/x-python",
   "name": "python",
   "nbconvert_exporter": "python",
   "pygments_lexer": "ipython3",
   "version": "3.7.12"
  },
  "papermill": {
   "default_parameters": {},
   "duration": 14.382035,
   "end_time": "2022-09-24T11:38:36.553287",
   "environment_variables": {},
   "exception": null,
   "input_path": "__notebook__.ipynb",
   "output_path": "__notebook__.ipynb",
   "parameters": {},
   "start_time": "2022-09-24T11:38:22.171252",
   "version": "2.3.4"
  }
 },
 "nbformat": 4,
 "nbformat_minor": 5
}
