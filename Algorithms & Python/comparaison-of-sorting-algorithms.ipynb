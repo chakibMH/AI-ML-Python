{
 "cells": [
  {
   "cell_type": "markdown",
   "id": "1e15f515",
   "metadata": {
    "_cell_guid": "b1076dfc-b9ad-4769-8c92-a6c4dae69d19",
    "_uuid": "8f2839f25d086af736a60e9eeb907d3b93b6e0e5",
    "execution": {
     "iopub.execute_input": "2024-06-19T11:57:01.069880Z",
     "iopub.status.busy": "2024-06-19T11:57:01.069543Z",
     "iopub.status.idle": "2024-06-19T11:57:01.090194Z",
     "shell.execute_reply": "2024-06-19T11:57:01.088967Z",
     "shell.execute_reply.started": "2024-06-19T11:57:01.069855Z"
    },
    "papermill": {
     "duration": 0.007989,
     "end_time": "2024-06-25T14:55:50.300891",
     "exception": false,
     "start_time": "2024-06-25T14:55:50.292902",
     "status": "completed"
    },
    "tags": []
   },
   "source": [
    "\n",
    "\n",
    "## 1. : What is Sorting?\n",
    "\n",
    "Sorting is the process of arranging data in a particular order, often in ascending or descending order. This order can be numerical, lexicographical (alphabetical), or based on some other criteria. Sorting is a fundamental operation in computer science because it optimizes the performance of other algorithms (like search and merge algorithms) that require sorted data to function efficiently.\n",
    "\n",
    "In this section, we will explore various sorting algorithms, understand their theoretical underpinnings, classify them into different types, and discuss their practical applications. By the end of this section, you'll have a comprehensive understanding of how sorting works, the various methods used, and where these methods are applied in the real world.\n",
    "\n",
    "## 2. Theoretical Concepts for Sorting Algorithms\n",
    "\n",
    "Before diving into specific algorithms, it's essential to grasp the key theoretical concepts that underpin sorting algorithms:\n",
    "\n",
    "### Time Complexity\n",
    "Time complexity measures the amount of time an algorithm takes to complete as a function of the size of the input. It's often expressed using Big O notation (e.g., O(n), O(n log n), O(n²)). Sorting algorithms are evaluated based on their worst-case, average-case, and best-case time complexities.\n",
    "\n",
    "### Space Complexity\n",
    "Space complexity measures the amount of memory an algorithm uses relative to the size of the input. This can include the memory needed to store the input data, additional temporary storage, and the memory required by the algorithm itself.\n",
    "\n",
    "### Stability\n",
    "A sorting algorithm is stable if it preserves the relative order of equal elements in the sorted output as they appeared in the input. Stability is crucial for certain applications, such as sorting records by multiple fields.\n",
    "\n",
    "### Internal vs. External Sorting\n",
    "- **Internal Sorting**: All data to be sorted is in the main memory. Common algorithms include Quick Sort, Merge Sort, and Bubble Sort.\n",
    "- **External Sorting**: Used when data is too large to fit into memory and requires external storage (e.g., disk). Algorithms like External Merge Sort are used in this case.\n",
    "\n",
    "### Comparison-based vs. Non-comparison-based Sorting\n",
    "- **Comparison-based Sorting**: Elements are ordered based on comparisons (e.g., Quick Sort, Merge Sort, Heap Sort).\n",
    "- **Non-comparison-based Sorting**: Elements are ordered using operations other than comparisons (e.g., Counting Sort, Radix Sort, Bucket Sort).\n",
    "\n",
    "## 3. Types of Sorting Algorithms\n",
    "\n",
    "There are several types of sorting algorithms, each with its unique characteristics and use cases. Here are some of the most commonly used ones:\n",
    "\n",
    "### Simple Sorting Algorithms\n",
    "- **Bubble Sort**: Repeatedly steps through the list, compares adjacent elements, and swaps them if they are in the wrong order. It has a time complexity of O(n²).\n",
    "- **Insertion Sort**: Builds the final sorted array one item at a time, with an average and worst-case time complexity of O(n²).\n",
    "- **Selection Sort**: divides the list into a sorted and an unsorted region. It repeatedly selects the smallest (or largest, depending on the sorting order) element from the unsorted region and moves it to the end of the sorted region. It has a time complexity of O(n²).\n",
    "\n",
    "\n",
    "### Efficient Sorting Algorithms\n",
    "- **Quick Sort**: Divides the list into smaller sub-lists (partitions) and then sorts them. It has an average time complexity of O(n log n) but a worst-case time complexity of O(n²).\n",
    "- **Merge Sort**: Divides the list into halves, recursively sorts them, and then merges the sorted halves. It has a consistent time complexity of O(n log n).\n",
    "- **Heap Sort**: Converts the list into a heap data structure and then repeatedly extracts the maximum element to build the sorted list. It has a time complexity of O(n log n).\n",
    "\n",
    "### Non-comparison-based Sorting Algorithms\n",
    "- **Counting Sort**: Counts the number of occurrences of each distinct element and uses this information to place elements in the correct position. It has a time complexity of O(n + k), where k is the range of the input.\n",
    "- **Radix Sort**: Sorts numbers digit by digit, starting from the least significant digit to the most significant digit. It has a time complexity of O(d*(n + k)), where d is the number of digits.\n",
    "- **Bucket Sort**: Distributes elements into buckets, sorts each bucket, and then concatenates the buckets. It has an average time complexity of O(n + k).\n",
    "\n",
    "## 4. Application of Sorting Algorithms\n",
    "\n",
    "Sorting algorithms are ubiquitous in computer science and are applied in various domains:\n",
    "\n",
    "### Databases\n",
    "Sorting is essential in database management systems for efficient query processing, indexing, and ordering of records.\n",
    "\n",
    "### Searching Algorithms\n",
    "Many searching algorithms, like binary search, require sorted data to function correctly. Efficient sorting can significantly enhance search performance.\n",
    "\n",
    "### Data Analysis\n",
    "In data analytics, sorting is used to organize data for better visualization, statistical analysis, and pattern recognition.\n",
    "\n",
    "### Networking\n",
    "Sorting algorithms help in optimizing routing and managing network traffic by organizing data packets based on priority.\n",
    "\n",
    "### Computational Biology\n",
    "Sorting is used in genomics for tasks like DNA sequence analysis, where the arrangement of sequences can reveal significant biological insights.\n",
    "\n",
    "### Graphics\n",
    "In computer graphics, sorting is used in algorithms for rendering scenes, such as depth-sorting for determining the visibility of objects.\n",
    "\n",
    "### E-commerce\n",
    "Sorting algorithms are used to display products based on various criteria like price, popularity, or ratings, enhancing the user experience.\n",
    "\n",
    "## Importance of Sorting Algorithms for Data Scientists\n",
    "\n",
    "For data scientists, understanding sorting algorithms is crucial for several reasons:\n",
    "\n",
    "1. **Data Preprocessing**: Sorting is a common step in data preprocessing, helping to clean and organize data before analysis.\n",
    "2. **Optimization**: Efficient sorting algorithms can significantly speed up data retrieval and manipulation, which is critical when working with large datasets.\n",
    "3. **Algorithm Efficiency**: Many machine learning algorithms and statistical methods perform better on sorted data, and some require sorted data as input.\n",
    "4. **Insight Extraction**: Sorting data can help in the visualization and extraction of insights, making patterns and trends more apparent.\n",
    "5. **Integration with Other Algorithms**: Sorting is often a preliminary step in more complex algorithms used for data mining, search, and optimization tasks.\n",
    "\n",
    "By mastering sorting algorithms, data scientists can enhance their ability to handle large datasets efficiently and derive meaningful insights from data.\n",
    "\n",
    "---\n",
    "\n",
    "By understanding these foundational concepts and applications, you'll be well-equipped to delve deeper into the fascinating world of sorting algorithms. Whether you're optimizing database queries or enhancing search functionality, sorting algorithms are a vital tool in the arsenal of every computer scientist and data scientist.\n"
   ]
  },
  {
   "cell_type": "markdown",
   "id": "18917b6a",
   "metadata": {
    "papermill": {
     "duration": 0.007351,
     "end_time": "2024-06-25T14:55:50.315935",
     "exception": false,
     "start_time": "2024-06-25T14:55:50.308584",
     "status": "completed"
    },
    "tags": []
   },
   "source": [
    "# Practice"
   ]
  },
  {
   "cell_type": "markdown",
   "id": "ab4226bf",
   "metadata": {
    "papermill": {
     "duration": 0.007358,
     "end_time": "2024-06-25T14:55:50.330869",
     "exception": false,
     "start_time": "2024-06-25T14:55:50.323511",
     "status": "completed"
    },
    "tags": []
   },
   "source": [
    "Goal: given a random list of numbers, we aim to sort the list in an ascending order"
   ]
  },
  {
   "cell_type": "markdown",
   "id": "76491ce7",
   "metadata": {
    "papermill": {
     "duration": 0.007759,
     "end_time": "2024-06-25T14:55:50.346155",
     "exception": false,
     "start_time": "2024-06-25T14:55:50.338396",
     "status": "completed"
    },
    "tags": []
   },
   "source": [
    "# Simple Sorting Algorithms"
   ]
  },
  {
   "cell_type": "markdown",
   "id": "e1b3bebb",
   "metadata": {
    "papermill": {
     "duration": 0.007381,
     "end_time": "2024-06-25T14:55:50.361136",
     "exception": false,
     "start_time": "2024-06-25T14:55:50.353755",
     "status": "completed"
    },
    "tags": []
   },
   "source": [
    "The term \"simple sorting algorithms\" refers to sorting algorithms that are conceptually straightforward and relatively easy to implement. These algorithms typically have a few key characteristics:\n",
    "\n",
    "Ease of Understanding: The logic behind these algorithms is usually easy to grasp, making them suitable for teaching and learning the basics of sorting.\n",
    "\n",
    "Simple Implementation: The code for these algorithms is often concise and straightforward, with fewer lines of code compared to more complex algorithms.\n",
    "\n",
    "Brute Force Approach: They often use a brute force approach to sort the elements, which means they might check and compare elements in a direct and straightforward manner without sophisticated optimizations.\n",
    "\n",
    "They a time complexity of O(n²)."
   ]
  },
  {
   "cell_type": "markdown",
   "id": "34f07814",
   "metadata": {
    "papermill": {
     "duration": 0.007307,
     "end_time": "2024-06-25T14:55:50.375980",
     "exception": false,
     "start_time": "2024-06-25T14:55:50.368673",
     "status": "completed"
    },
    "tags": []
   },
   "source": [
    "## Bubble Sort"
   ]
  },
  {
   "cell_type": "markdown",
   "id": "274f1b38",
   "metadata": {
    "papermill": {
     "duration": 0.007636,
     "end_time": "2024-06-25T14:55:50.391117",
     "exception": false,
     "start_time": "2024-06-25T14:55:50.383481",
     "status": "completed"
    },
    "tags": []
   },
   "source": [
    "\n",
    "- **Bubble Sort**: This algorithm repeatedly steps through the list, compares adjacent elements, and swaps them if they are in the wrong order. By doing this, the largest unsorted element \"bubbles up\" to its correct position at the end of the list in each pass. This process is repeated until the entire list is sorted. Imagine pushing the largest element to the end of the list each time, similar to how bubbles rise to the surface in water. It has a time complexity of O(n²).\n"
   ]
  },
  {
   "cell_type": "markdown",
   "id": "513be084",
   "metadata": {
    "papermill": {
     "duration": 0.007504,
     "end_time": "2024-06-25T14:55:50.408639",
     "exception": false,
     "start_time": "2024-06-25T14:55:50.401135",
     "status": "completed"
    },
    "tags": []
   },
   "source": [
    "average and worst-case time complexities being \n",
    "𝑂(𝑛^2), \n",
    "\n",
    "where \n",
    "𝑛 is the number of elements to be sorted. "
   ]
  },
  {
   "cell_type": "code",
   "execution_count": 1,
   "id": "d5d14c43",
   "metadata": {
    "execution": {
     "iopub.execute_input": "2024-06-25T14:55:50.426259Z",
     "iopub.status.busy": "2024-06-25T14:55:50.425858Z",
     "iopub.status.idle": "2024-06-25T14:55:50.438769Z",
     "shell.execute_reply": "2024-06-25T14:55:50.437743Z"
    },
    "papermill": {
     "duration": 0.025106,
     "end_time": "2024-06-25T14:55:50.441381",
     "exception": false,
     "start_time": "2024-06-25T14:55:50.416275",
     "status": "completed"
    },
    "tags": []
   },
   "outputs": [],
   "source": [
    "def BubbleSort(arrIn):\n",
    "    # copy the list, to keep the original one\n",
    "    arr = arrIn.copy()\n",
    "    n = len(arr)\n",
    "    \n",
    "    for i in range(0, n):\n",
    "        for j in range(0, n-1-i):\n",
    "            if arr[j] > arr[j+1]:\n",
    "                # swap\n",
    "                arr[j], arr[j+1] = arr[j+1], arr[j]\n",
    "    return arr"
   ]
  },
  {
   "cell_type": "code",
   "execution_count": 2,
   "id": "225ceb24",
   "metadata": {
    "execution": {
     "iopub.execute_input": "2024-06-25T14:55:50.459285Z",
     "iopub.status.busy": "2024-06-25T14:55:50.458288Z",
     "iopub.status.idle": "2024-06-25T14:55:50.463012Z",
     "shell.execute_reply": "2024-06-25T14:55:50.461992Z"
    },
    "papermill": {
     "duration": 0.016006,
     "end_time": "2024-06-25T14:55:50.465389",
     "exception": false,
     "start_time": "2024-06-25T14:55:50.449383",
     "status": "completed"
    },
    "tags": []
   },
   "outputs": [],
   "source": [
    "import random"
   ]
  },
  {
   "cell_type": "code",
   "execution_count": 3,
   "id": "a05639d5",
   "metadata": {
    "execution": {
     "iopub.execute_input": "2024-06-25T14:55:50.485389Z",
     "iopub.status.busy": "2024-06-25T14:55:50.485021Z",
     "iopub.status.idle": "2024-06-25T14:55:50.491892Z",
     "shell.execute_reply": "2024-06-25T14:55:50.490755Z"
    },
    "papermill": {
     "duration": 0.018939,
     "end_time": "2024-06-25T14:55:50.494257",
     "exception": false,
     "start_time": "2024-06-25T14:55:50.475318",
     "status": "completed"
    },
    "tags": []
   },
   "outputs": [
    {
     "name": "stdout",
     "output_type": "stream",
     "text": [
      "[4325, 2569, 4335, 2724, 349, 1837, 2518, 2709, 3783, 2053, 2819, 1910, 2762, 1109, 4534, 3082, 918, 2496, 1705, 4475, 3964, 4278, 1885, 3621, 3359, 703, 1827, 3960, 1160, 520, 2792, 3516, 4218, 1157, 4166, 2592, 408, 1634, 1350, 3933, 2911, 4839, 1947, 143, 1355, 2260, 3158, 3225, 1237, 2937, 2217, 4054, 1505, 1602, 4430, 3890, 2634, 2116, 2147, 2730, 46, 1020, 2028, 944, 1106, 3277, 3196, 2894, 3073, 4092, 4470, 2516, 4208, 1815, 1980, 2345, 2688, 2403, 379, 1788, 4923, 1454, 2591, 1122, 2116, 4147, 4616, 3832, 2677, 736, 122, 4305, 2852, 4319, 866, 4301, 3933, 1252, 3692, 1523, 1737, 960, 525, 3285, 2188, 1456, 4276, 1698, 3814, 1583, 710, 3839, 4527, 1737, 949, 2543, 4091, 4540, 3497, 2988, 4454, 3614, 2436, 4957, 4422, 4574, 1395, 4577, 3816, 1599, 191, 811, 2774, 3739, 1949, 3707, 4601, 4395, 3635, 2948, 2797, 29, 2411, 29, 2050, 2866, 4689, 1698, 3596, 753, 2848, 153, 4958, 4339, 2744, 1455, 1545, 1150, 2801, 964, 1567, 1358, 4892, 2691, 3156, 268, 4560, 1297, 1644, 945, 1678, 81, 194, 2175, 1617, 3109, 3587, 2857, 2524, 1594, 1042, 4448, 945, 1617, 3274, 2599, 3667, 2598, 3745, 35, 3245, 2871, 692, 3836, 85, 793, 51, 2594, 3917, 4745, 3741, 3780, 383, 1287, 442, 782, 1965, 43, 3830, 4960, 580, 2256, 1509, 128, 2544, 4235, 2565, 928, 1797, 4592, 4207, 908, 563, 2429, 4284, 1473, 3256, 1753, 1811, 41, 1414, 1498, 339, 3829, 2728, 2609, 3556, 3383, 376, 321, 4875, 2345, 2939, 432, 2517, 2354, 2107, 451, 3647, 2870]\n",
      "CPU times: user 239 µs, sys: 66 µs, total: 305 µs\n",
      "Wall time: 311 µs\n"
     ]
    }
   ],
   "source": [
    "%%time\n",
    "arr = [random.randrange(5000) for i in range(250)]\n",
    "print(arr)"
   ]
  },
  {
   "cell_type": "code",
   "execution_count": 4,
   "id": "ac5d384c",
   "metadata": {
    "execution": {
     "iopub.execute_input": "2024-06-25T14:55:50.512163Z",
     "iopub.status.busy": "2024-06-25T14:55:50.511785Z",
     "iopub.status.idle": "2024-06-25T14:55:50.524219Z",
     "shell.execute_reply": "2024-06-25T14:55:50.522955Z"
    },
    "papermill": {
     "duration": 0.024243,
     "end_time": "2024-06-25T14:55:50.526416",
     "exception": false,
     "start_time": "2024-06-25T14:55:50.502173",
     "status": "completed"
    },
    "tags": []
   },
   "outputs": [
    {
     "name": "stdout",
     "output_type": "stream",
     "text": [
      "[29, 29, 35, 41, 43, 46, 51, 81, 85, 122, 128, 143, 153, 191, 194, 268, 321, 339, 349, 376, 379, 383, 408, 432, 442, 451, 520, 525, 563, 580, 692, 703, 710, 736, 753, 782, 793, 811, 866, 908, 918, 928, 944, 945, 945, 949, 960, 964, 1020, 1042, 1106, 1109, 1122, 1150, 1157, 1160, 1237, 1252, 1287, 1297, 1350, 1355, 1358, 1395, 1414, 1454, 1455, 1456, 1473, 1498, 1505, 1509, 1523, 1545, 1567, 1583, 1594, 1599, 1602, 1617, 1617, 1634, 1644, 1678, 1698, 1698, 1705, 1737, 1737, 1753, 1788, 1797, 1811, 1815, 1827, 1837, 1885, 1910, 1947, 1949, 1965, 1980, 2028, 2050, 2053, 2107, 2116, 2116, 2147, 2175, 2188, 2217, 2256, 2260, 2345, 2345, 2354, 2403, 2411, 2429, 2436, 2496, 2516, 2517, 2518, 2524, 2543, 2544, 2565, 2569, 2591, 2592, 2594, 2598, 2599, 2609, 2634, 2677, 2688, 2691, 2709, 2724, 2728, 2730, 2744, 2762, 2774, 2792, 2797, 2801, 2819, 2848, 2852, 2857, 2866, 2870, 2871, 2894, 2911, 2937, 2939, 2948, 2988, 3073, 3082, 3109, 3156, 3158, 3196, 3225, 3245, 3256, 3274, 3277, 3285, 3359, 3383, 3497, 3516, 3556, 3587, 3596, 3614, 3621, 3635, 3647, 3667, 3692, 3707, 3739, 3741, 3745, 3780, 3783, 3814, 3816, 3829, 3830, 3832, 3836, 3839, 3890, 3917, 3933, 3933, 3960, 3964, 4054, 4091, 4092, 4147, 4166, 4207, 4208, 4218, 4235, 4276, 4278, 4284, 4301, 4305, 4319, 4325, 4335, 4339, 4395, 4422, 4430, 4448, 4454, 4470, 4475, 4527, 4534, 4540, 4560, 4574, 4577, 4592, 4601, 4616, 4689, 4745, 4839, 4875, 4892, 4923, 4957, 4958, 4960]\n",
      "CPU times: user 7.04 ms, sys: 0 ns, total: 7.04 ms\n",
      "Wall time: 6.82 ms\n"
     ]
    }
   ],
   "source": [
    "%%time\n",
    "arrOutput = BubbleSort(arr)\n",
    "print(arrOutput)"
   ]
  },
  {
   "cell_type": "markdown",
   "id": "95029fe4",
   "metadata": {
    "papermill": {
     "duration": 0.00814,
     "end_time": "2024-06-25T14:55:50.542620",
     "exception": false,
     "start_time": "2024-06-25T14:55:50.534480",
     "status": "completed"
    },
    "tags": []
   },
   "source": [
    "## Insertion Sort"
   ]
  },
  {
   "cell_type": "markdown",
   "id": "1c1cf7bb",
   "metadata": {
    "papermill": {
     "duration": 0.008013,
     "end_time": "2024-06-25T14:55:50.558508",
     "exception": false,
     "start_time": "2024-06-25T14:55:50.550495",
     "status": "completed"
    },
    "tags": []
   },
   "source": [
    "Insertion Sort builds the sorted list one element at a time by repeatedly picking the next element and inserting it into its correct position in the already sorted part of the list. It has a time complexity of O(n²)."
   ]
  },
  {
   "cell_type": "code",
   "execution_count": 5,
   "id": "6b3b7104",
   "metadata": {
    "execution": {
     "iopub.execute_input": "2024-06-25T14:55:50.576152Z",
     "iopub.status.busy": "2024-06-25T14:55:50.575794Z",
     "iopub.status.idle": "2024-06-25T14:55:50.582106Z",
     "shell.execute_reply": "2024-06-25T14:55:50.581044Z"
    },
    "papermill": {
     "duration": 0.018136,
     "end_time": "2024-06-25T14:55:50.584471",
     "exception": false,
     "start_time": "2024-06-25T14:55:50.566335",
     "status": "completed"
    },
    "tags": []
   },
   "outputs": [],
   "source": [
    "def InsertionSort(arrIn):\n",
    "    arr = arrIn.copy()\n",
    "    n = len(arr)\n",
    "    for i in range(1, n):\n",
    "        key = arr[i]\n",
    "        j = i-1\n",
    "        while j >= 0 and arr[j] > key:\n",
    "            arr[j+1] = arr[j]\n",
    "            j -= 1\n",
    "        arr[j+1] = key\n",
    "    return arr"
   ]
  },
  {
   "cell_type": "code",
   "execution_count": 6,
   "id": "3079758f",
   "metadata": {
    "execution": {
     "iopub.execute_input": "2024-06-25T14:55:50.602046Z",
     "iopub.status.busy": "2024-06-25T14:55:50.601622Z",
     "iopub.status.idle": "2024-06-25T14:55:50.611052Z",
     "shell.execute_reply": "2024-06-25T14:55:50.609835Z"
    },
    "papermill": {
     "duration": 0.02103,
     "end_time": "2024-06-25T14:55:50.613526",
     "exception": false,
     "start_time": "2024-06-25T14:55:50.592496",
     "status": "completed"
    },
    "tags": []
   },
   "outputs": [
    {
     "name": "stdout",
     "output_type": "stream",
     "text": [
      "[29, 29, 35, 41, 43, 46, 51, 81, 85, 122, 128, 143, 153, 191, 194, 268, 321, 339, 349, 376, 379, 383, 408, 432, 442, 451, 520, 525, 563, 580, 692, 703, 710, 736, 753, 782, 793, 811, 866, 908, 918, 928, 944, 945, 945, 949, 960, 964, 1020, 1042, 1106, 1109, 1122, 1150, 1157, 1160, 1237, 1252, 1287, 1297, 1350, 1355, 1358, 1395, 1414, 1454, 1455, 1456, 1473, 1498, 1505, 1509, 1523, 1545, 1567, 1583, 1594, 1599, 1602, 1617, 1617, 1634, 1644, 1678, 1698, 1698, 1705, 1737, 1737, 1753, 1788, 1797, 1811, 1815, 1827, 1837, 1885, 1910, 1947, 1949, 1965, 1980, 2028, 2050, 2053, 2107, 2116, 2116, 2147, 2175, 2188, 2217, 2256, 2260, 2345, 2345, 2354, 2403, 2411, 2429, 2436, 2496, 2516, 2517, 2518, 2524, 2543, 2544, 2565, 2569, 2591, 2592, 2594, 2598, 2599, 2609, 2634, 2677, 2688, 2691, 2709, 2724, 2728, 2730, 2744, 2762, 2774, 2792, 2797, 2801, 2819, 2848, 2852, 2857, 2866, 2870, 2871, 2894, 2911, 2937, 2939, 2948, 2988, 3073, 3082, 3109, 3156, 3158, 3196, 3225, 3245, 3256, 3274, 3277, 3285, 3359, 3383, 3497, 3516, 3556, 3587, 3596, 3614, 3621, 3635, 3647, 3667, 3692, 3707, 3739, 3741, 3745, 3780, 3783, 3814, 3816, 3829, 3830, 3832, 3836, 3839, 3890, 3917, 3933, 3933, 3960, 3964, 4054, 4091, 4092, 4147, 4166, 4207, 4208, 4218, 4235, 4276, 4278, 4284, 4301, 4305, 4319, 4325, 4335, 4339, 4395, 4422, 4430, 4448, 4454, 4470, 4475, 4527, 4534, 4540, 4560, 4574, 4577, 4592, 4601, 4616, 4689, 4745, 4839, 4875, 4892, 4923, 4957, 4958, 4960]\n",
      "CPU times: user 3.07 ms, sys: 12 µs, total: 3.08 ms\n",
      "Wall time: 3.09 ms\n"
     ]
    }
   ],
   "source": [
    "%%time\n",
    "arrOutput = InsertionSort(arr)\n",
    "print(arrOutput)"
   ]
  },
  {
   "cell_type": "markdown",
   "id": "8c1954c7",
   "metadata": {
    "papermill": {
     "duration": 0.008475,
     "end_time": "2024-06-25T14:55:50.629938",
     "exception": false,
     "start_time": "2024-06-25T14:55:50.621463",
     "status": "completed"
    },
    "tags": []
   },
   "source": [
    "## Selection Sort"
   ]
  },
  {
   "cell_type": "markdown",
   "id": "351544fb",
   "metadata": {
    "papermill": {
     "duration": 0.007696,
     "end_time": "2024-06-25T14:55:50.646338",
     "exception": false,
     "start_time": "2024-06-25T14:55:50.638642",
     "status": "completed"
    },
    "tags": []
   },
   "source": [
    "Selection Sort divides the list into a sorted and an unsorted region. It repeatedly selects the smallest (or largest, depending on the sorting order) element from the unsorted region and moves it to the end of the sorted region. It has a time complexity of O(n²)."
   ]
  },
  {
   "cell_type": "code",
   "execution_count": 7,
   "id": "883f033a",
   "metadata": {
    "execution": {
     "iopub.execute_input": "2024-06-25T14:55:50.663934Z",
     "iopub.status.busy": "2024-06-25T14:55:50.663513Z",
     "iopub.status.idle": "2024-06-25T14:55:50.670081Z",
     "shell.execute_reply": "2024-06-25T14:55:50.668924Z"
    },
    "papermill": {
     "duration": 0.017918,
     "end_time": "2024-06-25T14:55:50.672288",
     "exception": false,
     "start_time": "2024-06-25T14:55:50.654370",
     "status": "completed"
    },
    "tags": []
   },
   "outputs": [],
   "source": [
    "def SelectionSort(arrIn):\n",
    "    arr = arrIn.copy()\n",
    "    \n",
    "    n = len(arr)\n",
    "    for i in range(0, n-1):\n",
    "        min_index = i\n",
    "        for j in range(i+1, n):\n",
    "            if arr[j] < arr[min_index]:\n",
    "                # swap\n",
    "                arr[min_index] ,arr[j] = arr[j], arr[min_index]\n",
    "    return arr"
   ]
  },
  {
   "cell_type": "code",
   "execution_count": 8,
   "id": "4a15e3f5",
   "metadata": {
    "execution": {
     "iopub.execute_input": "2024-06-25T14:55:50.690501Z",
     "iopub.status.busy": "2024-06-25T14:55:50.689396Z",
     "iopub.status.idle": "2024-06-25T14:55:50.700203Z",
     "shell.execute_reply": "2024-06-25T14:55:50.699102Z"
    },
    "papermill": {
     "duration": 0.022329,
     "end_time": "2024-06-25T14:55:50.702481",
     "exception": false,
     "start_time": "2024-06-25T14:55:50.680152",
     "status": "completed"
    },
    "tags": []
   },
   "outputs": [
    {
     "name": "stdout",
     "output_type": "stream",
     "text": [
      "[29, 29, 35, 41, 43, 46, 51, 81, 85, 122, 128, 143, 153, 191, 194, 268, 321, 339, 349, 376, 379, 383, 408, 432, 442, 451, 520, 525, 563, 580, 692, 703, 710, 736, 753, 782, 793, 811, 866, 908, 918, 928, 944, 945, 945, 949, 960, 964, 1020, 1042, 1106, 1109, 1122, 1150, 1157, 1160, 1237, 1252, 1287, 1297, 1350, 1355, 1358, 1395, 1414, 1454, 1455, 1456, 1473, 1498, 1505, 1509, 1523, 1545, 1567, 1583, 1594, 1599, 1602, 1617, 1617, 1634, 1644, 1678, 1698, 1698, 1705, 1737, 1737, 1753, 1788, 1797, 1811, 1815, 1827, 1837, 1885, 1910, 1947, 1949, 1965, 1980, 2028, 2050, 2053, 2107, 2116, 2116, 2147, 2175, 2188, 2217, 2256, 2260, 2345, 2345, 2354, 2403, 2411, 2429, 2436, 2496, 2516, 2517, 2518, 2524, 2543, 2544, 2565, 2569, 2591, 2592, 2594, 2598, 2599, 2609, 2634, 2677, 2688, 2691, 2709, 2724, 2728, 2730, 2744, 2762, 2774, 2792, 2797, 2801, 2819, 2848, 2852, 2857, 2866, 2870, 2871, 2894, 2911, 2937, 2939, 2948, 2988, 3073, 3082, 3109, 3156, 3158, 3196, 3225, 3245, 3256, 3274, 3277, 3285, 3359, 3383, 3497, 3516, 3556, 3587, 3596, 3614, 3621, 3635, 3647, 3667, 3692, 3707, 3739, 3741, 3745, 3780, 3783, 3814, 3816, 3829, 3830, 3832, 3836, 3839, 3890, 3917, 3933, 3933, 3960, 3964, 4054, 4091, 4092, 4147, 4166, 4207, 4208, 4218, 4235, 4276, 4278, 4284, 4301, 4305, 4319, 4325, 4335, 4339, 4395, 4422, 4430, 4448, 4454, 4470, 4475, 4527, 4534, 4540, 4560, 4574, 4577, 4592, 4601, 4616, 4689, 4745, 4839, 4875, 4892, 4923, 4957, 4958, 4960]\n",
      "CPU times: user 4.46 ms, sys: 114 µs, total: 4.57 ms\n",
      "Wall time: 4.54 ms\n"
     ]
    }
   ],
   "source": [
    "%%time\n",
    "arrOutput = SelectionSort(arr)\n",
    "print(arrOutput)"
   ]
  },
  {
   "cell_type": "markdown",
   "id": "1085632c",
   "metadata": {
    "papermill": {
     "duration": 0.007784,
     "end_time": "2024-06-25T14:55:50.718274",
     "exception": false,
     "start_time": "2024-06-25T14:55:50.710490",
     "status": "completed"
    },
    "tags": []
   },
   "source": [
    "# Efficient Sorting Algorithms"
   ]
  },
  {
   "cell_type": "markdown",
   "id": "ac45e901",
   "metadata": {
    "papermill": {
     "duration": 0.007921,
     "end_time": "2024-06-25T14:55:50.734434",
     "exception": false,
     "start_time": "2024-06-25T14:55:50.726513",
     "status": "completed"
    },
    "tags": []
   },
   "source": [
    "## Quick Sort"
   ]
  },
  {
   "cell_type": "markdown",
   "id": "ec873a66",
   "metadata": {
    "papermill": {
     "duration": 0.007912,
     "end_time": "2024-06-25T14:55:50.750585",
     "exception": false,
     "start_time": "2024-06-25T14:55:50.742673",
     "status": "completed"
    },
    "tags": []
   },
   "source": [
    "Time Complexity: Average case O(nlogn), \n",
    "\n",
    "Worst case O(n 2)\n",
    "\n",
    "Space Complexity: 𝑂 (log 𝑛) (in-place sort)\n",
    "\n",
    "Description: A divide-and-conquer algorithm that selects a pivot element, partitions the array around the pivot, and recursively sorts the partitions."
   ]
  },
  {
   "cell_type": "markdown",
   "id": "90365c14",
   "metadata": {
    "papermill": {
     "duration": 0.008224,
     "end_time": "2024-06-25T14:55:50.766894",
     "exception": false,
     "start_time": "2024-06-25T14:55:50.758670",
     "status": "completed"
    },
    "tags": []
   },
   "source": [
    "Time Complexity:\n",
    "Average Case: O(nlogn)\n",
    "Worst Case:  O(n 2) (when the smallest or largest element is always chosen as the pivot, e.g., for a sorted array)"
   ]
  },
  {
   "cell_type": "markdown",
   "id": "eab5ab7e",
   "metadata": {
    "papermill": {
     "duration": 0.00783,
     "end_time": "2024-06-25T14:55:50.782976",
     "exception": false,
     "start_time": "2024-06-25T14:55:50.775146",
     "status": "completed"
    },
    "tags": []
   },
   "source": [
    "Function Definitions:\n",
    "\n",
    "\n",
    "Quick Sort Function: This function recursively sorts elements around a pivot.\n",
    "\n",
    "\n",
    "Partition Function: This function partitions the array around the pivot element, placing the pivot in its correct sorted position and ensuring that all elements less than the pivot are on its left and all elements greater than the pivot are on its right."
   ]
  },
  {
   "cell_type": "code",
   "execution_count": 9,
   "id": "7bea20a0",
   "metadata": {
    "execution": {
     "iopub.execute_input": "2024-06-25T14:55:50.800887Z",
     "iopub.status.busy": "2024-06-25T14:55:50.800479Z",
     "iopub.status.idle": "2024-06-25T14:55:50.807890Z",
     "shell.execute_reply": "2024-06-25T14:55:50.806846Z"
    },
    "papermill": {
     "duration": 0.019183,
     "end_time": "2024-06-25T14:55:50.810229",
     "exception": false,
     "start_time": "2024-06-25T14:55:50.791046",
     "status": "completed"
    },
    "tags": []
   },
   "outputs": [],
   "source": [
    "def quick_sort(arr, low, high):\n",
    "    if low < high:\n",
    "        pivot_index = partition(arr, low, high)\n",
    "        quick_sort(arr, low, pivot_index - 1)\n",
    "        quick_sort(arr, pivot_index + 1, high)\n",
    "\n",
    "def partition(arr, low, high):\n",
    "    pivot = arr[high]  # pivot\n",
    "    i = low - 1  # index of smaller element\n",
    "\n",
    "    for j in range(low, high):\n",
    "        if arr[j] < pivot:\n",
    "            i = i + 1\n",
    "            arr[i], arr[j] = arr[j], arr[i]  # swap\n",
    "\n",
    "    arr[i + 1], arr[high] = arr[high], arr[i + 1]  # swap pivot into correct place\n",
    "    return i + 1\n",
    "\n"
   ]
  },
  {
   "cell_type": "code",
   "execution_count": 10,
   "id": "9d8f143d",
   "metadata": {
    "execution": {
     "iopub.execute_input": "2024-06-25T14:55:50.829065Z",
     "iopub.status.busy": "2024-06-25T14:55:50.828674Z",
     "iopub.status.idle": "2024-06-25T14:55:50.835089Z",
     "shell.execute_reply": "2024-06-25T14:55:50.833935Z"
    },
    "papermill": {
     "duration": 0.018569,
     "end_time": "2024-06-25T14:55:50.837479",
     "exception": false,
     "start_time": "2024-06-25T14:55:50.818910",
     "status": "completed"
    },
    "tags": []
   },
   "outputs": [
    {
     "name": "stdout",
     "output_type": "stream",
     "text": [
      "[4250, 2304, 3641, 4483, 2264, 1100, 4275, 646, 2079, 4694, 680, 1343, 2075, 778, 840, 4161, 2671, 3216, 1715, 1625, 1658, 3323, 3630, 3977, 1941, 4804, 1403, 967, 2734, 1009, 537, 2844, 4005, 3516, 281, 3029, 3731, 942, 4327, 1778, 2214, 4695, 3104, 4031, 4587, 3305, 2498, 2196, 3731, 1638, 563, 1890, 3641, 3932, 4473, 1482, 1486, 2818, 889, 2369, 355, 528, 4222, 554, 992, 4850, 427, 2771, 4543, 1927, 235, 4061, 1580, 568, 4232, 157, 2218, 2667, 4049, 766, 2195, 2190, 3868, 51, 2845, 3109, 2537, 3441, 555, 4091, 89, 120, 2358, 2161, 1279, 1856, 4590, 1890, 905, 3843, 1314, 1263, 3216, 1674, 3448, 307, 1663, 2325, 1262, 2380, 4253, 307, 2931, 2148, 3806, 4569, 1164, 2287, 3583, 1511, 3298, 1293, 1520, 1252, 3959, 1116, 4020, 241, 1894, 724, 3493, 1371, 1353, 470, 1224, 4099, 282, 4535, 2970, 2619, 3457, 856, 4793, 435, 4913, 4963, 4181, 2389, 3132, 4473, 3269, 4004, 1850, 4825, 3153, 452, 2681, 4837, 4789, 630, 1889, 4534, 1744, 4876, 2287, 1256, 3469, 1011, 1775, 2572, 1251, 2083, 1242, 2779, 4305, 3895, 4729, 295, 2067, 4719, 2547, 3516, 4377, 2208, 3816, 2493, 3343, 2373, 1636, 1653, 2235, 4295, 2891, 2207, 4301, 3685, 223, 1667, 4922, 3532, 2909, 70, 2427, 3094, 4351, 3167, 185, 4320, 789, 2218, 322, 3834, 3052, 4380, 3543, 3221, 3955, 715, 2078, 3004, 4620, 222, 818, 706, 3015, 1486, 3343, 2453, 1385, 2127, 1737, 2142, 815, 4427, 1692, 3642, 3641, 823, 1259, 1591, 199, 2750, 2296, 4683, 1016, 4652, 2320, 2709, 3208, 3206]\n",
      "CPU times: user 325 µs, sys: 0 ns, total: 325 µs\n",
      "Wall time: 330 µs\n"
     ]
    }
   ],
   "source": [
    "%%time\n",
    "\n",
    "import random\n",
    "\n",
    "arr = [random.randrange(5000) for i in range(250)]\n",
    "print(arr)"
   ]
  },
  {
   "cell_type": "code",
   "execution_count": 11,
   "id": "1c7d9992",
   "metadata": {
    "execution": {
     "iopub.execute_input": "2024-06-25T14:55:50.855189Z",
     "iopub.status.busy": "2024-06-25T14:55:50.854833Z",
     "iopub.status.idle": "2024-06-25T14:55:50.861224Z",
     "shell.execute_reply": "2024-06-25T14:55:50.859949Z"
    },
    "papermill": {
     "duration": 0.017943,
     "end_time": "2024-06-25T14:55:50.863581",
     "exception": false,
     "start_time": "2024-06-25T14:55:50.845638",
     "status": "completed"
    },
    "tags": []
   },
   "outputs": [
    {
     "name": "stdout",
     "output_type": "stream",
     "text": [
      "CPU times: user 508 µs, sys: 0 ns, total: 508 µs\n",
      "Wall time: 512 µs\n"
     ]
    }
   ],
   "source": [
    "%%time\n",
    "quick_sort(arr, 0 ,len(arr) - 1)"
   ]
  },
  {
   "cell_type": "code",
   "execution_count": 12,
   "id": "3541c100",
   "metadata": {
    "execution": {
     "iopub.execute_input": "2024-06-25T14:55:50.881442Z",
     "iopub.status.busy": "2024-06-25T14:55:50.881108Z",
     "iopub.status.idle": "2024-06-25T14:55:50.886628Z",
     "shell.execute_reply": "2024-06-25T14:55:50.885490Z"
    },
    "papermill": {
     "duration": 0.017158,
     "end_time": "2024-06-25T14:55:50.888865",
     "exception": false,
     "start_time": "2024-06-25T14:55:50.871707",
     "status": "completed"
    },
    "tags": []
   },
   "outputs": [
    {
     "name": "stdout",
     "output_type": "stream",
     "text": [
      "[51, 70, 89, 120, 157, 185, 199, 222, 223, 235, 241, 281, 282, 295, 307, 307, 322, 355, 427, 435, 452, 470, 528, 537, 554, 555, 563, 568, 630, 646, 680, 706, 715, 724, 766, 778, 789, 815, 818, 823, 840, 856, 889, 905, 942, 967, 992, 1009, 1011, 1016, 1100, 1116, 1164, 1224, 1242, 1251, 1252, 1256, 1259, 1262, 1263, 1279, 1293, 1314, 1343, 1353, 1371, 1385, 1403, 1482, 1486, 1486, 1511, 1520, 1580, 1591, 1625, 1636, 1638, 1653, 1658, 1663, 1667, 1674, 1692, 1715, 1737, 1744, 1775, 1778, 1850, 1856, 1889, 1890, 1890, 1894, 1927, 1941, 2067, 2075, 2078, 2079, 2083, 2127, 2142, 2148, 2161, 2190, 2195, 2196, 2207, 2208, 2214, 2218, 2218, 2235, 2264, 2287, 2287, 2296, 2304, 2320, 2325, 2358, 2369, 2373, 2380, 2389, 2427, 2453, 2493, 2498, 2537, 2547, 2572, 2619, 2667, 2671, 2681, 2709, 2734, 2750, 2771, 2779, 2818, 2844, 2845, 2891, 2909, 2931, 2970, 3004, 3015, 3029, 3052, 3094, 3104, 3109, 3132, 3153, 3167, 3206, 3208, 3216, 3216, 3221, 3269, 3298, 3305, 3323, 3343, 3343, 3441, 3448, 3457, 3469, 3493, 3516, 3516, 3532, 3543, 3583, 3630, 3641, 3641, 3641, 3642, 3685, 3731, 3731, 3806, 3816, 3834, 3843, 3868, 3895, 3932, 3955, 3959, 3977, 4004, 4005, 4020, 4031, 4049, 4061, 4091, 4099, 4161, 4181, 4222, 4232, 4250, 4253, 4275, 4295, 4301, 4305, 4320, 4327, 4351, 4377, 4380, 4427, 4473, 4473, 4483, 4534, 4535, 4543, 4569, 4587, 4590, 4620, 4652, 4683, 4694, 4695, 4719, 4729, 4789, 4793, 4804, 4825, 4837, 4850, 4876, 4913, 4922, 4963]\n"
     ]
    }
   ],
   "source": [
    "print(arr)"
   ]
  },
  {
   "cell_type": "markdown",
   "id": "24d8f037",
   "metadata": {
    "papermill": {
     "duration": 0.007968,
     "end_time": "2024-06-25T14:55:50.905032",
     "exception": false,
     "start_time": "2024-06-25T14:55:50.897064",
     "status": "completed"
    },
    "tags": []
   },
   "source": [
    "## Merge Sort"
   ]
  },
  {
   "cell_type": "markdown",
   "id": "d18e3ed0",
   "metadata": {
    "papermill": {
     "duration": 0.007822,
     "end_time": "2024-06-25T14:55:50.921060",
     "exception": false,
     "start_time": "2024-06-25T14:55:50.913238",
     "status": "completed"
    },
    "tags": []
   },
   "source": [
    "Time Complexity: 𝑂(𝑛log𝑛)\n",
    "\n",
    "\n",
    "Space Complexity: 𝑂(𝑛)\n",
    "\n",
    "Description: A divide-and-conquer algorithm that divides the input array into two halves, sorts them recursively, and then merges the two sorted halves."
   ]
  },
  {
   "cell_type": "markdown",
   "id": "29d4311a",
   "metadata": {
    "papermill": {
     "duration": 0.007984,
     "end_time": "2024-06-25T14:55:50.937218",
     "exception": false,
     "start_time": "2024-06-25T14:55:50.929234",
     "status": "completed"
    },
    "tags": []
   },
   "source": [
    "Function Definitions:\n",
    "\n",
    "\n",
    "Merge Sort Function: This function recursively divides the array into two halves, sorts each half, and merges them back together.\n",
    "\n",
    "\n",
    "Merge Function: This function merges two sorted halves into a single sorted array."
   ]
  },
  {
   "cell_type": "code",
   "execution_count": 13,
   "id": "14396df8",
   "metadata": {
    "execution": {
     "iopub.execute_input": "2024-06-25T14:55:50.955517Z",
     "iopub.status.busy": "2024-06-25T14:55:50.955117Z",
     "iopub.status.idle": "2024-06-25T14:55:50.963828Z",
     "shell.execute_reply": "2024-06-25T14:55:50.962635Z"
    },
    "papermill": {
     "duration": 0.020725,
     "end_time": "2024-06-25T14:55:50.966183",
     "exception": false,
     "start_time": "2024-06-25T14:55:50.945458",
     "status": "completed"
    },
    "tags": []
   },
   "outputs": [],
   "source": [
    "def merge_sort(arrInput):\n",
    "    if len(arrInput) > 1:\n",
    "        \n",
    "        mid = int(len(arrInput) / 2)\n",
    "        left_half = arrInput[0:mid]\n",
    "        right_half = arrInput[mid:]\n",
    "        \n",
    "        merge_sort(left_half)\n",
    "        merge_sort(right_half)\n",
    "        \n",
    "        merge(arrInput, left_half, right_half)\n",
    "        \n",
    "def merge(arrInput, left_half, right_half):\n",
    "    \n",
    "    i = 0 # index for the left_half\n",
    "    j = 0 # index for the right_half\n",
    "    k = 0 # index for the main array\n",
    "    \n",
    "    while i < len(left_half) and j < len(right_half):\n",
    "        if left_half[i] < right_half[j]:\n",
    "            arrInput[k] = left_half[i]\n",
    "            i += 1\n",
    "            k += 1\n",
    "        else:\n",
    "            arrInput[k] = right_half[j]\n",
    "            j += 1\n",
    "            k += 1           \n",
    "        \n",
    "    while i < len(left_half):\n",
    "        arrInput[k] = left_half[i]\n",
    "        i += 1\n",
    "        k += 1\n",
    "    \n",
    "    while j < len(right_half):\n",
    "        arrInput[k] = right_half[j]\n",
    "        j += 1\n",
    "        k += 1\n",
    "    \n",
    "    \n",
    "    \n",
    "    "
   ]
  },
  {
   "cell_type": "markdown",
   "id": "05cf4f15",
   "metadata": {
    "papermill": {
     "duration": 0.00814,
     "end_time": "2024-06-25T14:55:50.983585",
     "exception": false,
     "start_time": "2024-06-25T14:55:50.975445",
     "status": "completed"
    },
    "tags": []
   },
   "source": [
    "Explanation:\n",
    "Recursive Division:\n",
    "\n",
    "The merge_sort function checks if the array length is greater than 1.\n",
    "If it is, the array is split into two halves (left_half and right_half).\n",
    "The merge_sort function is called recursively on both halves to sort them.\n",
    "Merging:\n",
    "\n",
    "The merge function merges the two sorted halves into the original array arr.\n",
    "It uses three indices (i, j, k) to keep track of the current position in the left half, right half, and the main array, respectively.\n",
    "The merging process continues until all elements from both halves are merged back into the main array in sorted order.\n",
    "Edge Cases:\n",
    "\n",
    "The merging function also ensures any remaining elements from the left or right half are copied over to the main array, which covers cases where the halves are of different lengths."
   ]
  },
  {
   "cell_type": "code",
   "execution_count": 14,
   "id": "18aa9449",
   "metadata": {
    "execution": {
     "iopub.execute_input": "2024-06-25T14:55:51.003872Z",
     "iopub.status.busy": "2024-06-25T14:55:51.003468Z",
     "iopub.status.idle": "2024-06-25T14:55:51.010378Z",
     "shell.execute_reply": "2024-06-25T14:55:51.009036Z"
    },
    "papermill": {
     "duration": 0.019215,
     "end_time": "2024-06-25T14:55:51.012950",
     "exception": false,
     "start_time": "2024-06-25T14:55:50.993735",
     "status": "completed"
    },
    "tags": []
   },
   "outputs": [
    {
     "name": "stdout",
     "output_type": "stream",
     "text": [
      "[2631, 409, 137, 2300, 1483, 3190, 421, 2698, 4401, 404, 2912, 640, 2670, 673, 1756, 1773, 994, 3588, 4925, 3958, 2335, 4471, 657, 3989, 71, 805, 2871, 3902, 307, 4207, 4693, 3657, 4767, 1154, 4306, 3395, 553, 908, 945, 2432, 2385, 3793, 3850, 3676, 2929, 3705, 1386, 3869, 959, 1950, 381, 2344, 1134, 4771, 1545, 3933, 3133, 3453, 4737, 2386, 870, 1598, 114, 4213, 1521, 3914, 3464, 3892, 3257, 1670, 3176, 2558, 2829, 2011, 3655, 4004, 1412, 3165, 3346, 1738, 4631, 1131, 4374, 3114, 4827, 3183, 1769, 2146, 3246, 37, 2438, 3978, 1434, 2668, 545, 2634, 1144, 2780, 3056, 4914, 4131, 2123, 3784, 1877, 4907, 3954, 387, 673, 961, 623, 2535, 4808, 3158, 1703, 3964, 836, 3475, 1724, 4300, 7, 1238, 4693, 908, 2906, 2069, 3845, 3761, 2940, 4135, 1319, 1087, 105, 709, 600, 3163, 4090, 2598, 2403, 1644, 1976, 892, 4028, 4294, 491, 3981, 791, 4020, 2160, 665, 4674, 2203, 4945, 789, 1549, 1578, 31, 920, 3026, 4749, 3265, 2323, 4650, 2502, 211, 1892, 2574, 3150, 2438, 2601, 4323, 871, 4961, 490, 4985, 4292, 588, 1884, 3547, 1832, 2830, 1565, 225, 2948, 2442, 1781, 175, 1132, 4118, 1374, 2473, 4234, 4898, 3898, 4250, 4899, 4356, 1486, 760, 1728, 3717, 4841, 2034, 3960, 752, 1756, 4328, 4372, 4115, 3584, 3083, 4405, 2626, 4826, 3118, 3082, 1566, 971, 4228, 3046, 4779, 1713, 687, 2127, 2327, 2408, 1845, 2861, 1977, 879, 4607, 1244, 4901, 263, 72, 236, 4194, 392, 3696, 2473, 1202, 228, 4561, 1036, 3354, 1762, 3106, 3191, 4366, 3708, 4071]\n",
      "CPU times: user 362 µs, sys: 0 ns, total: 362 µs\n",
      "Wall time: 369 µs\n"
     ]
    }
   ],
   "source": [
    "%%time\n",
    "\n",
    "import random\n",
    "\n",
    "arr = [random.randrange(5000) for i in range(250)]\n",
    "print(arr)"
   ]
  },
  {
   "cell_type": "code",
   "execution_count": 15,
   "id": "a2a731db",
   "metadata": {
    "execution": {
     "iopub.execute_input": "2024-06-25T14:55:51.031795Z",
     "iopub.status.busy": "2024-06-25T14:55:51.031078Z",
     "iopub.status.idle": "2024-06-25T14:55:51.038002Z",
     "shell.execute_reply": "2024-06-25T14:55:51.036986Z"
    },
    "papermill": {
     "duration": 0.018917,
     "end_time": "2024-06-25T14:55:51.040326",
     "exception": false,
     "start_time": "2024-06-25T14:55:51.021409",
     "status": "completed"
    },
    "tags": []
   },
   "outputs": [
    {
     "name": "stdout",
     "output_type": "stream",
     "text": [
      "CPU times: user 976 µs, sys: 0 ns, total: 976 µs\n",
      "Wall time: 982 µs\n"
     ]
    }
   ],
   "source": [
    "%%time\n",
    "merge_sort(arr)"
   ]
  },
  {
   "cell_type": "code",
   "execution_count": 16,
   "id": "0cb787ae",
   "metadata": {
    "execution": {
     "iopub.execute_input": "2024-06-25T14:55:51.059186Z",
     "iopub.status.busy": "2024-06-25T14:55:51.058805Z",
     "iopub.status.idle": "2024-06-25T14:55:51.063977Z",
     "shell.execute_reply": "2024-06-25T14:55:51.062769Z"
    },
    "papermill": {
     "duration": 0.017668,
     "end_time": "2024-06-25T14:55:51.066780",
     "exception": false,
     "start_time": "2024-06-25T14:55:51.049112",
     "status": "completed"
    },
    "tags": []
   },
   "outputs": [
    {
     "name": "stdout",
     "output_type": "stream",
     "text": [
      "[7, 31, 37, 71, 72, 105, 114, 137, 175, 211, 225, 228, 236, 263, 307, 381, 387, 392, 404, 409, 421, 490, 491, 545, 553, 588, 600, 623, 640, 657, 665, 673, 673, 687, 709, 752, 760, 789, 791, 805, 836, 870, 871, 879, 892, 908, 908, 920, 945, 959, 961, 971, 994, 1036, 1087, 1131, 1132, 1134, 1144, 1154, 1202, 1238, 1244, 1319, 1374, 1386, 1412, 1434, 1483, 1486, 1521, 1545, 1549, 1565, 1566, 1578, 1598, 1644, 1670, 1703, 1713, 1724, 1728, 1738, 1756, 1756, 1762, 1769, 1773, 1781, 1832, 1845, 1877, 1884, 1892, 1950, 1976, 1977, 2011, 2034, 2069, 2123, 2127, 2146, 2160, 2203, 2300, 2323, 2327, 2335, 2344, 2385, 2386, 2403, 2408, 2432, 2438, 2438, 2442, 2473, 2473, 2502, 2535, 2558, 2574, 2598, 2601, 2626, 2631, 2634, 2668, 2670, 2698, 2780, 2829, 2830, 2861, 2871, 2906, 2912, 2929, 2940, 2948, 3026, 3046, 3056, 3082, 3083, 3106, 3114, 3118, 3133, 3150, 3158, 3163, 3165, 3176, 3183, 3190, 3191, 3246, 3257, 3265, 3346, 3354, 3395, 3453, 3464, 3475, 3547, 3584, 3588, 3655, 3657, 3676, 3696, 3705, 3708, 3717, 3761, 3784, 3793, 3845, 3850, 3869, 3892, 3898, 3902, 3914, 3933, 3954, 3958, 3960, 3964, 3978, 3981, 3989, 4004, 4020, 4028, 4071, 4090, 4115, 4118, 4131, 4135, 4194, 4207, 4213, 4228, 4234, 4250, 4292, 4294, 4300, 4306, 4323, 4328, 4356, 4366, 4372, 4374, 4401, 4405, 4471, 4561, 4607, 4631, 4650, 4674, 4693, 4693, 4737, 4749, 4767, 4771, 4779, 4808, 4826, 4827, 4841, 4898, 4899, 4901, 4907, 4914, 4925, 4945, 4961, 4985]\n"
     ]
    }
   ],
   "source": [
    "print(arr)"
   ]
  },
  {
   "cell_type": "code",
   "execution_count": null,
   "id": "ed779e51",
   "metadata": {
    "papermill": {
     "duration": 0.008407,
     "end_time": "2024-06-25T14:55:51.083726",
     "exception": false,
     "start_time": "2024-06-25T14:55:51.075319",
     "status": "completed"
    },
    "tags": []
   },
   "outputs": [],
   "source": []
  }
 ],
 "metadata": {
  "kaggle": {
   "accelerator": "none",
   "dataSources": [],
   "dockerImageVersionId": 30732,
   "isGpuEnabled": false,
   "isInternetEnabled": true,
   "language": "python",
   "sourceType": "notebook"
  },
  "kernelspec": {
   "display_name": "Python 3",
   "language": "python",
   "name": "python3"
  },
  "language_info": {
   "codemirror_mode": {
    "name": "ipython",
    "version": 3
   },
   "file_extension": ".py",
   "mimetype": "text/x-python",
   "name": "python",
   "nbconvert_exporter": "python",
   "pygments_lexer": "ipython3",
   "version": "3.10.13"
  },
  "papermill": {
   "default_parameters": {},
   "duration": 4.017733,
   "end_time": "2024-06-25T14:55:51.412441",
   "environment_variables": {},
   "exception": null,
   "input_path": "__notebook__.ipynb",
   "output_path": "__notebook__.ipynb",
   "parameters": {},
   "start_time": "2024-06-25T14:55:47.394708",
   "version": "2.5.0"
  }
 },
 "nbformat": 4,
 "nbformat_minor": 5
}
