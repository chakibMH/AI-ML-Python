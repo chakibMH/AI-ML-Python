{
 "cells": [
  {
   "cell_type": "code",
   "execution_count": 1,
   "id": "e7a1145f",
   "metadata": {
    "_cell_guid": "b1076dfc-b9ad-4769-8c92-a6c4dae69d19",
    "_uuid": "8f2839f25d086af736a60e9eeb907d3b93b6e0e5",
    "execution": {
     "iopub.execute_input": "2022-07-31T09:59:25.228538Z",
     "iopub.status.busy": "2022-07-31T09:59:25.228109Z",
     "iopub.status.idle": "2022-07-31T09:59:38.513820Z",
     "shell.execute_reply": "2022-07-31T09:59:38.512810Z"
    },
    "papermill": {
     "duration": 13.295454,
     "end_time": "2022-07-31T09:59:38.516192",
     "exception": false,
     "start_time": "2022-07-31T09:59:25.220738",
     "status": "completed"
    },
    "tags": []
   },
   "outputs": [
    {
     "name": "stdout",
     "output_type": "stream",
     "text": [
      "Collecting wiktionaryparser\r\n",
      "  Downloading wiktionaryparser-0.0.97-py3-none-any.whl (19 kB)\r\n",
      "Requirement already satisfied: requests in /opt/conda/lib/python3.7/site-packages (from wiktionaryparser) (2.27.1)\r\n",
      "Requirement already satisfied: beautifulsoup4 in /opt/conda/lib/python3.7/site-packages (from wiktionaryparser) (4.11.1)\r\n",
      "Requirement already satisfied: soupsieve>1.2 in /opt/conda/lib/python3.7/site-packages (from beautifulsoup4->wiktionaryparser) (2.3.1)\r\n",
      "Requirement already satisfied: charset-normalizer~=2.0.0 in /opt/conda/lib/python3.7/site-packages (from requests->wiktionaryparser) (2.0.12)\r\n",
      "Requirement already satisfied: urllib3<1.27,>=1.21.1 in /opt/conda/lib/python3.7/site-packages (from requests->wiktionaryparser) (1.26.9)\r\n",
      "Requirement already satisfied: certifi>=2017.4.17 in /opt/conda/lib/python3.7/site-packages (from requests->wiktionaryparser) (2022.5.18.1)\r\n",
      "Requirement already satisfied: idna<4,>=2.5 in /opt/conda/lib/python3.7/site-packages (from requests->wiktionaryparser) (3.3)\r\n",
      "Installing collected packages: wiktionaryparser\r\n",
      "Successfully installed wiktionaryparser-0.0.97\r\n",
      "\u001b[33mWARNING: Running pip as the 'root' user can result in broken permissions and conflicting behaviour with the system package manager. It is recommended to use a virtual environment instead: https://pip.pypa.io/warnings/venv\u001b[0m\u001b[33m\r\n",
      "\u001b[0mNote: you may need to restart the kernel to use updated packages.\n"
     ]
    }
   ],
   "source": [
    "pip install wiktionaryparser"
   ]
  },
  {
   "cell_type": "markdown",
   "id": "38483e1e",
   "metadata": {
    "papermill": {
     "duration": 0.005007,
     "end_time": "2022-07-31T09:59:38.526708",
     "exception": false,
     "start_time": "2022-07-31T09:59:38.521701",
     "status": "completed"
    },
    "tags": []
   },
   "source": [
    "# In this tutorial, I will show you a way to correct sticky words, as shown in the te exemple below:\n",
    "\n",
    "*afriendofmine => a friend of mine*\n",
    "The main function will do the following:\n",
    "\n",
    "\n",
    "1) Check if the word is correct by calling the wiktionary API.\n",
    "\n",
    "2) If the word doesn't figure in the Data base, then the result is an empty list, in this case we assume that the word in composed of 2 or more correct words, without a space between them, we then call the split function.\n"
   ]
  },
  {
   "cell_type": "markdown",
   "id": "7b26fa81",
   "metadata": {
    "papermill": {
     "duration": 0.004921,
     "end_time": "2022-07-31T09:59:38.536931",
     "exception": false,
     "start_time": "2022-07-31T09:59:38.532010",
     "status": "completed"
    },
    "tags": []
   },
   "source": [
    "After instaling the wiktionaryparser library we will import WiktionaryParser in order to use the API"
   ]
  },
  {
   "cell_type": "code",
   "execution_count": 2,
   "id": "34e96440",
   "metadata": {
    "execution": {
     "iopub.execute_input": "2022-07-31T09:59:38.549742Z",
     "iopub.status.busy": "2022-07-31T09:59:38.549068Z",
     "iopub.status.idle": "2022-07-31T09:59:38.786175Z",
     "shell.execute_reply": "2022-07-31T09:59:38.785272Z"
    },
    "papermill": {
     "duration": 0.246257,
     "end_time": "2022-07-31T09:59:38.788448",
     "exception": false,
     "start_time": "2022-07-31T09:59:38.542191",
     "status": "completed"
    },
    "tags": []
   },
   "outputs": [],
   "source": [
    "from wiktionaryparser import WiktionaryParser\n",
    "import pickle\n",
    "from math import log"
   ]
  },
  {
   "cell_type": "markdown",
   "id": "8c6457db",
   "metadata": {
    "papermill": {
     "duration": 0.005241,
     "end_time": "2022-07-31T09:59:38.799478",
     "exception": false,
     "start_time": "2022-07-31T09:59:38.794237",
     "status": "completed"
    },
    "tags": []
   },
   "source": [
    "The split words function is based on zipf's law. It uses dynamic programing the infere spaces in a sticky word.\n",
    "\n",
    "To use it we'll need a file containing words sorted by frequency "
   ]
  },
  {
   "cell_type": "code",
   "execution_count": 3,
   "id": "23913cac",
   "metadata": {
    "execution": {
     "iopub.execute_input": "2022-07-31T09:59:38.812710Z",
     "iopub.status.busy": "2022-07-31T09:59:38.811723Z",
     "iopub.status.idle": "2022-07-31T09:59:38.853620Z",
     "shell.execute_reply": "2022-07-31T09:59:38.852223Z"
    },
    "papermill": {
     "duration": 0.051181,
     "end_time": "2022-07-31T09:59:38.856358",
     "exception": false,
     "start_time": "2022-07-31T09:59:38.805177",
     "status": "completed"
    },
    "tags": []
   },
   "outputs": [],
   "source": [
    "# Build a cost dictionary, assuming Zipf's law and cost = -math.log(probability).\n",
    "words = open(\"../input/wordsbyfreq/words-by-frequency.txt\").read().split()"
   ]
  },
  {
   "cell_type": "markdown",
   "id": "23e543d4",
   "metadata": {
    "papermill": {
     "duration": 0.00531,
     "end_time": "2022-07-31T09:59:38.867382",
     "exception": false,
     "start_time": "2022-07-31T09:59:38.862072",
     "status": "completed"
    },
    "tags": []
   },
   "source": [
    "Build a cost dictionary, assuming Zipf's law and cost = -math.log(probability).\n",
    "\n",
    "wordcost, maxword, will be used inside the split_word function."
   ]
  },
  {
   "cell_type": "code",
   "execution_count": 4,
   "id": "cbaed7d5",
   "metadata": {
    "execution": {
     "iopub.execute_input": "2022-07-31T09:59:38.879775Z",
     "iopub.status.busy": "2022-07-31T09:59:38.879030Z",
     "iopub.status.idle": "2022-07-31T09:59:39.023562Z",
     "shell.execute_reply": "2022-07-31T09:59:39.022459Z"
    },
    "papermill": {
     "duration": 0.153522,
     "end_time": "2022-07-31T09:59:39.026165",
     "exception": false,
     "start_time": "2022-07-31T09:59:38.872643",
     "status": "completed"
    },
    "tags": []
   },
   "outputs": [],
   "source": [
    "wordcost = dict((k, log((i+1)*log(len(words)))) for i,k in enumerate(words))\n",
    "maxword = max(len(x) for x in words)"
   ]
  },
  {
   "cell_type": "code",
   "execution_count": 5,
   "id": "fe899184",
   "metadata": {
    "execution": {
     "iopub.execute_input": "2022-07-31T09:59:39.039779Z",
     "iopub.status.busy": "2022-07-31T09:59:39.039075Z",
     "iopub.status.idle": "2022-07-31T09:59:39.050035Z",
     "shell.execute_reply": "2022-07-31T09:59:39.048983Z"
    },
    "papermill": {
     "duration": 0.020027,
     "end_time": "2022-07-31T09:59:39.052184",
     "exception": false,
     "start_time": "2022-07-31T09:59:39.032157",
     "status": "completed"
    },
    "tags": []
   },
   "outputs": [],
   "source": [
    "\n",
    "\n",
    "def split_word(s):\n",
    "    \"\"\"infere the positions of spaces in a string without spaces\"\"\"\n",
    "\n",
    "\n",
    "    # Find the best match for the i first characters, assuming cost has\n",
    "    # been built for the i-1 first characters.\n",
    "    # Returns a pair (match_cost, match_length).\n",
    "    def find(i):\n",
    "        cds = enumerate(reversed(cost[max(0, i-maxword):i]))\n",
    "        return min((c + wordcost.get(s[i-k-1:i], 9e999), k+1) for k,c in cds)\n",
    "\n",
    "    # Create the cost list.\n",
    "    cost = [0]\n",
    "    for i in range(1,len(s)+1):\n",
    "        c,k = find(i)\n",
    "        cost.append(c)\n",
    "    # Backtrack to recover the minimal-cost string.\n",
    "    out = []\n",
    "    i = len(s)\n",
    "    while i>0:\n",
    "        c,k = find(i)\n",
    "        assert c == cost[i]\n",
    "        out.append(s[i-k:i])\n",
    "        i -= k\n",
    "\n",
    "    return \" \".join(reversed(out))"
   ]
  },
  {
   "cell_type": "markdown",
   "id": "53ca5cb9",
   "metadata": {
    "papermill": {
     "duration": 0.005083,
     "end_time": "2022-07-31T09:59:39.062502",
     "exception": false,
     "start_time": "2022-07-31T09:59:39.057419",
     "status": "completed"
    },
    "tags": []
   },
   "source": [
    "correct_words is the main function. It uses global variables to preseve a trace of what's going on there. \n",
    "\n",
    "Using prints is a very popular way of checking whether functions are doing their job. But there are some disadvantages, for example if the variables are long and the display is often very fast, it will not be very easy to read them on the prompt. \n",
    "\n",
    "    "
   ]
  },
  {
   "cell_type": "code",
   "execution_count": 6,
   "id": "9fcd0031",
   "metadata": {
    "execution": {
     "iopub.execute_input": "2022-07-31T09:59:39.077022Z",
     "iopub.status.busy": "2022-07-31T09:59:39.075877Z",
     "iopub.status.idle": "2022-07-31T09:59:39.081649Z",
     "shell.execute_reply": "2022-07-31T09:59:39.080637Z"
    },
    "papermill": {
     "duration": 0.015731,
     "end_time": "2022-07-31T09:59:39.083963",
     "exception": false,
     "start_time": "2022-07-31T09:59:39.068232",
     "status": "completed"
    },
    "tags": []
   },
   "outputs": [],
   "source": [
    "cpt = 0\n",
    "exceptions_list = []\n",
    "change = {}\n",
    "change_from_wiki = []"
   ]
  },
  {
   "cell_type": "code",
   "execution_count": 7,
   "id": "1108d5b5",
   "metadata": {
    "execution": {
     "iopub.execute_input": "2022-07-31T09:59:39.097123Z",
     "iopub.status.busy": "2022-07-31T09:59:39.096458Z",
     "iopub.status.idle": "2022-07-31T09:59:39.100752Z",
     "shell.execute_reply": "2022-07-31T09:59:39.100105Z"
    },
    "papermill": {
     "duration": 0.013812,
     "end_time": "2022-07-31T09:59:39.103178",
     "exception": false,
     "start_time": "2022-07-31T09:59:39.089366",
     "status": "completed"
    },
    "tags": []
   },
   "outputs": [],
   "source": [
    "parser = WiktionaryParser()"
   ]
  },
  {
   "cell_type": "code",
   "execution_count": 8,
   "id": "6d2dea07",
   "metadata": {
    "execution": {
     "iopub.execute_input": "2022-07-31T09:59:39.117957Z",
     "iopub.status.busy": "2022-07-31T09:59:39.117279Z",
     "iopub.status.idle": "2022-07-31T09:59:39.127486Z",
     "shell.execute_reply": "2022-07-31T09:59:39.126397Z"
    },
    "papermill": {
     "duration": 0.019836,
     "end_time": "2022-07-31T09:59:39.130179",
     "exception": false,
     "start_time": "2022-07-31T09:59:39.110343",
     "status": "completed"
    },
    "tags": []
   },
   "outputs": [],
   "source": [
    "\n",
    "\n",
    "def correct_words(s):\n",
    "    \n",
    "    sen2words = s.split(\" \")\n",
    "    \n",
    "    \n",
    "    \n",
    "    res_list = []\n",
    "    \n",
    "    global change \n",
    "    global change_from_wiki\n",
    "    global exceptions_list\n",
    "    global cpt\n",
    "    \n",
    "    for w in sen2words:\n",
    "        \n",
    "        # no empty word\n",
    "        if w != '':\n",
    "            \n",
    "\n",
    "                try:\n",
    "                    l_res = parser.fetch(w)\n",
    "                except:\n",
    "                    # if an excception occurs, we try again\n",
    "                    try:\n",
    "                        #if two exceptions occur, we stop\n",
    "                        \n",
    "                        l_res = parser.fetch(w)\n",
    "                    except Exception as ex:\n",
    "\n",
    "                        exceptions_list.append((cpt,w))\n",
    "                        print(\"An exception occurred\")\n",
    "                        print(traceback.format_exc())\n",
    "                        l_res = []\n",
    "\n",
    "\n",
    "                \n",
    "                if l_res[0]['definitions'] != []:\n",
    "                    # this word is correct ( belongs to the english dictionary) \n",
    "                    res_list.append(w)\n",
    "\n",
    "                    change_from_wiki.append(w)\n",
    "\n",
    "\n",
    "\n",
    "                else:\n",
    "\n",
    "                # correcting the word\n",
    "\n",
    "\n",
    "                    w_after = split_word(w)\n",
    "\n",
    "                    change[w] = w_after\n",
    "\n",
    "                    res_list.append(w_after)\n",
    "\n",
    "\n",
    "            \n",
    "            \n",
    "     \n",
    "        \n",
    "        \n",
    "    return \" \".join(res_list)"
   ]
  },
  {
   "cell_type": "markdown",
   "id": "b9b3d849",
   "metadata": {
    "papermill": {
     "duration": 0.005386,
     "end_time": "2022-07-31T09:59:39.140894",
     "exception": false,
     "start_time": "2022-07-31T09:59:39.135508",
     "status": "completed"
    },
    "tags": []
   },
   "source": [
    "# TEST !"
   ]
  },
  {
   "cell_type": "code",
   "execution_count": 9,
   "id": "091731e0",
   "metadata": {
    "execution": {
     "iopub.execute_input": "2022-07-31T09:59:39.154016Z",
     "iopub.status.busy": "2022-07-31T09:59:39.153584Z",
     "iopub.status.idle": "2022-07-31T09:59:39.701960Z",
     "shell.execute_reply": "2022-07-31T09:59:39.701050Z"
    },
    "papermill": {
     "duration": 0.5572,
     "end_time": "2022-07-31T09:59:39.703987",
     "exception": false,
     "start_time": "2022-07-31T09:59:39.146787",
     "status": "completed"
    },
    "tags": []
   },
   "outputs": [
    {
     "data": {
      "text/plain": [
       "'a friend of mine'"
      ]
     },
     "execution_count": 9,
     "metadata": {},
     "output_type": "execute_result"
    }
   ],
   "source": [
    "correct_words(\"afriendofmine\")"
   ]
  },
  {
   "cell_type": "code",
   "execution_count": null,
   "id": "9e510887",
   "metadata": {
    "papermill": {
     "duration": 0.005243,
     "end_time": "2022-07-31T09:59:39.715030",
     "exception": false,
     "start_time": "2022-07-31T09:59:39.709787",
     "status": "completed"
    },
    "tags": []
   },
   "outputs": [],
   "source": []
  }
 ],
 "metadata": {
  "kernelspec": {
   "display_name": "Python 3",
   "language": "python",
   "name": "python3"
  },
  "language_info": {
   "codemirror_mode": {
    "name": "ipython",
    "version": 3
   },
   "file_extension": ".py",
   "mimetype": "text/x-python",
   "name": "python",
   "nbconvert_exporter": "python",
   "pygments_lexer": "ipython3",
   "version": "3.7.12"
  },
  "papermill": {
   "default_parameters": {},
   "duration": 25.760291,
   "end_time": "2022-07-31T09:59:40.442567",
   "environment_variables": {},
   "exception": null,
   "input_path": "__notebook__.ipynb",
   "output_path": "__notebook__.ipynb",
   "parameters": {},
   "start_time": "2022-07-31T09:59:14.682276",
   "version": "2.3.4"
  }
 },
 "nbformat": 4,
 "nbformat_minor": 5
}
