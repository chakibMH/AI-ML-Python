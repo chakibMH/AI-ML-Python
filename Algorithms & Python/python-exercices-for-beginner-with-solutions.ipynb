{
 "cells": [
  {
   "cell_type": "markdown",
   "id": "1db97b14",
   "metadata": {
    "_cell_guid": "2adf3eb4-2d82-4ed0-b585-da74c3f51268",
    "_uuid": "a866f49f-be27-47f8-92c6-75fd7e0ac120",
    "jupyter": {
     "outputs_hidden": false
    },
    "papermill": {
     "duration": 0.006129,
     "end_time": "2022-07-30T13:59:53.044831",
     "exception": false,
     "start_time": "2022-07-30T13:59:53.038702",
     "status": "completed"
    },
    "tags": []
   },
   "source": [
    "print(\"hi\")"
   ]
  },
  {
   "cell_type": "markdown",
   "id": "a441773e",
   "metadata": {
    "papermill": {
     "duration": 0.004958,
     "end_time": "2022-07-30T13:59:53.055199",
     "exception": false,
     "start_time": "2022-07-30T13:59:53.050241",
     "status": "completed"
    },
    "tags": []
   },
   "source": [
    "Question 1\n",
    "\n",
    "Write a program that will find all numbers which are divisible by 7 but are not a multiple of 5, between 2000 and 3200 (both included). The numbers obtained should be printed in a list.\n",
    "\n",
    "Hint: Consider using the range(#begin, #end) method."
   ]
  },
  {
   "cell_type": "code",
   "execution_count": 1,
   "id": "3bd9358f",
   "metadata": {
    "_kg_hide-input": true,
    "execution": {
     "iopub.execute_input": "2022-07-30T13:59:53.068566Z",
     "iopub.status.busy": "2022-07-30T13:59:53.067697Z",
     "iopub.status.idle": "2022-07-30T13:59:53.081354Z",
     "shell.execute_reply": "2022-07-30T13:59:53.080160Z"
    },
    "papermill": {
     "duration": 0.02426,
     "end_time": "2022-07-30T13:59:53.084657",
     "exception": false,
     "start_time": "2022-07-30T13:59:53.060397",
     "status": "completed"
    },
    "tags": []
   },
   "outputs": [],
   "source": [
    "# list of final results\n",
    "results = []\n",
    "# 3200 is included, so we need to access it, that's why the second paramater of range is 3201 and not 3200.\n",
    "for nb in range(2000, 3201):\n",
    "    if (nb % 7 == 0) and (nb % 5 != 0):\n",
    "        results.append(nb)\n",
    "\n"
   ]
  },
  {
   "cell_type": "code",
   "execution_count": 2,
   "id": "8a9e006b",
   "metadata": {
    "execution": {
     "iopub.execute_input": "2022-07-30T13:59:53.098317Z",
     "iopub.status.busy": "2022-07-30T13:59:53.097529Z",
     "iopub.status.idle": "2022-07-30T13:59:53.104118Z",
     "shell.execute_reply": "2022-07-30T13:59:53.102929Z"
    },
    "papermill": {
     "duration": 0.016602,
     "end_time": "2022-07-30T13:59:53.106712",
     "exception": false,
     "start_time": "2022-07-30T13:59:53.090110",
     "status": "completed"
    },
    "tags": []
   },
   "outputs": [
    {
     "name": "stdout",
     "output_type": "stream",
     "text": [
      "[2002, 2009, 2016, 2023, 2037, 2044, 2051, 2058, 2072, 2079, 2086, 2093, 2107, 2114, 2121, 2128, 2142, 2149, 2156, 2163, 2177, 2184, 2191, 2198, 2212, 2219, 2226, 2233, 2247, 2254, 2261, 2268, 2282, 2289, 2296, 2303, 2317, 2324, 2331, 2338, 2352, 2359, 2366, 2373, 2387, 2394, 2401, 2408, 2422, 2429, 2436, 2443, 2457, 2464, 2471, 2478, 2492, 2499, 2506, 2513, 2527, 2534, 2541, 2548, 2562, 2569, 2576, 2583, 2597, 2604, 2611, 2618, 2632, 2639, 2646, 2653, 2667, 2674, 2681, 2688, 2702, 2709, 2716, 2723, 2737, 2744, 2751, 2758, 2772, 2779, 2786, 2793, 2807, 2814, 2821, 2828, 2842, 2849, 2856, 2863, 2877, 2884, 2891, 2898, 2912, 2919, 2926, 2933, 2947, 2954, 2961, 2968, 2982, 2989, 2996, 3003, 3017, 3024, 3031, 3038, 3052, 3059, 3066, 3073, 3087, 3094, 3101, 3108, 3122, 3129, 3136, 3143, 3157, 3164, 3171, 3178, 3192, 3199]\n"
     ]
    }
   ],
   "source": [
    "print(results)"
   ]
  },
  {
   "cell_type": "markdown",
   "id": "0e1e2569",
   "metadata": {
    "papermill": {
     "duration": 0.005012,
     "end_time": "2022-07-30T13:59:53.117172",
     "exception": false,
     "start_time": "2022-07-30T13:59:53.112160",
     "status": "completed"
    },
    "tags": []
   },
   "source": [
    "Question 2 \n",
    "\n",
    " Write a program that can compute the factorial of a given number. (The factorial of n is the product of all positive integers less than or equal to n.) For example: For factorial(5)= 5 x 4 x 3 x 2 x 1 the result is 120 (i.e. factorial (0)=1)."
   ]
  },
  {
   "cell_type": "code",
   "execution_count": 3,
   "id": "b506da07",
   "metadata": {
    "execution": {
     "iopub.execute_input": "2022-07-30T13:59:53.130194Z",
     "iopub.status.busy": "2022-07-30T13:59:53.129166Z",
     "iopub.status.idle": "2022-07-30T13:59:53.137204Z",
     "shell.execute_reply": "2022-07-30T13:59:53.136220Z"
    },
    "papermill": {
     "duration": 0.017313,
     "end_time": "2022-07-30T13:59:53.139891",
     "exception": false,
     "start_time": "2022-07-30T13:59:53.122578",
     "status": "completed"
    },
    "tags": []
   },
   "outputs": [
    {
     "name": "stdout",
     "output_type": "stream",
     "text": [
      "5! =  120\n",
      "0! =  1\n",
      "1! =  1\n",
      "2! =  2\n"
     ]
    }
   ],
   "source": [
    "def factorial(n):\n",
    "    # it's a product so we start with 1\n",
    "    res = 1\n",
    "    for i in range(1, n+1):\n",
    "        res *= i\n",
    "    return res\n",
    "\n",
    "print(\"5! = \", factorial(5))\n",
    "print(\"0! = \", factorial(0))\n",
    "print(\"1! = \", factorial(1))\n",
    "print(\"2! = \", factorial(2))"
   ]
  },
  {
   "cell_type": "markdown",
   "id": "4c737d00",
   "metadata": {
    "papermill": {
     "duration": 0.005525,
     "end_time": "2022-07-30T13:59:53.150893",
     "exception": false,
     "start_time": "2022-07-30T13:59:53.145368",
     "status": "completed"
    },
    "tags": []
   },
   "source": [
    "Question 3 \n",
    "\n",
    "With a given integer number n, write a program to generate a dictionary that contains (i, i*i) such that is an integral number between 1 and n (both included). Then, the program should print the dictionary. Suppose the following input is supplied to the program: 8 Then, the output should be: {1: 1, 2: 4, 3: 9, 4: 16, 5: 25, 6: 36, 7: 49, 8: 64}  "
   ]
  },
  {
   "cell_type": "code",
   "execution_count": 4,
   "id": "98942436",
   "metadata": {
    "execution": {
     "iopub.execute_input": "2022-07-30T13:59:53.164176Z",
     "iopub.status.busy": "2022-07-30T13:59:53.163115Z",
     "iopub.status.idle": "2022-07-30T13:59:53.175053Z",
     "shell.execute_reply": "2022-07-30T13:59:53.173773Z"
    },
    "papermill": {
     "duration": 0.021022,
     "end_time": "2022-07-30T13:59:53.177467",
     "exception": false,
     "start_time": "2022-07-30T13:59:53.156445",
     "status": "completed"
    },
    "tags": []
   },
   "outputs": [
    {
     "data": {
      "text/plain": [
       "{1: 1, 2: 4, 3: 9, 4: 16, 5: 25, 6: 36, 7: 49, 8: 64}"
      ]
     },
     "execution_count": 4,
     "metadata": {},
     "output_type": "execute_result"
    }
   ],
   "source": [
    "def q3(n):\n",
    "    \n",
    "    return {i:i*i for i in range(1,n+1)}\n",
    "\n",
    "q3(8)"
   ]
  },
  {
   "cell_type": "markdown",
   "id": "74322773",
   "metadata": {
    "papermill": {
     "duration": 0.005333,
     "end_time": "2022-07-30T13:59:53.188484",
     "exception": false,
     "start_time": "2022-07-30T13:59:53.183151",
     "status": "completed"
    },
    "tags": []
   },
   "source": [
    "Question 4 \n",
    "\n",
    "Given a non-empty string and an integral n, return a new string where the char at index n has been removed. The value of n will be a valid index of a char in the original string (i.e. n will be in the range 0..len(str)-1 inclusive). \n",
    "\n",
    "missing_char('kitten', 1) → 'ktten'    for example here we remove \"i\" which is located in the index 1\n",
    "\n",
    "missing_char('kitten', 0) → 'itten'   here we remove \"k\" which is in the index 0\n",
    "\n",
    "missing_char('kitten', 4) → 'kittn'   here we remove \"e\" which is in the index 4"
   ]
  },
  {
   "cell_type": "code",
   "execution_count": 5,
   "id": "042959d0",
   "metadata": {
    "execution": {
     "iopub.execute_input": "2022-07-30T13:59:53.202033Z",
     "iopub.status.busy": "2022-07-30T13:59:53.201092Z",
     "iopub.status.idle": "2022-07-30T13:59:53.208401Z",
     "shell.execute_reply": "2022-07-30T13:59:53.207055Z"
    },
    "papermill": {
     "duration": 0.017638,
     "end_time": "2022-07-30T13:59:53.211638",
     "exception": false,
     "start_time": "2022-07-30T13:59:53.194000",
     "status": "completed"
    },
    "tags": []
   },
   "outputs": [
    {
     "name": "stdout",
     "output_type": "stream",
     "text": [
      "ktten\n",
      "itten\n",
      "kittn\n"
     ]
    }
   ],
   "source": [
    "def missing_char(ch, i):\n",
    "    return ch[:i]+ch[i+1:]\n",
    "\n",
    "print(missing_char('kitten', 1))\n",
    "print(missing_char('kitten', 0))\n",
    "print(missing_char('kitten', 4))\n"
   ]
  },
  {
   "cell_type": "markdown",
   "id": "78a1ff09",
   "metadata": {
    "papermill": {
     "duration": 0.005277,
     "end_time": "2022-07-30T13:59:53.222508",
     "exception": false,
     "start_time": "2022-07-30T13:59:53.217231",
     "status": "completed"
    },
    "tags": []
   },
   "source": [
    "Question 5 \n",
    "\n",
    "Write a NumPy program to convert a NumPy array into a Python list structure.\n",
    "\n",
    "Expected output: \n",
    "\n",
    "Original array elements: [[0 1] [2 3] [4 5]] \n",
    "\n",
    "Array to list: [[0, 1], [2, 3], [4, 5]] \n",
    " \n",
    "\n",
    "Hint: We can use the to_list() function to ensure the conversion."
   ]
  },
  {
   "cell_type": "code",
   "execution_count": 6,
   "id": "70393a99",
   "metadata": {
    "execution": {
     "iopub.execute_input": "2022-07-30T13:59:53.236488Z",
     "iopub.status.busy": "2022-07-30T13:59:53.236097Z",
     "iopub.status.idle": "2022-07-30T13:59:53.241023Z",
     "shell.execute_reply": "2022-07-30T13:59:53.239873Z"
    },
    "papermill": {
     "duration": 0.014691,
     "end_time": "2022-07-30T13:59:53.243529",
     "exception": false,
     "start_time": "2022-07-30T13:59:53.228838",
     "status": "completed"
    },
    "tags": []
   },
   "outputs": [],
   "source": [
    "import numpy as np\n",
    "def transform(a):\n",
    "    return a.tolist()\n",
    "\n"
   ]
  },
  {
   "cell_type": "code",
   "execution_count": 7,
   "id": "76b1256a",
   "metadata": {
    "execution": {
     "iopub.execute_input": "2022-07-30T13:59:53.257138Z",
     "iopub.status.busy": "2022-07-30T13:59:53.256683Z",
     "iopub.status.idle": "2022-07-30T13:59:53.263155Z",
     "shell.execute_reply": "2022-07-30T13:59:53.261591Z"
    },
    "papermill": {
     "duration": 0.01637,
     "end_time": "2022-07-30T13:59:53.265671",
     "exception": false,
     "start_time": "2022-07-30T13:59:53.249301",
     "status": "completed"
    },
    "tags": []
   },
   "outputs": [
    {
     "name": "stdout",
     "output_type": "stream",
     "text": [
      "[[0, 1], [2, 3], [4, 5]]\n"
     ]
    }
   ],
   "source": [
    "a = np.array([[0, 1], [2, 3], [4, 5]] )\n",
    "print(transform(a))"
   ]
  },
  {
   "cell_type": "markdown",
   "id": "50dd968f",
   "metadata": {
    "papermill": {
     "duration": 0.005406,
     "end_time": "2022-07-30T13:59:53.276926",
     "exception": false,
     "start_time": "2022-07-30T13:59:53.271520",
     "status": "completed"
    },
    "tags": []
   },
   "source": [
    "Question 6\n",
    "\n",
    "Write a NumPy program to compute the covariance matrix of two given arrays. \n",
    "\n",
    "Original array1: [0 1 2] \n",
    "\n",
    "Original array2: [2 1 0] \n",
    "\n",
    "Covariance matrix of the said arrays: [[ 1. -1.] [-1. 1.]]\n",
    " \n",
    "\n",
    "Hint: We can use the np.cov() function to calculate the covariance between these two arrays"
   ]
  },
  {
   "cell_type": "code",
   "execution_count": 8,
   "id": "4f1d9ae9",
   "metadata": {
    "execution": {
     "iopub.execute_input": "2022-07-30T13:59:53.290853Z",
     "iopub.status.busy": "2022-07-30T13:59:53.290464Z",
     "iopub.status.idle": "2022-07-30T13:59:53.295763Z",
     "shell.execute_reply": "2022-07-30T13:59:53.294622Z"
    },
    "papermill": {
     "duration": 0.015347,
     "end_time": "2022-07-30T13:59:53.298173",
     "exception": false,
     "start_time": "2022-07-30T13:59:53.282826",
     "status": "completed"
    },
    "tags": []
   },
   "outputs": [],
   "source": [
    "a1 = np.array([0, 1, 2])\n",
    "a2 = np.array([2, 1, 0])"
   ]
  },
  {
   "cell_type": "code",
   "execution_count": 9,
   "id": "fe97629d",
   "metadata": {
    "execution": {
     "iopub.execute_input": "2022-07-30T13:59:53.312594Z",
     "iopub.status.busy": "2022-07-30T13:59:53.312197Z",
     "iopub.status.idle": "2022-07-30T13:59:53.317247Z",
     "shell.execute_reply": "2022-07-30T13:59:53.316088Z"
    },
    "papermill": {
     "duration": 0.015383,
     "end_time": "2022-07-30T13:59:53.319509",
     "exception": false,
     "start_time": "2022-07-30T13:59:53.304126",
     "status": "completed"
    },
    "tags": []
   },
   "outputs": [],
   "source": [
    "def get_cov(a1, a2):\n",
    "    \n",
    "    return np.cov(a1,a2)"
   ]
  },
  {
   "cell_type": "code",
   "execution_count": 10,
   "id": "bfb07e6b",
   "metadata": {
    "execution": {
     "iopub.execute_input": "2022-07-30T13:59:53.332564Z",
     "iopub.status.busy": "2022-07-30T13:59:53.332154Z",
     "iopub.status.idle": "2022-07-30T13:59:53.341139Z",
     "shell.execute_reply": "2022-07-30T13:59:53.340205Z"
    },
    "papermill": {
     "duration": 0.018205,
     "end_time": "2022-07-30T13:59:53.343348",
     "exception": false,
     "start_time": "2022-07-30T13:59:53.325143",
     "status": "completed"
    },
    "tags": []
   },
   "outputs": [
    {
     "data": {
      "text/plain": [
       "array([[ 1., -1.],\n",
       "       [-1.,  1.]])"
      ]
     },
     "execution_count": 10,
     "metadata": {},
     "output_type": "execute_result"
    }
   ],
   "source": [
    "get_cov(a1, a2)"
   ]
  },
  {
   "cell_type": "markdown",
   "id": "7829897d",
   "metadata": {
    "papermill": {
     "duration": 0.005328,
     "end_time": "2022-07-30T13:59:53.354446",
     "exception": false,
     "start_time": "2022-07-30T13:59:53.349118",
     "status": "completed"
    },
    "tags": []
   },
   "source": [
    "Question 7\n",
    "\n",
    "Question: Write a program that calculates and prints the value according to the given formula: Q= Square root of [(2 * C * D)/H] \n",
    "\n",
    "The following are the fixed values of C and H: C is 50. H is 30. \n",
    "\n",
    "D is the variable whose values should be input into your program in a comma-separated sequence. (That means D contains more than value)\n",
    "\n",
    "Example: Let's assume the following comma-separated input sequence is given to the program: 100,150,180 The output of the program should be 18,22,24 \n",
    "\n",
    "To further explain this, we will obtain a result for each value of D:  Q1= Square root of [(2 * C * 100)/H] =18, Q2= Square root of [(2 * C * 150)/H] = 22 and Q3 = Square root of [(2 * C * 180)/H]  = 24\n",
    "\n",
    "Hint: If the output received is in decimal form, it should be rounded off to its nearest value. For example, if the output received is 26.0, it should be printed as 26. In case of input data being supplied to the question, it should be assumed to be a console input. "
   ]
  },
  {
   "cell_type": "code",
   "execution_count": 11,
   "id": "bf4b90d9",
   "metadata": {
    "execution": {
     "iopub.execute_input": "2022-07-30T13:59:53.367683Z",
     "iopub.status.busy": "2022-07-30T13:59:53.367290Z",
     "iopub.status.idle": "2022-07-30T13:59:53.372606Z",
     "shell.execute_reply": "2022-07-30T13:59:53.371763Z"
    },
    "papermill": {
     "duration": 0.01462,
     "end_time": "2022-07-30T13:59:53.374672",
     "exception": false,
     "start_time": "2022-07-30T13:59:53.360052",
     "status": "completed"
    },
    "tags": []
   },
   "outputs": [],
   "source": [
    "def formula(*D):\n",
    "    C = 50\n",
    "    H = 30\n",
    "    \n",
    "    results = []\n",
    "    \n",
    "    for d in D:\n",
    "        r = int((2*C*d/H)**(1/2))\n",
    "        results.append(r)\n",
    "        \n",
    "    return results\n",
    "        "
   ]
  },
  {
   "cell_type": "code",
   "execution_count": 12,
   "id": "508a93f1",
   "metadata": {
    "execution": {
     "iopub.execute_input": "2022-07-30T13:59:53.388053Z",
     "iopub.status.busy": "2022-07-30T13:59:53.387627Z",
     "iopub.status.idle": "2022-07-30T13:59:53.393817Z",
     "shell.execute_reply": "2022-07-30T13:59:53.393042Z"
    },
    "papermill": {
     "duration": 0.015608,
     "end_time": "2022-07-30T13:59:53.395917",
     "exception": false,
     "start_time": "2022-07-30T13:59:53.380309",
     "status": "completed"
    },
    "tags": []
   },
   "outputs": [
    {
     "data": {
      "text/plain": [
       "[18, 22, 24]"
      ]
     },
     "execution_count": 12,
     "metadata": {},
     "output_type": "execute_result"
    }
   ],
   "source": [
    "formula(100, 150, 180)"
   ]
  },
  {
   "cell_type": "code",
   "execution_count": null,
   "id": "871eae27",
   "metadata": {
    "papermill": {
     "duration": 0.005501,
     "end_time": "2022-07-30T13:59:53.407573",
     "exception": false,
     "start_time": "2022-07-30T13:59:53.402072",
     "status": "completed"
    },
    "tags": []
   },
   "outputs": [],
   "source": []
  }
 ],
 "metadata": {
  "kernelspec": {
   "display_name": "Python 3",
   "language": "python",
   "name": "python3"
  },
  "language_info": {
   "codemirror_mode": {
    "name": "ipython",
    "version": 3
   },
   "file_extension": ".py",
   "mimetype": "text/x-python",
   "name": "python",
   "nbconvert_exporter": "python",
   "pygments_lexer": "ipython3",
   "version": "3.7.12"
  },
  "papermill": {
   "default_parameters": {},
   "duration": 13.6729,
   "end_time": "2022-07-30T13:59:56.524936",
   "environment_variables": {},
   "exception": null,
   "input_path": "__notebook__.ipynb",
   "output_path": "__notebook__.ipynb",
   "parameters": {},
   "start_time": "2022-07-30T13:59:42.852036",
   "version": "2.3.4"
  }
 },
 "nbformat": 4,
 "nbformat_minor": 5
}
