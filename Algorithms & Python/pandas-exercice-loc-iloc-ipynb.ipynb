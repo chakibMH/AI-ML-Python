{
 "cells": [
  {
   "cell_type": "code",
   "execution_count": 1,
   "id": "5a683f86",
   "metadata": {
    "execution": {
     "iopub.execute_input": "2023-02-12T12:34:21.141968Z",
     "iopub.status.busy": "2023-02-12T12:34:21.141459Z",
     "iopub.status.idle": "2023-02-12T12:34:21.154324Z",
     "shell.execute_reply": "2023-02-12T12:34:21.153179Z"
    },
    "id": "OhC0faHFXBe9",
    "papermill": {
     "duration": 0.025367,
     "end_time": "2023-02-12T12:34:21.156748",
     "exception": false,
     "start_time": "2023-02-12T12:34:21.131381",
     "status": "completed"
    },
    "tags": []
   },
   "outputs": [],
   "source": [
    "import pandas as pd\n",
    "import numpy as np"
   ]
  },
  {
   "cell_type": "markdown",
   "id": "314ed099",
   "metadata": {
    "id": "odGQYcrHW2RF",
    "papermill": {
     "duration": 0.007083,
     "end_time": "2023-02-12T12:34:21.171237",
     "exception": false,
     "start_time": "2023-02-12T12:34:21.164154",
     "status": "completed"
    },
    "tags": []
   },
   "source": [
    "Consider the following DataFrame"
   ]
  },
  {
   "cell_type": "code",
   "execution_count": 2,
   "id": "70b887cb",
   "metadata": {
    "execution": {
     "iopub.execute_input": "2023-02-12T12:34:21.187198Z",
     "iopub.status.busy": "2023-02-12T12:34:21.186713Z",
     "iopub.status.idle": "2023-02-12T12:34:21.216092Z",
     "shell.execute_reply": "2023-02-12T12:34:21.215286Z"
    },
    "id": "h6BwG0k5WLFx",
    "outputId": "fc448ccf-cdc5-4e48-b8bb-999d4ae90388",
    "papermill": {
     "duration": 0.04062,
     "end_time": "2023-02-12T12:34:21.218938",
     "exception": false,
     "start_time": "2023-02-12T12:34:21.178318",
     "status": "completed"
    },
    "tags": []
   },
   "outputs": [
    {
     "name": "stdout",
     "output_type": "stream",
     "text": [
      "       Name  Age    Country  Gender Occupation\n",
      "0      John   32        USA    Male   Engineer\n",
      "1      Jane   28     Canada  Female     Doctor\n",
      "2       Jim   41         UK    Male    Teacher\n",
      "3   Jessica   38     France  Female     Lawyer\n",
      "4      Jack   23    Germany    Male    Student\n",
      "5      Jill   27  Australia  Female     Artist\n",
      "6       Joe   30        USA    Male   Engineer\n",
      "7    Jordan   26     Canada  Female     Doctor\n",
      "8     Julia   35         UK    Male    Teacher\n",
      "9     James   40     France  Female     Lawyer\n",
      "10  Johnnie   28    Germany    Male    Student\n",
      "11    Jenna   29  Australia  Female     Artist\n",
      "12  Jasmine   31        USA    Male   Engineer\n",
      "13    Jerry   33     Canada  Female     Doctor\n",
      "14     Joel   36         UK    Male    Teacher\n",
      "15     Jade   27     France  Female     Lawyer\n",
      "16    Janet   32    Germany    Male    Student\n",
      "17   Joanna   31  Australia  Female     Artist\n",
      "18   Jackie   25        USA    Male   Engineer\n"
     ]
    }
   ],
   "source": [
    "df = pd.DataFrame({\n",
    "    \"Name\": [\"John\", \"Jane\", \"Jim\", \"Jessica\", \"Jack\", \"Jill\", \"Joe\", \"Jordan\", \"Julia\", \"James\", \"Johnnie\", \"Jenna\", \"Jasmine\", \"Jerry\", \"Joel\", \"Jade\", \"Janet\", \"Joanna\", \"Jackie\"],\n",
    "    \"Age\": [32, 28, 41, 38, 23, 27, 30, 26, 35, 40, 28, 29, 31, 33, 36, 27, 32, 31, 25],\n",
    "    \"Country\": [\"USA\", \"Canada\", \"UK\", \"France\", \"Germany\", \"Australia\", \"USA\", \"Canada\", \"UK\", \"France\", \"Germany\", \"Australia\", \"USA\", \"Canada\", \"UK\", \"France\", \"Germany\", \"Australia\", \"USA\"],\n",
    "    \"Gender\": [\"Male\", \"Female\", \"Male\", \"Female\", \"Male\", \"Female\", \"Male\", \"Female\", \"Male\", \"Female\", \"Male\", \"Female\", \"Male\", \"Female\", \"Male\", \"Female\", \"Male\", \"Female\", \"Male\"],\n",
    "    \"Occupation\": [\"Engineer\", \"Doctor\", \"Teacher\", \"Lawyer\", \"Student\", \"Artist\", \"Engineer\", \"Doctor\", \"Teacher\", \"Lawyer\", \"Student\", \"Artist\", \"Engineer\", \"Doctor\", \"Teacher\", \"Lawyer\", \"Student\", \"Artist\", \"Engineer\"]\n",
    "})\n",
    "print(df)"
   ]
  },
  {
   "cell_type": "markdown",
   "id": "42c93af8",
   "metadata": {
    "id": "Rj6BTBakXKEW",
    "papermill": {
     "duration": 0.006949,
     "end_time": "2023-02-12T12:34:21.233231",
     "exception": false,
     "start_time": "2023-02-12T12:34:21.226282",
     "status": "completed"
    },
    "tags": []
   },
   "source": [
    "**Some data exploration :**"
   ]
  },
  {
   "cell_type": "markdown",
   "id": "0b3e5e2a",
   "metadata": {
    "id": "OniAlKZfdsZW",
    "papermill": {
     "duration": 0.006712,
     "end_time": "2023-02-12T12:34:21.247159",
     "exception": false,
     "start_time": "2023-02-12T12:34:21.240447",
     "status": "completed"
    },
    "tags": []
   },
   "source": [
    "when dealing with large dataset (much more larger than this one), it is usefull to get a brand idea on how the data is, by showing the first 5 (df.head()) or 10 rows (df.head(10))"
   ]
  },
  {
   "cell_type": "code",
   "execution_count": 3,
   "id": "00101fa6",
   "metadata": {
    "execution": {
     "iopub.execute_input": "2023-02-12T12:34:21.263847Z",
     "iopub.status.busy": "2023-02-12T12:34:21.262806Z",
     "iopub.status.idle": "2023-02-12T12:34:21.271666Z",
     "shell.execute_reply": "2023-02-12T12:34:21.270094Z"
    },
    "id": "9GTV85m-do2e",
    "outputId": "e3eed88a-ebdc-4835-f7bb-9cebc387dfff",
    "papermill": {
     "duration": 0.019741,
     "end_time": "2023-02-12T12:34:21.274017",
     "exception": false,
     "start_time": "2023-02-12T12:34:21.254276",
     "status": "completed"
    },
    "tags": []
   },
   "outputs": [
    {
     "name": "stdout",
     "output_type": "stream",
     "text": [
      "      Name  Age  Country  Gender Occupation\n",
      "0     John   32      USA    Male   Engineer\n",
      "1     Jane   28   Canada  Female     Doctor\n",
      "2      Jim   41       UK    Male    Teacher\n",
      "3  Jessica   38   France  Female     Lawyer\n",
      "4     Jack   23  Germany    Male    Student\n"
     ]
    }
   ],
   "source": [
    "# default value to show is 5\n",
    "print(df.head())"
   ]
  },
  {
   "cell_type": "markdown",
   "id": "45b8a1fd",
   "metadata": {
    "id": "GnA4ZPLTeNvz",
    "papermill": {
     "duration": 0.006952,
     "end_time": "2023-02-12T12:34:21.288432",
     "exception": false,
     "start_time": "2023-02-12T12:34:21.281480",
     "status": "completed"
    },
    "tags": []
   },
   "source": [
    "Similar to the head method, the tail method is used to display rows starting from the last one"
   ]
  },
  {
   "cell_type": "code",
   "execution_count": 4,
   "id": "708f552a",
   "metadata": {
    "execution": {
     "iopub.execute_input": "2023-02-12T12:34:21.307016Z",
     "iopub.status.busy": "2023-02-12T12:34:21.306112Z",
     "iopub.status.idle": "2023-02-12T12:34:21.316140Z",
     "shell.execute_reply": "2023-02-12T12:34:21.314679Z"
    },
    "id": "hRxUVpmHeXGM",
    "outputId": "d198aa61-01d5-4053-9fb7-63b32547e512",
    "papermill": {
     "duration": 0.021244,
     "end_time": "2023-02-12T12:34:21.318428",
     "exception": false,
     "start_time": "2023-02-12T12:34:21.297184",
     "status": "completed"
    },
    "tags": []
   },
   "outputs": [
    {
     "name": "stdout",
     "output_type": "stream",
     "text": [
      "      Name  Age    Country  Gender Occupation\n",
      "14    Joel   36         UK    Male    Teacher\n",
      "15    Jade   27     France  Female     Lawyer\n",
      "16   Janet   32    Germany    Male    Student\n",
      "17  Joanna   31  Australia  Female     Artist\n",
      "18  Jackie   25        USA    Male   Engineer\n"
     ]
    }
   ],
   "source": [
    "print(df.tail(5))"
   ]
  },
  {
   "cell_type": "markdown",
   "id": "2d82f98d",
   "metadata": {
    "id": "w8l4r9T_ehEa",
    "papermill": {
     "duration": 0.006853,
     "end_time": "2023-02-12T12:34:21.332600",
     "exception": false,
     "start_time": "2023-02-12T12:34:21.325747",
     "status": "completed"
    },
    "tags": []
   },
   "source": [
    "The describe method gives us statistics on columns with numerical values"
   ]
  },
  {
   "cell_type": "code",
   "execution_count": 5,
   "id": "0c19e9fa",
   "metadata": {
    "execution": {
     "iopub.execute_input": "2023-02-12T12:34:21.349411Z",
     "iopub.status.busy": "2023-02-12T12:34:21.348934Z",
     "iopub.status.idle": "2023-02-12T12:34:21.373658Z",
     "shell.execute_reply": "2023-02-12T12:34:21.372187Z"
    },
    "id": "zZfNapdUedqG",
    "outputId": "15371a4b-d2a4-41ae-f2e1-cb77beb3bd0b",
    "papermill": {
     "duration": 0.036412,
     "end_time": "2023-02-12T12:34:21.376148",
     "exception": false,
     "start_time": "2023-02-12T12:34:21.339736",
     "status": "completed"
    },
    "tags": []
   },
   "outputs": [
    {
     "name": "stdout",
     "output_type": "stream",
     "text": [
      "             Age\n",
      "count  19.000000\n",
      "mean   31.157895\n",
      "std     5.036127\n",
      "min    23.000000\n",
      "25%    27.500000\n",
      "50%    31.000000\n",
      "75%    34.000000\n",
      "max    41.000000\n"
     ]
    }
   ],
   "source": [
    "print(df.describe())"
   ]
  },
  {
   "cell_type": "markdown",
   "id": "940e4e67",
   "metadata": {
    "id": "Ds9rDecNgZ0b",
    "papermill": {
     "duration": 0.007237,
     "end_time": "2023-02-12T12:34:21.391089",
     "exception": false,
     "start_time": "2023-02-12T12:34:21.383852",
     "status": "completed"
    },
    "tags": []
   },
   "source": [
    "The value_counts method returns the frequency of each unique value in a Pandas series. This method is useful when you want to understand the distribution of the data."
   ]
  },
  {
   "cell_type": "markdown",
   "id": "b872820b",
   "metadata": {
    "id": "KYIyXPtRgASA",
    "papermill": {
     "duration": 0.007421,
     "end_time": "2023-02-12T12:34:21.406161",
     "exception": false,
     "start_time": "2023-02-12T12:34:21.398740",
     "status": "completed"
    },
    "tags": []
   },
   "source": [
    "We use shape in order to get the number of columns and rows"
   ]
  },
  {
   "cell_type": "code",
   "execution_count": 6,
   "id": "9c0fdbd2",
   "metadata": {
    "execution": {
     "iopub.execute_input": "2023-02-12T12:34:21.423694Z",
     "iopub.status.busy": "2023-02-12T12:34:21.422864Z",
     "iopub.status.idle": "2023-02-12T12:34:21.428698Z",
     "shell.execute_reply": "2023-02-12T12:34:21.427549Z"
    },
    "id": "T6v7NY_1W9AP",
    "outputId": "992fa48f-0d83-497e-972a-670cfd3f7b23",
    "papermill": {
     "duration": 0.017961,
     "end_time": "2023-02-12T12:34:21.431651",
     "exception": false,
     "start_time": "2023-02-12T12:34:21.413690",
     "status": "completed"
    },
    "tags": []
   },
   "outputs": [
    {
     "name": "stdout",
     "output_type": "stream",
     "text": [
      "(19, 5)\n"
     ]
    }
   ],
   "source": [
    "print(df.shape)"
   ]
  },
  {
   "cell_type": "markdown",
   "id": "ca970176",
   "metadata": {
    "id": "sgGLKaUyXOcF",
    "papermill": {
     "duration": 0.007251,
     "end_time": "2023-02-12T12:34:21.447708",
     "exception": false,
     "start_time": "2023-02-12T12:34:21.440457",
     "status": "completed"
    },
    "tags": []
   },
   "source": [
    "Our data set contains 19 rows and 5 columns"
   ]
  },
  {
   "cell_type": "markdown",
   "id": "6d360aa8",
   "metadata": {
    "id": "SXYlQ9YoXgor",
    "papermill": {
     "duration": 0.007152,
     "end_time": "2023-02-12T12:34:21.462540",
     "exception": false,
     "start_time": "2023-02-12T12:34:21.455388",
     "status": "completed"
    },
    "tags": []
   },
   "source": [
    "The info() method in a Pandas DataFrame is useful for getting a summary of the data. It provides information about:\n",
    "\n",
    "\n",
    "* the number of entries in each column, \n",
    "* the data type of each column, \n",
    "* the number of non-null values, \n",
    "* and the memory usage of the DataFrame. \n",
    "\n",
    "This information can be useful in understanding the structure of the data and identifying potential issues, such as missing values, inconsistent data types, or large memory usage. \n",
    "\n",
    "With the info() method, you can quickly get a high-level view of the DataFrame without having to manually inspect each column individually.\n",
    "\n",
    "**NOTE: df.info() is different from df.info, without the '()'**"
   ]
  },
  {
   "cell_type": "code",
   "execution_count": 7,
   "id": "2c3e96e9",
   "metadata": {
    "execution": {
     "iopub.execute_input": "2023-02-12T12:34:21.479465Z",
     "iopub.status.busy": "2023-02-12T12:34:21.478988Z",
     "iopub.status.idle": "2023-02-12T12:34:21.500584Z",
     "shell.execute_reply": "2023-02-12T12:34:21.499212Z"
    },
    "id": "RcX7YHRSXNFT",
    "outputId": "96891b75-0f22-44c7-9376-ad9908fa9f41",
    "papermill": {
     "duration": 0.033046,
     "end_time": "2023-02-12T12:34:21.503037",
     "exception": false,
     "start_time": "2023-02-12T12:34:21.469991",
     "status": "completed"
    },
    "tags": []
   },
   "outputs": [
    {
     "name": "stdout",
     "output_type": "stream",
     "text": [
      "<class 'pandas.core.frame.DataFrame'>\n",
      "RangeIndex: 19 entries, 0 to 18\n",
      "Data columns (total 5 columns):\n",
      " #   Column      Non-Null Count  Dtype \n",
      "---  ------      --------------  ----- \n",
      " 0   Name        19 non-null     object\n",
      " 1   Age         19 non-null     int64 \n",
      " 2   Country     19 non-null     object\n",
      " 3   Gender      19 non-null     object\n",
      " 4   Occupation  19 non-null     object\n",
      "dtypes: int64(1), object(4)\n",
      "memory usage: 888.0+ bytes\n"
     ]
    }
   ],
   "source": [
    "df.info()"
   ]
  },
  {
   "cell_type": "markdown",
   "id": "8590660a",
   "metadata": {
    "id": "32vBTDKkYBZ0",
    "papermill": {
     "duration": 0.010309,
     "end_time": "2023-02-12T12:34:21.522547",
     "exception": false,
     "start_time": "2023-02-12T12:34:21.512238",
     "status": "completed"
    },
    "tags": []
   },
   "source": [
    "As we can notice we do not have any missing values in our data set: we know that because we already know that we have 19 rows, and as the info() method shows us, in every column we have 19 non-null values"
   ]
  },
  {
   "cell_type": "markdown",
   "id": "ed13f2b9",
   "metadata": {
    "id": "3PeXcHCIa9iY",
    "papermill": {
     "duration": 0.008774,
     "end_time": "2023-02-12T12:34:21.544408",
     "exception": false,
     "start_time": "2023-02-12T12:34:21.535634",
     "status": "completed"
    },
    "tags": []
   },
   "source": [
    "**Questions:**"
   ]
  },
  {
   "cell_type": "markdown",
   "id": "b2c5bcf6",
   "metadata": {
    "id": "A51IzEJ8bxUh",
    "papermill": {
     "duration": 0.009814,
     "end_time": "2023-02-12T12:34:21.563220",
     "exception": false,
     "start_time": "2023-02-12T12:34:21.553406",
     "status": "completed"
    },
    "tags": []
   },
   "source": [
    "Use the loc method to access the 'Age' column for 'Jessica'"
   ]
  },
  {
   "cell_type": "code",
   "execution_count": null,
   "id": "99b36d9c",
   "metadata": {
    "id": "Dog1Ra2xbyef",
    "papermill": {
     "duration": 0.007538,
     "end_time": "2023-02-12T12:34:21.581360",
     "exception": false,
     "start_time": "2023-02-12T12:34:21.573822",
     "status": "completed"
    },
    "tags": []
   },
   "outputs": [],
   "source": []
  },
  {
   "cell_type": "markdown",
   "id": "10788251",
   "metadata": {
    "id": "v-OBT5Jzb02f",
    "papermill": {
     "duration": 0.007266,
     "end_time": "2023-02-12T12:34:21.596471",
     "exception": false,
     "start_time": "2023-02-12T12:34:21.589205",
     "status": "completed"
    },
    "tags": []
   },
   "source": [
    "Use the loc method to access the record for 'Jane'"
   ]
  },
  {
   "cell_type": "code",
   "execution_count": null,
   "id": "c81c589b",
   "metadata": {
    "id": "htGSpJyzb1s4",
    "papermill": {
     "duration": 0.007435,
     "end_time": "2023-02-12T12:34:21.611573",
     "exception": false,
     "start_time": "2023-02-12T12:34:21.604138",
     "status": "completed"
    },
    "tags": []
   },
   "outputs": [],
   "source": []
  },
  {
   "cell_type": "markdown",
   "id": "1f729923",
   "metadata": {
    "id": "LiVoEbtkbIGA",
    "papermill": {
     "duration": 0.007435,
     "end_time": "2023-02-12T12:34:21.626741",
     "exception": false,
     "start_time": "2023-02-12T12:34:21.619306",
     "status": "completed"
    },
    "tags": []
   },
   "source": [
    "Use the loc method to access the records for all individuals whose Age is greater than or equal to 30"
   ]
  },
  {
   "cell_type": "code",
   "execution_count": null,
   "id": "a266d029",
   "metadata": {
    "id": "K1Bq3SDGXSUQ",
    "papermill": {
     "duration": 0.007194,
     "end_time": "2023-02-12T12:34:21.641503",
     "exception": false,
     "start_time": "2023-02-12T12:34:21.634309",
     "status": "completed"
    },
    "tags": []
   },
   "outputs": [],
   "source": []
  },
  {
   "cell_type": "markdown",
   "id": "4304c5a3",
   "metadata": {
    "id": "WnoTgws9bqwT",
    "papermill": {
     "duration": 0.007278,
     "end_time": "2023-02-12T12:34:21.656274",
     "exception": false,
     "start_time": "2023-02-12T12:34:21.648996",
     "status": "completed"
    },
    "tags": []
   },
   "source": [
    "Use the loc method to access the records for all females"
   ]
  },
  {
   "cell_type": "code",
   "execution_count": null,
   "id": "14e0df8b",
   "metadata": {
    "id": "6RD5qi4Kbr2k",
    "papermill": {
     "duration": 0.007074,
     "end_time": "2023-02-12T12:34:21.670755",
     "exception": false,
     "start_time": "2023-02-12T12:34:21.663681",
     "status": "completed"
    },
    "tags": []
   },
   "outputs": [],
   "source": []
  },
  {
   "cell_type": "markdown",
   "id": "bd66e31f",
   "metadata": {
    "id": "ZboCHwU9bJgD",
    "papermill": {
     "duration": 0.007054,
     "end_time": "2023-02-12T12:34:21.685337",
     "exception": false,
     "start_time": "2023-02-12T12:34:21.678283",
     "status": "completed"
    },
    "tags": []
   },
   "source": [
    "Use the iloc method to access the records for all individuals whose Country is 'Canada' or 'France'"
   ]
  },
  {
   "cell_type": "code",
   "execution_count": null,
   "id": "62b8fd6c",
   "metadata": {
    "id": "zSYNwppTbOdA",
    "papermill": {
     "duration": 0.007312,
     "end_time": "2023-02-12T12:34:21.700048",
     "exception": false,
     "start_time": "2023-02-12T12:34:21.692736",
     "status": "completed"
    },
    "tags": []
   },
   "outputs": [],
   "source": []
  },
  {
   "cell_type": "markdown",
   "id": "6a153cb1",
   "metadata": {
    "id": "BYEejYf9c2kd",
    "papermill": {
     "duration": 0.007153,
     "end_time": "2023-02-12T12:34:21.714589",
     "exception": false,
     "start_time": "2023-02-12T12:34:21.707436",
     "status": "completed"
    },
    "tags": []
   },
   "source": [
    "same previous question, but  show only the first and last columns"
   ]
  },
  {
   "cell_type": "code",
   "execution_count": null,
   "id": "b7fb02de",
   "metadata": {
    "id": "OEln8aWbdGcY",
    "papermill": {
     "duration": 0.007053,
     "end_time": "2023-02-12T12:34:21.729525",
     "exception": false,
     "start_time": "2023-02-12T12:34:21.722472",
     "status": "completed"
    },
    "tags": []
   },
   "outputs": [],
   "source": []
  },
  {
   "cell_type": "markdown",
   "id": "b417cac1",
   "metadata": {
    "id": "L-EInD5hbO-n",
    "papermill": {
     "duration": 0.007195,
     "end_time": "2023-02-12T12:34:21.744102",
     "exception": false,
     "start_time": "2023-02-12T12:34:21.736907",
     "status": "completed"
    },
    "tags": []
   },
   "source": [
    "Use the loc method to access the 'Name' and 'Age' columns for all individuals whose Country is not 'USA'"
   ]
  },
  {
   "cell_type": "code",
   "execution_count": null,
   "id": "74859025",
   "metadata": {
    "id": "1lsyRWiKbUDo",
    "papermill": {
     "duration": 0.007345,
     "end_time": "2023-02-12T12:34:21.758866",
     "exception": false,
     "start_time": "2023-02-12T12:34:21.751521",
     "status": "completed"
    },
    "tags": []
   },
   "outputs": [],
   "source": []
  },
  {
   "cell_type": "markdown",
   "id": "cfb10128",
   "metadata": {
    "id": "qqqZjQ_VbUiA",
    "papermill": {
     "duration": 0.007146,
     "end_time": "2023-02-12T12:34:21.773751",
     "exception": false,
     "start_time": "2023-02-12T12:34:21.766605",
     "status": "completed"
    },
    "tags": []
   },
   "source": [
    "Use the iloc method to access the last two columns for all individuals whose Age is between 30 and 32 (inclusive)."
   ]
  },
  {
   "cell_type": "code",
   "execution_count": null,
   "id": "40ba198c",
   "metadata": {
    "id": "fNDs_TiWbXXF",
    "papermill": {
     "duration": 0.007319,
     "end_time": "2023-02-12T12:34:21.788632",
     "exception": false,
     "start_time": "2023-02-12T12:34:21.781313",
     "status": "completed"
    },
    "tags": []
   },
   "outputs": [],
   "source": []
  },
  {
   "cell_type": "markdown",
   "id": "6246bced",
   "metadata": {
    "id": "9DTFoeo5bj_l",
    "papermill": {
     "duration": 0.007257,
     "end_time": "2023-02-12T12:34:21.803484",
     "exception": false,
     "start_time": "2023-02-12T12:34:21.796227",
     "status": "completed"
    },
    "tags": []
   },
   "source": [
    "Use the loc method to access the 'Occupation' column for people who are older than 30 and are from the USA"
   ]
  },
  {
   "cell_type": "code",
   "execution_count": null,
   "id": "336c5b8d",
   "metadata": {
    "id": "e0BtfmsrbkqK",
    "papermill": {
     "duration": 0.007248,
     "end_time": "2023-02-12T12:34:21.818495",
     "exception": false,
     "start_time": "2023-02-12T12:34:21.811247",
     "status": "completed"
    },
    "tags": []
   },
   "outputs": [],
   "source": []
  },
  {
   "cell_type": "markdown",
   "id": "cf21f0dd",
   "metadata": {
    "id": "LsKgOVz7dPSs",
    "papermill": {
     "duration": 0.007318,
     "end_time": "2023-02-12T12:34:21.833422",
     "exception": false,
     "start_time": "2023-02-12T12:34:21.826104",
     "status": "completed"
    },
    "tags": []
   },
   "source": [
    "Use the iloc method to access the 'Gender' column for the last three records"
   ]
  },
  {
   "cell_type": "code",
   "execution_count": null,
   "id": "61dbb4a6",
   "metadata": {
    "id": "LnzP0iGtdPrf",
    "papermill": {
     "duration": 0.007222,
     "end_time": "2023-02-12T12:34:21.848216",
     "exception": false,
     "start_time": "2023-02-12T12:34:21.840994",
     "status": "completed"
    },
    "tags": []
   },
   "outputs": [],
   "source": []
  }
 ],
 "metadata": {
  "kernelspec": {
   "display_name": "Python 3",
   "language": "python",
   "name": "python3"
  },
  "language_info": {
   "codemirror_mode": {
    "name": "ipython",
    "version": 3
   },
   "file_extension": ".py",
   "mimetype": "text/x-python",
   "name": "python",
   "nbconvert_exporter": "python",
   "pygments_lexer": "ipython3",
   "version": "3.7.12"
  },
  "papermill": {
   "default_parameters": {},
   "duration": 12.203561,
   "end_time": "2023-02-12T12:34:24.724893",
   "environment_variables": {},
   "exception": null,
   "input_path": "__notebook__.ipynb",
   "output_path": "__notebook__.ipynb",
   "parameters": {},
   "start_time": "2023-02-12T12:34:12.521332",
   "version": "2.3.4"
  }
 },
 "nbformat": 4,
 "nbformat_minor": 5
}
